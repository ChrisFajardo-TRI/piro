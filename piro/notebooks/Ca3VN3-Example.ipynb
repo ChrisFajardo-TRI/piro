{
 "cells": [
  {
   "cell_type": "markdown",
   "metadata": {},
   "source": [
    "## Synthesis planning for Ca3VN3"
   ]
  },
  {
   "cell_type": "code",
   "execution_count": 1,
   "metadata": {
    "collapsed": true
   },
   "outputs": [],
   "source": [
    "import pandas as pd\n",
    "from piro.route import SynthesisRoutes\n",
    "pd.set_option('display.width', 700)\n",
    "pd.set_option('display.max_colwidth', 300)"
   ]
  },
  {
   "cell_type": "markdown",
   "metadata": {},
   "source": [
    "We will specify the mp-id of our target phase and initialize a SynthesisRoutes object for planning. We'll include peroxides. We will set the pressure to 0.001 atm. (note the default is atmospheric partial pressures)"
   ]
  },
  {
   "cell_type": "code",
   "execution_count": 2,
   "metadata": {
    "collapsed": true
   },
   "outputs": [
    {
     "name": "stderr",
     "output_type": "stream",
     "text": [
      "100%|██████████| 165/165 [00:00<00:00, 1154.01it/s]"
     ]
    },
    {
     "name": "stdout",
     "output_type": "stream",
     "text": [
      "Total # of entries found in this chemistry:  69\n",
      "Total # of precusors materials obeying the provided filters:  11\n",
      "Epitaxies ready\n",
      "Similarity matrix ready\n",
      "Precursor library ready.\n",
      "Total # of balanced reactions obtained:  42\n"
     ]
    },
    {
     "name": "stderr",
     "output_type": "stream",
     "text": [
      "\n"
     ]
    }
   ],
   "source": [
    "mp_id = 'mp-9029'\n",
    "router = SynthesisRoutes(mp_id, pressure=0.001)\n",
    "f = router.recommend_routes(temperature=1600,\n",
    "    allow_gas_release=False,\n",
    "    max_component_precursors=2,\n",
    "    show_fraction_known_precursors=False,\n",
    "    show_known_precursors_only=False,\n",
    "    confine_competing_to_icsd=False,\n",
    "    display_peroxides=True,\n",
    "    custom_text=' - 1600K, 10<sup>-3</sup> atm, standard reactants',\n",
    "    w=640,h=480,\n",
    "    add_pareto=True, yrange=(-0.25,9))"
   ]
  },
  {
   "cell_type": "code",
   "execution_count": 4,
   "metadata": {},
   "outputs": [
    {
     "data": {
      "application/vnd.plotly.v1+json": {
       "config": {
        "plotlyServerURL": "https://plot.ly"
       },
       "data": [
        {
         "customdata": [
          [
           "1.0 VN(mp-1018027) + 1.0 Ca3N2(mp-844)"
          ],
          [
           "1.0 VN(mp-1018027) + 1.0 N2(mp-1080711) + 3.0 Ca(mp-132)"
          ],
          [
           "1.0 VN(mp-1018027) + 0.25 N2(mp-1080711) + 1.5 Ca2N(mp-2686)"
          ],
          [
           "1.0 VN(mp-1018027) + 2.6667 Ca(mp-132) + 0.3333 CaN6(mp-676)"
          ],
          [
           "1.0 VN(mp-1018027) + 2.0 Ca(mp-132) + 1.0 CaN2(mp-1009657)"
          ],
          [
           "1.0 VN(mp-1018027) + 1.4545 Ca2N(mp-2686) + 0.0909 CaN6(mp-676)"
          ],
          [
           "1.0 VN(mp-1018027) + 1.3333 Ca2N(mp-2686) + 0.3333 CaN2(mp-1009657)"
          ],
          [
           "0.125 V8N(mp-1188283) + 0.4375 N2(mp-1080711) + 1.0 Ca3N2(mp-844)"
          ],
          [
           "0.125 V8N(mp-1188283) + 1.4375 N2(mp-1080711) + 3.0 Ca(mp-132)"
          ],
          [
           "0.125 V8N(mp-1188283) + 0.6875 N2(mp-1080711) + 1.5 Ca2N(mp-2686)"
          ],
          [
           "0.125 V8N(mp-1188283) + 0.9453 Ca3N2(mp-844) + 0.1641 CaN6(mp-676)"
          ],
          [
           "0.125 V8N(mp-1188283) + 0.7813 Ca3N2(mp-844) + 0.6562 CaN2(mp-1009657)"
          ],
          [
           "0.125 V8N(mp-1188283) + 2.5208 Ca(mp-132) + 0.4792 CaN6(mp-676)"
          ],
          [
           "0.125 V8N(mp-1188283) + 1.5625 Ca(mp-132) + 1.4375 CaN2(mp-1009657)"
          ],
          [
           "0.125 V8N(mp-1188283) + 1.375 Ca2N(mp-2686) + 0.25 CaN6(mp-676)"
          ],
          [
           "0.125 V8N(mp-1188283) + 1.0417 Ca2N(mp-2686) + 0.9167 CaN2(mp-1009657)"
          ],
          [
           "0.25 N2(mp-1080711) + 0.5 V2N(mp-33090) + 1.0 Ca3N2(mp-844)"
          ],
          [
           "1.25 N2(mp-1080711) + 0.5 V2N(mp-33090) + 3.0 Ca(mp-132)"
          ],
          [
           "0.5 N2(mp-1080711) + 0.5 V2N(mp-33090) + 1.5 Ca2N(mp-2686)"
          ],
          [
           "0.5 N2(mp-1080711) + 1.0 Ca3N2(mp-844) + 1.0 V(mp-146)"
          ],
          [
           "1.5 N2(mp-1080711) + 1.0 V(mp-146) + 3.0 Ca(mp-132)"
          ],
          [
           "0.75 N2(mp-1080711) + 1.0 V(mp-146) + 1.5 Ca2N(mp-2686)"
          ],
          [
           "0.5 V2N(mp-33090) + 0.9688 Ca3N2(mp-844) + 0.0937 CaN6(mp-676)"
          ],
          [
           "0.5 V2N(mp-33090) + 0.875 Ca3N2(mp-844) + 0.375 CaN2(mp-1009657)"
          ],
          [
           "0.5 V2N(mp-33090) + 2.5833 Ca(mp-132) + 0.4167 CaN6(mp-676)"
          ],
          [
           "0.5 V2N(mp-33090) + 1.75 Ca(mp-132) + 1.25 CaN2(mp-1009657)"
          ],
          [
           "0.5 V2N(mp-33090) + 1.4091 Ca2N(mp-2686) + 0.1818 CaN6(mp-676)"
          ],
          [
           "0.5 V2N(mp-33090) + 1.1667 Ca2N(mp-2686) + 0.6667 CaN2(mp-1009657)"
          ],
          [
           "0.9375 Ca3N2(mp-844) + 1.0 V(mp-146) + 0.1875 CaN6(mp-676)"
          ],
          [
           "0.75 Ca3N2(mp-844) + 1.0 V(mp-146) + 0.75 CaN2(mp-1009657)"
          ],
          [
           "1.0 V(mp-146) + 2.5 Ca(mp-132) + 0.5 CaN6(mp-676)"
          ],
          [
           "1.0 V(mp-146) + 1.5 Ca(mp-132) + 1.5 CaN2(mp-1009657)"
          ],
          [
           "1.0 V(mp-146) + 1.3636 Ca2N(mp-2686) + 0.2727 CaN6(mp-676)"
          ],
          [
           "1.0 V(mp-146) + 1.0 Ca2N(mp-2686) + 1.0 CaN2(mp-1009657)"
          ]
         ],
         "hovertemplate": "n_competing=%{x}<br>barrier=%{y}<br>summary=%{customdata[0]}<extra></extra>",
         "legendgroup": "",
         "marker": {
          "color": "#1F77B4",
          "line": {
           "color": "DarkSlateGrey",
           "width": 2
          },
          "opacity": 0.8,
          "size": 12,
          "symbol": "circle"
         },
         "mode": "markers",
         "name": "",
         "orientation": "v",
         "showlegend": false,
         "type": "scatter",
         "x": [
          2,
          7,
          4,
          14,
          12,
          11,
          10,
          8,
          8,
          6,
          12,
          11,
          15,
          13,
          13,
          11,
          6,
          4,
          4,
          9,
          8,
          7,
          12,
          11,
          14,
          12,
          12,
          11,
          14,
          12,
          15,
          14,
          14,
          13
         ],
         "xaxis": "x",
         "y": [
          3.2696947867755863,
          5.814933207395383,
          7.972914013488321,
          0.3957087260180613,
          0.19224960513261993,
          1.3068300957101087,
          0.5823248815704061,
          2.073177465191188,
          37.41148998806097,
          6.013626117412399,
          0.41499998203097743,
          0.23488233617028417,
          2.971205271139219,
          0.15004706291581607,
          0.43975409797046194,
          0.2094462792818908,
          1.050012052605793,
          2.751882836838058,
          6.234759161631014,
          0.5768629377367216,
          161.859035181226,
          1.9134159315614871,
          0.3119938775175971,
          0.3328991074107882,
          0.24060888288958682,
          0.15292310833666276,
          0.38698524182888067,
          0.2649014502509338,
          0.1715277965062417,
          0.17981606404973455,
          2.746031946105552,
          0.13319495594306469,
          0.276256477724924,
          0.16662696270018984
         ],
         "yaxis": "y"
        },
        {
         "line": {
          "color": "firebrick",
          "width": 2
         },
         "type": "scatter",
         "x": [
          2,
          4,
          6,
          9,
          11,
          12,
          13,
          14
         ],
         "y": [
          3.2696947867755863,
          2.751882836838058,
          1.050012052605793,
          0.5768629377367216,
          0.2094462792818908,
          0.15292310833666276,
          0.15004706291581607,
          0.13319495594306469
         ]
        },
        {
         "connectgaps": false,
         "line": {
          "color": "firebrick",
          "dash": "dash",
          "width": 2
         },
         "type": "scatter",
         "x": [
          2,
          2,
          null,
          14,
          15
         ],
         "y": [
          3.2696947867755863,
          161.859035181226,
          null,
          0.13319495594306469,
          0.13319495594306469
         ]
        }
       ],
       "layout": {
        "font": {
         "size": 13
        },
        "height": 480,
        "legend": {
         "tracegroupgap": 0
        },
        "margin": {
         "t": 60
        },
        "showlegend": false,
        "template": {
         "data": {
          "bar": [
           {
            "error_x": {
             "color": "rgb(36,36,36)"
            },
            "error_y": {
             "color": "rgb(36,36,36)"
            },
            "marker": {
             "line": {
              "color": "white",
              "width": 0.5
             }
            },
            "type": "bar"
           }
          ],
          "barpolar": [
           {
            "marker": {
             "line": {
              "color": "white",
              "width": 0.5
             }
            },
            "type": "barpolar"
           }
          ],
          "carpet": [
           {
            "aaxis": {
             "endlinecolor": "rgb(36,36,36)",
             "gridcolor": "white",
             "linecolor": "white",
             "minorgridcolor": "white",
             "startlinecolor": "rgb(36,36,36)"
            },
            "baxis": {
             "endlinecolor": "rgb(36,36,36)",
             "gridcolor": "white",
             "linecolor": "white",
             "minorgridcolor": "white",
             "startlinecolor": "rgb(36,36,36)"
            },
            "type": "carpet"
           }
          ],
          "choropleth": [
           {
            "colorbar": {
             "outlinewidth": 1,
             "tickcolor": "rgb(36,36,36)",
             "ticks": "outside"
            },
            "type": "choropleth"
           }
          ],
          "contour": [
           {
            "colorbar": {
             "outlinewidth": 1,
             "tickcolor": "rgb(36,36,36)",
             "ticks": "outside"
            },
            "colorscale": [
             [
              0,
              "#440154"
             ],
             [
              0.1111111111111111,
              "#482878"
             ],
             [
              0.2222222222222222,
              "#3e4989"
             ],
             [
              0.3333333333333333,
              "#31688e"
             ],
             [
              0.4444444444444444,
              "#26828e"
             ],
             [
              0.5555555555555556,
              "#1f9e89"
             ],
             [
              0.6666666666666666,
              "#35b779"
             ],
             [
              0.7777777777777778,
              "#6ece58"
             ],
             [
              0.8888888888888888,
              "#b5de2b"
             ],
             [
              1,
              "#fde725"
             ]
            ],
            "type": "contour"
           }
          ],
          "contourcarpet": [
           {
            "colorbar": {
             "outlinewidth": 1,
             "tickcolor": "rgb(36,36,36)",
             "ticks": "outside"
            },
            "type": "contourcarpet"
           }
          ],
          "heatmap": [
           {
            "colorbar": {
             "outlinewidth": 1,
             "tickcolor": "rgb(36,36,36)",
             "ticks": "outside"
            },
            "colorscale": [
             [
              0,
              "#440154"
             ],
             [
              0.1111111111111111,
              "#482878"
             ],
             [
              0.2222222222222222,
              "#3e4989"
             ],
             [
              0.3333333333333333,
              "#31688e"
             ],
             [
              0.4444444444444444,
              "#26828e"
             ],
             [
              0.5555555555555556,
              "#1f9e89"
             ],
             [
              0.6666666666666666,
              "#35b779"
             ],
             [
              0.7777777777777778,
              "#6ece58"
             ],
             [
              0.8888888888888888,
              "#b5de2b"
             ],
             [
              1,
              "#fde725"
             ]
            ],
            "type": "heatmap"
           }
          ],
          "heatmapgl": [
           {
            "colorbar": {
             "outlinewidth": 1,
             "tickcolor": "rgb(36,36,36)",
             "ticks": "outside"
            },
            "colorscale": [
             [
              0,
              "#440154"
             ],
             [
              0.1111111111111111,
              "#482878"
             ],
             [
              0.2222222222222222,
              "#3e4989"
             ],
             [
              0.3333333333333333,
              "#31688e"
             ],
             [
              0.4444444444444444,
              "#26828e"
             ],
             [
              0.5555555555555556,
              "#1f9e89"
             ],
             [
              0.6666666666666666,
              "#35b779"
             ],
             [
              0.7777777777777778,
              "#6ece58"
             ],
             [
              0.8888888888888888,
              "#b5de2b"
             ],
             [
              1,
              "#fde725"
             ]
            ],
            "type": "heatmapgl"
           }
          ],
          "histogram": [
           {
            "marker": {
             "line": {
              "color": "white",
              "width": 0.6
             }
            },
            "type": "histogram"
           }
          ],
          "histogram2d": [
           {
            "colorbar": {
             "outlinewidth": 1,
             "tickcolor": "rgb(36,36,36)",
             "ticks": "outside"
            },
            "colorscale": [
             [
              0,
              "#440154"
             ],
             [
              0.1111111111111111,
              "#482878"
             ],
             [
              0.2222222222222222,
              "#3e4989"
             ],
             [
              0.3333333333333333,
              "#31688e"
             ],
             [
              0.4444444444444444,
              "#26828e"
             ],
             [
              0.5555555555555556,
              "#1f9e89"
             ],
             [
              0.6666666666666666,
              "#35b779"
             ],
             [
              0.7777777777777778,
              "#6ece58"
             ],
             [
              0.8888888888888888,
              "#b5de2b"
             ],
             [
              1,
              "#fde725"
             ]
            ],
            "type": "histogram2d"
           }
          ],
          "histogram2dcontour": [
           {
            "colorbar": {
             "outlinewidth": 1,
             "tickcolor": "rgb(36,36,36)",
             "ticks": "outside"
            },
            "colorscale": [
             [
              0,
              "#440154"
             ],
             [
              0.1111111111111111,
              "#482878"
             ],
             [
              0.2222222222222222,
              "#3e4989"
             ],
             [
              0.3333333333333333,
              "#31688e"
             ],
             [
              0.4444444444444444,
              "#26828e"
             ],
             [
              0.5555555555555556,
              "#1f9e89"
             ],
             [
              0.6666666666666666,
              "#35b779"
             ],
             [
              0.7777777777777778,
              "#6ece58"
             ],
             [
              0.8888888888888888,
              "#b5de2b"
             ],
             [
              1,
              "#fde725"
             ]
            ],
            "type": "histogram2dcontour"
           }
          ],
          "mesh3d": [
           {
            "colorbar": {
             "outlinewidth": 1,
             "tickcolor": "rgb(36,36,36)",
             "ticks": "outside"
            },
            "type": "mesh3d"
           }
          ],
          "parcoords": [
           {
            "line": {
             "colorbar": {
              "outlinewidth": 1,
              "tickcolor": "rgb(36,36,36)",
              "ticks": "outside"
             }
            },
            "type": "parcoords"
           }
          ],
          "pie": [
           {
            "automargin": true,
            "type": "pie"
           }
          ],
          "scatter": [
           {
            "marker": {
             "colorbar": {
              "outlinewidth": 1,
              "tickcolor": "rgb(36,36,36)",
              "ticks": "outside"
             }
            },
            "type": "scatter"
           }
          ],
          "scatter3d": [
           {
            "line": {
             "colorbar": {
              "outlinewidth": 1,
              "tickcolor": "rgb(36,36,36)",
              "ticks": "outside"
             }
            },
            "marker": {
             "colorbar": {
              "outlinewidth": 1,
              "tickcolor": "rgb(36,36,36)",
              "ticks": "outside"
             }
            },
            "type": "scatter3d"
           }
          ],
          "scattercarpet": [
           {
            "marker": {
             "colorbar": {
              "outlinewidth": 1,
              "tickcolor": "rgb(36,36,36)",
              "ticks": "outside"
             }
            },
            "type": "scattercarpet"
           }
          ],
          "scattergeo": [
           {
            "marker": {
             "colorbar": {
              "outlinewidth": 1,
              "tickcolor": "rgb(36,36,36)",
              "ticks": "outside"
             }
            },
            "type": "scattergeo"
           }
          ],
          "scattergl": [
           {
            "marker": {
             "colorbar": {
              "outlinewidth": 1,
              "tickcolor": "rgb(36,36,36)",
              "ticks": "outside"
             }
            },
            "type": "scattergl"
           }
          ],
          "scattermapbox": [
           {
            "marker": {
             "colorbar": {
              "outlinewidth": 1,
              "tickcolor": "rgb(36,36,36)",
              "ticks": "outside"
             }
            },
            "type": "scattermapbox"
           }
          ],
          "scatterpolar": [
           {
            "marker": {
             "colorbar": {
              "outlinewidth": 1,
              "tickcolor": "rgb(36,36,36)",
              "ticks": "outside"
             }
            },
            "type": "scatterpolar"
           }
          ],
          "scatterpolargl": [
           {
            "marker": {
             "colorbar": {
              "outlinewidth": 1,
              "tickcolor": "rgb(36,36,36)",
              "ticks": "outside"
             }
            },
            "type": "scatterpolargl"
           }
          ],
          "scatterternary": [
           {
            "marker": {
             "colorbar": {
              "outlinewidth": 1,
              "tickcolor": "rgb(36,36,36)",
              "ticks": "outside"
             }
            },
            "type": "scatterternary"
           }
          ],
          "surface": [
           {
            "colorbar": {
             "outlinewidth": 1,
             "tickcolor": "rgb(36,36,36)",
             "ticks": "outside"
            },
            "colorscale": [
             [
              0,
              "#440154"
             ],
             [
              0.1111111111111111,
              "#482878"
             ],
             [
              0.2222222222222222,
              "#3e4989"
             ],
             [
              0.3333333333333333,
              "#31688e"
             ],
             [
              0.4444444444444444,
              "#26828e"
             ],
             [
              0.5555555555555556,
              "#1f9e89"
             ],
             [
              0.6666666666666666,
              "#35b779"
             ],
             [
              0.7777777777777778,
              "#6ece58"
             ],
             [
              0.8888888888888888,
              "#b5de2b"
             ],
             [
              1,
              "#fde725"
             ]
            ],
            "type": "surface"
           }
          ],
          "table": [
           {
            "cells": {
             "fill": {
              "color": "rgb(237,237,237)"
             },
             "line": {
              "color": "white"
             }
            },
            "header": {
             "fill": {
              "color": "rgb(217,217,217)"
             },
             "line": {
              "color": "white"
             }
            },
            "type": "table"
           }
          ]
         },
         "layout": {
          "annotationdefaults": {
           "arrowhead": 0,
           "arrowwidth": 1
          },
          "coloraxis": {
           "colorbar": {
            "outlinewidth": 1,
            "tickcolor": "rgb(36,36,36)",
            "ticks": "outside"
           }
          },
          "colorscale": {
           "diverging": [
            [
             0,
             "rgb(103,0,31)"
            ],
            [
             0.1,
             "rgb(178,24,43)"
            ],
            [
             0.2,
             "rgb(214,96,77)"
            ],
            [
             0.3,
             "rgb(244,165,130)"
            ],
            [
             0.4,
             "rgb(253,219,199)"
            ],
            [
             0.5,
             "rgb(247,247,247)"
            ],
            [
             0.6,
             "rgb(209,229,240)"
            ],
            [
             0.7,
             "rgb(146,197,222)"
            ],
            [
             0.8,
             "rgb(67,147,195)"
            ],
            [
             0.9,
             "rgb(33,102,172)"
            ],
            [
             1,
             "rgb(5,48,97)"
            ]
           ],
           "sequential": [
            [
             0,
             "#440154"
            ],
            [
             0.1111111111111111,
             "#482878"
            ],
            [
             0.2222222222222222,
             "#3e4989"
            ],
            [
             0.3333333333333333,
             "#31688e"
            ],
            [
             0.4444444444444444,
             "#26828e"
            ],
            [
             0.5555555555555556,
             "#1f9e89"
            ],
            [
             0.6666666666666666,
             "#35b779"
            ],
            [
             0.7777777777777778,
             "#6ece58"
            ],
            [
             0.8888888888888888,
             "#b5de2b"
            ],
            [
             1,
             "#fde725"
            ]
           ],
           "sequentialminus": [
            [
             0,
             "#440154"
            ],
            [
             0.1111111111111111,
             "#482878"
            ],
            [
             0.2222222222222222,
             "#3e4989"
            ],
            [
             0.3333333333333333,
             "#31688e"
            ],
            [
             0.4444444444444444,
             "#26828e"
            ],
            [
             0.5555555555555556,
             "#1f9e89"
            ],
            [
             0.6666666666666666,
             "#35b779"
            ],
            [
             0.7777777777777778,
             "#6ece58"
            ],
            [
             0.8888888888888888,
             "#b5de2b"
            ],
            [
             1,
             "#fde725"
            ]
           ]
          },
          "colorway": [
           "#1F77B4",
           "#FF7F0E",
           "#2CA02C",
           "#D62728",
           "#9467BD",
           "#8C564B",
           "#E377C2",
           "#7F7F7F",
           "#BCBD22",
           "#17BECF"
          ],
          "font": {
           "color": "rgb(36,36,36)"
          },
          "geo": {
           "bgcolor": "white",
           "lakecolor": "white",
           "landcolor": "white",
           "showlakes": true,
           "showland": true,
           "subunitcolor": "white"
          },
          "hoverlabel": {
           "align": "left"
          },
          "hovermode": "closest",
          "mapbox": {
           "style": "light"
          },
          "paper_bgcolor": "white",
          "plot_bgcolor": "white",
          "polar": {
           "angularaxis": {
            "gridcolor": "rgb(232,232,232)",
            "linecolor": "rgb(36,36,36)",
            "showgrid": false,
            "showline": true,
            "ticks": "outside"
           },
           "bgcolor": "white",
           "radialaxis": {
            "gridcolor": "rgb(232,232,232)",
            "linecolor": "rgb(36,36,36)",
            "showgrid": false,
            "showline": true,
            "ticks": "outside"
           }
          },
          "scene": {
           "xaxis": {
            "backgroundcolor": "white",
            "gridcolor": "rgb(232,232,232)",
            "gridwidth": 2,
            "linecolor": "rgb(36,36,36)",
            "showbackground": true,
            "showgrid": false,
            "showline": true,
            "ticks": "outside",
            "zeroline": false,
            "zerolinecolor": "rgb(36,36,36)"
           },
           "yaxis": {
            "backgroundcolor": "white",
            "gridcolor": "rgb(232,232,232)",
            "gridwidth": 2,
            "linecolor": "rgb(36,36,36)",
            "showbackground": true,
            "showgrid": false,
            "showline": true,
            "ticks": "outside",
            "zeroline": false,
            "zerolinecolor": "rgb(36,36,36)"
           },
           "zaxis": {
            "backgroundcolor": "white",
            "gridcolor": "rgb(232,232,232)",
            "gridwidth": 2,
            "linecolor": "rgb(36,36,36)",
            "showbackground": true,
            "showgrid": false,
            "showline": true,
            "ticks": "outside",
            "zeroline": false,
            "zerolinecolor": "rgb(36,36,36)"
           }
          },
          "shapedefaults": {
           "fillcolor": "black",
           "line": {
            "width": 0
           },
           "opacity": 0.3
          },
          "ternary": {
           "aaxis": {
            "gridcolor": "rgb(232,232,232)",
            "linecolor": "rgb(36,36,36)",
            "showgrid": false,
            "showline": true,
            "ticks": "outside"
           },
           "baxis": {
            "gridcolor": "rgb(232,232,232)",
            "linecolor": "rgb(36,36,36)",
            "showgrid": false,
            "showline": true,
            "ticks": "outside"
           },
           "bgcolor": "white",
           "caxis": {
            "gridcolor": "rgb(232,232,232)",
            "linecolor": "rgb(36,36,36)",
            "showgrid": false,
            "showline": true,
            "ticks": "outside"
           }
          },
          "title": {
           "x": 0.05
          },
          "xaxis": {
           "automargin": true,
           "gridcolor": "rgb(232,232,232)",
           "linecolor": "rgb(36,36,36)",
           "showgrid": false,
           "showline": true,
           "ticks": "outside",
           "title": {
            "standoff": 15
           },
           "zeroline": false,
           "zerolinecolor": "rgb(36,36,36)"
          },
          "yaxis": {
           "automargin": true,
           "gridcolor": "rgb(232,232,232)",
           "linecolor": "rgb(36,36,36)",
           "showgrid": false,
           "showline": true,
           "ticks": "outside",
           "title": {
            "standoff": 15
           },
           "zeroline": false,
           "zerolinecolor": "rgb(36,36,36)"
          }
         }
        },
        "title": {
         "font": {
          "size": 15
         },
         "text": "Target: Ca3VN3 - 1600K, 10<sup>-3</sup> atm, standard reactants",
         "x": 0.5
        },
        "width": 640,
        "xaxis": {
         "anchor": "y",
         "domain": [
          0,
          1
         ],
         "mirror": true,
         "showline": true,
         "ticks": "inside",
         "title": {
          "text": "Number of competing phases"
         }
        },
        "yaxis": {
         "anchor": "x",
         "domain": [
          0,
          1
         ],
         "mirror": true,
         "range": [
          -0.25,
          9
         ],
         "showline": true,
         "ticks": "inside",
         "title": {
          "text": "Nucleation barrier (a.u.)"
         }
        }
       }
      },
      "text/html": [
       "<div>                            <div id=\"332b18fb-d36e-4408-b589-a61137c3e194\" class=\"plotly-graph-div\" style=\"height:480px; width:640px;\"></div>            <script type=\"text/javascript\">                require([\"plotly\"], function(Plotly) {                    window.PLOTLYENV=window.PLOTLYENV || {};                                    if (document.getElementById(\"332b18fb-d36e-4408-b589-a61137c3e194\")) {                    Plotly.newPlot(                        \"332b18fb-d36e-4408-b589-a61137c3e194\",                        [{\"customdata\": [[\"1.0 VN(mp-1018027) + 1.0 Ca3N2(mp-844)\"], [\"1.0 VN(mp-1018027) + 1.0 N2(mp-1080711) + 3.0 Ca(mp-132)\"], [\"1.0 VN(mp-1018027) + 0.25 N2(mp-1080711) + 1.5 Ca2N(mp-2686)\"], [\"1.0 VN(mp-1018027) + 2.6667 Ca(mp-132) + 0.3333 CaN6(mp-676)\"], [\"1.0 VN(mp-1018027) + 2.0 Ca(mp-132) + 1.0 CaN2(mp-1009657)\"], [\"1.0 VN(mp-1018027) + 1.4545 Ca2N(mp-2686) + 0.0909 CaN6(mp-676)\"], [\"1.0 VN(mp-1018027) + 1.3333 Ca2N(mp-2686) + 0.3333 CaN2(mp-1009657)\"], [\"0.125 V8N(mp-1188283) + 0.4375 N2(mp-1080711) + 1.0 Ca3N2(mp-844)\"], [\"0.125 V8N(mp-1188283) + 1.4375 N2(mp-1080711) + 3.0 Ca(mp-132)\"], [\"0.125 V8N(mp-1188283) + 0.6875 N2(mp-1080711) + 1.5 Ca2N(mp-2686)\"], [\"0.125 V8N(mp-1188283) + 0.9453 Ca3N2(mp-844) + 0.1641 CaN6(mp-676)\"], [\"0.125 V8N(mp-1188283) + 0.7813 Ca3N2(mp-844) + 0.6562 CaN2(mp-1009657)\"], [\"0.125 V8N(mp-1188283) + 2.5208 Ca(mp-132) + 0.4792 CaN6(mp-676)\"], [\"0.125 V8N(mp-1188283) + 1.5625 Ca(mp-132) + 1.4375 CaN2(mp-1009657)\"], [\"0.125 V8N(mp-1188283) + 1.375 Ca2N(mp-2686) + 0.25 CaN6(mp-676)\"], [\"0.125 V8N(mp-1188283) + 1.0417 Ca2N(mp-2686) + 0.9167 CaN2(mp-1009657)\"], [\"0.25 N2(mp-1080711) + 0.5 V2N(mp-33090) + 1.0 Ca3N2(mp-844)\"], [\"1.25 N2(mp-1080711) + 0.5 V2N(mp-33090) + 3.0 Ca(mp-132)\"], [\"0.5 N2(mp-1080711) + 0.5 V2N(mp-33090) + 1.5 Ca2N(mp-2686)\"], [\"0.5 N2(mp-1080711) + 1.0 Ca3N2(mp-844) + 1.0 V(mp-146)\"], [\"1.5 N2(mp-1080711) + 1.0 V(mp-146) + 3.0 Ca(mp-132)\"], [\"0.75 N2(mp-1080711) + 1.0 V(mp-146) + 1.5 Ca2N(mp-2686)\"], [\"0.5 V2N(mp-33090) + 0.9688 Ca3N2(mp-844) + 0.0937 CaN6(mp-676)\"], [\"0.5 V2N(mp-33090) + 0.875 Ca3N2(mp-844) + 0.375 CaN2(mp-1009657)\"], [\"0.5 V2N(mp-33090) + 2.5833 Ca(mp-132) + 0.4167 CaN6(mp-676)\"], [\"0.5 V2N(mp-33090) + 1.75 Ca(mp-132) + 1.25 CaN2(mp-1009657)\"], [\"0.5 V2N(mp-33090) + 1.4091 Ca2N(mp-2686) + 0.1818 CaN6(mp-676)\"], [\"0.5 V2N(mp-33090) + 1.1667 Ca2N(mp-2686) + 0.6667 CaN2(mp-1009657)\"], [\"0.9375 Ca3N2(mp-844) + 1.0 V(mp-146) + 0.1875 CaN6(mp-676)\"], [\"0.75 Ca3N2(mp-844) + 1.0 V(mp-146) + 0.75 CaN2(mp-1009657)\"], [\"1.0 V(mp-146) + 2.5 Ca(mp-132) + 0.5 CaN6(mp-676)\"], [\"1.0 V(mp-146) + 1.5 Ca(mp-132) + 1.5 CaN2(mp-1009657)\"], [\"1.0 V(mp-146) + 1.3636 Ca2N(mp-2686) + 0.2727 CaN6(mp-676)\"], [\"1.0 V(mp-146) + 1.0 Ca2N(mp-2686) + 1.0 CaN2(mp-1009657)\"]], \"hovertemplate\": \"n_competing=%{x}<br>barrier=%{y}<br>summary=%{customdata[0]}<extra></extra>\", \"legendgroup\": \"\", \"marker\": {\"color\": \"#1F77B4\", \"line\": {\"color\": \"DarkSlateGrey\", \"width\": 2}, \"opacity\": 0.8, \"size\": 12, \"symbol\": \"circle\"}, \"mode\": \"markers\", \"name\": \"\", \"orientation\": \"v\", \"showlegend\": false, \"type\": \"scatter\", \"x\": [2, 7, 4, 14, 12, 11, 10, 8, 8, 6, 12, 11, 15, 13, 13, 11, 6, 4, 4, 9, 8, 7, 12, 11, 14, 12, 12, 11, 14, 12, 15, 14, 14, 13], \"xaxis\": \"x\", \"y\": [3.2696947867755863, 5.814933207395383, 7.972914013488321, 0.3957087260180613, 0.19224960513261993, 1.3068300957101087, 0.5823248815704061, 2.073177465191188, 37.41148998806097, 6.013626117412399, 0.41499998203097743, 0.23488233617028417, 2.971205271139219, 0.15004706291581607, 0.43975409797046194, 0.2094462792818908, 1.050012052605793, 2.751882836838058, 6.234759161631014, 0.5768629377367216, 161.859035181226, 1.9134159315614871, 0.3119938775175971, 0.3328991074107882, 0.24060888288958682, 0.15292310833666276, 0.38698524182888067, 0.2649014502509338, 0.1715277965062417, 0.17981606404973455, 2.746031946105552, 0.13319495594306469, 0.276256477724924, 0.16662696270018984], \"yaxis\": \"y\"}, {\"line\": {\"color\": \"firebrick\", \"width\": 2}, \"type\": \"scatter\", \"x\": [2, 4, 6, 9, 11, 12, 13, 14], \"y\": [3.2696947867755863, 2.751882836838058, 1.050012052605793, 0.5768629377367216, 0.2094462792818908, 0.15292310833666276, 0.15004706291581607, 0.13319495594306469]}, {\"connectgaps\": false, \"line\": {\"color\": \"firebrick\", \"dash\": \"dash\", \"width\": 2}, \"type\": \"scatter\", \"x\": [2, 2, null, 14, 15], \"y\": [3.2696947867755863, 161.859035181226, null, 0.13319495594306469, 0.13319495594306469]}],                        {\"font\": {\"size\": 13}, \"height\": 480, \"legend\": {\"tracegroupgap\": 0}, \"margin\": {\"t\": 60}, \"showlegend\": false, \"template\": {\"data\": {\"bar\": [{\"error_x\": {\"color\": \"rgb(36,36,36)\"}, \"error_y\": {\"color\": \"rgb(36,36,36)\"}, \"marker\": {\"line\": {\"color\": \"white\", \"width\": 0.5}}, \"type\": \"bar\"}], \"barpolar\": [{\"marker\": {\"line\": {\"color\": \"white\", \"width\": 0.5}}, \"type\": \"barpolar\"}], \"carpet\": [{\"aaxis\": {\"endlinecolor\": \"rgb(36,36,36)\", \"gridcolor\": \"white\", \"linecolor\": \"white\", \"minorgridcolor\": \"white\", \"startlinecolor\": \"rgb(36,36,36)\"}, \"baxis\": {\"endlinecolor\": \"rgb(36,36,36)\", \"gridcolor\": \"white\", \"linecolor\": \"white\", \"minorgridcolor\": \"white\", \"startlinecolor\": \"rgb(36,36,36)\"}, \"type\": \"carpet\"}], \"choropleth\": [{\"colorbar\": {\"outlinewidth\": 1, \"tickcolor\": \"rgb(36,36,36)\", \"ticks\": \"outside\"}, \"type\": \"choropleth\"}], \"contour\": [{\"colorbar\": {\"outlinewidth\": 1, \"tickcolor\": \"rgb(36,36,36)\", \"ticks\": \"outside\"}, \"colorscale\": [[0.0, \"#440154\"], [0.1111111111111111, \"#482878\"], [0.2222222222222222, \"#3e4989\"], [0.3333333333333333, \"#31688e\"], [0.4444444444444444, \"#26828e\"], [0.5555555555555556, \"#1f9e89\"], [0.6666666666666666, \"#35b779\"], [0.7777777777777778, \"#6ece58\"], [0.8888888888888888, \"#b5de2b\"], [1.0, \"#fde725\"]], \"type\": \"contour\"}], \"contourcarpet\": [{\"colorbar\": {\"outlinewidth\": 1, \"tickcolor\": \"rgb(36,36,36)\", \"ticks\": \"outside\"}, \"type\": \"contourcarpet\"}], \"heatmap\": [{\"colorbar\": {\"outlinewidth\": 1, \"tickcolor\": \"rgb(36,36,36)\", \"ticks\": \"outside\"}, \"colorscale\": [[0.0, \"#440154\"], [0.1111111111111111, \"#482878\"], [0.2222222222222222, \"#3e4989\"], [0.3333333333333333, \"#31688e\"], [0.4444444444444444, \"#26828e\"], [0.5555555555555556, \"#1f9e89\"], [0.6666666666666666, \"#35b779\"], [0.7777777777777778, \"#6ece58\"], [0.8888888888888888, \"#b5de2b\"], [1.0, \"#fde725\"]], \"type\": \"heatmap\"}], \"heatmapgl\": [{\"colorbar\": {\"outlinewidth\": 1, \"tickcolor\": \"rgb(36,36,36)\", \"ticks\": \"outside\"}, \"colorscale\": [[0.0, \"#440154\"], [0.1111111111111111, \"#482878\"], [0.2222222222222222, \"#3e4989\"], [0.3333333333333333, \"#31688e\"], [0.4444444444444444, \"#26828e\"], [0.5555555555555556, \"#1f9e89\"], [0.6666666666666666, \"#35b779\"], [0.7777777777777778, \"#6ece58\"], [0.8888888888888888, \"#b5de2b\"], [1.0, \"#fde725\"]], \"type\": \"heatmapgl\"}], \"histogram\": [{\"marker\": {\"line\": {\"color\": \"white\", \"width\": 0.6}}, \"type\": \"histogram\"}], \"histogram2d\": [{\"colorbar\": {\"outlinewidth\": 1, \"tickcolor\": \"rgb(36,36,36)\", \"ticks\": \"outside\"}, \"colorscale\": [[0.0, \"#440154\"], [0.1111111111111111, \"#482878\"], [0.2222222222222222, \"#3e4989\"], [0.3333333333333333, \"#31688e\"], [0.4444444444444444, \"#26828e\"], [0.5555555555555556, \"#1f9e89\"], [0.6666666666666666, \"#35b779\"], [0.7777777777777778, \"#6ece58\"], [0.8888888888888888, \"#b5de2b\"], [1.0, \"#fde725\"]], \"type\": \"histogram2d\"}], \"histogram2dcontour\": [{\"colorbar\": {\"outlinewidth\": 1, \"tickcolor\": \"rgb(36,36,36)\", \"ticks\": \"outside\"}, \"colorscale\": [[0.0, \"#440154\"], [0.1111111111111111, \"#482878\"], [0.2222222222222222, \"#3e4989\"], [0.3333333333333333, \"#31688e\"], [0.4444444444444444, \"#26828e\"], [0.5555555555555556, \"#1f9e89\"], [0.6666666666666666, \"#35b779\"], [0.7777777777777778, \"#6ece58\"], [0.8888888888888888, \"#b5de2b\"], [1.0, \"#fde725\"]], \"type\": \"histogram2dcontour\"}], \"mesh3d\": [{\"colorbar\": {\"outlinewidth\": 1, \"tickcolor\": \"rgb(36,36,36)\", \"ticks\": \"outside\"}, \"type\": \"mesh3d\"}], \"parcoords\": [{\"line\": {\"colorbar\": {\"outlinewidth\": 1, \"tickcolor\": \"rgb(36,36,36)\", \"ticks\": \"outside\"}}, \"type\": \"parcoords\"}], \"pie\": [{\"automargin\": true, \"type\": \"pie\"}], \"scatter\": [{\"marker\": {\"colorbar\": {\"outlinewidth\": 1, \"tickcolor\": \"rgb(36,36,36)\", \"ticks\": \"outside\"}}, \"type\": \"scatter\"}], \"scatter3d\": [{\"line\": {\"colorbar\": {\"outlinewidth\": 1, \"tickcolor\": \"rgb(36,36,36)\", \"ticks\": \"outside\"}}, \"marker\": {\"colorbar\": {\"outlinewidth\": 1, \"tickcolor\": \"rgb(36,36,36)\", \"ticks\": \"outside\"}}, \"type\": \"scatter3d\"}], \"scattercarpet\": [{\"marker\": {\"colorbar\": {\"outlinewidth\": 1, \"tickcolor\": \"rgb(36,36,36)\", \"ticks\": \"outside\"}}, \"type\": \"scattercarpet\"}], \"scattergeo\": [{\"marker\": {\"colorbar\": {\"outlinewidth\": 1, \"tickcolor\": \"rgb(36,36,36)\", \"ticks\": \"outside\"}}, \"type\": \"scattergeo\"}], \"scattergl\": [{\"marker\": {\"colorbar\": {\"outlinewidth\": 1, \"tickcolor\": \"rgb(36,36,36)\", \"ticks\": \"outside\"}}, \"type\": \"scattergl\"}], \"scattermapbox\": [{\"marker\": {\"colorbar\": {\"outlinewidth\": 1, \"tickcolor\": \"rgb(36,36,36)\", \"ticks\": \"outside\"}}, \"type\": \"scattermapbox\"}], \"scatterpolar\": [{\"marker\": {\"colorbar\": {\"outlinewidth\": 1, \"tickcolor\": \"rgb(36,36,36)\", \"ticks\": \"outside\"}}, \"type\": \"scatterpolar\"}], \"scatterpolargl\": [{\"marker\": {\"colorbar\": {\"outlinewidth\": 1, \"tickcolor\": \"rgb(36,36,36)\", \"ticks\": \"outside\"}}, \"type\": \"scatterpolargl\"}], \"scatterternary\": [{\"marker\": {\"colorbar\": {\"outlinewidth\": 1, \"tickcolor\": \"rgb(36,36,36)\", \"ticks\": \"outside\"}}, \"type\": \"scatterternary\"}], \"surface\": [{\"colorbar\": {\"outlinewidth\": 1, \"tickcolor\": \"rgb(36,36,36)\", \"ticks\": \"outside\"}, \"colorscale\": [[0.0, \"#440154\"], [0.1111111111111111, \"#482878\"], [0.2222222222222222, \"#3e4989\"], [0.3333333333333333, \"#31688e\"], [0.4444444444444444, \"#26828e\"], [0.5555555555555556, \"#1f9e89\"], [0.6666666666666666, \"#35b779\"], [0.7777777777777778, \"#6ece58\"], [0.8888888888888888, \"#b5de2b\"], [1.0, \"#fde725\"]], \"type\": \"surface\"}], \"table\": [{\"cells\": {\"fill\": {\"color\": \"rgb(237,237,237)\"}, \"line\": {\"color\": \"white\"}}, \"header\": {\"fill\": {\"color\": \"rgb(217,217,217)\"}, \"line\": {\"color\": \"white\"}}, \"type\": \"table\"}]}, \"layout\": {\"annotationdefaults\": {\"arrowhead\": 0, \"arrowwidth\": 1}, \"coloraxis\": {\"colorbar\": {\"outlinewidth\": 1, \"tickcolor\": \"rgb(36,36,36)\", \"ticks\": \"outside\"}}, \"colorscale\": {\"diverging\": [[0.0, \"rgb(103,0,31)\"], [0.1, \"rgb(178,24,43)\"], [0.2, \"rgb(214,96,77)\"], [0.3, \"rgb(244,165,130)\"], [0.4, \"rgb(253,219,199)\"], [0.5, \"rgb(247,247,247)\"], [0.6, \"rgb(209,229,240)\"], [0.7, \"rgb(146,197,222)\"], [0.8, \"rgb(67,147,195)\"], [0.9, \"rgb(33,102,172)\"], [1.0, \"rgb(5,48,97)\"]], \"sequential\": [[0.0, \"#440154\"], [0.1111111111111111, \"#482878\"], [0.2222222222222222, \"#3e4989\"], [0.3333333333333333, \"#31688e\"], [0.4444444444444444, \"#26828e\"], [0.5555555555555556, \"#1f9e89\"], [0.6666666666666666, \"#35b779\"], [0.7777777777777778, \"#6ece58\"], [0.8888888888888888, \"#b5de2b\"], [1.0, \"#fde725\"]], \"sequentialminus\": [[0.0, \"#440154\"], [0.1111111111111111, \"#482878\"], [0.2222222222222222, \"#3e4989\"], [0.3333333333333333, \"#31688e\"], [0.4444444444444444, \"#26828e\"], [0.5555555555555556, \"#1f9e89\"], [0.6666666666666666, \"#35b779\"], [0.7777777777777778, \"#6ece58\"], [0.8888888888888888, \"#b5de2b\"], [1.0, \"#fde725\"]]}, \"colorway\": [\"#1F77B4\", \"#FF7F0E\", \"#2CA02C\", \"#D62728\", \"#9467BD\", \"#8C564B\", \"#E377C2\", \"#7F7F7F\", \"#BCBD22\", \"#17BECF\"], \"font\": {\"color\": \"rgb(36,36,36)\"}, \"geo\": {\"bgcolor\": \"white\", \"lakecolor\": \"white\", \"landcolor\": \"white\", \"showlakes\": true, \"showland\": true, \"subunitcolor\": \"white\"}, \"hoverlabel\": {\"align\": \"left\"}, \"hovermode\": \"closest\", \"mapbox\": {\"style\": \"light\"}, \"paper_bgcolor\": \"white\", \"plot_bgcolor\": \"white\", \"polar\": {\"angularaxis\": {\"gridcolor\": \"rgb(232,232,232)\", \"linecolor\": \"rgb(36,36,36)\", \"showgrid\": false, \"showline\": true, \"ticks\": \"outside\"}, \"bgcolor\": \"white\", \"radialaxis\": {\"gridcolor\": \"rgb(232,232,232)\", \"linecolor\": \"rgb(36,36,36)\", \"showgrid\": false, \"showline\": true, \"ticks\": \"outside\"}}, \"scene\": {\"xaxis\": {\"backgroundcolor\": \"white\", \"gridcolor\": \"rgb(232,232,232)\", \"gridwidth\": 2, \"linecolor\": \"rgb(36,36,36)\", \"showbackground\": true, \"showgrid\": false, \"showline\": true, \"ticks\": \"outside\", \"zeroline\": false, \"zerolinecolor\": \"rgb(36,36,36)\"}, \"yaxis\": {\"backgroundcolor\": \"white\", \"gridcolor\": \"rgb(232,232,232)\", \"gridwidth\": 2, \"linecolor\": \"rgb(36,36,36)\", \"showbackground\": true, \"showgrid\": false, \"showline\": true, \"ticks\": \"outside\", \"zeroline\": false, \"zerolinecolor\": \"rgb(36,36,36)\"}, \"zaxis\": {\"backgroundcolor\": \"white\", \"gridcolor\": \"rgb(232,232,232)\", \"gridwidth\": 2, \"linecolor\": \"rgb(36,36,36)\", \"showbackground\": true, \"showgrid\": false, \"showline\": true, \"ticks\": \"outside\", \"zeroline\": false, \"zerolinecolor\": \"rgb(36,36,36)\"}}, \"shapedefaults\": {\"fillcolor\": \"black\", \"line\": {\"width\": 0}, \"opacity\": 0.3}, \"ternary\": {\"aaxis\": {\"gridcolor\": \"rgb(232,232,232)\", \"linecolor\": \"rgb(36,36,36)\", \"showgrid\": false, \"showline\": true, \"ticks\": \"outside\"}, \"baxis\": {\"gridcolor\": \"rgb(232,232,232)\", \"linecolor\": \"rgb(36,36,36)\", \"showgrid\": false, \"showline\": true, \"ticks\": \"outside\"}, \"bgcolor\": \"white\", \"caxis\": {\"gridcolor\": \"rgb(232,232,232)\", \"linecolor\": \"rgb(36,36,36)\", \"showgrid\": false, \"showline\": true, \"ticks\": \"outside\"}}, \"title\": {\"x\": 0.05}, \"xaxis\": {\"automargin\": true, \"gridcolor\": \"rgb(232,232,232)\", \"linecolor\": \"rgb(36,36,36)\", \"showgrid\": false, \"showline\": true, \"ticks\": \"outside\", \"title\": {\"standoff\": 15}, \"zeroline\": false, \"zerolinecolor\": \"rgb(36,36,36)\"}, \"yaxis\": {\"automargin\": true, \"gridcolor\": \"rgb(232,232,232)\", \"linecolor\": \"rgb(36,36,36)\", \"showgrid\": false, \"showline\": true, \"ticks\": \"outside\", \"title\": {\"standoff\": 15}, \"zeroline\": false, \"zerolinecolor\": \"rgb(36,36,36)\"}}}, \"title\": {\"font\": {\"size\": 15}, \"text\": \"Target: Ca3VN3 - 1600K, 10<sup>-3</sup> atm, standard reactants\", \"x\": 0.5}, \"width\": 640, \"xaxis\": {\"anchor\": \"y\", \"domain\": [0.0, 1.0], \"mirror\": true, \"showline\": true, \"ticks\": \"inside\", \"title\": {\"text\": \"Number of competing phases\"}}, \"yaxis\": {\"anchor\": \"x\", \"domain\": [0.0, 1.0], \"mirror\": true, \"range\": [-0.25, 9], \"showline\": true, \"ticks\": \"inside\", \"title\": {\"text\": \"Nucleation barrier (a.u.)\"}}},                        {\"responsive\": true}                    ).then(function(){\n",
       "                            \n",
       "var gd = document.getElementById('332b18fb-d36e-4408-b589-a61137c3e194');\n",
       "var x = new MutationObserver(function (mutations, observer) {{\n",
       "        var display = window.getComputedStyle(gd).display;\n",
       "        if (!display || display === 'none') {{\n",
       "            console.log([gd, 'removed!']);\n",
       "            Plotly.purge(gd);\n",
       "            observer.disconnect();\n",
       "        }}\n",
       "}});\n",
       "\n",
       "// Listen for the removal of the full notebook cells\n",
       "var notebookContainer = gd.closest('#notebook-container');\n",
       "if (notebookContainer) {{\n",
       "    x.observe(notebookContainer, {childList: true});\n",
       "}}\n",
       "\n",
       "// Listen for the clearing of the current output cell\n",
       "var outputEl = gd.closest('.output');\n",
       "if (outputEl) {{\n",
       "    x.observe(outputEl, {childList: true});\n",
       "}}\n",
       "\n",
       "                        })                };                });            </script>        </div>"
      ]
     },
     "metadata": {},
     "output_type": "display_data"
    }
   ],
   "source": [
    "f.show()"
   ]
  }
 ],
 "metadata": {
  "kernelspec": {
   "display_name": "Python 3",
   "language": "python",
   "name": "python3"
  },
  "language_info": {
   "codemirror_mode": {
    "name": "ipython",
    "version": 3
   },
   "file_extension": ".py",
   "mimetype": "text/x-python",
   "name": "python",
   "nbconvert_exporter": "python",
   "pygments_lexer": "ipython3",
   "version": "3.8.6"
  }
 },
 "nbformat": 4,
 "nbformat_minor": 2
}

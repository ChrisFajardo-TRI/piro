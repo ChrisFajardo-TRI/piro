{
 "cells": [
  {
   "cell_type": "code",
   "execution_count": 1,
   "metadata": {},
   "outputs": [],
   "source": [
    "import matplotlib.pyplot as plt\n",
    "import numpy as np"
   ]
  },
  {
   "cell_type": "code",
   "execution_count": 2,
   "metadata": {},
   "outputs": [],
   "source": [
    "mp_id = 'mp-5020'"
   ]
  },
  {
   "cell_type": "code",
   "execution_count": 3,
   "metadata": {},
   "outputs": [],
   "source": [
    "from rxn.route import SynthesisRoutes"
   ]
  },
  {
   "cell_type": "code",
   "execution_count": 4,
   "metadata": {},
   "outputs": [
    {
     "name": "stdout",
     "output_type": "stream",
     "text": [
      "explicitly including:  ['mp-390', 'mp-4559']\n",
      "Epitaxies ready\n",
      "Similarity matrix ready\n",
      "Precursor library ready.\n"
     ]
    }
   ],
   "source": [
    "router = SynthesisRoutes(mp_id, explicit_includes=['mp-390','mp-4559'], add_element='C', use_cache=True)"
   ]
  },
  {
   "cell_type": "code",
   "execution_count": 16,
   "metadata": {},
   "outputs": [
    {
     "data": {
      "application/vnd.plotly.v1+json": {
       "config": {
        "plotlyServerURL": "https://plot.ly"
       },
       "data": [
        {
         "customdata": [
          [
           "0.1667 Ti6O(mp-554098) + 1.0 BaO(mp-1342) + 0.9167 O2(mp-12957)"
          ],
          [
           "0.1667 Ti6O(mp-554098) + 1.4167 O2(mp-12957) + 1.0 Ba(mp-122)"
          ],
          [
           "0.1667 Ti6O(mp-554098) + 0.4167 O2(mp-12957) + 1.0 BaO2(mp-1105)"
          ],
          [
           "0.1667 Ti6O(mp-554098) + -1.0 CO2(mp-20066) + 0.9167 O2(mp-12957) + 1.0 BaCO3(mp-5504)"
          ],
          [
           "0.1667 Ti6O(mp-554098) + -1.0 CO2(mp-20066) + 0.9167 O2(mp-12957) + 1.0 BaCO3(mp-4559)"
          ],
          [
           "1.0 BaO(mp-1342) + 0.3333 Ti3O5(mp-1147) + 0.1667 O2(mp-12957)"
          ],
          [
           "1.0 BaO(mp-1342) + 0.5 Ti2O(mp-1215) + 0.75 O2(mp-12957)"
          ],
          [
           "0.125 Ti8C5(mp-27919) + 1.0 BaO(mp-1342) + -0.625 CO2(mp-20066) + 1.625 O2(mp-12957)"
          ],
          [
           "1.0 BaO(mp-1342) + 0.3333 Ti3O(mp-2591) + 0.8333 O2(mp-12957)"
          ],
          [
           "0.5 Ti2O(mp-1215) + 1.25 O2(mp-12957) + 1.0 Ba(mp-122)"
          ],
          [
           "0.5 Ti2O(mp-1215) + 0.25 O2(mp-12957) + 1.0 BaO2(mp-1105)"
          ],
          [
           "0.125 Ti8C5(mp-27919) + -0.625 CO2(mp-20066) + 2.125 O2(mp-12957) + 1.0 Ba(mp-122)"
          ],
          [
           "0.125 Ti8C5(mp-27919) + -0.625 CO2(mp-20066) + 1.125 O2(mp-12957) + 1.0 BaO2(mp-1105)"
          ],
          [
           "0.125 Ti8C5(mp-27919) + -1.625 CO2(mp-20066) + 1.625 O2(mp-12957) + 1.0 BaCO3(mp-5504)"
          ],
          [
           "0.125 Ti8C5(mp-27919) + -1.625 CO2(mp-20066) + 1.625 O2(mp-12957) + 1.0 BaCO3(mp-4559)"
          ],
          [
           "0.3333 Ti3O(mp-2591) + 1.3333 O2(mp-12957) + 1.0 Ba(mp-122)"
          ],
          [
           "0.3333 Ti3O(mp-2591) + 0.3333 O2(mp-12957) + 1.0 BaO2(mp-1105)"
          ],
          [
           "1.0 BaO(mp-1342) + 0.5 Ti2C(mp-10721) + -0.5 CO2(mp-20066) + 1.5 O2(mp-12957)"
          ],
          [
           "0.3333 Ti3O5(mp-1147) + 0.6667 O2(mp-12957) + 1.0 Ba(mp-122)"
          ],
          [
           "0.3333 Ti3O5(mp-1147) + -0.3333 O2(mp-12957) + 1.0 BaO2(mp-1105)"
          ],
          [
           "0.3333 Ti3O5(mp-1147) + -1.0 CO2(mp-20066) + 0.1667 O2(mp-12957) + 1.0 BaCO3(mp-5504)"
          ],
          [
           "0.3333 Ti3O5(mp-1147) + -1.0 CO2(mp-20066) + 0.1667 O2(mp-12957) + 1.0 BaCO3(mp-4559)"
          ],
          [
           "0.5 Ti2C(mp-10721) + -0.5 CO2(mp-20066) + 2.0 O2(mp-12957) + 1.0 Ba(mp-122)"
          ],
          [
           "0.5 Ti2C(mp-10721) + -0.5 CO2(mp-20066) + 1.0 O2(mp-12957) + 1.0 BaO2(mp-1105)"
          ],
          [
           "0.5 Ti2C(mp-10721) + -1.5 CO2(mp-20066) + 1.5 O2(mp-12957) + 1.0 BaCO3(mp-5504)"
          ],
          [
           "0.5 Ti2C(mp-10721) + -1.5 CO2(mp-20066) + 1.5 O2(mp-12957) + 1.0 BaCO3(mp-4559)"
          ],
          [
           "0.5 Ti2O(mp-1215) + -1.0 CO2(mp-20066) + 0.75 O2(mp-12957) + 1.0 BaCO3(mp-5504)"
          ],
          [
           "0.5 Ti2O(mp-1215) + -1.0 CO2(mp-20066) + 0.75 O2(mp-12957) + 1.0 BaCO3(mp-4559)"
          ],
          [
           "-1.0 CO2(mp-20066) + 0.3333 Ti3O(mp-2591) + 0.8333 O2(mp-12957) + 1.0 BaCO3(mp-5504)"
          ],
          [
           "-1.0 CO2(mp-20066) + 0.3333 Ti3O(mp-2591) + 0.8333 O2(mp-12957) + 1.0 BaCO3(mp-4559)"
          ]
         ],
         "hovertemplate": "exp_precursors=0.5<br>n_competing=%{x}<br>barrier=%{y}<br>summary=%{customdata[0]}<extra></extra>",
         "legendgroup": "0.5",
         "marker": {
          "color": "#636efa",
          "size": 12,
          "symbol": "circle"
         },
         "mode": "markers",
         "name": "0.5",
         "orientation": "v",
         "showlegend": true,
         "type": "scatter",
         "x": [
          47,
          49,
          47,
          47,
          47,
          39,
          47,
          49,
          47,
          49,
          47,
          49,
          49,
          49,
          49,
          49,
          47,
          49,
          46,
          43,
          41,
          42,
          49,
          49,
          49,
          49,
          47,
          47,
          47,
          47
         ],
         "xaxis": "x",
         "y": [
          2.8870471809363374,
          2.793401366321558,
          0.11577370753984974,
          0.4301137008497032,
          0.3250669992731102,
          0.3044579069329443,
          0.7414439095005358,
          3.4460563434648215,
          1.2673753802684389,
          0.7224101274329413,
          0.1233615577086658,
          3.385063659440515,
          0.10980565706459124,
          0.4345753529994566,
          0.32973585188080673,
          1.2354382422411163,
          0.11954470673640073,
          3.673394694930927,
          0.22553838725795847,
          0.21258345337100956,
          0.47699474876404957,
          0.45544603260162075,
          3.598227312679868,
          0.1105036037621817,
          0.4371752421268244,
          0.3319470010034043,
          0.450827231318818,
          0.3425419009063361,
          0.47205323202494476,
          0.361393269466707
         ],
         "yaxis": "y"
        },
        {
         "customdata": [
          [
           "1.0 BaO(mp-1342) + 1.0 TiO2(mp-554278)"
          ],
          [
           "1.0 BaO(mp-1342) + 1.0 TiO2(mp-390)"
          ],
          [
           "1.0 TiO(mp-1071163) + 1.0 BaO2(mp-1105)"
          ],
          [
           "-1.0 CO2(mp-20066) + 1.0 TiO2(mp-554278) + 1.0 BaCO3(mp-5504)"
          ],
          [
           "-1.0 CO2(mp-20066) + 1.0 TiO2(mp-554278) + 1.0 BaCO3(mp-4559)"
          ],
          [
           "-1.0 CO2(mp-20066) + 1.0 BaCO3(mp-5504) + 1.0 TiO2(mp-390)"
          ],
          [
           "-1.0 CO2(mp-20066) + 1.0 TiO2(mp-390) + 1.0 BaCO3(mp-4559)"
          ],
          [
           "1.0 BaO(mp-1342) + 1.0 Ti(mp-72) + 1.0 O2(mp-12957)"
          ],
          [
           "1.0 BaO(mp-1342) + 1.0 TiO(mp-1071163) + 0.5 O2(mp-12957)"
          ],
          [
           "1.0 BaO(mp-1342) + 0.5 Ti2O3(mp-458) + 0.25 O2(mp-12957)"
          ],
          [
           "0.5 BaO(mp-1342) + 0.5 Ti2O3(mp-458) + 0.5 BaO2(mp-1105)"
          ],
          [
           "0.3333 Ti(mp-72) + 0.3333 Ti2O3(mp-458) + 1.0 BaO2(mp-1105)"
          ],
          [
           "1.0 Ti(mp-72) + 1.5 O2(mp-12957) + 1.0 Ba(mp-122)"
          ],
          [
           "1.0 Ti(mp-72) + 0.5 O2(mp-12957) + 1.0 BaO2(mp-1105)"
          ],
          [
           "1.0 TiO(mp-1071163) + 1.0 O2(mp-12957) + 1.0 Ba(mp-122)"
          ],
          [
           "0.5 Ti2O3(mp-458) + 0.75 O2(mp-12957) + 1.0 Ba(mp-122)"
          ],
          [
           "0.5 Ti2O3(mp-458) + -0.25 O2(mp-12957) + 1.0 BaO2(mp-1105)"
          ],
          [
           "0.5 O2(mp-12957) + 1.0 Ba(mp-122) + 1.0 TiO2(mp-554278)"
          ],
          [
           "0.5 O2(mp-12957) + 1.0 Ba(mp-122) + 1.0 TiO2(mp-390)"
          ],
          [
           "-0.5 O2(mp-12957) + 1.0 BaO2(mp-1105) + 1.0 TiO2(mp-554278)"
          ],
          [
           "-0.5 O2(mp-12957) + 1.0 BaO2(mp-1105) + 1.0 TiO2(mp-390)"
          ],
          [
           "0.5 Ba(mp-122) + 0.5 BaO2(mp-1105) + 1.0 TiO2(mp-554278)"
          ],
          [
           "0.5 Ba(mp-122) + 0.5 BaO2(mp-1105) + 1.0 TiO2(mp-390)"
          ],
          [
           "1.0 BaO(mp-1342) + -1.0 CO2(mp-20066) + 1.0 TiC(mp-631) + 2.0 O2(mp-12957)"
          ],
          [
           "0.5 Ti(mp-72) + 1.0 BaO2(mp-1105) + 0.5 TiO2(mp-554278)"
          ],
          [
           "0.5 Ti(mp-72) + 1.0 BaO2(mp-1105) + 0.5 TiO2(mp-390)"
          ],
          [
           "0.5 Ti2O3(mp-458) + 0.25 Ba(mp-122) + 0.75 BaO2(mp-1105)"
          ],
          [
           "1.0 Ti(mp-72) + -1.0 CO2(mp-20066) + 1.0 O2(mp-12957) + 1.0 BaCO3(mp-5504)"
          ],
          [
           "1.0 Ti(mp-72) + -1.0 CO2(mp-20066) + 1.0 O2(mp-12957) + 1.0 BaCO3(mp-4559)"
          ],
          [
           "1.0 TiO(mp-1071163) + -1.0 CO2(mp-20066) + 0.5 O2(mp-12957) + 1.0 BaCO3(mp-5504)"
          ],
          [
           "1.0 TiO(mp-1071163) + -1.0 CO2(mp-20066) + 0.5 O2(mp-12957) + 1.0 BaCO3(mp-4559)"
          ],
          [
           "0.4286 Ti2O3(mp-458) + -0.1429 CO2(mp-20066) + 0.1429 TiC(mp-631) + 1.0 BaO2(mp-1105)"
          ],
          [
           "0.5 Ti2O3(mp-458) + -1.0 CO2(mp-20066) + 0.25 O2(mp-12957) + 1.0 BaCO3(mp-5504)"
          ],
          [
           "0.5 Ti2O3(mp-458) + -1.0 CO2(mp-20066) + 0.25 O2(mp-12957) + 1.0 BaCO3(mp-4559)"
          ],
          [
           "0.5 Ti2O3(mp-458) + -0.5 CO2(mp-20066) + 0.5 BaO2(mp-1105) + 0.5 BaCO3(mp-5504)"
          ],
          [
           "0.5 Ti2O3(mp-458) + -0.5 CO2(mp-20066) + 0.5 BaO2(mp-1105) + 0.5 BaCO3(mp-4559)"
          ],
          [
           "-1.0 CO2(mp-20066) + 1.0 TiC(mp-631) + 2.5 O2(mp-12957) + 1.0 Ba(mp-122)"
          ],
          [
           "-1.0 CO2(mp-20066) + 1.0 TiC(mp-631) + 1.5 O2(mp-12957) + 1.0 BaO2(mp-1105)"
          ],
          [
           "-2.0 CO2(mp-20066) + 1.0 TiC(mp-631) + 2.0 O2(mp-12957) + 1.0 BaCO3(mp-5504)"
          ],
          [
           "-2.0 CO2(mp-20066) + 1.0 TiC(mp-631) + 2.0 O2(mp-12957) + 1.0 BaCO3(mp-4559)"
          ],
          [
           "-0.25 CO2(mp-20066) + 0.25 TiC(mp-631) + 1.0 BaO2(mp-1105) + 0.75 TiO2(mp-554278)"
          ],
          [
           "-0.25 CO2(mp-20066) + 0.25 TiC(mp-631) + 1.0 BaO2(mp-1105) + 0.75 TiO2(mp-390)"
          ]
         ],
         "hovertemplate": "exp_precursors=1.0<br>n_competing=%{x}<br>barrier=%{y}<br>summary=%{customdata[0]}<extra></extra>",
         "legendgroup": "1.0",
         "marker": {
          "color": "#EF553B",
          "size": 12,
          "symbol": "circle"
         },
         "mode": "markers",
         "name": "1.0",
         "orientation": "v",
         "showlegend": true,
         "type": "scatter",
         "x": [
          26,
          26,
          8,
          26,
          26,
          26,
          26,
          47,
          46,
          42,
          17,
          24,
          49,
          49,
          47,
          47,
          44,
          44,
          44,
          35,
          36,
          42,
          42,
          49,
          45,
          45,
          20,
          47,
          47,
          46,
          46,
          21,
          42,
          43,
          18,
          18,
          49,
          49,
          49,
          49,
          45,
          45
         ],
         "xaxis": "x",
         "y": [
          0.4917704169143109,
          0.48341286042869835,
          0.1063381048961776,
          1.0519477457374478,
          0.9555030416425216,
          0.7833667077141759,
          0.7179755393384091,
          4.175850377570343,
          0.43030887561334213,
          0.15233983993637862,
          0.13693734817049819,
          0.11113627499688403,
          10.239506125617297,
          0.10399289300334064,
          0.40825903792602,
          0.11760512412583428,
          0.18335696024075687,
          0.2350620347701659,
          0.23480094030107818,
          0.3143947295252396,
          0.3108857590020852,
          0.1529736444691445,
          0.15243140262458402,
          4.050577386749731,
          0.11017261390229718,
          0.11013866108101736,
          0.13880347212376662,
          0.41070481996785846,
          0.30815027994465366,
          0.4246273846682674,
          0.31723567435088673,
          0.14705036421210868,
          0.21558239503544913,
          0.20782791683781293,
          0.19750350282824897,
          0.19441463954405272,
          6.492427303718192,
          0.10786679253671069,
          0.41884233888975225,
          0.31620577718098447,
          0.1507624493084872,
          0.15045685950972368
         ],
         "yaxis": "y"
        },
        {
         "customdata": [
          [
           "0.0741 Ti6O(mp-554098) + 0.1852 Ti3O5(mp-1147) + 1.0 BaO2(mp-1105)"
          ],
          [
           "0.0286 Ti8C5(mp-27919) + 0.2571 Ti3O5(mp-1147) + -0.1429 CO2(mp-20066) + 1.0 BaO2(mp-1105)"
          ],
          [
           "0.1429 Ti3O5(mp-1147) + 0.2857 Ti2O(mp-1215) + 1.0 BaO2(mp-1105)"
          ],
          [
           "0.3333 C(mp-569304) + 0.3333 Ti3O5(mp-1147) + -0.3333 CO2(mp-20066) + 1.0 BaO2(mp-1105)"
          ],
          [
           "0.1667 Ti3O5(mp-1147) + 0.1667 Ti3O(mp-2591) + 1.0 BaO2(mp-1105)"
          ],
          [
           "0.25 Ti3O5(mp-1147) + 0.125 Ti2C(mp-10721) + -0.125 CO2(mp-20066) + 1.0 BaO2(mp-1105)"
          ]
         ],
         "hovertemplate": "exp_precursors=0.3333<br>n_competing=%{x}<br>barrier=%{y}<br>summary=%{customdata[0]}<extra></extra>",
         "legendgroup": "0.3333",
         "marker": {
          "color": "#00cc96",
          "size": 12,
          "symbol": "circle"
         },
         "mode": "markers",
         "name": "0.3333",
         "orientation": "v",
         "showlegend": true,
         "type": "scatter",
         "x": [
          28,
          33,
          27,
          31,
          27,
          32
         ],
         "xaxis": "x",
         "y": [
          0.13664325105121594,
          0.14710817354020958,
          0.13974685391772632,
          0.14407972552839646,
          0.13895476074994395,
          0.1457632161303875
         ],
         "yaxis": "y"
        },
        {
         "customdata": [
          [
           "0.0625 Ti6O(mp-554098) + 0.3125 Ti2O3(mp-458) + 1.0 BaO2(mp-1105)"
          ],
          [
           "0.0909 Ti6O(mp-554098) + 1.0 BaO2(mp-1105) + 0.4545 TiO2(mp-554278)"
          ],
          [
           "0.0909 Ti6O(mp-554098) + 1.0 BaO2(mp-1105) + 0.4545 TiO2(mp-390)"
          ],
          [
           "0.6667 BaO(mp-1342) + 0.3333 Ti3O5(mp-1147) + 0.3333 BaO2(mp-1105)"
          ],
          [
           "0.0227 Ti8C5(mp-27919) + 0.4091 Ti2O3(mp-458) + -0.1136 CO2(mp-20066) + 1.0 BaO2(mp-1105)"
          ],
          [
           "0.3333 Ti2O(mp-1215) + 1.0 BaO2(mp-1105) + 0.3333 TiO2(mp-554278)"
          ],
          [
           "0.3333 Ti2O(mp-1215) + 1.0 BaO2(mp-1105) + 0.3333 TiO2(mp-390)"
          ],
          [
           "0.0385 Ti8C5(mp-27919) + -0.1923 CO2(mp-20066) + 1.0 BaO2(mp-1105) + 0.6923 TiO2(mp-554278)"
          ],
          [
           "0.0385 Ti8C5(mp-27919) + -0.1923 CO2(mp-20066) + 1.0 BaO2(mp-1105) + 0.6923 TiO2(mp-390)"
          ],
          [
           "0.2 Ti3O(mp-2591) + 1.0 BaO2(mp-1105) + 0.4 TiO2(mp-554278)"
          ],
          [
           "0.2 Ti3O(mp-2591) + 1.0 BaO2(mp-1105) + 0.4 TiO2(mp-390)"
          ],
          [
           "0.2 Ti3O5(mp-1147) + 0.4 Ti(mp-72) + 1.0 BaO2(mp-1105)"
          ],
          [
           "0.3333 Ti3O5(mp-1147) + 0.3333 Ba(mp-122) + 0.6667 BaO2(mp-1105)"
          ],
          [
           "0.25 Ti2O3(mp-458) + 0.25 Ti2O(mp-1215) + 1.0 BaO2(mp-1105)"
          ],
          [
           "0.25 C(mp-569304) + 0.5 Ti2O3(mp-458) + -0.25 CO2(mp-20066) + 1.0 BaO2(mp-1105)"
          ],
          [
           "0.2857 Ti2O3(mp-458) + 0.1429 Ti3O(mp-2591) + 1.0 BaO2(mp-1105)"
          ],
          [
           "0.5 C(mp-569304) + -0.5 CO2(mp-20066) + 1.0 BaO2(mp-1105) + 1.0 TiO2(mp-554278)"
          ],
          [
           "0.5 C(mp-569304) + -0.5 CO2(mp-20066) + 1.0 BaO2(mp-1105) + 1.0 TiO2(mp-390)"
          ],
          [
           "0.2727 Ti3O5(mp-1147) + -0.1818 CO2(mp-20066) + 0.1818 TiC(mp-631) + 1.0 BaO2(mp-1105)"
          ],
          [
           "0.3333 Ti3O5(mp-1147) + -0.6667 CO2(mp-20066) + 0.3333 BaO2(mp-1105) + 0.6667 BaCO3(mp-5504)"
          ],
          [
           "0.3333 Ti3O5(mp-1147) + -0.6667 CO2(mp-20066) + 0.3333 BaO2(mp-1105) + 0.6667 BaCO3(mp-4559)"
          ],
          [
           "0.1 Ti2C(mp-10721) + 0.4 Ti2O3(mp-458) + -0.1 CO2(mp-20066) + 1.0 BaO2(mp-1105)"
          ],
          [
           "0.1667 Ti2C(mp-10721) + -0.1667 CO2(mp-20066) + 1.0 BaO2(mp-1105) + 0.6667 TiO2(mp-554278)"
          ],
          [
           "0.1667 Ti2C(mp-10721) + -0.1667 CO2(mp-20066) + 1.0 BaO2(mp-1105) + 0.6667 TiO2(mp-390)"
          ]
         ],
         "hovertemplate": "exp_precursors=0.6667<br>n_competing=%{x}<br>barrier=%{y}<br>summary=%{customdata[0]}<extra></extra>",
         "legendgroup": "0.6667",
         "marker": {
          "color": "#ab63fa",
          "size": 12,
          "symbol": "circle"
         },
         "mode": "markers",
         "name": "0.6667",
         "orientation": "v",
         "showlegend": true,
         "type": "scatter",
         "x": [
          18,
          42,
          42,
          25,
          26,
          41,
          41,
          46,
          46,
          41,
          41,
          31,
          30,
          16,
          20,
          16,
          44,
          44,
          31,
          25,
          26,
          26,
          46,
          46
         ],
         "xaxis": "x",
         "y": [
          0.1376416811003394,
          0.1350397074424502,
          0.1349313617708473,
          0.15715913887720545,
          0.14517328813240943,
          0.1387253777274484,
          0.13863462950302952,
          0.1472088786072467,
          0.146955765861774,
          0.13762122406227226,
          0.13751698374389879,
          0.1107484885293343,
          0.14294003591141224,
          0.13897239931071906,
          0.14281356971871526,
          0.1383981364941513,
          0.1464308779668572,
          0.14604536214356778,
          0.1496389641622578,
          0.24362226763751288,
          0.23649753766053735,
          0.14414319460261277,
          0.14541919815237406,
          0.14518913650480475
         ],
         "yaxis": "y"
        }
       ],
       "layout": {
        "legend": {
         "title": {
          "text": "exp_precursors"
         },
         "tracegroupgap": 0
        },
        "margin": {
         "t": 60
        },
        "template": {
         "data": {
          "bar": [
           {
            "error_x": {
             "color": "#2a3f5f"
            },
            "error_y": {
             "color": "#2a3f5f"
            },
            "marker": {
             "line": {
              "color": "#E5ECF6",
              "width": 0.5
             }
            },
            "type": "bar"
           }
          ],
          "barpolar": [
           {
            "marker": {
             "line": {
              "color": "#E5ECF6",
              "width": 0.5
             }
            },
            "type": "barpolar"
           }
          ],
          "carpet": [
           {
            "aaxis": {
             "endlinecolor": "#2a3f5f",
             "gridcolor": "white",
             "linecolor": "white",
             "minorgridcolor": "white",
             "startlinecolor": "#2a3f5f"
            },
            "baxis": {
             "endlinecolor": "#2a3f5f",
             "gridcolor": "white",
             "linecolor": "white",
             "minorgridcolor": "white",
             "startlinecolor": "#2a3f5f"
            },
            "type": "carpet"
           }
          ],
          "choropleth": [
           {
            "colorbar": {
             "outlinewidth": 0,
             "ticks": ""
            },
            "type": "choropleth"
           }
          ],
          "contour": [
           {
            "colorbar": {
             "outlinewidth": 0,
             "ticks": ""
            },
            "colorscale": [
             [
              0,
              "#0d0887"
             ],
             [
              0.1111111111111111,
              "#46039f"
             ],
             [
              0.2222222222222222,
              "#7201a8"
             ],
             [
              0.3333333333333333,
              "#9c179e"
             ],
             [
              0.4444444444444444,
              "#bd3786"
             ],
             [
              0.5555555555555556,
              "#d8576b"
             ],
             [
              0.6666666666666666,
              "#ed7953"
             ],
             [
              0.7777777777777778,
              "#fb9f3a"
             ],
             [
              0.8888888888888888,
              "#fdca26"
             ],
             [
              1,
              "#f0f921"
             ]
            ],
            "type": "contour"
           }
          ],
          "contourcarpet": [
           {
            "colorbar": {
             "outlinewidth": 0,
             "ticks": ""
            },
            "type": "contourcarpet"
           }
          ],
          "heatmap": [
           {
            "colorbar": {
             "outlinewidth": 0,
             "ticks": ""
            },
            "colorscale": [
             [
              0,
              "#0d0887"
             ],
             [
              0.1111111111111111,
              "#46039f"
             ],
             [
              0.2222222222222222,
              "#7201a8"
             ],
             [
              0.3333333333333333,
              "#9c179e"
             ],
             [
              0.4444444444444444,
              "#bd3786"
             ],
             [
              0.5555555555555556,
              "#d8576b"
             ],
             [
              0.6666666666666666,
              "#ed7953"
             ],
             [
              0.7777777777777778,
              "#fb9f3a"
             ],
             [
              0.8888888888888888,
              "#fdca26"
             ],
             [
              1,
              "#f0f921"
             ]
            ],
            "type": "heatmap"
           }
          ],
          "heatmapgl": [
           {
            "colorbar": {
             "outlinewidth": 0,
             "ticks": ""
            },
            "colorscale": [
             [
              0,
              "#0d0887"
             ],
             [
              0.1111111111111111,
              "#46039f"
             ],
             [
              0.2222222222222222,
              "#7201a8"
             ],
             [
              0.3333333333333333,
              "#9c179e"
             ],
             [
              0.4444444444444444,
              "#bd3786"
             ],
             [
              0.5555555555555556,
              "#d8576b"
             ],
             [
              0.6666666666666666,
              "#ed7953"
             ],
             [
              0.7777777777777778,
              "#fb9f3a"
             ],
             [
              0.8888888888888888,
              "#fdca26"
             ],
             [
              1,
              "#f0f921"
             ]
            ],
            "type": "heatmapgl"
           }
          ],
          "histogram": [
           {
            "marker": {
             "colorbar": {
              "outlinewidth": 0,
              "ticks": ""
             }
            },
            "type": "histogram"
           }
          ],
          "histogram2d": [
           {
            "colorbar": {
             "outlinewidth": 0,
             "ticks": ""
            },
            "colorscale": [
             [
              0,
              "#0d0887"
             ],
             [
              0.1111111111111111,
              "#46039f"
             ],
             [
              0.2222222222222222,
              "#7201a8"
             ],
             [
              0.3333333333333333,
              "#9c179e"
             ],
             [
              0.4444444444444444,
              "#bd3786"
             ],
             [
              0.5555555555555556,
              "#d8576b"
             ],
             [
              0.6666666666666666,
              "#ed7953"
             ],
             [
              0.7777777777777778,
              "#fb9f3a"
             ],
             [
              0.8888888888888888,
              "#fdca26"
             ],
             [
              1,
              "#f0f921"
             ]
            ],
            "type": "histogram2d"
           }
          ],
          "histogram2dcontour": [
           {
            "colorbar": {
             "outlinewidth": 0,
             "ticks": ""
            },
            "colorscale": [
             [
              0,
              "#0d0887"
             ],
             [
              0.1111111111111111,
              "#46039f"
             ],
             [
              0.2222222222222222,
              "#7201a8"
             ],
             [
              0.3333333333333333,
              "#9c179e"
             ],
             [
              0.4444444444444444,
              "#bd3786"
             ],
             [
              0.5555555555555556,
              "#d8576b"
             ],
             [
              0.6666666666666666,
              "#ed7953"
             ],
             [
              0.7777777777777778,
              "#fb9f3a"
             ],
             [
              0.8888888888888888,
              "#fdca26"
             ],
             [
              1,
              "#f0f921"
             ]
            ],
            "type": "histogram2dcontour"
           }
          ],
          "mesh3d": [
           {
            "colorbar": {
             "outlinewidth": 0,
             "ticks": ""
            },
            "type": "mesh3d"
           }
          ],
          "parcoords": [
           {
            "line": {
             "colorbar": {
              "outlinewidth": 0,
              "ticks": ""
             }
            },
            "type": "parcoords"
           }
          ],
          "pie": [
           {
            "automargin": true,
            "type": "pie"
           }
          ],
          "scatter": [
           {
            "marker": {
             "colorbar": {
              "outlinewidth": 0,
              "ticks": ""
             }
            },
            "type": "scatter"
           }
          ],
          "scatter3d": [
           {
            "line": {
             "colorbar": {
              "outlinewidth": 0,
              "ticks": ""
             }
            },
            "marker": {
             "colorbar": {
              "outlinewidth": 0,
              "ticks": ""
             }
            },
            "type": "scatter3d"
           }
          ],
          "scattercarpet": [
           {
            "marker": {
             "colorbar": {
              "outlinewidth": 0,
              "ticks": ""
             }
            },
            "type": "scattercarpet"
           }
          ],
          "scattergeo": [
           {
            "marker": {
             "colorbar": {
              "outlinewidth": 0,
              "ticks": ""
             }
            },
            "type": "scattergeo"
           }
          ],
          "scattergl": [
           {
            "marker": {
             "colorbar": {
              "outlinewidth": 0,
              "ticks": ""
             }
            },
            "type": "scattergl"
           }
          ],
          "scattermapbox": [
           {
            "marker": {
             "colorbar": {
              "outlinewidth": 0,
              "ticks": ""
             }
            },
            "type": "scattermapbox"
           }
          ],
          "scatterpolar": [
           {
            "marker": {
             "colorbar": {
              "outlinewidth": 0,
              "ticks": ""
             }
            },
            "type": "scatterpolar"
           }
          ],
          "scatterpolargl": [
           {
            "marker": {
             "colorbar": {
              "outlinewidth": 0,
              "ticks": ""
             }
            },
            "type": "scatterpolargl"
           }
          ],
          "scatterternary": [
           {
            "marker": {
             "colorbar": {
              "outlinewidth": 0,
              "ticks": ""
             }
            },
            "type": "scatterternary"
           }
          ],
          "surface": [
           {
            "colorbar": {
             "outlinewidth": 0,
             "ticks": ""
            },
            "colorscale": [
             [
              0,
              "#0d0887"
             ],
             [
              0.1111111111111111,
              "#46039f"
             ],
             [
              0.2222222222222222,
              "#7201a8"
             ],
             [
              0.3333333333333333,
              "#9c179e"
             ],
             [
              0.4444444444444444,
              "#bd3786"
             ],
             [
              0.5555555555555556,
              "#d8576b"
             ],
             [
              0.6666666666666666,
              "#ed7953"
             ],
             [
              0.7777777777777778,
              "#fb9f3a"
             ],
             [
              0.8888888888888888,
              "#fdca26"
             ],
             [
              1,
              "#f0f921"
             ]
            ],
            "type": "surface"
           }
          ],
          "table": [
           {
            "cells": {
             "fill": {
              "color": "#EBF0F8"
             },
             "line": {
              "color": "white"
             }
            },
            "header": {
             "fill": {
              "color": "#C8D4E3"
             },
             "line": {
              "color": "white"
             }
            },
            "type": "table"
           }
          ]
         },
         "layout": {
          "annotationdefaults": {
           "arrowcolor": "#2a3f5f",
           "arrowhead": 0,
           "arrowwidth": 1
          },
          "coloraxis": {
           "colorbar": {
            "outlinewidth": 0,
            "ticks": ""
           }
          },
          "colorscale": {
           "diverging": [
            [
             0,
             "#8e0152"
            ],
            [
             0.1,
             "#c51b7d"
            ],
            [
             0.2,
             "#de77ae"
            ],
            [
             0.3,
             "#f1b6da"
            ],
            [
             0.4,
             "#fde0ef"
            ],
            [
             0.5,
             "#f7f7f7"
            ],
            [
             0.6,
             "#e6f5d0"
            ],
            [
             0.7,
             "#b8e186"
            ],
            [
             0.8,
             "#7fbc41"
            ],
            [
             0.9,
             "#4d9221"
            ],
            [
             1,
             "#276419"
            ]
           ],
           "sequential": [
            [
             0,
             "#0d0887"
            ],
            [
             0.1111111111111111,
             "#46039f"
            ],
            [
             0.2222222222222222,
             "#7201a8"
            ],
            [
             0.3333333333333333,
             "#9c179e"
            ],
            [
             0.4444444444444444,
             "#bd3786"
            ],
            [
             0.5555555555555556,
             "#d8576b"
            ],
            [
             0.6666666666666666,
             "#ed7953"
            ],
            [
             0.7777777777777778,
             "#fb9f3a"
            ],
            [
             0.8888888888888888,
             "#fdca26"
            ],
            [
             1,
             "#f0f921"
            ]
           ],
           "sequentialminus": [
            [
             0,
             "#0d0887"
            ],
            [
             0.1111111111111111,
             "#46039f"
            ],
            [
             0.2222222222222222,
             "#7201a8"
            ],
            [
             0.3333333333333333,
             "#9c179e"
            ],
            [
             0.4444444444444444,
             "#bd3786"
            ],
            [
             0.5555555555555556,
             "#d8576b"
            ],
            [
             0.6666666666666666,
             "#ed7953"
            ],
            [
             0.7777777777777778,
             "#fb9f3a"
            ],
            [
             0.8888888888888888,
             "#fdca26"
            ],
            [
             1,
             "#f0f921"
            ]
           ]
          },
          "colorway": [
           "#636efa",
           "#EF553B",
           "#00cc96",
           "#ab63fa",
           "#FFA15A",
           "#19d3f3",
           "#FF6692",
           "#B6E880",
           "#FF97FF",
           "#FECB52"
          ],
          "font": {
           "color": "#2a3f5f"
          },
          "geo": {
           "bgcolor": "white",
           "lakecolor": "white",
           "landcolor": "#E5ECF6",
           "showlakes": true,
           "showland": true,
           "subunitcolor": "white"
          },
          "hoverlabel": {
           "align": "left"
          },
          "hovermode": "closest",
          "mapbox": {
           "style": "light"
          },
          "paper_bgcolor": "white",
          "plot_bgcolor": "#E5ECF6",
          "polar": {
           "angularaxis": {
            "gridcolor": "white",
            "linecolor": "white",
            "ticks": ""
           },
           "bgcolor": "#E5ECF6",
           "radialaxis": {
            "gridcolor": "white",
            "linecolor": "white",
            "ticks": ""
           }
          },
          "scene": {
           "xaxis": {
            "backgroundcolor": "#E5ECF6",
            "gridcolor": "white",
            "gridwidth": 2,
            "linecolor": "white",
            "showbackground": true,
            "ticks": "",
            "zerolinecolor": "white"
           },
           "yaxis": {
            "backgroundcolor": "#E5ECF6",
            "gridcolor": "white",
            "gridwidth": 2,
            "linecolor": "white",
            "showbackground": true,
            "ticks": "",
            "zerolinecolor": "white"
           },
           "zaxis": {
            "backgroundcolor": "#E5ECF6",
            "gridcolor": "white",
            "gridwidth": 2,
            "linecolor": "white",
            "showbackground": true,
            "ticks": "",
            "zerolinecolor": "white"
           }
          },
          "shapedefaults": {
           "line": {
            "color": "#2a3f5f"
           }
          },
          "ternary": {
           "aaxis": {
            "gridcolor": "white",
            "linecolor": "white",
            "ticks": ""
           },
           "baxis": {
            "gridcolor": "white",
            "linecolor": "white",
            "ticks": ""
           },
           "bgcolor": "#E5ECF6",
           "caxis": {
            "gridcolor": "white",
            "linecolor": "white",
            "ticks": ""
           }
          },
          "title": {
           "x": 0.05
          },
          "xaxis": {
           "automargin": true,
           "gridcolor": "white",
           "linecolor": "white",
           "ticks": "",
           "title": {
            "standoff": 15
           },
           "zerolinecolor": "white",
           "zerolinewidth": 2
          },
          "yaxis": {
           "automargin": true,
           "gridcolor": "white",
           "linecolor": "white",
           "ticks": "",
           "title": {
            "standoff": 15
           },
           "zerolinecolor": "white",
           "zerolinewidth": 2
          }
         }
        },
        "title": {
         "text": "Synthesis target: BaTiO3"
        },
        "xaxis": {
         "anchor": "y",
         "domain": [
          0,
          1
         ],
         "title": {
          "text": "Competing products metric (a.u.)"
         }
        },
        "yaxis": {
         "anchor": "x",
         "domain": [
          0,
          1
         ],
         "title": {
          "text": "Barrier (a.u.)"
         }
        }
       }
      },
      "text/html": [
       "<div>\n",
       "        \n",
       "        \n",
       "            <div id=\"7ed6041a-ada9-42d4-86ab-7690e8eb2ca4\" class=\"plotly-graph-div\" style=\"height:525px; width:100%;\"></div>\n",
       "            <script type=\"text/javascript\">\n",
       "                require([\"plotly\"], function(Plotly) {\n",
       "                    window.PLOTLYENV=window.PLOTLYENV || {};\n",
       "                    \n",
       "                if (document.getElementById(\"7ed6041a-ada9-42d4-86ab-7690e8eb2ca4\")) {\n",
       "                    Plotly.newPlot(\n",
       "                        '7ed6041a-ada9-42d4-86ab-7690e8eb2ca4',\n",
       "                        [{\"customdata\": [[\"0.1667 Ti6O(mp-554098) + 1.0 BaO(mp-1342) + 0.9167 O2(mp-12957)\"], [\"0.1667 Ti6O(mp-554098) + 1.4167 O2(mp-12957) + 1.0 Ba(mp-122)\"], [\"0.1667 Ti6O(mp-554098) + 0.4167 O2(mp-12957) + 1.0 BaO2(mp-1105)\"], [\"0.1667 Ti6O(mp-554098) + -1.0 CO2(mp-20066) + 0.9167 O2(mp-12957) + 1.0 BaCO3(mp-5504)\"], [\"0.1667 Ti6O(mp-554098) + -1.0 CO2(mp-20066) + 0.9167 O2(mp-12957) + 1.0 BaCO3(mp-4559)\"], [\"1.0 BaO(mp-1342) + 0.3333 Ti3O5(mp-1147) + 0.1667 O2(mp-12957)\"], [\"1.0 BaO(mp-1342) + 0.5 Ti2O(mp-1215) + 0.75 O2(mp-12957)\"], [\"0.125 Ti8C5(mp-27919) + 1.0 BaO(mp-1342) + -0.625 CO2(mp-20066) + 1.625 O2(mp-12957)\"], [\"1.0 BaO(mp-1342) + 0.3333 Ti3O(mp-2591) + 0.8333 O2(mp-12957)\"], [\"0.5 Ti2O(mp-1215) + 1.25 O2(mp-12957) + 1.0 Ba(mp-122)\"], [\"0.5 Ti2O(mp-1215) + 0.25 O2(mp-12957) + 1.0 BaO2(mp-1105)\"], [\"0.125 Ti8C5(mp-27919) + -0.625 CO2(mp-20066) + 2.125 O2(mp-12957) + 1.0 Ba(mp-122)\"], [\"0.125 Ti8C5(mp-27919) + -0.625 CO2(mp-20066) + 1.125 O2(mp-12957) + 1.0 BaO2(mp-1105)\"], [\"0.125 Ti8C5(mp-27919) + -1.625 CO2(mp-20066) + 1.625 O2(mp-12957) + 1.0 BaCO3(mp-5504)\"], [\"0.125 Ti8C5(mp-27919) + -1.625 CO2(mp-20066) + 1.625 O2(mp-12957) + 1.0 BaCO3(mp-4559)\"], [\"0.3333 Ti3O(mp-2591) + 1.3333 O2(mp-12957) + 1.0 Ba(mp-122)\"], [\"0.3333 Ti3O(mp-2591) + 0.3333 O2(mp-12957) + 1.0 BaO2(mp-1105)\"], [\"1.0 BaO(mp-1342) + 0.5 Ti2C(mp-10721) + -0.5 CO2(mp-20066) + 1.5 O2(mp-12957)\"], [\"0.3333 Ti3O5(mp-1147) + 0.6667 O2(mp-12957) + 1.0 Ba(mp-122)\"], [\"0.3333 Ti3O5(mp-1147) + -0.3333 O2(mp-12957) + 1.0 BaO2(mp-1105)\"], [\"0.3333 Ti3O5(mp-1147) + -1.0 CO2(mp-20066) + 0.1667 O2(mp-12957) + 1.0 BaCO3(mp-5504)\"], [\"0.3333 Ti3O5(mp-1147) + -1.0 CO2(mp-20066) + 0.1667 O2(mp-12957) + 1.0 BaCO3(mp-4559)\"], [\"0.5 Ti2C(mp-10721) + -0.5 CO2(mp-20066) + 2.0 O2(mp-12957) + 1.0 Ba(mp-122)\"], [\"0.5 Ti2C(mp-10721) + -0.5 CO2(mp-20066) + 1.0 O2(mp-12957) + 1.0 BaO2(mp-1105)\"], [\"0.5 Ti2C(mp-10721) + -1.5 CO2(mp-20066) + 1.5 O2(mp-12957) + 1.0 BaCO3(mp-5504)\"], [\"0.5 Ti2C(mp-10721) + -1.5 CO2(mp-20066) + 1.5 O2(mp-12957) + 1.0 BaCO3(mp-4559)\"], [\"0.5 Ti2O(mp-1215) + -1.0 CO2(mp-20066) + 0.75 O2(mp-12957) + 1.0 BaCO3(mp-5504)\"], [\"0.5 Ti2O(mp-1215) + -1.0 CO2(mp-20066) + 0.75 O2(mp-12957) + 1.0 BaCO3(mp-4559)\"], [\"-1.0 CO2(mp-20066) + 0.3333 Ti3O(mp-2591) + 0.8333 O2(mp-12957) + 1.0 BaCO3(mp-5504)\"], [\"-1.0 CO2(mp-20066) + 0.3333 Ti3O(mp-2591) + 0.8333 O2(mp-12957) + 1.0 BaCO3(mp-4559)\"]], \"hovertemplate\": \"exp_precursors=0.5<br>n_competing=%{x}<br>barrier=%{y}<br>summary=%{customdata[0]}<extra></extra>\", \"legendgroup\": \"0.5\", \"marker\": {\"color\": \"#636efa\", \"size\": 12, \"symbol\": \"circle\"}, \"mode\": \"markers\", \"name\": \"0.5\", \"orientation\": \"v\", \"showlegend\": true, \"type\": \"scatter\", \"x\": [47, 49, 47, 47, 47, 39, 47, 49, 47, 49, 47, 49, 49, 49, 49, 49, 47, 49, 46, 43, 41, 42, 49, 49, 49, 49, 47, 47, 47, 47], \"xaxis\": \"x\", \"y\": [2.8870471809363374, 2.793401366321558, 0.11577370753984974, 0.4301137008497032, 0.3250669992731102, 0.3044579069329443, 0.7414439095005358, 3.4460563434648215, 1.2673753802684389, 0.7224101274329413, 0.1233615577086658, 3.385063659440515, 0.10980565706459124, 0.4345753529994566, 0.32973585188080673, 1.2354382422411163, 0.11954470673640073, 3.673394694930927, 0.22553838725795847, 0.21258345337100956, 0.47699474876404957, 0.45544603260162075, 3.598227312679868, 0.1105036037621817, 0.4371752421268244, 0.3319470010034043, 0.450827231318818, 0.3425419009063361, 0.47205323202494476, 0.361393269466707], \"yaxis\": \"y\"}, {\"customdata\": [[\"1.0 BaO(mp-1342) + 1.0 TiO2(mp-554278)\"], [\"1.0 BaO(mp-1342) + 1.0 TiO2(mp-390)\"], [\"1.0 TiO(mp-1071163) + 1.0 BaO2(mp-1105)\"], [\"-1.0 CO2(mp-20066) + 1.0 TiO2(mp-554278) + 1.0 BaCO3(mp-5504)\"], [\"-1.0 CO2(mp-20066) + 1.0 TiO2(mp-554278) + 1.0 BaCO3(mp-4559)\"], [\"-1.0 CO2(mp-20066) + 1.0 BaCO3(mp-5504) + 1.0 TiO2(mp-390)\"], [\"-1.0 CO2(mp-20066) + 1.0 TiO2(mp-390) + 1.0 BaCO3(mp-4559)\"], [\"1.0 BaO(mp-1342) + 1.0 Ti(mp-72) + 1.0 O2(mp-12957)\"], [\"1.0 BaO(mp-1342) + 1.0 TiO(mp-1071163) + 0.5 O2(mp-12957)\"], [\"1.0 BaO(mp-1342) + 0.5 Ti2O3(mp-458) + 0.25 O2(mp-12957)\"], [\"0.5 BaO(mp-1342) + 0.5 Ti2O3(mp-458) + 0.5 BaO2(mp-1105)\"], [\"0.3333 Ti(mp-72) + 0.3333 Ti2O3(mp-458) + 1.0 BaO2(mp-1105)\"], [\"1.0 Ti(mp-72) + 1.5 O2(mp-12957) + 1.0 Ba(mp-122)\"], [\"1.0 Ti(mp-72) + 0.5 O2(mp-12957) + 1.0 BaO2(mp-1105)\"], [\"1.0 TiO(mp-1071163) + 1.0 O2(mp-12957) + 1.0 Ba(mp-122)\"], [\"0.5 Ti2O3(mp-458) + 0.75 O2(mp-12957) + 1.0 Ba(mp-122)\"], [\"0.5 Ti2O3(mp-458) + -0.25 O2(mp-12957) + 1.0 BaO2(mp-1105)\"], [\"0.5 O2(mp-12957) + 1.0 Ba(mp-122) + 1.0 TiO2(mp-554278)\"], [\"0.5 O2(mp-12957) + 1.0 Ba(mp-122) + 1.0 TiO2(mp-390)\"], [\"-0.5 O2(mp-12957) + 1.0 BaO2(mp-1105) + 1.0 TiO2(mp-554278)\"], [\"-0.5 O2(mp-12957) + 1.0 BaO2(mp-1105) + 1.0 TiO2(mp-390)\"], [\"0.5 Ba(mp-122) + 0.5 BaO2(mp-1105) + 1.0 TiO2(mp-554278)\"], [\"0.5 Ba(mp-122) + 0.5 BaO2(mp-1105) + 1.0 TiO2(mp-390)\"], [\"1.0 BaO(mp-1342) + -1.0 CO2(mp-20066) + 1.0 TiC(mp-631) + 2.0 O2(mp-12957)\"], [\"0.5 Ti(mp-72) + 1.0 BaO2(mp-1105) + 0.5 TiO2(mp-554278)\"], [\"0.5 Ti(mp-72) + 1.0 BaO2(mp-1105) + 0.5 TiO2(mp-390)\"], [\"0.5 Ti2O3(mp-458) + 0.25 Ba(mp-122) + 0.75 BaO2(mp-1105)\"], [\"1.0 Ti(mp-72) + -1.0 CO2(mp-20066) + 1.0 O2(mp-12957) + 1.0 BaCO3(mp-5504)\"], [\"1.0 Ti(mp-72) + -1.0 CO2(mp-20066) + 1.0 O2(mp-12957) + 1.0 BaCO3(mp-4559)\"], [\"1.0 TiO(mp-1071163) + -1.0 CO2(mp-20066) + 0.5 O2(mp-12957) + 1.0 BaCO3(mp-5504)\"], [\"1.0 TiO(mp-1071163) + -1.0 CO2(mp-20066) + 0.5 O2(mp-12957) + 1.0 BaCO3(mp-4559)\"], [\"0.4286 Ti2O3(mp-458) + -0.1429 CO2(mp-20066) + 0.1429 TiC(mp-631) + 1.0 BaO2(mp-1105)\"], [\"0.5 Ti2O3(mp-458) + -1.0 CO2(mp-20066) + 0.25 O2(mp-12957) + 1.0 BaCO3(mp-5504)\"], [\"0.5 Ti2O3(mp-458) + -1.0 CO2(mp-20066) + 0.25 O2(mp-12957) + 1.0 BaCO3(mp-4559)\"], [\"0.5 Ti2O3(mp-458) + -0.5 CO2(mp-20066) + 0.5 BaO2(mp-1105) + 0.5 BaCO3(mp-5504)\"], [\"0.5 Ti2O3(mp-458) + -0.5 CO2(mp-20066) + 0.5 BaO2(mp-1105) + 0.5 BaCO3(mp-4559)\"], [\"-1.0 CO2(mp-20066) + 1.0 TiC(mp-631) + 2.5 O2(mp-12957) + 1.0 Ba(mp-122)\"], [\"-1.0 CO2(mp-20066) + 1.0 TiC(mp-631) + 1.5 O2(mp-12957) + 1.0 BaO2(mp-1105)\"], [\"-2.0 CO2(mp-20066) + 1.0 TiC(mp-631) + 2.0 O2(mp-12957) + 1.0 BaCO3(mp-5504)\"], [\"-2.0 CO2(mp-20066) + 1.0 TiC(mp-631) + 2.0 O2(mp-12957) + 1.0 BaCO3(mp-4559)\"], [\"-0.25 CO2(mp-20066) + 0.25 TiC(mp-631) + 1.0 BaO2(mp-1105) + 0.75 TiO2(mp-554278)\"], [\"-0.25 CO2(mp-20066) + 0.25 TiC(mp-631) + 1.0 BaO2(mp-1105) + 0.75 TiO2(mp-390)\"]], \"hovertemplate\": \"exp_precursors=1.0<br>n_competing=%{x}<br>barrier=%{y}<br>summary=%{customdata[0]}<extra></extra>\", \"legendgroup\": \"1.0\", \"marker\": {\"color\": \"#EF553B\", \"size\": 12, \"symbol\": \"circle\"}, \"mode\": \"markers\", \"name\": \"1.0\", \"orientation\": \"v\", \"showlegend\": true, \"type\": \"scatter\", \"x\": [26, 26, 8, 26, 26, 26, 26, 47, 46, 42, 17, 24, 49, 49, 47, 47, 44, 44, 44, 35, 36, 42, 42, 49, 45, 45, 20, 47, 47, 46, 46, 21, 42, 43, 18, 18, 49, 49, 49, 49, 45, 45], \"xaxis\": \"x\", \"y\": [0.4917704169143109, 0.48341286042869835, 0.1063381048961776, 1.0519477457374478, 0.9555030416425216, 0.7833667077141759, 0.7179755393384091, 4.175850377570343, 0.43030887561334213, 0.15233983993637862, 0.13693734817049819, 0.11113627499688403, 10.239506125617297, 0.10399289300334064, 0.40825903792602, 0.11760512412583428, 0.18335696024075687, 0.2350620347701659, 0.23480094030107818, 0.3143947295252396, 0.3108857590020852, 0.1529736444691445, 0.15243140262458402, 4.050577386749731, 0.11017261390229718, 0.11013866108101736, 0.13880347212376662, 0.41070481996785846, 0.30815027994465366, 0.4246273846682674, 0.31723567435088673, 0.14705036421210868, 0.21558239503544913, 0.20782791683781293, 0.19750350282824897, 0.19441463954405272, 6.492427303718192, 0.10786679253671069, 0.41884233888975225, 0.31620577718098447, 0.1507624493084872, 0.15045685950972368], \"yaxis\": \"y\"}, {\"customdata\": [[\"0.0741 Ti6O(mp-554098) + 0.1852 Ti3O5(mp-1147) + 1.0 BaO2(mp-1105)\"], [\"0.0286 Ti8C5(mp-27919) + 0.2571 Ti3O5(mp-1147) + -0.1429 CO2(mp-20066) + 1.0 BaO2(mp-1105)\"], [\"0.1429 Ti3O5(mp-1147) + 0.2857 Ti2O(mp-1215) + 1.0 BaO2(mp-1105)\"], [\"0.3333 C(mp-569304) + 0.3333 Ti3O5(mp-1147) + -0.3333 CO2(mp-20066) + 1.0 BaO2(mp-1105)\"], [\"0.1667 Ti3O5(mp-1147) + 0.1667 Ti3O(mp-2591) + 1.0 BaO2(mp-1105)\"], [\"0.25 Ti3O5(mp-1147) + 0.125 Ti2C(mp-10721) + -0.125 CO2(mp-20066) + 1.0 BaO2(mp-1105)\"]], \"hovertemplate\": \"exp_precursors=0.3333<br>n_competing=%{x}<br>barrier=%{y}<br>summary=%{customdata[0]}<extra></extra>\", \"legendgroup\": \"0.3333\", \"marker\": {\"color\": \"#00cc96\", \"size\": 12, \"symbol\": \"circle\"}, \"mode\": \"markers\", \"name\": \"0.3333\", \"orientation\": \"v\", \"showlegend\": true, \"type\": \"scatter\", \"x\": [28, 33, 27, 31, 27, 32], \"xaxis\": \"x\", \"y\": [0.13664325105121594, 0.14710817354020958, 0.13974685391772632, 0.14407972552839646, 0.13895476074994395, 0.1457632161303875], \"yaxis\": \"y\"}, {\"customdata\": [[\"0.0625 Ti6O(mp-554098) + 0.3125 Ti2O3(mp-458) + 1.0 BaO2(mp-1105)\"], [\"0.0909 Ti6O(mp-554098) + 1.0 BaO2(mp-1105) + 0.4545 TiO2(mp-554278)\"], [\"0.0909 Ti6O(mp-554098) + 1.0 BaO2(mp-1105) + 0.4545 TiO2(mp-390)\"], [\"0.6667 BaO(mp-1342) + 0.3333 Ti3O5(mp-1147) + 0.3333 BaO2(mp-1105)\"], [\"0.0227 Ti8C5(mp-27919) + 0.4091 Ti2O3(mp-458) + -0.1136 CO2(mp-20066) + 1.0 BaO2(mp-1105)\"], [\"0.3333 Ti2O(mp-1215) + 1.0 BaO2(mp-1105) + 0.3333 TiO2(mp-554278)\"], [\"0.3333 Ti2O(mp-1215) + 1.0 BaO2(mp-1105) + 0.3333 TiO2(mp-390)\"], [\"0.0385 Ti8C5(mp-27919) + -0.1923 CO2(mp-20066) + 1.0 BaO2(mp-1105) + 0.6923 TiO2(mp-554278)\"], [\"0.0385 Ti8C5(mp-27919) + -0.1923 CO2(mp-20066) + 1.0 BaO2(mp-1105) + 0.6923 TiO2(mp-390)\"], [\"0.2 Ti3O(mp-2591) + 1.0 BaO2(mp-1105) + 0.4 TiO2(mp-554278)\"], [\"0.2 Ti3O(mp-2591) + 1.0 BaO2(mp-1105) + 0.4 TiO2(mp-390)\"], [\"0.2 Ti3O5(mp-1147) + 0.4 Ti(mp-72) + 1.0 BaO2(mp-1105)\"], [\"0.3333 Ti3O5(mp-1147) + 0.3333 Ba(mp-122) + 0.6667 BaO2(mp-1105)\"], [\"0.25 Ti2O3(mp-458) + 0.25 Ti2O(mp-1215) + 1.0 BaO2(mp-1105)\"], [\"0.25 C(mp-569304) + 0.5 Ti2O3(mp-458) + -0.25 CO2(mp-20066) + 1.0 BaO2(mp-1105)\"], [\"0.2857 Ti2O3(mp-458) + 0.1429 Ti3O(mp-2591) + 1.0 BaO2(mp-1105)\"], [\"0.5 C(mp-569304) + -0.5 CO2(mp-20066) + 1.0 BaO2(mp-1105) + 1.0 TiO2(mp-554278)\"], [\"0.5 C(mp-569304) + -0.5 CO2(mp-20066) + 1.0 BaO2(mp-1105) + 1.0 TiO2(mp-390)\"], [\"0.2727 Ti3O5(mp-1147) + -0.1818 CO2(mp-20066) + 0.1818 TiC(mp-631) + 1.0 BaO2(mp-1105)\"], [\"0.3333 Ti3O5(mp-1147) + -0.6667 CO2(mp-20066) + 0.3333 BaO2(mp-1105) + 0.6667 BaCO3(mp-5504)\"], [\"0.3333 Ti3O5(mp-1147) + -0.6667 CO2(mp-20066) + 0.3333 BaO2(mp-1105) + 0.6667 BaCO3(mp-4559)\"], [\"0.1 Ti2C(mp-10721) + 0.4 Ti2O3(mp-458) + -0.1 CO2(mp-20066) + 1.0 BaO2(mp-1105)\"], [\"0.1667 Ti2C(mp-10721) + -0.1667 CO2(mp-20066) + 1.0 BaO2(mp-1105) + 0.6667 TiO2(mp-554278)\"], [\"0.1667 Ti2C(mp-10721) + -0.1667 CO2(mp-20066) + 1.0 BaO2(mp-1105) + 0.6667 TiO2(mp-390)\"]], \"hovertemplate\": \"exp_precursors=0.6667<br>n_competing=%{x}<br>barrier=%{y}<br>summary=%{customdata[0]}<extra></extra>\", \"legendgroup\": \"0.6667\", \"marker\": {\"color\": \"#ab63fa\", \"size\": 12, \"symbol\": \"circle\"}, \"mode\": \"markers\", \"name\": \"0.6667\", \"orientation\": \"v\", \"showlegend\": true, \"type\": \"scatter\", \"x\": [18, 42, 42, 25, 26, 41, 41, 46, 46, 41, 41, 31, 30, 16, 20, 16, 44, 44, 31, 25, 26, 26, 46, 46], \"xaxis\": \"x\", \"y\": [0.1376416811003394, 0.1350397074424502, 0.1349313617708473, 0.15715913887720545, 0.14517328813240943, 0.1387253777274484, 0.13863462950302952, 0.1472088786072467, 0.146955765861774, 0.13762122406227226, 0.13751698374389879, 0.1107484885293343, 0.14294003591141224, 0.13897239931071906, 0.14281356971871526, 0.1383981364941513, 0.1464308779668572, 0.14604536214356778, 0.1496389641622578, 0.24362226763751288, 0.23649753766053735, 0.14414319460261277, 0.14541919815237406, 0.14518913650480475], \"yaxis\": \"y\"}],\n",
       "                        {\"legend\": {\"title\": {\"text\": \"exp_precursors\"}, \"tracegroupgap\": 0}, \"margin\": {\"t\": 60}, \"template\": {\"data\": {\"bar\": [{\"error_x\": {\"color\": \"#2a3f5f\"}, \"error_y\": {\"color\": \"#2a3f5f\"}, \"marker\": {\"line\": {\"color\": \"#E5ECF6\", \"width\": 0.5}}, \"type\": \"bar\"}], \"barpolar\": [{\"marker\": {\"line\": {\"color\": \"#E5ECF6\", \"width\": 0.5}}, \"type\": \"barpolar\"}], \"carpet\": [{\"aaxis\": {\"endlinecolor\": \"#2a3f5f\", \"gridcolor\": \"white\", \"linecolor\": \"white\", \"minorgridcolor\": \"white\", \"startlinecolor\": \"#2a3f5f\"}, \"baxis\": {\"endlinecolor\": \"#2a3f5f\", \"gridcolor\": \"white\", \"linecolor\": \"white\", \"minorgridcolor\": \"white\", \"startlinecolor\": \"#2a3f5f\"}, \"type\": \"carpet\"}], \"choropleth\": [{\"colorbar\": {\"outlinewidth\": 0, \"ticks\": \"\"}, \"type\": \"choropleth\"}], \"contour\": [{\"colorbar\": {\"outlinewidth\": 0, \"ticks\": \"\"}, \"colorscale\": [[0.0, \"#0d0887\"], [0.1111111111111111, \"#46039f\"], [0.2222222222222222, \"#7201a8\"], [0.3333333333333333, \"#9c179e\"], [0.4444444444444444, \"#bd3786\"], [0.5555555555555556, \"#d8576b\"], [0.6666666666666666, \"#ed7953\"], [0.7777777777777778, \"#fb9f3a\"], [0.8888888888888888, \"#fdca26\"], [1.0, \"#f0f921\"]], \"type\": \"contour\"}], \"contourcarpet\": [{\"colorbar\": {\"outlinewidth\": 0, \"ticks\": \"\"}, \"type\": \"contourcarpet\"}], \"heatmap\": [{\"colorbar\": {\"outlinewidth\": 0, \"ticks\": \"\"}, \"colorscale\": [[0.0, \"#0d0887\"], [0.1111111111111111, \"#46039f\"], [0.2222222222222222, \"#7201a8\"], [0.3333333333333333, \"#9c179e\"], [0.4444444444444444, \"#bd3786\"], [0.5555555555555556, \"#d8576b\"], [0.6666666666666666, \"#ed7953\"], [0.7777777777777778, \"#fb9f3a\"], [0.8888888888888888, \"#fdca26\"], [1.0, \"#f0f921\"]], \"type\": \"heatmap\"}], \"heatmapgl\": [{\"colorbar\": {\"outlinewidth\": 0, \"ticks\": \"\"}, \"colorscale\": [[0.0, \"#0d0887\"], [0.1111111111111111, \"#46039f\"], [0.2222222222222222, \"#7201a8\"], [0.3333333333333333, \"#9c179e\"], [0.4444444444444444, \"#bd3786\"], [0.5555555555555556, \"#d8576b\"], [0.6666666666666666, \"#ed7953\"], [0.7777777777777778, \"#fb9f3a\"], [0.8888888888888888, \"#fdca26\"], [1.0, \"#f0f921\"]], \"type\": \"heatmapgl\"}], \"histogram\": [{\"marker\": {\"colorbar\": {\"outlinewidth\": 0, \"ticks\": \"\"}}, \"type\": \"histogram\"}], \"histogram2d\": [{\"colorbar\": {\"outlinewidth\": 0, \"ticks\": \"\"}, \"colorscale\": [[0.0, \"#0d0887\"], [0.1111111111111111, \"#46039f\"], [0.2222222222222222, \"#7201a8\"], [0.3333333333333333, \"#9c179e\"], [0.4444444444444444, \"#bd3786\"], [0.5555555555555556, \"#d8576b\"], [0.6666666666666666, \"#ed7953\"], [0.7777777777777778, \"#fb9f3a\"], [0.8888888888888888, \"#fdca26\"], [1.0, \"#f0f921\"]], \"type\": \"histogram2d\"}], \"histogram2dcontour\": [{\"colorbar\": {\"outlinewidth\": 0, \"ticks\": \"\"}, \"colorscale\": [[0.0, \"#0d0887\"], [0.1111111111111111, \"#46039f\"], [0.2222222222222222, \"#7201a8\"], [0.3333333333333333, \"#9c179e\"], [0.4444444444444444, \"#bd3786\"], [0.5555555555555556, \"#d8576b\"], [0.6666666666666666, \"#ed7953\"], [0.7777777777777778, \"#fb9f3a\"], [0.8888888888888888, \"#fdca26\"], [1.0, \"#f0f921\"]], \"type\": \"histogram2dcontour\"}], \"mesh3d\": [{\"colorbar\": {\"outlinewidth\": 0, \"ticks\": \"\"}, \"type\": \"mesh3d\"}], \"parcoords\": [{\"line\": {\"colorbar\": {\"outlinewidth\": 0, \"ticks\": \"\"}}, \"type\": \"parcoords\"}], \"pie\": [{\"automargin\": true, \"type\": \"pie\"}], \"scatter\": [{\"marker\": {\"colorbar\": {\"outlinewidth\": 0, \"ticks\": \"\"}}, \"type\": \"scatter\"}], \"scatter3d\": [{\"line\": {\"colorbar\": {\"outlinewidth\": 0, \"ticks\": \"\"}}, \"marker\": {\"colorbar\": {\"outlinewidth\": 0, \"ticks\": \"\"}}, \"type\": \"scatter3d\"}], \"scattercarpet\": [{\"marker\": {\"colorbar\": {\"outlinewidth\": 0, \"ticks\": \"\"}}, \"type\": \"scattercarpet\"}], \"scattergeo\": [{\"marker\": {\"colorbar\": {\"outlinewidth\": 0, \"ticks\": \"\"}}, \"type\": \"scattergeo\"}], \"scattergl\": [{\"marker\": {\"colorbar\": {\"outlinewidth\": 0, \"ticks\": \"\"}}, \"type\": \"scattergl\"}], \"scattermapbox\": [{\"marker\": {\"colorbar\": {\"outlinewidth\": 0, \"ticks\": \"\"}}, \"type\": \"scattermapbox\"}], \"scatterpolar\": [{\"marker\": {\"colorbar\": {\"outlinewidth\": 0, \"ticks\": \"\"}}, \"type\": \"scatterpolar\"}], \"scatterpolargl\": [{\"marker\": {\"colorbar\": {\"outlinewidth\": 0, \"ticks\": \"\"}}, \"type\": \"scatterpolargl\"}], \"scatterternary\": [{\"marker\": {\"colorbar\": {\"outlinewidth\": 0, \"ticks\": \"\"}}, \"type\": \"scatterternary\"}], \"surface\": [{\"colorbar\": {\"outlinewidth\": 0, \"ticks\": \"\"}, \"colorscale\": [[0.0, \"#0d0887\"], [0.1111111111111111, \"#46039f\"], [0.2222222222222222, \"#7201a8\"], [0.3333333333333333, \"#9c179e\"], [0.4444444444444444, \"#bd3786\"], [0.5555555555555556, \"#d8576b\"], [0.6666666666666666, \"#ed7953\"], [0.7777777777777778, \"#fb9f3a\"], [0.8888888888888888, \"#fdca26\"], [1.0, \"#f0f921\"]], \"type\": \"surface\"}], \"table\": [{\"cells\": {\"fill\": {\"color\": \"#EBF0F8\"}, \"line\": {\"color\": \"white\"}}, \"header\": {\"fill\": {\"color\": \"#C8D4E3\"}, \"line\": {\"color\": \"white\"}}, \"type\": \"table\"}]}, \"layout\": {\"annotationdefaults\": {\"arrowcolor\": \"#2a3f5f\", \"arrowhead\": 0, \"arrowwidth\": 1}, \"coloraxis\": {\"colorbar\": {\"outlinewidth\": 0, \"ticks\": \"\"}}, \"colorscale\": {\"diverging\": [[0, \"#8e0152\"], [0.1, \"#c51b7d\"], [0.2, \"#de77ae\"], [0.3, \"#f1b6da\"], [0.4, \"#fde0ef\"], [0.5, \"#f7f7f7\"], [0.6, \"#e6f5d0\"], [0.7, \"#b8e186\"], [0.8, \"#7fbc41\"], [0.9, \"#4d9221\"], [1, \"#276419\"]], \"sequential\": [[0.0, \"#0d0887\"], [0.1111111111111111, \"#46039f\"], [0.2222222222222222, \"#7201a8\"], [0.3333333333333333, \"#9c179e\"], [0.4444444444444444, \"#bd3786\"], [0.5555555555555556, \"#d8576b\"], [0.6666666666666666, \"#ed7953\"], [0.7777777777777778, \"#fb9f3a\"], [0.8888888888888888, \"#fdca26\"], [1.0, \"#f0f921\"]], \"sequentialminus\": [[0.0, \"#0d0887\"], [0.1111111111111111, \"#46039f\"], [0.2222222222222222, \"#7201a8\"], [0.3333333333333333, \"#9c179e\"], [0.4444444444444444, \"#bd3786\"], [0.5555555555555556, \"#d8576b\"], [0.6666666666666666, \"#ed7953\"], [0.7777777777777778, \"#fb9f3a\"], [0.8888888888888888, \"#fdca26\"], [1.0, \"#f0f921\"]]}, \"colorway\": [\"#636efa\", \"#EF553B\", \"#00cc96\", \"#ab63fa\", \"#FFA15A\", \"#19d3f3\", \"#FF6692\", \"#B6E880\", \"#FF97FF\", \"#FECB52\"], \"font\": {\"color\": \"#2a3f5f\"}, \"geo\": {\"bgcolor\": \"white\", \"lakecolor\": \"white\", \"landcolor\": \"#E5ECF6\", \"showlakes\": true, \"showland\": true, \"subunitcolor\": \"white\"}, \"hoverlabel\": {\"align\": \"left\"}, \"hovermode\": \"closest\", \"mapbox\": {\"style\": \"light\"}, \"paper_bgcolor\": \"white\", \"plot_bgcolor\": \"#E5ECF6\", \"polar\": {\"angularaxis\": {\"gridcolor\": \"white\", \"linecolor\": \"white\", \"ticks\": \"\"}, \"bgcolor\": \"#E5ECF6\", \"radialaxis\": {\"gridcolor\": \"white\", \"linecolor\": \"white\", \"ticks\": \"\"}}, \"scene\": {\"xaxis\": {\"backgroundcolor\": \"#E5ECF6\", \"gridcolor\": \"white\", \"gridwidth\": 2, \"linecolor\": \"white\", \"showbackground\": true, \"ticks\": \"\", \"zerolinecolor\": \"white\"}, \"yaxis\": {\"backgroundcolor\": \"#E5ECF6\", \"gridcolor\": \"white\", \"gridwidth\": 2, \"linecolor\": \"white\", \"showbackground\": true, \"ticks\": \"\", \"zerolinecolor\": \"white\"}, \"zaxis\": {\"backgroundcolor\": \"#E5ECF6\", \"gridcolor\": \"white\", \"gridwidth\": 2, \"linecolor\": \"white\", \"showbackground\": true, \"ticks\": \"\", \"zerolinecolor\": \"white\"}}, \"shapedefaults\": {\"line\": {\"color\": \"#2a3f5f\"}}, \"ternary\": {\"aaxis\": {\"gridcolor\": \"white\", \"linecolor\": \"white\", \"ticks\": \"\"}, \"baxis\": {\"gridcolor\": \"white\", \"linecolor\": \"white\", \"ticks\": \"\"}, \"bgcolor\": \"#E5ECF6\", \"caxis\": {\"gridcolor\": \"white\", \"linecolor\": \"white\", \"ticks\": \"\"}}, \"title\": {\"x\": 0.05}, \"xaxis\": {\"automargin\": true, \"gridcolor\": \"white\", \"linecolor\": \"white\", \"ticks\": \"\", \"title\": {\"standoff\": 15}, \"zerolinecolor\": \"white\", \"zerolinewidth\": 2}, \"yaxis\": {\"automargin\": true, \"gridcolor\": \"white\", \"linecolor\": \"white\", \"ticks\": \"\", \"title\": {\"standoff\": 15}, \"zerolinecolor\": \"white\", \"zerolinewidth\": 2}}}, \"title\": {\"text\": \"Synthesis target: BaTiO3\"}, \"xaxis\": {\"anchor\": \"y\", \"domain\": [0.0, 1.0], \"title\": {\"text\": \"Competing products metric (a.u.)\"}}, \"yaxis\": {\"anchor\": \"x\", \"domain\": [0.0, 1.0], \"title\": {\"text\": \"Barrier (a.u.)\"}}},\n",
       "                        {\"responsive\": true}\n",
       "                    ).then(function(){\n",
       "                            \n",
       "var gd = document.getElementById('7ed6041a-ada9-42d4-86ab-7690e8eb2ca4');\n",
       "var x = new MutationObserver(function (mutations, observer) {{\n",
       "        var display = window.getComputedStyle(gd).display;\n",
       "        if (!display || display === 'none') {{\n",
       "            console.log([gd, 'removed!']);\n",
       "            Plotly.purge(gd);\n",
       "            observer.disconnect();\n",
       "        }}\n",
       "}});\n",
       "\n",
       "// Listen for the removal of the full notebook cells\n",
       "var notebookContainer = gd.closest('#notebook-container');\n",
       "if (notebookContainer) {{\n",
       "    x.observe(notebookContainer, {childList: true});\n",
       "}}\n",
       "\n",
       "// Listen for the clearing of the current output cell\n",
       "var outputEl = gd.closest('.output');\n",
       "if (outputEl) {{\n",
       "    x.observe(outputEl, {childList: true});\n",
       "}}\n",
       "\n",
       "                        })\n",
       "                };\n",
       "                });\n",
       "            </script>\n",
       "        </div>"
      ]
     },
     "metadata": {},
     "output_type": "display_data"
    }
   ],
   "source": [
    "router.recommend_routes(temperature=1400, allow_gas_release=True, show_known_precursors_only=False,\n",
    "                        max_component_precursors=2, confine_competing_to_icsd=False,display_peroxides=True)"
   ]
  },
  {
   "cell_type": "code",
   "execution_count": 18,
   "metadata": {},
   "outputs": [
    {
     "data": {
      "text/html": [
       "<div>\n",
       "<style scoped>\n",
       "    .dataframe tbody tr th:only-of-type {\n",
       "        vertical-align: middle;\n",
       "    }\n",
       "\n",
       "    .dataframe tbody tr th {\n",
       "        vertical-align: top;\n",
       "    }\n",
       "\n",
       "    .dataframe thead th {\n",
       "        text-align: right;\n",
       "    }\n",
       "</style>\n",
       "<table border=\"1\" class=\"dataframe\">\n",
       "  <thead>\n",
       "    <tr style=\"text-align: right;\">\n",
       "      <th></th>\n",
       "      <th>n_competing</th>\n",
       "      <th>barrier</th>\n",
       "      <th>summary</th>\n",
       "      <th>exp_precursors</th>\n",
       "      <th>precursor_formulas</th>\n",
       "      <th>topsis_score</th>\n",
       "    </tr>\n",
       "  </thead>\n",
       "  <tbody>\n",
       "    <tr>\n",
       "      <th>mp-1071163_mp-1105</th>\n",
       "      <td>8</td>\n",
       "      <td>0.106338</td>\n",
       "      <td>1.0 TiO(mp-1071163) + 1.0 BaO2(mp-1105)</td>\n",
       "      <td>1.0</td>\n",
       "      <td>[TiO, BaO2]</td>\n",
       "      <td>0.999771</td>\n",
       "    </tr>\n",
       "    <tr>\n",
       "      <th>mp-1105_mp-2591_mp-458</th>\n",
       "      <td>16</td>\n",
       "      <td>0.138398</td>\n",
       "      <td>0.2857 Ti2O3(mp-458) + 0.1429 Ti3O(mp-2591) + ...</td>\n",
       "      <td>0.6667</td>\n",
       "      <td>[Ti2O3, Ti3O, BaO2]</td>\n",
       "      <td>0.969872</td>\n",
       "    </tr>\n",
       "    <tr>\n",
       "      <th>mp-1105_mp-1215_mp-458</th>\n",
       "      <td>16</td>\n",
       "      <td>0.138972</td>\n",
       "      <td>0.25 Ti2O3(mp-458) + 0.25 Ti2O(mp-1215) + 1.0 ...</td>\n",
       "      <td>0.6667</td>\n",
       "      <td>[Ti2O3, Ti2O, BaO2]</td>\n",
       "      <td>0.969864</td>\n",
       "    </tr>\n",
       "    <tr>\n",
       "      <th>mp-1105_mp-1342_mp-458</th>\n",
       "      <td>17</td>\n",
       "      <td>0.136937</td>\n",
       "      <td>0.5 BaO(mp-1342) + 0.5 Ti2O3(mp-458) + 0.5 BaO...</td>\n",
       "      <td>1.0</td>\n",
       "      <td>[BaO, Ti2O3, BaO2]</td>\n",
       "      <td>0.966275</td>\n",
       "    </tr>\n",
       "    <tr>\n",
       "      <th>mp-1105_mp-458_mp-554098</th>\n",
       "      <td>18</td>\n",
       "      <td>0.137642</td>\n",
       "      <td>0.0625 Ti6O(mp-554098) + 0.3125 Ti2O3(mp-458) ...</td>\n",
       "      <td>0.6667</td>\n",
       "      <td>[Ti6O, Ti2O3, BaO2]</td>\n",
       "      <td>0.962672</td>\n",
       "    </tr>\n",
       "    <tr>\n",
       "      <th>mp-1105_mp-20066_mp-4559_mp-458</th>\n",
       "      <td>18</td>\n",
       "      <td>0.194415</td>\n",
       "      <td>0.5 Ti2O3(mp-458) + -0.5 CO2(mp-20066) + 0.5 B...</td>\n",
       "      <td>1.0</td>\n",
       "      <td>[Ti2O3, CO2, BaO2, BaCO3]</td>\n",
       "      <td>0.961665</td>\n",
       "    </tr>\n",
       "    <tr>\n",
       "      <th>mp-1105_mp-20066_mp-458_mp-5504</th>\n",
       "      <td>18</td>\n",
       "      <td>0.197504</td>\n",
       "      <td>0.5 Ti2O3(mp-458) + -0.5 CO2(mp-20066) + 0.5 B...</td>\n",
       "      <td>1.0</td>\n",
       "      <td>[Ti2O3, CO2, BaO2, BaCO3]</td>\n",
       "      <td>0.961589</td>\n",
       "    </tr>\n",
       "    <tr>\n",
       "      <th>mp-1105_mp-122_mp-458</th>\n",
       "      <td>20</td>\n",
       "      <td>0.138803</td>\n",
       "      <td>0.5 Ti2O3(mp-458) + 0.25 Ba(mp-122) + 0.75 BaO...</td>\n",
       "      <td>1.0</td>\n",
       "      <td>[Ti2O3, Ba, BaO2]</td>\n",
       "      <td>0.955536</td>\n",
       "    </tr>\n",
       "    <tr>\n",
       "      <th>mp-1105_mp-20066_mp-458_mp-569304</th>\n",
       "      <td>20</td>\n",
       "      <td>0.142814</td>\n",
       "      <td>0.25 C(mp-569304) + 0.5 Ti2O3(mp-458) + -0.25 ...</td>\n",
       "      <td>0.6667</td>\n",
       "      <td>[C, Ti2O3, CO2, BaO2]</td>\n",
       "      <td>0.955491</td>\n",
       "    </tr>\n",
       "    <tr>\n",
       "      <th>mp-1105_mp-20066_mp-458_mp-631</th>\n",
       "      <td>21</td>\n",
       "      <td>0.147050</td>\n",
       "      <td>0.4286 Ti2O3(mp-458) + -0.1429 CO2(mp-20066) +...</td>\n",
       "      <td>1.0</td>\n",
       "      <td>[Ti2O3, CO2, TiC, BaO2]</td>\n",
       "      <td>0.951914</td>\n",
       "    </tr>\n",
       "    <tr>\n",
       "      <th>mp-1105_mp-458_mp-72</th>\n",
       "      <td>24</td>\n",
       "      <td>0.111136</td>\n",
       "      <td>0.3333 Ti(mp-72) + 0.3333 Ti2O3(mp-458) + 1.0 ...</td>\n",
       "      <td>1.0</td>\n",
       "      <td>[Ti, Ti2O3, BaO2]</td>\n",
       "      <td>0.941786</td>\n",
       "    </tr>\n",
       "    <tr>\n",
       "      <th>mp-1105_mp-1147_mp-1342</th>\n",
       "      <td>25</td>\n",
       "      <td>0.157159</td>\n",
       "      <td>0.6667 BaO(mp-1342) + 0.3333 Ti3O5(mp-1147) + ...</td>\n",
       "      <td>0.6667</td>\n",
       "      <td>[BaO, Ti3O5, BaO2]</td>\n",
       "      <td>0.937909</td>\n",
       "    </tr>\n",
       "    <tr>\n",
       "      <th>mp-1105_mp-1147_mp-20066_mp-5504</th>\n",
       "      <td>25</td>\n",
       "      <td>0.243622</td>\n",
       "      <td>0.3333 Ti3O5(mp-1147) + -0.6667 CO2(mp-20066) ...</td>\n",
       "      <td>0.6667</td>\n",
       "      <td>[Ti3O5, CO2, BaO2, BaCO3]</td>\n",
       "      <td>0.936333</td>\n",
       "    </tr>\n",
       "    <tr>\n",
       "      <th>mp-10721_mp-1105_mp-20066_mp-458</th>\n",
       "      <td>26</td>\n",
       "      <td>0.144143</td>\n",
       "      <td>0.1 Ti2C(mp-10721) + 0.4 Ti2O3(mp-458) + -0.1 ...</td>\n",
       "      <td>0.6667</td>\n",
       "      <td>[Ti2C, Ti2O3, CO2, BaO2]</td>\n",
       "      <td>0.934647</td>\n",
       "    </tr>\n",
       "    <tr>\n",
       "      <th>mp-1105_mp-20066_mp-27919_mp-458</th>\n",
       "      <td>26</td>\n",
       "      <td>0.145173</td>\n",
       "      <td>0.0227 Ti8C5(mp-27919) + 0.4091 Ti2O3(mp-458) ...</td>\n",
       "      <td>0.6667</td>\n",
       "      <td>[Ti8C5, Ti2O3, CO2, BaO2]</td>\n",
       "      <td>0.934636</td>\n",
       "    </tr>\n",
       "    <tr>\n",
       "      <th>mp-1105_mp-1147_mp-20066_mp-4559</th>\n",
       "      <td>26</td>\n",
       "      <td>0.236498</td>\n",
       "      <td>0.3333 Ti3O5(mp-1147) + -0.6667 CO2(mp-20066) ...</td>\n",
       "      <td>0.6667</td>\n",
       "      <td>[Ti3O5, CO2, BaO2, BaCO3]</td>\n",
       "      <td>0.933119</td>\n",
       "    </tr>\n",
       "    <tr>\n",
       "      <th>mp-1105_mp-1147_mp-2591</th>\n",
       "      <td>27</td>\n",
       "      <td>0.138955</td>\n",
       "      <td>0.1667 Ti3O5(mp-1147) + 0.1667 Ti3O(mp-2591) +...</td>\n",
       "      <td>0.3333</td>\n",
       "      <td>[Ti3O5, Ti3O, BaO2]</td>\n",
       "      <td>0.931310</td>\n",
       "    </tr>\n",
       "    <tr>\n",
       "      <th>mp-1105_mp-1147_mp-1215</th>\n",
       "      <td>27</td>\n",
       "      <td>0.139747</td>\n",
       "      <td>0.1429 Ti3O5(mp-1147) + 0.2857 Ti2O(mp-1215) +...</td>\n",
       "      <td>0.3333</td>\n",
       "      <td>[Ti3O5, Ti2O, BaO2]</td>\n",
       "      <td>0.931301</td>\n",
       "    </tr>\n",
       "    <tr>\n",
       "      <th>mp-1105_mp-1147_mp-554098</th>\n",
       "      <td>28</td>\n",
       "      <td>0.136643</td>\n",
       "      <td>0.0741 Ti6O(mp-554098) + 0.1852 Ti3O5(mp-1147)...</td>\n",
       "      <td>0.3333</td>\n",
       "      <td>[Ti6O, Ti3O5, BaO2]</td>\n",
       "      <td>0.927964</td>\n",
       "    </tr>\n",
       "    <tr>\n",
       "      <th>mp-1342_mp-390</th>\n",
       "      <td>26</td>\n",
       "      <td>0.483413</td>\n",
       "      <td>1.0 BaO(mp-1342) + 1.0 TiO2(mp-390)</td>\n",
       "      <td>1.0</td>\n",
       "      <td>[BaO, TiO2]</td>\n",
       "      <td>0.924261</td>\n",
       "    </tr>\n",
       "  </tbody>\n",
       "</table>\n",
       "</div>"
      ],
      "text/plain": [
       "                                   n_competing   barrier  \\\n",
       "mp-1071163_mp-1105                           8  0.106338   \n",
       "mp-1105_mp-2591_mp-458                      16  0.138398   \n",
       "mp-1105_mp-1215_mp-458                      16  0.138972   \n",
       "mp-1105_mp-1342_mp-458                      17  0.136937   \n",
       "mp-1105_mp-458_mp-554098                    18  0.137642   \n",
       "mp-1105_mp-20066_mp-4559_mp-458             18  0.194415   \n",
       "mp-1105_mp-20066_mp-458_mp-5504             18  0.197504   \n",
       "mp-1105_mp-122_mp-458                       20  0.138803   \n",
       "mp-1105_mp-20066_mp-458_mp-569304           20  0.142814   \n",
       "mp-1105_mp-20066_mp-458_mp-631              21  0.147050   \n",
       "mp-1105_mp-458_mp-72                        24  0.111136   \n",
       "mp-1105_mp-1147_mp-1342                     25  0.157159   \n",
       "mp-1105_mp-1147_mp-20066_mp-5504            25  0.243622   \n",
       "mp-10721_mp-1105_mp-20066_mp-458            26  0.144143   \n",
       "mp-1105_mp-20066_mp-27919_mp-458            26  0.145173   \n",
       "mp-1105_mp-1147_mp-20066_mp-4559            26  0.236498   \n",
       "mp-1105_mp-1147_mp-2591                     27  0.138955   \n",
       "mp-1105_mp-1147_mp-1215                     27  0.139747   \n",
       "mp-1105_mp-1147_mp-554098                   28  0.136643   \n",
       "mp-1342_mp-390                              26  0.483413   \n",
       "\n",
       "                                                                             summary  \\\n",
       "mp-1071163_mp-1105                           1.0 TiO(mp-1071163) + 1.0 BaO2(mp-1105)   \n",
       "mp-1105_mp-2591_mp-458             0.2857 Ti2O3(mp-458) + 0.1429 Ti3O(mp-2591) + ...   \n",
       "mp-1105_mp-1215_mp-458             0.25 Ti2O3(mp-458) + 0.25 Ti2O(mp-1215) + 1.0 ...   \n",
       "mp-1105_mp-1342_mp-458             0.5 BaO(mp-1342) + 0.5 Ti2O3(mp-458) + 0.5 BaO...   \n",
       "mp-1105_mp-458_mp-554098           0.0625 Ti6O(mp-554098) + 0.3125 Ti2O3(mp-458) ...   \n",
       "mp-1105_mp-20066_mp-4559_mp-458    0.5 Ti2O3(mp-458) + -0.5 CO2(mp-20066) + 0.5 B...   \n",
       "mp-1105_mp-20066_mp-458_mp-5504    0.5 Ti2O3(mp-458) + -0.5 CO2(mp-20066) + 0.5 B...   \n",
       "mp-1105_mp-122_mp-458              0.5 Ti2O3(mp-458) + 0.25 Ba(mp-122) + 0.75 BaO...   \n",
       "mp-1105_mp-20066_mp-458_mp-569304  0.25 C(mp-569304) + 0.5 Ti2O3(mp-458) + -0.25 ...   \n",
       "mp-1105_mp-20066_mp-458_mp-631     0.4286 Ti2O3(mp-458) + -0.1429 CO2(mp-20066) +...   \n",
       "mp-1105_mp-458_mp-72               0.3333 Ti(mp-72) + 0.3333 Ti2O3(mp-458) + 1.0 ...   \n",
       "mp-1105_mp-1147_mp-1342            0.6667 BaO(mp-1342) + 0.3333 Ti3O5(mp-1147) + ...   \n",
       "mp-1105_mp-1147_mp-20066_mp-5504   0.3333 Ti3O5(mp-1147) + -0.6667 CO2(mp-20066) ...   \n",
       "mp-10721_mp-1105_mp-20066_mp-458   0.1 Ti2C(mp-10721) + 0.4 Ti2O3(mp-458) + -0.1 ...   \n",
       "mp-1105_mp-20066_mp-27919_mp-458   0.0227 Ti8C5(mp-27919) + 0.4091 Ti2O3(mp-458) ...   \n",
       "mp-1105_mp-1147_mp-20066_mp-4559   0.3333 Ti3O5(mp-1147) + -0.6667 CO2(mp-20066) ...   \n",
       "mp-1105_mp-1147_mp-2591            0.1667 Ti3O5(mp-1147) + 0.1667 Ti3O(mp-2591) +...   \n",
       "mp-1105_mp-1147_mp-1215            0.1429 Ti3O5(mp-1147) + 0.2857 Ti2O(mp-1215) +...   \n",
       "mp-1105_mp-1147_mp-554098          0.0741 Ti6O(mp-554098) + 0.1852 Ti3O5(mp-1147)...   \n",
       "mp-1342_mp-390                                   1.0 BaO(mp-1342) + 1.0 TiO2(mp-390)   \n",
       "\n",
       "                                  exp_precursors         precursor_formulas  \\\n",
       "mp-1071163_mp-1105                           1.0                [TiO, BaO2]   \n",
       "mp-1105_mp-2591_mp-458                    0.6667        [Ti2O3, Ti3O, BaO2]   \n",
       "mp-1105_mp-1215_mp-458                    0.6667        [Ti2O3, Ti2O, BaO2]   \n",
       "mp-1105_mp-1342_mp-458                       1.0         [BaO, Ti2O3, BaO2]   \n",
       "mp-1105_mp-458_mp-554098                  0.6667        [Ti6O, Ti2O3, BaO2]   \n",
       "mp-1105_mp-20066_mp-4559_mp-458              1.0  [Ti2O3, CO2, BaO2, BaCO3]   \n",
       "mp-1105_mp-20066_mp-458_mp-5504              1.0  [Ti2O3, CO2, BaO2, BaCO3]   \n",
       "mp-1105_mp-122_mp-458                        1.0          [Ti2O3, Ba, BaO2]   \n",
       "mp-1105_mp-20066_mp-458_mp-569304         0.6667      [C, Ti2O3, CO2, BaO2]   \n",
       "mp-1105_mp-20066_mp-458_mp-631               1.0    [Ti2O3, CO2, TiC, BaO2]   \n",
       "mp-1105_mp-458_mp-72                         1.0          [Ti, Ti2O3, BaO2]   \n",
       "mp-1105_mp-1147_mp-1342                   0.6667         [BaO, Ti3O5, BaO2]   \n",
       "mp-1105_mp-1147_mp-20066_mp-5504          0.6667  [Ti3O5, CO2, BaO2, BaCO3]   \n",
       "mp-10721_mp-1105_mp-20066_mp-458          0.6667   [Ti2C, Ti2O3, CO2, BaO2]   \n",
       "mp-1105_mp-20066_mp-27919_mp-458          0.6667  [Ti8C5, Ti2O3, CO2, BaO2]   \n",
       "mp-1105_mp-1147_mp-20066_mp-4559          0.6667  [Ti3O5, CO2, BaO2, BaCO3]   \n",
       "mp-1105_mp-1147_mp-2591                   0.3333        [Ti3O5, Ti3O, BaO2]   \n",
       "mp-1105_mp-1147_mp-1215                   0.3333        [Ti3O5, Ti2O, BaO2]   \n",
       "mp-1105_mp-1147_mp-554098                 0.3333        [Ti6O, Ti3O5, BaO2]   \n",
       "mp-1342_mp-390                               1.0                [BaO, TiO2]   \n",
       "\n",
       "                                   topsis_score  \n",
       "mp-1071163_mp-1105                     0.999771  \n",
       "mp-1105_mp-2591_mp-458                 0.969872  \n",
       "mp-1105_mp-1215_mp-458                 0.969864  \n",
       "mp-1105_mp-1342_mp-458                 0.966275  \n",
       "mp-1105_mp-458_mp-554098               0.962672  \n",
       "mp-1105_mp-20066_mp-4559_mp-458        0.961665  \n",
       "mp-1105_mp-20066_mp-458_mp-5504        0.961589  \n",
       "mp-1105_mp-122_mp-458                  0.955536  \n",
       "mp-1105_mp-20066_mp-458_mp-569304      0.955491  \n",
       "mp-1105_mp-20066_mp-458_mp-631         0.951914  \n",
       "mp-1105_mp-458_mp-72                   0.941786  \n",
       "mp-1105_mp-1147_mp-1342                0.937909  \n",
       "mp-1105_mp-1147_mp-20066_mp-5504       0.936333  \n",
       "mp-10721_mp-1105_mp-20066_mp-458       0.934647  \n",
       "mp-1105_mp-20066_mp-27919_mp-458       0.934636  \n",
       "mp-1105_mp-1147_mp-20066_mp-4559       0.933119  \n",
       "mp-1105_mp-1147_mp-2591                0.931310  \n",
       "mp-1105_mp-1147_mp-1215                0.931301  \n",
       "mp-1105_mp-1147_mp-554098              0.927964  \n",
       "mp-1342_mp-390                         0.924261  "
      ]
     },
     "execution_count": 18,
     "metadata": {},
     "output_type": "execute_result"
    }
   ],
   "source": [
    "router.topsis().head(20)"
   ]
  },
  {
   "cell_type": "code",
   "execution_count": null,
   "metadata": {},
   "outputs": [],
   "source": [
    "g = [router.reactions[i]['_params']['G_star'] for i in router.reactions.keys() if router.reactions[i]['_params']]\n",
    "f = [router.reactions[i]['_params']['f_t'] for i in router.reactions.keys() if router.reactions[i]['_params']]\n",
    "e = [router.reactions[i]['_params']['E_d'] for i in router.reactions.keys() if router.reactions[i]['_params']]\n",
    "q_e = [router.reactions[i]['_params']['q_epi'] for i in router.reactions.keys() if router.reactions[i]['_params']]\n",
    "q_s = [router.reactions[i]['_params']['q_sim'] for i in router.reactions.keys() if router.reactions[i]['_params']]\n",
    "b = [router.reactions[i]['barrier'] for i in router.reactions.keys() if router.reactions[i]['_params']]"
   ]
  },
  {
   "cell_type": "code",
   "execution_count": null,
   "metadata": {},
   "outputs": [],
   "source": [
    "g"
   ]
  },
  {
   "cell_type": "code",
   "execution_count": null,
   "metadata": {},
   "outputs": [],
   "source": [
    "plt.hist(np.log(b))"
   ]
  },
  {
   "cell_type": "code",
   "execution_count": null,
   "metadata": {},
   "outputs": [],
   "source": [
    "plt.plot(np.log(b),np.log(e),'o')"
   ]
  },
  {
   "cell_type": "code",
   "execution_count": null,
   "metadata": {},
   "outputs": [],
   "source": [
    "plt.plot(np.log(b), np.log(g),'o')"
   ]
  },
  {
   "cell_type": "code",
   "execution_count": null,
   "metadata": {},
   "outputs": [],
   "source": [
    "plt.plot(np.log(e), np.log(g),'o')"
   ]
  },
  {
   "cell_type": "code",
   "execution_count": null,
   "metadata": {},
   "outputs": [],
   "source": [
    "np.argmin(g)"
   ]
  },
  {
   "cell_type": "code",
   "execution_count": null,
   "metadata": {},
   "outputs": [],
   "source": [
    "f[35],e[35],g[35],q_e[35],q_s[35]"
   ]
  },
  {
   "cell_type": "code",
   "execution_count": null,
   "metadata": {
    "scrolled": false
   },
   "outputs": [],
   "source": [
    "plt.plot(np.log(f),np.log(g),'o')"
   ]
  },
  {
   "cell_type": "code",
   "execution_count": null,
   "metadata": {},
   "outputs": [],
   "source": [
    "router.reactions['mp-1091399_mp-3397_mp-72']['energy']"
   ]
  },
  {
   "cell_type": "code",
   "execution_count": null,
   "metadata": {},
   "outputs": [],
   "source": [
    "router.get_rxn_containing(['BaO2', 'TiO2', 'C('])"
   ]
  },
  {
   "cell_type": "code",
   "execution_count": null,
   "metadata": {},
   "outputs": [],
   "source": [
    "router.get_rxn_containing(['BaCO3', 'Ti2O3', ' CO2'])"
   ]
  },
  {
   "cell_type": "code",
   "execution_count": null,
   "metadata": {},
   "outputs": [],
   "source": [
    "router.get_rxn_containing(['Ba2TiO4', 'TiO2'])"
   ]
  },
  {
   "cell_type": "code",
   "execution_count": null,
   "metadata": {},
   "outputs": [],
   "source": [
    "router.get_rxn_containing(['BaO2','TiO2'])"
   ]
  },
  {
   "cell_type": "code",
   "execution_count": null,
   "metadata": {},
   "outputs": [],
   "source": [
    "router.get_rxn_containing(['BaO2','TiO2'])"
   ]
  },
  {
   "cell_type": "code",
   "execution_count": null,
   "metadata": {},
   "outputs": [],
   "source": [
    "router2 = SynthesisRoutes('mp-3397', explicit_includes=['mp-390','mp-4559'], add_element='C', use_cache=True)"
   ]
  },
  {
   "cell_type": "code",
   "execution_count": null,
   "metadata": {},
   "outputs": [],
   "source": [
    "router2.recommend_routes(temperature=1400, allow_gas_release=True, show_known_precursors_only=True,\n",
    "                        max_component_precursors=2, confine_competing_to_icsd=False,display_peroxides=False)"
   ]
  },
  {
   "cell_type": "code",
   "execution_count": null,
   "metadata": {},
   "outputs": [],
   "source": [
    "router2.get_rxn_containing(['BaCO3', 'TiO2'])"
   ]
  },
  {
   "cell_type": "code",
   "execution_count": null,
   "metadata": {},
   "outputs": [],
   "source": [
    "sorted(list(zip(router.reactions['mp-1105_mp-1342_mp-458']['competing_rxe'],\n",
    "         router.reactions['mp-1105_mp-1342_mp-458']['competing'])))"
   ]
  },
  {
   "cell_type": "code",
   "execution_count": null,
   "metadata": {},
   "outputs": [],
   "source": [
    "[e for e in router.entries if e.entry_id == 'mp-555966' ]"
   ]
  },
  {
   "cell_type": "code",
   "execution_count": null,
   "metadata": {},
   "outputs": [],
   "source": [
    "router.get_competing_phases('mp-1105_mp-1342_mp-458',True)"
   ]
  },
  {
   "cell_type": "code",
   "execution_count": null,
   "metadata": {},
   "outputs": [],
   "source": [
    "router.get_rxn_containing(['TiO2', 'BaO2'])"
   ]
  },
  {
   "cell_type": "code",
   "execution_count": null,
   "metadata": {
    "scrolled": true
   },
   "outputs": [],
   "source": [
    "router.get_rxn_containing(['Ti2O3', 'BaO2'])"
   ]
  },
  {
   "cell_type": "code",
   "execution_count": null,
   "metadata": {
    "scrolled": true
   },
   "outputs": [],
   "source": [
    "router.get_rxn_containing(['BaCO3', 'TiO2'])"
   ]
  },
  {
   "cell_type": "code",
   "execution_count": null,
   "metadata": {},
   "outputs": [],
   "source": [
    "router.reactions['mp-20066_mp-390_mp-5504']['summary']"
   ]
  },
  {
   "cell_type": "code",
   "execution_count": null,
   "metadata": {},
   "outputs": [],
   "source": [
    "[i.composition for i in router.entries if i.entry_id in router.reactions['mp-20066_mp-390_mp-5504']['competing'] ]"
   ]
  },
  {
   "cell_type": "code",
   "execution_count": null,
   "metadata": {
    "scrolled": true
   },
   "outputs": [],
   "source": [
    "router.reactions['mp-1105_mp-458_mp-72']['competing']"
   ]
  },
  {
   "cell_type": "code",
   "execution_count": null,
   "metadata": {},
   "outputs": [],
   "source": [
    "router.get_competing_phases('mp-1105_mp-458_mp-72')"
   ]
  },
  {
   "cell_type": "code",
   "execution_count": null,
   "metadata": {},
   "outputs": [],
   "source": [
    "router.reactions['mp-1105_mp-458_mp-72']['competing']"
   ]
  },
  {
   "cell_type": "code",
   "execution_count": null,
   "metadata": {},
   "outputs": [],
   "source": [
    "router.reactions['mp-1105_mp-458_mp-72']['summary']"
   ]
  },
  {
   "cell_type": "code",
   "execution_count": null,
   "metadata": {},
   "outputs": [],
   "source": [
    "router.reactions['mp-1105_mp-458_mp-72']['competing_rxe']"
   ]
  },
  {
   "cell_type": "code",
   "execution_count": null,
   "metadata": {},
   "outputs": [],
   "source": []
  },
  {
   "cell_type": "code",
   "execution_count": null,
   "metadata": {},
   "outputs": [],
   "source": [
    "router.reactions['mp-1091399_mp-1105_mp-72']['summary']"
   ]
  },
  {
   "cell_type": "code",
   "execution_count": null,
   "metadata": {},
   "outputs": [],
   "source": [
    "router.reactions['mp-1091399_mp-1105_mp-72']['competing']"
   ]
  },
  {
   "cell_type": "code",
   "execution_count": null,
   "metadata": {},
   "outputs": [],
   "source": [
    "router.get_competing_phases('mp-1091399_mp-1105_mp-72', verbose=True)"
   ]
  },
  {
   "cell_type": "code",
   "execution_count": null,
   "metadata": {},
   "outputs": [],
   "source": [
    "router.reactions['mp-1091399_mp-1105_mp-72']['precursors']"
   ]
  },
  {
   "cell_type": "code",
   "execution_count": null,
   "metadata": {},
   "outputs": [],
   "source": [
    "x = router.plot_data[['n_competing','barrier']]"
   ]
  },
  {
   "cell_type": "code",
   "execution_count": null,
   "metadata": {},
   "outputs": [],
   "source": [
    "plt.hist(np.log(x.barrier))"
   ]
  },
  {
   "cell_type": "code",
   "execution_count": null,
   "metadata": {},
   "outputs": [],
   "source": [
    "plt.hist((x.n_competing))"
   ]
  },
  {
   "cell_type": "code",
   "execution_count": null,
   "metadata": {},
   "outputs": [],
   "source": []
  },
  {
   "cell_type": "code",
   "execution_count": null,
   "metadata": {},
   "outputs": [],
   "source": []
  },
  {
   "cell_type": "code",
   "execution_count": null,
   "metadata": {},
   "outputs": [],
   "source": [
    "mu.min()"
   ]
  },
  {
   "cell_type": "code",
   "execution_count": null,
   "metadata": {},
   "outputs": [],
   "source": []
  },
  {
   "cell_type": "code",
   "execution_count": null,
   "metadata": {},
   "outputs": [],
   "source": []
  },
  {
   "cell_type": "code",
   "execution_count": null,
   "metadata": {},
   "outputs": [],
   "source": []
  },
  {
   "cell_type": "code",
   "execution_count": null,
   "metadata": {},
   "outputs": [],
   "source": []
  },
  {
   "cell_type": "code",
   "execution_count": null,
   "metadata": {},
   "outputs": [],
   "source": [
    "d_neg_ideal/(d_pos_ideal+d_neg_ideal)"
   ]
  },
  {
   "cell_type": "code",
   "execution_count": null,
   "metadata": {},
   "outputs": [],
   "source": []
  },
  {
   "cell_type": "code",
   "execution_count": null,
   "metadata": {},
   "outputs": [],
   "source": []
  },
  {
   "cell_type": "code",
   "execution_count": null,
   "metadata": {},
   "outputs": [],
   "source": [
    "router.plot_data['topsis_score'].hist(range=(0.8,1),bins=25)"
   ]
  },
  {
   "cell_type": "code",
   "execution_count": null,
   "metadata": {},
   "outputs": [],
   "source": []
  }
 ],
 "metadata": {
  "kernelspec": {
   "display_name": "Python 3",
   "language": "python",
   "name": "python3"
  },
  "language_info": {
   "codemirror_mode": {
    "name": "ipython",
    "version": 3
   },
   "file_extension": ".py",
   "mimetype": "text/x-python",
   "name": "python",
   "nbconvert_exporter": "python",
   "pygments_lexer": "ipython3",
   "version": "3.7.7"
  }
 },
 "nbformat": 4,
 "nbformat_minor": 2
}

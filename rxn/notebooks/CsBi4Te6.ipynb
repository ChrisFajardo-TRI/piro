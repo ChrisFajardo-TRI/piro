{
 "cells": [
  {
   "cell_type": "code",
   "execution_count": 1,
   "metadata": {},
   "outputs": [],
   "source": [
    "from rxn.route import SynthesisRoutes\n",
    "mp_id = 'mp-1204077'"
   ]
  },
  {
   "cell_type": "code",
   "execution_count": 2,
   "metadata": {
    "scrolled": true
   },
   "outputs": [
    {
     "name": "stderr",
     "output_type": "stream",
     "text": [
      "[Parallel(n_jobs=-1)]: Using backend LokyBackend with 8 concurrent workers.\n",
      "[Parallel(n_jobs=-1)]: Done   8 out of  11 | elapsed:   25.8s remaining:    9.7s\n",
      "[Parallel(n_jobs=-1)]: Done  11 out of  11 | elapsed:   29.5s finished\n"
     ]
    },
    {
     "name": "stdout",
     "output_type": "stream",
     "text": [
      "Epitaxies ready\n",
      "Similarity matrix ready\n",
      "Precursor library ready.\n"
     ]
    }
   ],
   "source": [
    "router = SynthesisRoutes(mp_id, pressure=None)"
   ]
  },
  {
   "cell_type": "code",
   "execution_count": 11,
   "metadata": {},
   "outputs": [
    {
     "data": {
      "application/vnd.plotly.v1+json": {
       "config": {
        "plotlyServerURL": "https://plot.ly"
       },
       "data": [
        {
         "customdata": [
          [
           "4.0 Bi(mp-23152) + 0.5 Cs2Te(mp-573763) + 5.5 Te(mp-19)"
          ],
          [
           "3.6667 Bi(mp-23152) + 0.3333 Cs3Bi(mp-635413) + 6.0 Te(mp-19)"
          ],
          [
           "4.0 Bi(mp-23152) + 1.0 CsTe4(mp-1178386) + 2.0 Te(mp-19)"
          ],
          [
           "3.0 Bi(mp-23152) + 1.0 CsBi(mp-1205121) + 6.0 Te(mp-19)"
          ],
          [
           "2.0 Bi(mp-23152) + 6.0 Te(mp-19) + 1.0 CsBi2(mp-23163)"
          ],
          [
           "4.0 Bi(mp-23152) + 4.5 Te(mp-19) + 0.5 Cs2Te3(mp-505634)"
          ],
          [
           "4.0 Bi(mp-23152) + 5.0 Te(mp-19) + 1.0 CsTe(mp-8361)"
          ]
         ],
         "hoverlabel": {
          "namelength": 0
         },
         "hovertemplate": "exp_precursors=0.6667<br>n_competing=%{x}<br>barrier=%{y}<br>summary=%{customdata[0]}",
         "legendgroup": "exp_precursors=0.6667",
         "marker": {
          "color": "#636efa",
          "symbol": "circle"
         },
         "mode": "markers",
         "name": "exp_precursors=0.6667",
         "showlegend": true,
         "type": "scatter",
         "x": [
          1,
          1,
          1,
          1,
          1,
          1,
          1
         ],
         "xaxis": "x",
         "y": [
          279.9068274398595,
          64.48988735197918,
          16.853577930337362,
          105.03007697456358,
          21.04349033463965,
          83.21678897626983,
          517.2798274121515
         ],
         "yaxis": "y"
        },
        {
         "customdata": [
          [
           "0.3333 Bi(mp-23152) + 0.5 Cs2Te(mp-573763) + 1.8333 Bi2Te3(mp-34202)"
          ],
          [
           "2.2222 Bi(mp-23152) + 1.0 CsTe4(mp-1178386) + 0.2222 Bi8Te9(mp-580062)"
          ],
          [
           "2.6667 Bi(mp-23152) + 1.0 CsTe4(mp-1178386) + 0.6667 Bi2Te3(mp-34202)"
          ],
          [
           "1.0 Bi(mp-23152) + 1.5 Bi2Te3(mp-34202) + 0.5 Cs2Te3(mp-505634)"
          ],
          [
           "0.6667 Bi(mp-23152) + 1.6667 Bi2Te3(mp-34202) + 1.0 CsTe(mp-8361)"
          ],
          [
           "0.5 Cs2Te(mp-573763) + 1.0 Te(mp-19) + 0.5 Bi8Te9(mp-580062)"
          ],
          [
           "0.3333 Cs3Bi(mp-635413) + 1.875 Te(mp-19) + 0.4583 Bi8Te9(mp-580062)"
          ],
          [
           "0.3333 Cs3Bi(mp-635413) + 0.5 Te(mp-19) + 1.8333 Bi2Te3(mp-34202)"
          ],
          [
           "1.0 CsBi(mp-1205121) + 2.625 Te(mp-19) + 0.375 Bi8Te9(mp-580062)"
          ],
          [
           "1.0 CsBi(mp-1205121) + 1.5 Te(mp-19) + 1.5 Bi2Te3(mp-34202)"
          ],
          [
           "3.75 Te(mp-19) + 0.25 Bi8Te9(mp-580062) + 1.0 CsBi2(mp-23163)"
          ],
          [
           "0.5 Te(mp-19) + 0.5 Bi8Te9(mp-580062) + 1.0 CsTe(mp-8361)"
          ],
          [
           "3.0 Te(mp-19) + 1.0 Bi2Te3(mp-34202) + 1.0 CsBi2(mp-23163)"
          ]
         ],
         "hoverlabel": {
          "namelength": 0
         },
         "hovertemplate": "exp_precursors=0.3333<br>n_competing=%{x}<br>barrier=%{y}<br>summary=%{customdata[0]}",
         "legendgroup": "exp_precursors=0.3333",
         "marker": {
          "color": "#EF553B",
          "symbol": "circle"
         },
         "mode": "markers",
         "name": "exp_precursors=0.3333",
         "showlegend": true,
         "type": "scatter",
         "x": [
          1,
          1,
          1,
          1,
          1,
          1,
          1,
          1,
          1,
          1,
          1,
          1,
          1
         ],
         "xaxis": "x",
         "y": [
          172544.2140728583,
          55.31518133626285,
          54.61649287751536,
          44152.50565044255,
          293587.9845860485,
          6470.12005711799,
          265.24918118108917,
          591.4517187938355,
          447.61824434604296,
          859.1520806965925,
          107.96688950080821,
          23837.09113214561,
          146.54409384768232
         ],
         "yaxis": "y"
        },
        {
         "customdata": [
          [
           "0.5 Bi8Te9(mp-580062) + 0.5 Cs2Te3(mp-505634)"
          ],
          [
           "0.25 Cs2Te(mp-573763) + 0.1667 Cs3Bi(mp-635413) + 1.9167 Bi2Te3(mp-34202)"
          ],
          [
           "0.3571 Cs2Te(mp-573763) + 0.2857 CsTe4(mp-1178386) + 0.5 Bi8Te9(mp-580062)"
          ],
          [
           "0.375 Cs2Te(mp-573763) + 0.25 CsBi(mp-1205121) + 1.875 Bi2Te3(mp-34202)"
          ],
          [
           "0.5 Cs2Te(mp-573763) + 0.1667 Bi8Te9(mp-580062) + 1.3333 Bi2Te3(mp-34202)"
          ],
          [
           "0.4286 Cs2Te(mp-573763) + 1.8571 Bi2Te3(mp-34202) + 0.1429 CsBi2(mp-23163)"
          ],
          [
           "0.1905 Cs3Bi(mp-635413) + 0.4286 CsTe4(mp-1178386) + 0.4762 Bi8Te9(mp-580062)"
          ],
          [
           "0.2963 Cs3Bi(mp-635413) + 0.1111 CsTe4(mp-1178386) + 1.8519 Bi2Te3(mp-34202)"
          ],
          [
           "0.25 Cs3Bi(mp-635413) + 1.875 Bi2Te3(mp-34202) + 0.125 Cs2Te3(mp-505634)"
          ],
          [
           "0.2222 Cs3Bi(mp-635413) + 1.8889 Bi2Te3(mp-34202) + 0.3333 CsTe(mp-8361)"
          ],
          [
           "0.5122 CsTe4(mp-1178386) + 0.4878 CsBi(mp-1205121) + 0.439 Bi8Te9(mp-580062)"
          ],
          [
           "0.2727 CsTe4(mp-1178386) + 0.7273 CsBi(mp-1205121) + 1.6364 Bi2Te3(mp-34202)"
          ],
          [
           "0.6 CsTe4(mp-1178386) + 0.4 Bi8Te9(mp-580062) + 0.4 CsBi2(mp-23163)"
          ],
          [
           "0.1667 CsTe4(mp-1178386) + 0.5 Bi8Te9(mp-580062) + 0.8333 CsTe(mp-8361)"
          ],
          [
           "0.4286 CsTe4(mp-1178386) + 1.4286 Bi2Te3(mp-34202) + 0.5714 CsBi2(mp-23163)"
          ],
          [
           "0.5 CsBi(mp-1205121) + 1.75 Bi2Te3(mp-34202) + 0.25 Cs2Te3(mp-505634)"
          ],
          [
           "0.4 CsBi(mp-1205121) + 1.8 Bi2Te3(mp-34202) + 0.6 CsTe(mp-8361)"
          ],
          [
           "0.3333 Bi8Te9(mp-580062) + 0.6667 Bi2Te3(mp-34202) + 1.0 CsTe(mp-8361)"
          ],
          [
           "1.6667 Bi2Te3(mp-34202) + 0.3333 CsBi2(mp-23163) + 0.3333 Cs2Te3(mp-505634)"
          ],
          [
           "1.75 Bi2Te3(mp-34202) + 0.25 CsBi2(mp-23163) + 0.75 CsTe(mp-8361)"
          ]
         ],
         "hoverlabel": {
          "namelength": 0
         },
         "hovertemplate": "exp_precursors=0.0<br>n_competing=%{x}<br>barrier=%{y}<br>summary=%{customdata[0]}",
         "legendgroup": "exp_precursors=0.0",
         "marker": {
          "color": "#00cc96",
          "symbol": "circle"
         },
         "mode": "markers",
         "name": "exp_precursors=0.0",
         "showlegend": true,
         "type": "scatter",
         "x": [
          1,
          1,
          1,
          1,
          1,
          1,
          1,
          1,
          1,
          1,
          1,
          1,
          1,
          1,
          1,
          1,
          1,
          1,
          1,
          1
         ],
         "xaxis": "x",
         "y": [
          921242.1333528049,
          2995.4116282917826,
          35145.54725313986,
          34836.53189964181,
          463570.2411241763,
          25671.03516023103,
          142.97936655920495,
          135.6395742862907,
          735.2372937739624,
          1810.5884951201735,
          5083.8809734541055,
          957.4285304783972,
          377.5090678499729,
          94932.35895992257,
          443.28714407771827,
          7360.297933304528,
          18130.03598372989,
          1049447.746344794,
          7842.347268593401,
          14752.620113969859
         ],
         "yaxis": "y"
        }
       ],
       "layout": {
        "height": 600,
        "legend": {
         "tracegroupgap": 0
        },
        "margin": {
         "t": 60
        },
        "template": {
         "data": {
          "bar": [
           {
            "error_x": {
             "color": "#2a3f5f"
            },
            "error_y": {
             "color": "#2a3f5f"
            },
            "marker": {
             "line": {
              "color": "#E5ECF6",
              "width": 0.5
             }
            },
            "type": "bar"
           }
          ],
          "barpolar": [
           {
            "marker": {
             "line": {
              "color": "#E5ECF6",
              "width": 0.5
             }
            },
            "type": "barpolar"
           }
          ],
          "carpet": [
           {
            "aaxis": {
             "endlinecolor": "#2a3f5f",
             "gridcolor": "white",
             "linecolor": "white",
             "minorgridcolor": "white",
             "startlinecolor": "#2a3f5f"
            },
            "baxis": {
             "endlinecolor": "#2a3f5f",
             "gridcolor": "white",
             "linecolor": "white",
             "minorgridcolor": "white",
             "startlinecolor": "#2a3f5f"
            },
            "type": "carpet"
           }
          ],
          "choropleth": [
           {
            "colorbar": {
             "outlinewidth": 0,
             "ticks": ""
            },
            "type": "choropleth"
           }
          ],
          "contour": [
           {
            "colorbar": {
             "outlinewidth": 0,
             "ticks": ""
            },
            "colorscale": [
             [
              0,
              "#0d0887"
             ],
             [
              0.1111111111111111,
              "#46039f"
             ],
             [
              0.2222222222222222,
              "#7201a8"
             ],
             [
              0.3333333333333333,
              "#9c179e"
             ],
             [
              0.4444444444444444,
              "#bd3786"
             ],
             [
              0.5555555555555556,
              "#d8576b"
             ],
             [
              0.6666666666666666,
              "#ed7953"
             ],
             [
              0.7777777777777778,
              "#fb9f3a"
             ],
             [
              0.8888888888888888,
              "#fdca26"
             ],
             [
              1,
              "#f0f921"
             ]
            ],
            "type": "contour"
           }
          ],
          "contourcarpet": [
           {
            "colorbar": {
             "outlinewidth": 0,
             "ticks": ""
            },
            "type": "contourcarpet"
           }
          ],
          "heatmap": [
           {
            "colorbar": {
             "outlinewidth": 0,
             "ticks": ""
            },
            "colorscale": [
             [
              0,
              "#0d0887"
             ],
             [
              0.1111111111111111,
              "#46039f"
             ],
             [
              0.2222222222222222,
              "#7201a8"
             ],
             [
              0.3333333333333333,
              "#9c179e"
             ],
             [
              0.4444444444444444,
              "#bd3786"
             ],
             [
              0.5555555555555556,
              "#d8576b"
             ],
             [
              0.6666666666666666,
              "#ed7953"
             ],
             [
              0.7777777777777778,
              "#fb9f3a"
             ],
             [
              0.8888888888888888,
              "#fdca26"
             ],
             [
              1,
              "#f0f921"
             ]
            ],
            "type": "heatmap"
           }
          ],
          "heatmapgl": [
           {
            "colorbar": {
             "outlinewidth": 0,
             "ticks": ""
            },
            "colorscale": [
             [
              0,
              "#0d0887"
             ],
             [
              0.1111111111111111,
              "#46039f"
             ],
             [
              0.2222222222222222,
              "#7201a8"
             ],
             [
              0.3333333333333333,
              "#9c179e"
             ],
             [
              0.4444444444444444,
              "#bd3786"
             ],
             [
              0.5555555555555556,
              "#d8576b"
             ],
             [
              0.6666666666666666,
              "#ed7953"
             ],
             [
              0.7777777777777778,
              "#fb9f3a"
             ],
             [
              0.8888888888888888,
              "#fdca26"
             ],
             [
              1,
              "#f0f921"
             ]
            ],
            "type": "heatmapgl"
           }
          ],
          "histogram": [
           {
            "marker": {
             "colorbar": {
              "outlinewidth": 0,
              "ticks": ""
             }
            },
            "type": "histogram"
           }
          ],
          "histogram2d": [
           {
            "colorbar": {
             "outlinewidth": 0,
             "ticks": ""
            },
            "colorscale": [
             [
              0,
              "#0d0887"
             ],
             [
              0.1111111111111111,
              "#46039f"
             ],
             [
              0.2222222222222222,
              "#7201a8"
             ],
             [
              0.3333333333333333,
              "#9c179e"
             ],
             [
              0.4444444444444444,
              "#bd3786"
             ],
             [
              0.5555555555555556,
              "#d8576b"
             ],
             [
              0.6666666666666666,
              "#ed7953"
             ],
             [
              0.7777777777777778,
              "#fb9f3a"
             ],
             [
              0.8888888888888888,
              "#fdca26"
             ],
             [
              1,
              "#f0f921"
             ]
            ],
            "type": "histogram2d"
           }
          ],
          "histogram2dcontour": [
           {
            "colorbar": {
             "outlinewidth": 0,
             "ticks": ""
            },
            "colorscale": [
             [
              0,
              "#0d0887"
             ],
             [
              0.1111111111111111,
              "#46039f"
             ],
             [
              0.2222222222222222,
              "#7201a8"
             ],
             [
              0.3333333333333333,
              "#9c179e"
             ],
             [
              0.4444444444444444,
              "#bd3786"
             ],
             [
              0.5555555555555556,
              "#d8576b"
             ],
             [
              0.6666666666666666,
              "#ed7953"
             ],
             [
              0.7777777777777778,
              "#fb9f3a"
             ],
             [
              0.8888888888888888,
              "#fdca26"
             ],
             [
              1,
              "#f0f921"
             ]
            ],
            "type": "histogram2dcontour"
           }
          ],
          "mesh3d": [
           {
            "colorbar": {
             "outlinewidth": 0,
             "ticks": ""
            },
            "type": "mesh3d"
           }
          ],
          "parcoords": [
           {
            "line": {
             "colorbar": {
              "outlinewidth": 0,
              "ticks": ""
             }
            },
            "type": "parcoords"
           }
          ],
          "scatter": [
           {
            "marker": {
             "colorbar": {
              "outlinewidth": 0,
              "ticks": ""
             }
            },
            "type": "scatter"
           }
          ],
          "scatter3d": [
           {
            "line": {
             "colorbar": {
              "outlinewidth": 0,
              "ticks": ""
             }
            },
            "marker": {
             "colorbar": {
              "outlinewidth": 0,
              "ticks": ""
             }
            },
            "type": "scatter3d"
           }
          ],
          "scattercarpet": [
           {
            "marker": {
             "colorbar": {
              "outlinewidth": 0,
              "ticks": ""
             }
            },
            "type": "scattercarpet"
           }
          ],
          "scattergeo": [
           {
            "marker": {
             "colorbar": {
              "outlinewidth": 0,
              "ticks": ""
             }
            },
            "type": "scattergeo"
           }
          ],
          "scattergl": [
           {
            "marker": {
             "colorbar": {
              "outlinewidth": 0,
              "ticks": ""
             }
            },
            "type": "scattergl"
           }
          ],
          "scattermapbox": [
           {
            "marker": {
             "colorbar": {
              "outlinewidth": 0,
              "ticks": ""
             }
            },
            "type": "scattermapbox"
           }
          ],
          "scatterpolar": [
           {
            "marker": {
             "colorbar": {
              "outlinewidth": 0,
              "ticks": ""
             }
            },
            "type": "scatterpolar"
           }
          ],
          "scatterpolargl": [
           {
            "marker": {
             "colorbar": {
              "outlinewidth": 0,
              "ticks": ""
             }
            },
            "type": "scatterpolargl"
           }
          ],
          "scatterternary": [
           {
            "marker": {
             "colorbar": {
              "outlinewidth": 0,
              "ticks": ""
             }
            },
            "type": "scatterternary"
           }
          ],
          "surface": [
           {
            "colorbar": {
             "outlinewidth": 0,
             "ticks": ""
            },
            "colorscale": [
             [
              0,
              "#0d0887"
             ],
             [
              0.1111111111111111,
              "#46039f"
             ],
             [
              0.2222222222222222,
              "#7201a8"
             ],
             [
              0.3333333333333333,
              "#9c179e"
             ],
             [
              0.4444444444444444,
              "#bd3786"
             ],
             [
              0.5555555555555556,
              "#d8576b"
             ],
             [
              0.6666666666666666,
              "#ed7953"
             ],
             [
              0.7777777777777778,
              "#fb9f3a"
             ],
             [
              0.8888888888888888,
              "#fdca26"
             ],
             [
              1,
              "#f0f921"
             ]
            ],
            "type": "surface"
           }
          ],
          "table": [
           {
            "cells": {
             "fill": {
              "color": "#EBF0F8"
             },
             "line": {
              "color": "white"
             }
            },
            "header": {
             "fill": {
              "color": "#C8D4E3"
             },
             "line": {
              "color": "white"
             }
            },
            "type": "table"
           }
          ]
         },
         "layout": {
          "annotationdefaults": {
           "arrowcolor": "#2a3f5f",
           "arrowhead": 0,
           "arrowwidth": 1
          },
          "colorscale": {
           "diverging": [
            [
             0,
             "#8e0152"
            ],
            [
             0.1,
             "#c51b7d"
            ],
            [
             0.2,
             "#de77ae"
            ],
            [
             0.3,
             "#f1b6da"
            ],
            [
             0.4,
             "#fde0ef"
            ],
            [
             0.5,
             "#f7f7f7"
            ],
            [
             0.6,
             "#e6f5d0"
            ],
            [
             0.7,
             "#b8e186"
            ],
            [
             0.8,
             "#7fbc41"
            ],
            [
             0.9,
             "#4d9221"
            ],
            [
             1,
             "#276419"
            ]
           ],
           "sequential": [
            [
             0,
             "#0d0887"
            ],
            [
             0.1111111111111111,
             "#46039f"
            ],
            [
             0.2222222222222222,
             "#7201a8"
            ],
            [
             0.3333333333333333,
             "#9c179e"
            ],
            [
             0.4444444444444444,
             "#bd3786"
            ],
            [
             0.5555555555555556,
             "#d8576b"
            ],
            [
             0.6666666666666666,
             "#ed7953"
            ],
            [
             0.7777777777777778,
             "#fb9f3a"
            ],
            [
             0.8888888888888888,
             "#fdca26"
            ],
            [
             1,
             "#f0f921"
            ]
           ],
           "sequentialminus": [
            [
             0,
             "#0d0887"
            ],
            [
             0.1111111111111111,
             "#46039f"
            ],
            [
             0.2222222222222222,
             "#7201a8"
            ],
            [
             0.3333333333333333,
             "#9c179e"
            ],
            [
             0.4444444444444444,
             "#bd3786"
            ],
            [
             0.5555555555555556,
             "#d8576b"
            ],
            [
             0.6666666666666666,
             "#ed7953"
            ],
            [
             0.7777777777777778,
             "#fb9f3a"
            ],
            [
             0.8888888888888888,
             "#fdca26"
            ],
            [
             1,
             "#f0f921"
            ]
           ]
          },
          "colorway": [
           "#636efa",
           "#EF553B",
           "#00cc96",
           "#ab63fa",
           "#FFA15A",
           "#19d3f3",
           "#FF6692",
           "#B6E880",
           "#FF97FF",
           "#FECB52"
          ],
          "font": {
           "color": "#2a3f5f"
          },
          "geo": {
           "bgcolor": "white",
           "lakecolor": "white",
           "landcolor": "#E5ECF6",
           "showlakes": true,
           "showland": true,
           "subunitcolor": "white"
          },
          "hoverlabel": {
           "align": "left"
          },
          "hovermode": "closest",
          "mapbox": {
           "style": "light"
          },
          "paper_bgcolor": "white",
          "plot_bgcolor": "#E5ECF6",
          "polar": {
           "angularaxis": {
            "gridcolor": "white",
            "linecolor": "white",
            "ticks": ""
           },
           "bgcolor": "#E5ECF6",
           "radialaxis": {
            "gridcolor": "white",
            "linecolor": "white",
            "ticks": ""
           }
          },
          "scene": {
           "xaxis": {
            "backgroundcolor": "#E5ECF6",
            "gridcolor": "white",
            "gridwidth": 2,
            "linecolor": "white",
            "showbackground": true,
            "ticks": "",
            "zerolinecolor": "white"
           },
           "yaxis": {
            "backgroundcolor": "#E5ECF6",
            "gridcolor": "white",
            "gridwidth": 2,
            "linecolor": "white",
            "showbackground": true,
            "ticks": "",
            "zerolinecolor": "white"
           },
           "zaxis": {
            "backgroundcolor": "#E5ECF6",
            "gridcolor": "white",
            "gridwidth": 2,
            "linecolor": "white",
            "showbackground": true,
            "ticks": "",
            "zerolinecolor": "white"
           }
          },
          "shapedefaults": {
           "line": {
            "color": "#2a3f5f"
           }
          },
          "ternary": {
           "aaxis": {
            "gridcolor": "white",
            "linecolor": "white",
            "ticks": ""
           },
           "baxis": {
            "gridcolor": "white",
            "linecolor": "white",
            "ticks": ""
           },
           "bgcolor": "#E5ECF6",
           "caxis": {
            "gridcolor": "white",
            "linecolor": "white",
            "ticks": ""
           }
          },
          "title": {
           "x": 0.05
          },
          "xaxis": {
           "automargin": true,
           "gridcolor": "white",
           "linecolor": "white",
           "ticks": "",
           "zerolinecolor": "white",
           "zerolinewidth": 2
          },
          "yaxis": {
           "automargin": true,
           "gridcolor": "white",
           "linecolor": "white",
           "ticks": "",
           "zerolinecolor": "white",
           "zerolinewidth": 2
          }
         }
        },
        "title": {
         "text": "Synthesis target: Cs(Bi2Te3)2"
        },
        "xaxis": {
         "anchor": "y",
         "domain": [
          0,
          0.98
         ],
         "title": {
          "text": "N competing phases"
         }
        },
        "yaxis": {
         "anchor": "x",
         "domain": [
          0,
          1
         ],
         "title": {
          "text": "Barrier (a.u.)"
         }
        }
       }
      },
      "text/html": [
       "<div>\n",
       "        \n",
       "        \n",
       "            <div id=\"e7983573-1692-4252-b4f2-4386149d6959\" class=\"plotly-graph-div\" style=\"height:600px; width:100%;\"></div>\n",
       "            <script type=\"text/javascript\">\n",
       "                require([\"plotly\"], function(Plotly) {\n",
       "                    window.PLOTLYENV=window.PLOTLYENV || {};\n",
       "                    \n",
       "                if (document.getElementById(\"e7983573-1692-4252-b4f2-4386149d6959\")) {\n",
       "                    Plotly.newPlot(\n",
       "                        'e7983573-1692-4252-b4f2-4386149d6959',\n",
       "                        [{\"customdata\": [[\"4.0 Bi(mp-23152) + 0.5 Cs2Te(mp-573763) + 5.5 Te(mp-19)\"], [\"3.6667 Bi(mp-23152) + 0.3333 Cs3Bi(mp-635413) + 6.0 Te(mp-19)\"], [\"4.0 Bi(mp-23152) + 1.0 CsTe4(mp-1178386) + 2.0 Te(mp-19)\"], [\"3.0 Bi(mp-23152) + 1.0 CsBi(mp-1205121) + 6.0 Te(mp-19)\"], [\"2.0 Bi(mp-23152) + 6.0 Te(mp-19) + 1.0 CsBi2(mp-23163)\"], [\"4.0 Bi(mp-23152) + 4.5 Te(mp-19) + 0.5 Cs2Te3(mp-505634)\"], [\"4.0 Bi(mp-23152) + 5.0 Te(mp-19) + 1.0 CsTe(mp-8361)\"]], \"hoverlabel\": {\"namelength\": 0}, \"hovertemplate\": \"exp_precursors=0.6667<br>n_competing=%{x}<br>barrier=%{y}<br>summary=%{customdata[0]}\", \"legendgroup\": \"exp_precursors=0.6667\", \"marker\": {\"color\": \"#636efa\", \"symbol\": \"circle\"}, \"mode\": \"markers\", \"name\": \"exp_precursors=0.6667\", \"showlegend\": true, \"type\": \"scatter\", \"x\": [1, 1, 1, 1, 1, 1, 1], \"xaxis\": \"x\", \"y\": [279.9068274398595, 64.48988735197918, 16.853577930337362, 105.03007697456358, 21.04349033463965, 83.21678897626983, 517.2798274121515], \"yaxis\": \"y\"}, {\"customdata\": [[\"0.3333 Bi(mp-23152) + 0.5 Cs2Te(mp-573763) + 1.8333 Bi2Te3(mp-34202)\"], [\"2.2222 Bi(mp-23152) + 1.0 CsTe4(mp-1178386) + 0.2222 Bi8Te9(mp-580062)\"], [\"2.6667 Bi(mp-23152) + 1.0 CsTe4(mp-1178386) + 0.6667 Bi2Te3(mp-34202)\"], [\"1.0 Bi(mp-23152) + 1.5 Bi2Te3(mp-34202) + 0.5 Cs2Te3(mp-505634)\"], [\"0.6667 Bi(mp-23152) + 1.6667 Bi2Te3(mp-34202) + 1.0 CsTe(mp-8361)\"], [\"0.5 Cs2Te(mp-573763) + 1.0 Te(mp-19) + 0.5 Bi8Te9(mp-580062)\"], [\"0.3333 Cs3Bi(mp-635413) + 1.875 Te(mp-19) + 0.4583 Bi8Te9(mp-580062)\"], [\"0.3333 Cs3Bi(mp-635413) + 0.5 Te(mp-19) + 1.8333 Bi2Te3(mp-34202)\"], [\"1.0 CsBi(mp-1205121) + 2.625 Te(mp-19) + 0.375 Bi8Te9(mp-580062)\"], [\"1.0 CsBi(mp-1205121) + 1.5 Te(mp-19) + 1.5 Bi2Te3(mp-34202)\"], [\"3.75 Te(mp-19) + 0.25 Bi8Te9(mp-580062) + 1.0 CsBi2(mp-23163)\"], [\"0.5 Te(mp-19) + 0.5 Bi8Te9(mp-580062) + 1.0 CsTe(mp-8361)\"], [\"3.0 Te(mp-19) + 1.0 Bi2Te3(mp-34202) + 1.0 CsBi2(mp-23163)\"]], \"hoverlabel\": {\"namelength\": 0}, \"hovertemplate\": \"exp_precursors=0.3333<br>n_competing=%{x}<br>barrier=%{y}<br>summary=%{customdata[0]}\", \"legendgroup\": \"exp_precursors=0.3333\", \"marker\": {\"color\": \"#EF553B\", \"symbol\": \"circle\"}, \"mode\": \"markers\", \"name\": \"exp_precursors=0.3333\", \"showlegend\": true, \"type\": \"scatter\", \"x\": [1, 1, 1, 1, 1, 1, 1, 1, 1, 1, 1, 1, 1], \"xaxis\": \"x\", \"y\": [172544.2140728583, 55.31518133626285, 54.61649287751536, 44152.50565044255, 293587.9845860485, 6470.12005711799, 265.24918118108917, 591.4517187938355, 447.61824434604296, 859.1520806965925, 107.96688950080821, 23837.09113214561, 146.54409384768232], \"yaxis\": \"y\"}, {\"customdata\": [[\"0.5 Bi8Te9(mp-580062) + 0.5 Cs2Te3(mp-505634)\"], [\"0.25 Cs2Te(mp-573763) + 0.1667 Cs3Bi(mp-635413) + 1.9167 Bi2Te3(mp-34202)\"], [\"0.3571 Cs2Te(mp-573763) + 0.2857 CsTe4(mp-1178386) + 0.5 Bi8Te9(mp-580062)\"], [\"0.375 Cs2Te(mp-573763) + 0.25 CsBi(mp-1205121) + 1.875 Bi2Te3(mp-34202)\"], [\"0.5 Cs2Te(mp-573763) + 0.1667 Bi8Te9(mp-580062) + 1.3333 Bi2Te3(mp-34202)\"], [\"0.4286 Cs2Te(mp-573763) + 1.8571 Bi2Te3(mp-34202) + 0.1429 CsBi2(mp-23163)\"], [\"0.1905 Cs3Bi(mp-635413) + 0.4286 CsTe4(mp-1178386) + 0.4762 Bi8Te9(mp-580062)\"], [\"0.2963 Cs3Bi(mp-635413) + 0.1111 CsTe4(mp-1178386) + 1.8519 Bi2Te3(mp-34202)\"], [\"0.25 Cs3Bi(mp-635413) + 1.875 Bi2Te3(mp-34202) + 0.125 Cs2Te3(mp-505634)\"], [\"0.2222 Cs3Bi(mp-635413) + 1.8889 Bi2Te3(mp-34202) + 0.3333 CsTe(mp-8361)\"], [\"0.5122 CsTe4(mp-1178386) + 0.4878 CsBi(mp-1205121) + 0.439 Bi8Te9(mp-580062)\"], [\"0.2727 CsTe4(mp-1178386) + 0.7273 CsBi(mp-1205121) + 1.6364 Bi2Te3(mp-34202)\"], [\"0.6 CsTe4(mp-1178386) + 0.4 Bi8Te9(mp-580062) + 0.4 CsBi2(mp-23163)\"], [\"0.1667 CsTe4(mp-1178386) + 0.5 Bi8Te9(mp-580062) + 0.8333 CsTe(mp-8361)\"], [\"0.4286 CsTe4(mp-1178386) + 1.4286 Bi2Te3(mp-34202) + 0.5714 CsBi2(mp-23163)\"], [\"0.5 CsBi(mp-1205121) + 1.75 Bi2Te3(mp-34202) + 0.25 Cs2Te3(mp-505634)\"], [\"0.4 CsBi(mp-1205121) + 1.8 Bi2Te3(mp-34202) + 0.6 CsTe(mp-8361)\"], [\"0.3333 Bi8Te9(mp-580062) + 0.6667 Bi2Te3(mp-34202) + 1.0 CsTe(mp-8361)\"], [\"1.6667 Bi2Te3(mp-34202) + 0.3333 CsBi2(mp-23163) + 0.3333 Cs2Te3(mp-505634)\"], [\"1.75 Bi2Te3(mp-34202) + 0.25 CsBi2(mp-23163) + 0.75 CsTe(mp-8361)\"]], \"hoverlabel\": {\"namelength\": 0}, \"hovertemplate\": \"exp_precursors=0.0<br>n_competing=%{x}<br>barrier=%{y}<br>summary=%{customdata[0]}\", \"legendgroup\": \"exp_precursors=0.0\", \"marker\": {\"color\": \"#00cc96\", \"symbol\": \"circle\"}, \"mode\": \"markers\", \"name\": \"exp_precursors=0.0\", \"showlegend\": true, \"type\": \"scatter\", \"x\": [1, 1, 1, 1, 1, 1, 1, 1, 1, 1, 1, 1, 1, 1, 1, 1, 1, 1, 1, 1], \"xaxis\": \"x\", \"y\": [921242.1333528049, 2995.4116282917826, 35145.54725313986, 34836.53189964181, 463570.2411241763, 25671.03516023103, 142.97936655920495, 135.6395742862907, 735.2372937739624, 1810.5884951201735, 5083.8809734541055, 957.4285304783972, 377.5090678499729, 94932.35895992257, 443.28714407771827, 7360.297933304528, 18130.03598372989, 1049447.746344794, 7842.347268593401, 14752.620113969859], \"yaxis\": \"y\"}],\n",
       "                        {\"height\": 600, \"legend\": {\"tracegroupgap\": 0}, \"margin\": {\"t\": 60}, \"template\": {\"data\": {\"bar\": [{\"error_x\": {\"color\": \"#2a3f5f\"}, \"error_y\": {\"color\": \"#2a3f5f\"}, \"marker\": {\"line\": {\"color\": \"#E5ECF6\", \"width\": 0.5}}, \"type\": \"bar\"}], \"barpolar\": [{\"marker\": {\"line\": {\"color\": \"#E5ECF6\", \"width\": 0.5}}, \"type\": \"barpolar\"}], \"carpet\": [{\"aaxis\": {\"endlinecolor\": \"#2a3f5f\", \"gridcolor\": \"white\", \"linecolor\": \"white\", \"minorgridcolor\": \"white\", \"startlinecolor\": \"#2a3f5f\"}, \"baxis\": {\"endlinecolor\": \"#2a3f5f\", \"gridcolor\": \"white\", \"linecolor\": \"white\", \"minorgridcolor\": \"white\", \"startlinecolor\": \"#2a3f5f\"}, \"type\": \"carpet\"}], \"choropleth\": [{\"colorbar\": {\"outlinewidth\": 0, \"ticks\": \"\"}, \"type\": \"choropleth\"}], \"contour\": [{\"colorbar\": {\"outlinewidth\": 0, \"ticks\": \"\"}, \"colorscale\": [[0.0, \"#0d0887\"], [0.1111111111111111, \"#46039f\"], [0.2222222222222222, \"#7201a8\"], [0.3333333333333333, \"#9c179e\"], [0.4444444444444444, \"#bd3786\"], [0.5555555555555556, \"#d8576b\"], [0.6666666666666666, \"#ed7953\"], [0.7777777777777778, \"#fb9f3a\"], [0.8888888888888888, \"#fdca26\"], [1.0, \"#f0f921\"]], \"type\": \"contour\"}], \"contourcarpet\": [{\"colorbar\": {\"outlinewidth\": 0, \"ticks\": \"\"}, \"type\": \"contourcarpet\"}], \"heatmap\": [{\"colorbar\": {\"outlinewidth\": 0, \"ticks\": \"\"}, \"colorscale\": [[0.0, \"#0d0887\"], [0.1111111111111111, \"#46039f\"], [0.2222222222222222, \"#7201a8\"], [0.3333333333333333, \"#9c179e\"], [0.4444444444444444, \"#bd3786\"], [0.5555555555555556, \"#d8576b\"], [0.6666666666666666, \"#ed7953\"], [0.7777777777777778, \"#fb9f3a\"], [0.8888888888888888, \"#fdca26\"], [1.0, \"#f0f921\"]], \"type\": \"heatmap\"}], \"heatmapgl\": [{\"colorbar\": {\"outlinewidth\": 0, \"ticks\": \"\"}, \"colorscale\": [[0.0, \"#0d0887\"], [0.1111111111111111, \"#46039f\"], [0.2222222222222222, \"#7201a8\"], [0.3333333333333333, \"#9c179e\"], [0.4444444444444444, \"#bd3786\"], [0.5555555555555556, \"#d8576b\"], [0.6666666666666666, \"#ed7953\"], [0.7777777777777778, \"#fb9f3a\"], [0.8888888888888888, \"#fdca26\"], [1.0, \"#f0f921\"]], \"type\": \"heatmapgl\"}], \"histogram\": [{\"marker\": {\"colorbar\": {\"outlinewidth\": 0, \"ticks\": \"\"}}, \"type\": \"histogram\"}], \"histogram2d\": [{\"colorbar\": {\"outlinewidth\": 0, \"ticks\": \"\"}, \"colorscale\": [[0.0, \"#0d0887\"], [0.1111111111111111, \"#46039f\"], [0.2222222222222222, \"#7201a8\"], [0.3333333333333333, \"#9c179e\"], [0.4444444444444444, \"#bd3786\"], [0.5555555555555556, \"#d8576b\"], [0.6666666666666666, \"#ed7953\"], [0.7777777777777778, \"#fb9f3a\"], [0.8888888888888888, \"#fdca26\"], [1.0, \"#f0f921\"]], \"type\": \"histogram2d\"}], \"histogram2dcontour\": [{\"colorbar\": {\"outlinewidth\": 0, \"ticks\": \"\"}, \"colorscale\": [[0.0, \"#0d0887\"], [0.1111111111111111, \"#46039f\"], [0.2222222222222222, \"#7201a8\"], [0.3333333333333333, \"#9c179e\"], [0.4444444444444444, \"#bd3786\"], [0.5555555555555556, \"#d8576b\"], [0.6666666666666666, \"#ed7953\"], [0.7777777777777778, \"#fb9f3a\"], [0.8888888888888888, \"#fdca26\"], [1.0, \"#f0f921\"]], \"type\": \"histogram2dcontour\"}], \"mesh3d\": [{\"colorbar\": {\"outlinewidth\": 0, \"ticks\": \"\"}, \"type\": \"mesh3d\"}], \"parcoords\": [{\"line\": {\"colorbar\": {\"outlinewidth\": 0, \"ticks\": \"\"}}, \"type\": \"parcoords\"}], \"scatter\": [{\"marker\": {\"colorbar\": {\"outlinewidth\": 0, \"ticks\": \"\"}}, \"type\": \"scatter\"}], \"scatter3d\": [{\"line\": {\"colorbar\": {\"outlinewidth\": 0, \"ticks\": \"\"}}, \"marker\": {\"colorbar\": {\"outlinewidth\": 0, \"ticks\": \"\"}}, \"type\": \"scatter3d\"}], \"scattercarpet\": [{\"marker\": {\"colorbar\": {\"outlinewidth\": 0, \"ticks\": \"\"}}, \"type\": \"scattercarpet\"}], \"scattergeo\": [{\"marker\": {\"colorbar\": {\"outlinewidth\": 0, \"ticks\": \"\"}}, \"type\": \"scattergeo\"}], \"scattergl\": [{\"marker\": {\"colorbar\": {\"outlinewidth\": 0, \"ticks\": \"\"}}, \"type\": \"scattergl\"}], \"scattermapbox\": [{\"marker\": {\"colorbar\": {\"outlinewidth\": 0, \"ticks\": \"\"}}, \"type\": \"scattermapbox\"}], \"scatterpolar\": [{\"marker\": {\"colorbar\": {\"outlinewidth\": 0, \"ticks\": \"\"}}, \"type\": \"scatterpolar\"}], \"scatterpolargl\": [{\"marker\": {\"colorbar\": {\"outlinewidth\": 0, \"ticks\": \"\"}}, \"type\": \"scatterpolargl\"}], \"scatterternary\": [{\"marker\": {\"colorbar\": {\"outlinewidth\": 0, \"ticks\": \"\"}}, \"type\": \"scatterternary\"}], \"surface\": [{\"colorbar\": {\"outlinewidth\": 0, \"ticks\": \"\"}, \"colorscale\": [[0.0, \"#0d0887\"], [0.1111111111111111, \"#46039f\"], [0.2222222222222222, \"#7201a8\"], [0.3333333333333333, \"#9c179e\"], [0.4444444444444444, \"#bd3786\"], [0.5555555555555556, \"#d8576b\"], [0.6666666666666666, \"#ed7953\"], [0.7777777777777778, \"#fb9f3a\"], [0.8888888888888888, \"#fdca26\"], [1.0, \"#f0f921\"]], \"type\": \"surface\"}], \"table\": [{\"cells\": {\"fill\": {\"color\": \"#EBF0F8\"}, \"line\": {\"color\": \"white\"}}, \"header\": {\"fill\": {\"color\": \"#C8D4E3\"}, \"line\": {\"color\": \"white\"}}, \"type\": \"table\"}]}, \"layout\": {\"annotationdefaults\": {\"arrowcolor\": \"#2a3f5f\", \"arrowhead\": 0, \"arrowwidth\": 1}, \"colorscale\": {\"diverging\": [[0, \"#8e0152\"], [0.1, \"#c51b7d\"], [0.2, \"#de77ae\"], [0.3, \"#f1b6da\"], [0.4, \"#fde0ef\"], [0.5, \"#f7f7f7\"], [0.6, \"#e6f5d0\"], [0.7, \"#b8e186\"], [0.8, \"#7fbc41\"], [0.9, \"#4d9221\"], [1, \"#276419\"]], \"sequential\": [[0.0, \"#0d0887\"], [0.1111111111111111, \"#46039f\"], [0.2222222222222222, \"#7201a8\"], [0.3333333333333333, \"#9c179e\"], [0.4444444444444444, \"#bd3786\"], [0.5555555555555556, \"#d8576b\"], [0.6666666666666666, \"#ed7953\"], [0.7777777777777778, \"#fb9f3a\"], [0.8888888888888888, \"#fdca26\"], [1.0, \"#f0f921\"]], \"sequentialminus\": [[0.0, \"#0d0887\"], [0.1111111111111111, \"#46039f\"], [0.2222222222222222, \"#7201a8\"], [0.3333333333333333, \"#9c179e\"], [0.4444444444444444, \"#bd3786\"], [0.5555555555555556, \"#d8576b\"], [0.6666666666666666, \"#ed7953\"], [0.7777777777777778, \"#fb9f3a\"], [0.8888888888888888, \"#fdca26\"], [1.0, \"#f0f921\"]]}, \"colorway\": [\"#636efa\", \"#EF553B\", \"#00cc96\", \"#ab63fa\", \"#FFA15A\", \"#19d3f3\", \"#FF6692\", \"#B6E880\", \"#FF97FF\", \"#FECB52\"], \"font\": {\"color\": \"#2a3f5f\"}, \"geo\": {\"bgcolor\": \"white\", \"lakecolor\": \"white\", \"landcolor\": \"#E5ECF6\", \"showlakes\": true, \"showland\": true, \"subunitcolor\": \"white\"}, \"hoverlabel\": {\"align\": \"left\"}, \"hovermode\": \"closest\", \"mapbox\": {\"style\": \"light\"}, \"paper_bgcolor\": \"white\", \"plot_bgcolor\": \"#E5ECF6\", \"polar\": {\"angularaxis\": {\"gridcolor\": \"white\", \"linecolor\": \"white\", \"ticks\": \"\"}, \"bgcolor\": \"#E5ECF6\", \"radialaxis\": {\"gridcolor\": \"white\", \"linecolor\": \"white\", \"ticks\": \"\"}}, \"scene\": {\"xaxis\": {\"backgroundcolor\": \"#E5ECF6\", \"gridcolor\": \"white\", \"gridwidth\": 2, \"linecolor\": \"white\", \"showbackground\": true, \"ticks\": \"\", \"zerolinecolor\": \"white\"}, \"yaxis\": {\"backgroundcolor\": \"#E5ECF6\", \"gridcolor\": \"white\", \"gridwidth\": 2, \"linecolor\": \"white\", \"showbackground\": true, \"ticks\": \"\", \"zerolinecolor\": \"white\"}, \"zaxis\": {\"backgroundcolor\": \"#E5ECF6\", \"gridcolor\": \"white\", \"gridwidth\": 2, \"linecolor\": \"white\", \"showbackground\": true, \"ticks\": \"\", \"zerolinecolor\": \"white\"}}, \"shapedefaults\": {\"line\": {\"color\": \"#2a3f5f\"}}, \"ternary\": {\"aaxis\": {\"gridcolor\": \"white\", \"linecolor\": \"white\", \"ticks\": \"\"}, \"baxis\": {\"gridcolor\": \"white\", \"linecolor\": \"white\", \"ticks\": \"\"}, \"bgcolor\": \"#E5ECF6\", \"caxis\": {\"gridcolor\": \"white\", \"linecolor\": \"white\", \"ticks\": \"\"}}, \"title\": {\"x\": 0.05}, \"xaxis\": {\"automargin\": true, \"gridcolor\": \"white\", \"linecolor\": \"white\", \"ticks\": \"\", \"zerolinecolor\": \"white\", \"zerolinewidth\": 2}, \"yaxis\": {\"automargin\": true, \"gridcolor\": \"white\", \"linecolor\": \"white\", \"ticks\": \"\", \"zerolinecolor\": \"white\", \"zerolinewidth\": 2}}}, \"title\": {\"text\": \"Synthesis target: Cs(Bi2Te3)2\"}, \"xaxis\": {\"anchor\": \"y\", \"domain\": [0.0, 0.98], \"title\": {\"text\": \"N competing phases\"}}, \"yaxis\": {\"anchor\": \"x\", \"domain\": [0.0, 1.0], \"title\": {\"text\": \"Barrier (a.u.)\"}}},\n",
       "                        {\"responsive\": true}\n",
       "                    ).then(function(){\n",
       "                            \n",
       "var gd = document.getElementById('e7983573-1692-4252-b4f2-4386149d6959');\n",
       "var x = new MutationObserver(function (mutations, observer) {{\n",
       "        var display = window.getComputedStyle(gd).display;\n",
       "        if (!display || display === 'none') {{\n",
       "            console.log([gd, 'removed!']);\n",
       "            Plotly.purge(gd);\n",
       "            observer.disconnect();\n",
       "        }}\n",
       "}});\n",
       "\n",
       "// Listen for the removal of the full notebook cells\n",
       "var notebookContainer = gd.closest('#notebook-container');\n",
       "if (notebookContainer) {{\n",
       "    x.observe(notebookContainer, {childList: true});\n",
       "}}\n",
       "\n",
       "// Listen for the clearing of the current output cell\n",
       "var outputEl = gd.closest('.output');\n",
       "if (outputEl) {{\n",
       "    x.observe(outputEl, {childList: true});\n",
       "}}\n",
       "\n",
       "                        })\n",
       "                };\n",
       "                });\n",
       "            </script>\n",
       "        </div>"
      ]
     },
     "metadata": {},
     "output_type": "display_data"
    }
   ],
   "source": [
    "router.recommend_routes(temperature=298, pressure=None, allow_gas_release=False, show_known_precursors_only=False)"
   ]
  },
  {
   "cell_type": "code",
   "execution_count": 12,
   "metadata": {},
   "outputs": [
    {
     "data": {
      "text/plain": [
       "{'mp-23152': 66.34641859841508,\n",
       " 'mp-573763': 1000000.0,\n",
       " 'mp-635413': 136.40268231565508,\n",
       " 'mp-1178386': 1000000.0,\n",
       " 'mp-1205121': 1000000.0,\n",
       " 'mp-19': 268.93293589395785,\n",
       " 'mp-580062': 1000000.0,\n",
       " 'mp-34202': 318.75707536243084,\n",
       " 'mp-23163': 193.74516137852288,\n",
       " 'mp-505634': 1000000.0,\n",
       " 'mp-8361': 1000000.0}"
      ]
     },
     "execution_count": 12,
     "metadata": {},
     "output_type": "execute_result"
    }
   ],
   "source": [
    "router.epitaxies"
   ]
  },
  {
   "cell_type": "code",
   "execution_count": null,
   "metadata": {},
   "outputs": [],
   "source": []
  }
 ],
 "metadata": {
  "kernelspec": {
   "display_name": "Python 3",
   "language": "python",
   "name": "python3"
  },
  "language_info": {
   "codemirror_mode": {
    "name": "ipython",
    "version": 3
   },
   "file_extension": ".py",
   "mimetype": "text/x-python",
   "name": "python",
   "nbconvert_exporter": "python",
   "pygments_lexer": "ipython3",
   "version": "3.7.4"
  }
 },
 "nbformat": 4,
 "nbformat_minor": 2
}

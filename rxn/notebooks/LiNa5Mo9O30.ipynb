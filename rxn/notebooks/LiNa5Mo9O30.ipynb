{
 "cells": [
  {
   "cell_type": "code",
   "execution_count": 1,
   "metadata": {
    "pycharm": {
     "is_executing": false
    }
   },
   "outputs": [],
   "source": [
    "from rxn.route import SynthesisRoutes\n",
    "mp_id = 'mp-1195001'"
   ]
  },
  {
   "cell_type": "code",
   "execution_count": 2,
   "metadata": {},
   "outputs": [
    {
     "name": "stderr",
     "output_type": "stream",
     "text": [
      "[Parallel(n_jobs=-1)]: Using backend LokyBackend with 8 concurrent workers.\n",
      "[Parallel(n_jobs=-1)]: Done  22 out of  22 | elapsed:  1.4min finished\n"
     ]
    },
    {
     "name": "stdout",
     "output_type": "stream",
     "text": [
      "Epitaxies ready\n",
      "Similarity matrix ready\n",
      "Precursor library ready.\n"
     ]
    }
   ],
   "source": [
    "router = SynthesisRoutes(mp_id, add_element='C', pressure=None)"
   ]
  },
  {
   "cell_type": "code",
   "execution_count": 6,
   "metadata": {},
   "outputs": [
    {
     "data": {
      "application/vnd.plotly.v1+json": {
       "config": {
        "plotlyServerURL": "https://plot.ly"
       },
       "data": [
        {
         "customdata": [
          [
           "2.5 Na2O2(mp-2340) + 9.0 Mo(mp-129) + 0.5 Li2O(mp-1960) + 12.25 O2(mp-1091399)"
          ],
          [
           "2.5 Na2O2(mp-2340) + 9.0 Mo(mp-129) + 1.0 Li(mp-135) + 12.5 O2(mp-1091399)"
          ],
          [
           "2.5 Na2O2(mp-2340) + 9.0 Mo(mp-129) + 0.5 Li2O2(mp-841) + 12.0 O2(mp-1091399)"
          ],
          [
           "2.5 Na2O2(mp-2340) + 0.5 Li2O(mp-1960) + 9.0 MoO2(mp-510536) + 3.25 O2(mp-1091399)"
          ],
          [
           "2.5 Na2O2(mp-2340) + 9.0 MoO2(mp-510536) + 1.0 Li(mp-135) + 3.5 O2(mp-1091399)"
          ],
          [
           "2.5 Na2O2(mp-2340) + 9.0 MoO2(mp-510536) + 0.5 Li2O2(mp-841) + 3.0 O2(mp-1091399)"
          ],
          [
           "2.5 Na2O2(mp-2340) + 9.0 Mo(mp-129) + -0.5 CO2(mp-20066) + 0.5 Li2CO3(mp-3054) + 12.25 O2(mp-1091399)"
          ],
          [
           "2.5 Na2O2(mp-2340) + -4.5 CO2(mp-20066) + 0.5 Li2O(mp-1960) + 4.5 Mo2C(mp-1552) + 16.75 O2(mp-1091399)"
          ],
          [
           "2.5 Na2O2(mp-2340) + -0.5 CO2(mp-20066) + 9.0 MoO2(mp-510536) + 0.5 Li2CO3(mp-3054) + 3.25 O2(mp-1091399)"
          ],
          [
           "2.5 Na2O2(mp-2340) + -4.5 CO2(mp-20066) + 4.5 Mo2C(mp-1552) + 1.0 Li(mp-135) + 17.0 O2(mp-1091399)"
          ],
          [
           "2.5 Na2O2(mp-2340) + -4.5 CO2(mp-20066) + 4.5 Mo2C(mp-1552) + 0.5 Li2O2(mp-841) + 16.5 O2(mp-1091399)"
          ],
          [
           "2.5 Na2O2(mp-2340) + -5.0 CO2(mp-20066) + 4.5 Mo2C(mp-1552) + 0.5 Li2CO3(mp-3054) + 16.75 O2(mp-1091399)"
          ],
          [
           "9.0 Mo(mp-129) + 2.5 Na2O(mp-2352) + 0.5 Li2O(mp-1960) + 13.5 O2(mp-1091399)"
          ],
          [
           "9.0 Mo(mp-129) + 2.5 Na2O(mp-2352) + 1.0 Li(mp-135) + 13.75 O2(mp-1091399)"
          ],
          [
           "9.0 Mo(mp-129) + 2.5 Na2O(mp-2352) + 0.5 Li2O2(mp-841) + 13.25 O2(mp-1091399)"
          ],
          [
           "2.5 Na2O(mp-2352) + 0.5 Li2O(mp-1960) + 9.0 MoO2(mp-510536) + 4.5 O2(mp-1091399)"
          ],
          [
           "2.5 Na2O(mp-2352) + 9.0 MoO2(mp-510536) + 1.0 Li(mp-135) + 4.75 O2(mp-1091399)"
          ],
          [
           "2.5 Na2O(mp-2352) + 9.0 MoO2(mp-510536) + 0.5 Li2O2(mp-841) + 4.25 O2(mp-1091399)"
          ],
          [
           "9.0 Mo(mp-129) + 2.5 Na2CO3(mp-1201027) + -2.5 CO2(mp-20066) + 0.5 Li2O(mp-1960) + 13.5 O2(mp-1091399)"
          ],
          [
           "9.0 Mo(mp-129) + 2.5 Na2CO3(mp-1201027) + -2.5 CO2(mp-20066) + 1.0 Li(mp-135) + 13.75 O2(mp-1091399)"
          ],
          [
           "9.0 Mo(mp-129) + 2.5 Na2CO3(mp-1201027) + -2.5 CO2(mp-20066) + 0.5 Li2O2(mp-841) + 13.25 O2(mp-1091399)"
          ],
          [
           "9.0 Mo(mp-129) + 2.5 Na2CO3(mp-1201027) + -3.0 CO2(mp-20066) + 0.5 Li2CO3(mp-3054) + 13.5 O2(mp-1091399)"
          ],
          [
           "9.0 Mo(mp-129) + 2.5 Na2O(mp-2352) + -0.5 CO2(mp-20066) + 0.5 Li2CO3(mp-3054) + 13.5 O2(mp-1091399)"
          ],
          [
           "2.5 Na2CO3(mp-1201027) + -2.5 CO2(mp-20066) + 0.5 Li2O(mp-1960) + 9.0 MoO2(mp-510536) + 4.5 O2(mp-1091399)"
          ],
          [
           "2.5 Na2CO3(mp-1201027) + -7.0 CO2(mp-20066) + 0.5 Li2O(mp-1960) + 4.5 Mo2C(mp-1552) + 18.0 O2(mp-1091399)"
          ],
          [
           "2.5 Na2CO3(mp-1201027) + -2.5 CO2(mp-20066) + 9.0 MoO2(mp-510536) + 1.0 Li(mp-135) + 4.75 O2(mp-1091399)"
          ],
          [
           "2.5 Na2CO3(mp-1201027) + -2.5 CO2(mp-20066) + 9.0 MoO2(mp-510536) + 0.5 Li2O2(mp-841) + 4.25 O2(mp-1091399)"
          ],
          [
           "2.5 Na2CO3(mp-1201027) + -3.0 CO2(mp-20066) + 9.0 MoO2(mp-510536) + 0.5 Li2CO3(mp-3054) + 4.5 O2(mp-1091399)"
          ],
          [
           "2.5 Na2CO3(mp-1201027) + -7.0 CO2(mp-20066) + 4.5 Mo2C(mp-1552) + 1.0 Li(mp-135) + 18.25 O2(mp-1091399)"
          ],
          [
           "2.5 Na2CO3(mp-1201027) + -7.0 CO2(mp-20066) + 4.5 Mo2C(mp-1552) + 0.5 Li2O2(mp-841) + 17.75 O2(mp-1091399)"
          ],
          [
           "2.5 Na2CO3(mp-1201027) + -7.5 CO2(mp-20066) + 4.5 Mo2C(mp-1552) + 0.5 Li2CO3(mp-3054) + 18.0 O2(mp-1091399)"
          ],
          [
           "2.5 Na2O(mp-2352) + -4.5 CO2(mp-20066) + 0.5 Li2O(mp-1960) + 4.5 Mo2C(mp-1552) + 18.0 O2(mp-1091399)"
          ],
          [
           "2.5 Na2O(mp-2352) + -0.5 CO2(mp-20066) + 9.0 MoO2(mp-510536) + 0.5 Li2CO3(mp-3054) + 4.5 O2(mp-1091399)"
          ],
          [
           "2.5 Na2O(mp-2352) + -4.5 CO2(mp-20066) + 4.5 Mo2C(mp-1552) + 1.0 Li(mp-135) + 18.25 O2(mp-1091399)"
          ],
          [
           "2.5 Na2O(mp-2352) + -4.5 CO2(mp-20066) + 4.5 Mo2C(mp-1552) + 0.5 Li2O2(mp-841) + 17.75 O2(mp-1091399)"
          ],
          [
           "2.5 Na2O(mp-2352) + -5.0 CO2(mp-20066) + 4.5 Mo2C(mp-1552) + 0.5 Li2CO3(mp-3054) + 18.0 O2(mp-1091399)"
          ]
         ],
         "hoverlabel": {
          "namelength": 0
         },
         "hovertemplate": "exp_precursors=1.0<br>n_competing=%{x}<br>barrier=%{y}<br>summary=%{customdata[0]}",
         "legendgroup": "exp_precursors=1.0",
         "marker": {
          "color": "#636efa",
          "symbol": "circle"
         },
         "mode": "markers",
         "name": "exp_precursors=1.0",
         "showlegend": true,
         "type": "scatter",
         "x": [
          0,
          0,
          0,
          0,
          0,
          0,
          0,
          0,
          0,
          1,
          0,
          0,
          0,
          0,
          0,
          0,
          0,
          0,
          0,
          0,
          0,
          0,
          0,
          0,
          0,
          0,
          0,
          0,
          0,
          0,
          0,
          0,
          0,
          1,
          0,
          0
         ],
         "xaxis": "x",
         "y": [
          1.7479955340903899,
          2.8224441629527046,
          3.0205950717541725,
          2.2647704054368347,
          0.9865784934412821,
          2.1134771834102675,
          1.131355791064386,
          1.6264635516789592,
          3.499330565646827,
          2.6900061819649874,
          2.8216008673050825,
          0.8009023755647876,
          1.6479307954850753,
          1.485700379493386,
          1.6381114005213444,
          4.84795942195832,
          1.144383638759008,
          4.445972186452934,
          0.7657063781002011,
          0.545409940467781,
          0.7441098080541357,
          0.7442936053536748,
          1.2265271199498937,
          8.69005098070479,
          0.5765950694856423,
          1.874997944486315,
          7.344816866161862,
          4.460561967267363,
          0.39375969721679116,
          0.5687544892298122,
          0.4749702476852329,
          1.6872160256489093,
          6.440697679669392,
          1.422522863035347,
          1.672960851616934,
          0.8347868725361827
         ],
         "yaxis": "y"
        }
       ],
       "layout": {
        "height": 600,
        "legend": {
         "tracegroupgap": 0
        },
        "margin": {
         "t": 60
        },
        "template": {
         "data": {
          "bar": [
           {
            "error_x": {
             "color": "#2a3f5f"
            },
            "error_y": {
             "color": "#2a3f5f"
            },
            "marker": {
             "line": {
              "color": "#E5ECF6",
              "width": 0.5
             }
            },
            "type": "bar"
           }
          ],
          "barpolar": [
           {
            "marker": {
             "line": {
              "color": "#E5ECF6",
              "width": 0.5
             }
            },
            "type": "barpolar"
           }
          ],
          "carpet": [
           {
            "aaxis": {
             "endlinecolor": "#2a3f5f",
             "gridcolor": "white",
             "linecolor": "white",
             "minorgridcolor": "white",
             "startlinecolor": "#2a3f5f"
            },
            "baxis": {
             "endlinecolor": "#2a3f5f",
             "gridcolor": "white",
             "linecolor": "white",
             "minorgridcolor": "white",
             "startlinecolor": "#2a3f5f"
            },
            "type": "carpet"
           }
          ],
          "choropleth": [
           {
            "colorbar": {
             "outlinewidth": 0,
             "ticks": ""
            },
            "type": "choropleth"
           }
          ],
          "contour": [
           {
            "colorbar": {
             "outlinewidth": 0,
             "ticks": ""
            },
            "colorscale": [
             [
              0,
              "#0d0887"
             ],
             [
              0.1111111111111111,
              "#46039f"
             ],
             [
              0.2222222222222222,
              "#7201a8"
             ],
             [
              0.3333333333333333,
              "#9c179e"
             ],
             [
              0.4444444444444444,
              "#bd3786"
             ],
             [
              0.5555555555555556,
              "#d8576b"
             ],
             [
              0.6666666666666666,
              "#ed7953"
             ],
             [
              0.7777777777777778,
              "#fb9f3a"
             ],
             [
              0.8888888888888888,
              "#fdca26"
             ],
             [
              1,
              "#f0f921"
             ]
            ],
            "type": "contour"
           }
          ],
          "contourcarpet": [
           {
            "colorbar": {
             "outlinewidth": 0,
             "ticks": ""
            },
            "type": "contourcarpet"
           }
          ],
          "heatmap": [
           {
            "colorbar": {
             "outlinewidth": 0,
             "ticks": ""
            },
            "colorscale": [
             [
              0,
              "#0d0887"
             ],
             [
              0.1111111111111111,
              "#46039f"
             ],
             [
              0.2222222222222222,
              "#7201a8"
             ],
             [
              0.3333333333333333,
              "#9c179e"
             ],
             [
              0.4444444444444444,
              "#bd3786"
             ],
             [
              0.5555555555555556,
              "#d8576b"
             ],
             [
              0.6666666666666666,
              "#ed7953"
             ],
             [
              0.7777777777777778,
              "#fb9f3a"
             ],
             [
              0.8888888888888888,
              "#fdca26"
             ],
             [
              1,
              "#f0f921"
             ]
            ],
            "type": "heatmap"
           }
          ],
          "heatmapgl": [
           {
            "colorbar": {
             "outlinewidth": 0,
             "ticks": ""
            },
            "colorscale": [
             [
              0,
              "#0d0887"
             ],
             [
              0.1111111111111111,
              "#46039f"
             ],
             [
              0.2222222222222222,
              "#7201a8"
             ],
             [
              0.3333333333333333,
              "#9c179e"
             ],
             [
              0.4444444444444444,
              "#bd3786"
             ],
             [
              0.5555555555555556,
              "#d8576b"
             ],
             [
              0.6666666666666666,
              "#ed7953"
             ],
             [
              0.7777777777777778,
              "#fb9f3a"
             ],
             [
              0.8888888888888888,
              "#fdca26"
             ],
             [
              1,
              "#f0f921"
             ]
            ],
            "type": "heatmapgl"
           }
          ],
          "histogram": [
           {
            "marker": {
             "colorbar": {
              "outlinewidth": 0,
              "ticks": ""
             }
            },
            "type": "histogram"
           }
          ],
          "histogram2d": [
           {
            "colorbar": {
             "outlinewidth": 0,
             "ticks": ""
            },
            "colorscale": [
             [
              0,
              "#0d0887"
             ],
             [
              0.1111111111111111,
              "#46039f"
             ],
             [
              0.2222222222222222,
              "#7201a8"
             ],
             [
              0.3333333333333333,
              "#9c179e"
             ],
             [
              0.4444444444444444,
              "#bd3786"
             ],
             [
              0.5555555555555556,
              "#d8576b"
             ],
             [
              0.6666666666666666,
              "#ed7953"
             ],
             [
              0.7777777777777778,
              "#fb9f3a"
             ],
             [
              0.8888888888888888,
              "#fdca26"
             ],
             [
              1,
              "#f0f921"
             ]
            ],
            "type": "histogram2d"
           }
          ],
          "histogram2dcontour": [
           {
            "colorbar": {
             "outlinewidth": 0,
             "ticks": ""
            },
            "colorscale": [
             [
              0,
              "#0d0887"
             ],
             [
              0.1111111111111111,
              "#46039f"
             ],
             [
              0.2222222222222222,
              "#7201a8"
             ],
             [
              0.3333333333333333,
              "#9c179e"
             ],
             [
              0.4444444444444444,
              "#bd3786"
             ],
             [
              0.5555555555555556,
              "#d8576b"
             ],
             [
              0.6666666666666666,
              "#ed7953"
             ],
             [
              0.7777777777777778,
              "#fb9f3a"
             ],
             [
              0.8888888888888888,
              "#fdca26"
             ],
             [
              1,
              "#f0f921"
             ]
            ],
            "type": "histogram2dcontour"
           }
          ],
          "mesh3d": [
           {
            "colorbar": {
             "outlinewidth": 0,
             "ticks": ""
            },
            "type": "mesh3d"
           }
          ],
          "parcoords": [
           {
            "line": {
             "colorbar": {
              "outlinewidth": 0,
              "ticks": ""
             }
            },
            "type": "parcoords"
           }
          ],
          "scatter": [
           {
            "marker": {
             "colorbar": {
              "outlinewidth": 0,
              "ticks": ""
             }
            },
            "type": "scatter"
           }
          ],
          "scatter3d": [
           {
            "line": {
             "colorbar": {
              "outlinewidth": 0,
              "ticks": ""
             }
            },
            "marker": {
             "colorbar": {
              "outlinewidth": 0,
              "ticks": ""
             }
            },
            "type": "scatter3d"
           }
          ],
          "scattercarpet": [
           {
            "marker": {
             "colorbar": {
              "outlinewidth": 0,
              "ticks": ""
             }
            },
            "type": "scattercarpet"
           }
          ],
          "scattergeo": [
           {
            "marker": {
             "colorbar": {
              "outlinewidth": 0,
              "ticks": ""
             }
            },
            "type": "scattergeo"
           }
          ],
          "scattergl": [
           {
            "marker": {
             "colorbar": {
              "outlinewidth": 0,
              "ticks": ""
             }
            },
            "type": "scattergl"
           }
          ],
          "scattermapbox": [
           {
            "marker": {
             "colorbar": {
              "outlinewidth": 0,
              "ticks": ""
             }
            },
            "type": "scattermapbox"
           }
          ],
          "scatterpolar": [
           {
            "marker": {
             "colorbar": {
              "outlinewidth": 0,
              "ticks": ""
             }
            },
            "type": "scatterpolar"
           }
          ],
          "scatterpolargl": [
           {
            "marker": {
             "colorbar": {
              "outlinewidth": 0,
              "ticks": ""
             }
            },
            "type": "scatterpolargl"
           }
          ],
          "scatterternary": [
           {
            "marker": {
             "colorbar": {
              "outlinewidth": 0,
              "ticks": ""
             }
            },
            "type": "scatterternary"
           }
          ],
          "surface": [
           {
            "colorbar": {
             "outlinewidth": 0,
             "ticks": ""
            },
            "colorscale": [
             [
              0,
              "#0d0887"
             ],
             [
              0.1111111111111111,
              "#46039f"
             ],
             [
              0.2222222222222222,
              "#7201a8"
             ],
             [
              0.3333333333333333,
              "#9c179e"
             ],
             [
              0.4444444444444444,
              "#bd3786"
             ],
             [
              0.5555555555555556,
              "#d8576b"
             ],
             [
              0.6666666666666666,
              "#ed7953"
             ],
             [
              0.7777777777777778,
              "#fb9f3a"
             ],
             [
              0.8888888888888888,
              "#fdca26"
             ],
             [
              1,
              "#f0f921"
             ]
            ],
            "type": "surface"
           }
          ],
          "table": [
           {
            "cells": {
             "fill": {
              "color": "#EBF0F8"
             },
             "line": {
              "color": "white"
             }
            },
            "header": {
             "fill": {
              "color": "#C8D4E3"
             },
             "line": {
              "color": "white"
             }
            },
            "type": "table"
           }
          ]
         },
         "layout": {
          "annotationdefaults": {
           "arrowcolor": "#2a3f5f",
           "arrowhead": 0,
           "arrowwidth": 1
          },
          "colorscale": {
           "diverging": [
            [
             0,
             "#8e0152"
            ],
            [
             0.1,
             "#c51b7d"
            ],
            [
             0.2,
             "#de77ae"
            ],
            [
             0.3,
             "#f1b6da"
            ],
            [
             0.4,
             "#fde0ef"
            ],
            [
             0.5,
             "#f7f7f7"
            ],
            [
             0.6,
             "#e6f5d0"
            ],
            [
             0.7,
             "#b8e186"
            ],
            [
             0.8,
             "#7fbc41"
            ],
            [
             0.9,
             "#4d9221"
            ],
            [
             1,
             "#276419"
            ]
           ],
           "sequential": [
            [
             0,
             "#0d0887"
            ],
            [
             0.1111111111111111,
             "#46039f"
            ],
            [
             0.2222222222222222,
             "#7201a8"
            ],
            [
             0.3333333333333333,
             "#9c179e"
            ],
            [
             0.4444444444444444,
             "#bd3786"
            ],
            [
             0.5555555555555556,
             "#d8576b"
            ],
            [
             0.6666666666666666,
             "#ed7953"
            ],
            [
             0.7777777777777778,
             "#fb9f3a"
            ],
            [
             0.8888888888888888,
             "#fdca26"
            ],
            [
             1,
             "#f0f921"
            ]
           ],
           "sequentialminus": [
            [
             0,
             "#0d0887"
            ],
            [
             0.1111111111111111,
             "#46039f"
            ],
            [
             0.2222222222222222,
             "#7201a8"
            ],
            [
             0.3333333333333333,
             "#9c179e"
            ],
            [
             0.4444444444444444,
             "#bd3786"
            ],
            [
             0.5555555555555556,
             "#d8576b"
            ],
            [
             0.6666666666666666,
             "#ed7953"
            ],
            [
             0.7777777777777778,
             "#fb9f3a"
            ],
            [
             0.8888888888888888,
             "#fdca26"
            ],
            [
             1,
             "#f0f921"
            ]
           ]
          },
          "colorway": [
           "#636efa",
           "#EF553B",
           "#00cc96",
           "#ab63fa",
           "#FFA15A",
           "#19d3f3",
           "#FF6692",
           "#B6E880",
           "#FF97FF",
           "#FECB52"
          ],
          "font": {
           "color": "#2a3f5f"
          },
          "geo": {
           "bgcolor": "white",
           "lakecolor": "white",
           "landcolor": "#E5ECF6",
           "showlakes": true,
           "showland": true,
           "subunitcolor": "white"
          },
          "hoverlabel": {
           "align": "left"
          },
          "hovermode": "closest",
          "mapbox": {
           "style": "light"
          },
          "paper_bgcolor": "white",
          "plot_bgcolor": "#E5ECF6",
          "polar": {
           "angularaxis": {
            "gridcolor": "white",
            "linecolor": "white",
            "ticks": ""
           },
           "bgcolor": "#E5ECF6",
           "radialaxis": {
            "gridcolor": "white",
            "linecolor": "white",
            "ticks": ""
           }
          },
          "scene": {
           "xaxis": {
            "backgroundcolor": "#E5ECF6",
            "gridcolor": "white",
            "gridwidth": 2,
            "linecolor": "white",
            "showbackground": true,
            "ticks": "",
            "zerolinecolor": "white"
           },
           "yaxis": {
            "backgroundcolor": "#E5ECF6",
            "gridcolor": "white",
            "gridwidth": 2,
            "linecolor": "white",
            "showbackground": true,
            "ticks": "",
            "zerolinecolor": "white"
           },
           "zaxis": {
            "backgroundcolor": "#E5ECF6",
            "gridcolor": "white",
            "gridwidth": 2,
            "linecolor": "white",
            "showbackground": true,
            "ticks": "",
            "zerolinecolor": "white"
           }
          },
          "shapedefaults": {
           "line": {
            "color": "#2a3f5f"
           }
          },
          "ternary": {
           "aaxis": {
            "gridcolor": "white",
            "linecolor": "white",
            "ticks": ""
           },
           "baxis": {
            "gridcolor": "white",
            "linecolor": "white",
            "ticks": ""
           },
           "bgcolor": "#E5ECF6",
           "caxis": {
            "gridcolor": "white",
            "linecolor": "white",
            "ticks": ""
           }
          },
          "title": {
           "x": 0.05
          },
          "xaxis": {
           "automargin": true,
           "gridcolor": "white",
           "linecolor": "white",
           "ticks": "",
           "zerolinecolor": "white",
           "zerolinewidth": 2
          },
          "yaxis": {
           "automargin": true,
           "gridcolor": "white",
           "linecolor": "white",
           "ticks": "",
           "zerolinecolor": "white",
           "zerolinewidth": 2
          }
         }
        },
        "title": {
         "text": "Synthesis target: Na5Li(Mo3O10)3"
        },
        "xaxis": {
         "anchor": "y",
         "domain": [
          0,
          0.98
         ],
         "title": {
          "text": "N competing phases"
         }
        },
        "yaxis": {
         "anchor": "x",
         "domain": [
          0,
          1
         ],
         "title": {
          "text": "Barrier (a.u.)"
         }
        }
       }
      },
      "text/html": [
       "<div>\n",
       "        \n",
       "        \n",
       "            <div id=\"bc39c574-370f-4813-a7f4-a4c534df9ad1\" class=\"plotly-graph-div\" style=\"height:600px; width:100%;\"></div>\n",
       "            <script type=\"text/javascript\">\n",
       "                require([\"plotly\"], function(Plotly) {\n",
       "                    window.PLOTLYENV=window.PLOTLYENV || {};\n",
       "                    \n",
       "                if (document.getElementById(\"bc39c574-370f-4813-a7f4-a4c534df9ad1\")) {\n",
       "                    Plotly.newPlot(\n",
       "                        'bc39c574-370f-4813-a7f4-a4c534df9ad1',\n",
       "                        [{\"customdata\": [[\"2.5 Na2O2(mp-2340) + 9.0 Mo(mp-129) + 0.5 Li2O(mp-1960) + 12.25 O2(mp-1091399)\"], [\"2.5 Na2O2(mp-2340) + 9.0 Mo(mp-129) + 1.0 Li(mp-135) + 12.5 O2(mp-1091399)\"], [\"2.5 Na2O2(mp-2340) + 9.0 Mo(mp-129) + 0.5 Li2O2(mp-841) + 12.0 O2(mp-1091399)\"], [\"2.5 Na2O2(mp-2340) + 0.5 Li2O(mp-1960) + 9.0 MoO2(mp-510536) + 3.25 O2(mp-1091399)\"], [\"2.5 Na2O2(mp-2340) + 9.0 MoO2(mp-510536) + 1.0 Li(mp-135) + 3.5 O2(mp-1091399)\"], [\"2.5 Na2O2(mp-2340) + 9.0 MoO2(mp-510536) + 0.5 Li2O2(mp-841) + 3.0 O2(mp-1091399)\"], [\"2.5 Na2O2(mp-2340) + 9.0 Mo(mp-129) + -0.5 CO2(mp-20066) + 0.5 Li2CO3(mp-3054) + 12.25 O2(mp-1091399)\"], [\"2.5 Na2O2(mp-2340) + -4.5 CO2(mp-20066) + 0.5 Li2O(mp-1960) + 4.5 Mo2C(mp-1552) + 16.75 O2(mp-1091399)\"], [\"2.5 Na2O2(mp-2340) + -0.5 CO2(mp-20066) + 9.0 MoO2(mp-510536) + 0.5 Li2CO3(mp-3054) + 3.25 O2(mp-1091399)\"], [\"2.5 Na2O2(mp-2340) + -4.5 CO2(mp-20066) + 4.5 Mo2C(mp-1552) + 1.0 Li(mp-135) + 17.0 O2(mp-1091399)\"], [\"2.5 Na2O2(mp-2340) + -4.5 CO2(mp-20066) + 4.5 Mo2C(mp-1552) + 0.5 Li2O2(mp-841) + 16.5 O2(mp-1091399)\"], [\"2.5 Na2O2(mp-2340) + -5.0 CO2(mp-20066) + 4.5 Mo2C(mp-1552) + 0.5 Li2CO3(mp-3054) + 16.75 O2(mp-1091399)\"], [\"9.0 Mo(mp-129) + 2.5 Na2O(mp-2352) + 0.5 Li2O(mp-1960) + 13.5 O2(mp-1091399)\"], [\"9.0 Mo(mp-129) + 2.5 Na2O(mp-2352) + 1.0 Li(mp-135) + 13.75 O2(mp-1091399)\"], [\"9.0 Mo(mp-129) + 2.5 Na2O(mp-2352) + 0.5 Li2O2(mp-841) + 13.25 O2(mp-1091399)\"], [\"2.5 Na2O(mp-2352) + 0.5 Li2O(mp-1960) + 9.0 MoO2(mp-510536) + 4.5 O2(mp-1091399)\"], [\"2.5 Na2O(mp-2352) + 9.0 MoO2(mp-510536) + 1.0 Li(mp-135) + 4.75 O2(mp-1091399)\"], [\"2.5 Na2O(mp-2352) + 9.0 MoO2(mp-510536) + 0.5 Li2O2(mp-841) + 4.25 O2(mp-1091399)\"], [\"9.0 Mo(mp-129) + 2.5 Na2CO3(mp-1201027) + -2.5 CO2(mp-20066) + 0.5 Li2O(mp-1960) + 13.5 O2(mp-1091399)\"], [\"9.0 Mo(mp-129) + 2.5 Na2CO3(mp-1201027) + -2.5 CO2(mp-20066) + 1.0 Li(mp-135) + 13.75 O2(mp-1091399)\"], [\"9.0 Mo(mp-129) + 2.5 Na2CO3(mp-1201027) + -2.5 CO2(mp-20066) + 0.5 Li2O2(mp-841) + 13.25 O2(mp-1091399)\"], [\"9.0 Mo(mp-129) + 2.5 Na2CO3(mp-1201027) + -3.0 CO2(mp-20066) + 0.5 Li2CO3(mp-3054) + 13.5 O2(mp-1091399)\"], [\"9.0 Mo(mp-129) + 2.5 Na2O(mp-2352) + -0.5 CO2(mp-20066) + 0.5 Li2CO3(mp-3054) + 13.5 O2(mp-1091399)\"], [\"2.5 Na2CO3(mp-1201027) + -2.5 CO2(mp-20066) + 0.5 Li2O(mp-1960) + 9.0 MoO2(mp-510536) + 4.5 O2(mp-1091399)\"], [\"2.5 Na2CO3(mp-1201027) + -7.0 CO2(mp-20066) + 0.5 Li2O(mp-1960) + 4.5 Mo2C(mp-1552) + 18.0 O2(mp-1091399)\"], [\"2.5 Na2CO3(mp-1201027) + -2.5 CO2(mp-20066) + 9.0 MoO2(mp-510536) + 1.0 Li(mp-135) + 4.75 O2(mp-1091399)\"], [\"2.5 Na2CO3(mp-1201027) + -2.5 CO2(mp-20066) + 9.0 MoO2(mp-510536) + 0.5 Li2O2(mp-841) + 4.25 O2(mp-1091399)\"], [\"2.5 Na2CO3(mp-1201027) + -3.0 CO2(mp-20066) + 9.0 MoO2(mp-510536) + 0.5 Li2CO3(mp-3054) + 4.5 O2(mp-1091399)\"], [\"2.5 Na2CO3(mp-1201027) + -7.0 CO2(mp-20066) + 4.5 Mo2C(mp-1552) + 1.0 Li(mp-135) + 18.25 O2(mp-1091399)\"], [\"2.5 Na2CO3(mp-1201027) + -7.0 CO2(mp-20066) + 4.5 Mo2C(mp-1552) + 0.5 Li2O2(mp-841) + 17.75 O2(mp-1091399)\"], [\"2.5 Na2CO3(mp-1201027) + -7.5 CO2(mp-20066) + 4.5 Mo2C(mp-1552) + 0.5 Li2CO3(mp-3054) + 18.0 O2(mp-1091399)\"], [\"2.5 Na2O(mp-2352) + -4.5 CO2(mp-20066) + 0.5 Li2O(mp-1960) + 4.5 Mo2C(mp-1552) + 18.0 O2(mp-1091399)\"], [\"2.5 Na2O(mp-2352) + -0.5 CO2(mp-20066) + 9.0 MoO2(mp-510536) + 0.5 Li2CO3(mp-3054) + 4.5 O2(mp-1091399)\"], [\"2.5 Na2O(mp-2352) + -4.5 CO2(mp-20066) + 4.5 Mo2C(mp-1552) + 1.0 Li(mp-135) + 18.25 O2(mp-1091399)\"], [\"2.5 Na2O(mp-2352) + -4.5 CO2(mp-20066) + 4.5 Mo2C(mp-1552) + 0.5 Li2O2(mp-841) + 17.75 O2(mp-1091399)\"], [\"2.5 Na2O(mp-2352) + -5.0 CO2(mp-20066) + 4.5 Mo2C(mp-1552) + 0.5 Li2CO3(mp-3054) + 18.0 O2(mp-1091399)\"]], \"hoverlabel\": {\"namelength\": 0}, \"hovertemplate\": \"exp_precursors=1.0<br>n_competing=%{x}<br>barrier=%{y}<br>summary=%{customdata[0]}\", \"legendgroup\": \"exp_precursors=1.0\", \"marker\": {\"color\": \"#636efa\", \"symbol\": \"circle\"}, \"mode\": \"markers\", \"name\": \"exp_precursors=1.0\", \"showlegend\": true, \"type\": \"scatter\", \"x\": [0, 0, 0, 0, 0, 0, 0, 0, 0, 1, 0, 0, 0, 0, 0, 0, 0, 0, 0, 0, 0, 0, 0, 0, 0, 0, 0, 0, 0, 0, 0, 0, 0, 1, 0, 0], \"xaxis\": \"x\", \"y\": [1.7479955340903899, 2.8224441629527046, 3.0205950717541725, 2.2647704054368347, 0.9865784934412821, 2.1134771834102675, 1.131355791064386, 1.6264635516789592, 3.499330565646827, 2.6900061819649874, 2.8216008673050825, 0.8009023755647876, 1.6479307954850753, 1.485700379493386, 1.6381114005213444, 4.84795942195832, 1.144383638759008, 4.445972186452934, 0.7657063781002011, 0.545409940467781, 0.7441098080541357, 0.7442936053536748, 1.2265271199498937, 8.69005098070479, 0.5765950694856423, 1.874997944486315, 7.344816866161862, 4.460561967267363, 0.39375969721679116, 0.5687544892298122, 0.4749702476852329, 1.6872160256489093, 6.440697679669392, 1.422522863035347, 1.672960851616934, 0.8347868725361827], \"yaxis\": \"y\"}],\n",
       "                        {\"height\": 600, \"legend\": {\"tracegroupgap\": 0}, \"margin\": {\"t\": 60}, \"template\": {\"data\": {\"bar\": [{\"error_x\": {\"color\": \"#2a3f5f\"}, \"error_y\": {\"color\": \"#2a3f5f\"}, \"marker\": {\"line\": {\"color\": \"#E5ECF6\", \"width\": 0.5}}, \"type\": \"bar\"}], \"barpolar\": [{\"marker\": {\"line\": {\"color\": \"#E5ECF6\", \"width\": 0.5}}, \"type\": \"barpolar\"}], \"carpet\": [{\"aaxis\": {\"endlinecolor\": \"#2a3f5f\", \"gridcolor\": \"white\", \"linecolor\": \"white\", \"minorgridcolor\": \"white\", \"startlinecolor\": \"#2a3f5f\"}, \"baxis\": {\"endlinecolor\": \"#2a3f5f\", \"gridcolor\": \"white\", \"linecolor\": \"white\", \"minorgridcolor\": \"white\", \"startlinecolor\": \"#2a3f5f\"}, \"type\": \"carpet\"}], \"choropleth\": [{\"colorbar\": {\"outlinewidth\": 0, \"ticks\": \"\"}, \"type\": \"choropleth\"}], \"contour\": [{\"colorbar\": {\"outlinewidth\": 0, \"ticks\": \"\"}, \"colorscale\": [[0.0, \"#0d0887\"], [0.1111111111111111, \"#46039f\"], [0.2222222222222222, \"#7201a8\"], [0.3333333333333333, \"#9c179e\"], [0.4444444444444444, \"#bd3786\"], [0.5555555555555556, \"#d8576b\"], [0.6666666666666666, \"#ed7953\"], [0.7777777777777778, \"#fb9f3a\"], [0.8888888888888888, \"#fdca26\"], [1.0, \"#f0f921\"]], \"type\": \"contour\"}], \"contourcarpet\": [{\"colorbar\": {\"outlinewidth\": 0, \"ticks\": \"\"}, \"type\": \"contourcarpet\"}], \"heatmap\": [{\"colorbar\": {\"outlinewidth\": 0, \"ticks\": \"\"}, \"colorscale\": [[0.0, \"#0d0887\"], [0.1111111111111111, \"#46039f\"], [0.2222222222222222, \"#7201a8\"], [0.3333333333333333, \"#9c179e\"], [0.4444444444444444, \"#bd3786\"], [0.5555555555555556, \"#d8576b\"], [0.6666666666666666, \"#ed7953\"], [0.7777777777777778, \"#fb9f3a\"], [0.8888888888888888, \"#fdca26\"], [1.0, \"#f0f921\"]], \"type\": \"heatmap\"}], \"heatmapgl\": [{\"colorbar\": {\"outlinewidth\": 0, \"ticks\": \"\"}, \"colorscale\": [[0.0, \"#0d0887\"], [0.1111111111111111, \"#46039f\"], [0.2222222222222222, \"#7201a8\"], [0.3333333333333333, \"#9c179e\"], [0.4444444444444444, \"#bd3786\"], [0.5555555555555556, \"#d8576b\"], [0.6666666666666666, \"#ed7953\"], [0.7777777777777778, \"#fb9f3a\"], [0.8888888888888888, \"#fdca26\"], [1.0, \"#f0f921\"]], \"type\": \"heatmapgl\"}], \"histogram\": [{\"marker\": {\"colorbar\": {\"outlinewidth\": 0, \"ticks\": \"\"}}, \"type\": \"histogram\"}], \"histogram2d\": [{\"colorbar\": {\"outlinewidth\": 0, \"ticks\": \"\"}, \"colorscale\": [[0.0, \"#0d0887\"], [0.1111111111111111, \"#46039f\"], [0.2222222222222222, \"#7201a8\"], [0.3333333333333333, \"#9c179e\"], [0.4444444444444444, \"#bd3786\"], [0.5555555555555556, \"#d8576b\"], [0.6666666666666666, \"#ed7953\"], [0.7777777777777778, \"#fb9f3a\"], [0.8888888888888888, \"#fdca26\"], [1.0, \"#f0f921\"]], \"type\": \"histogram2d\"}], \"histogram2dcontour\": [{\"colorbar\": {\"outlinewidth\": 0, \"ticks\": \"\"}, \"colorscale\": [[0.0, \"#0d0887\"], [0.1111111111111111, \"#46039f\"], [0.2222222222222222, \"#7201a8\"], [0.3333333333333333, \"#9c179e\"], [0.4444444444444444, \"#bd3786\"], [0.5555555555555556, \"#d8576b\"], [0.6666666666666666, \"#ed7953\"], [0.7777777777777778, \"#fb9f3a\"], [0.8888888888888888, \"#fdca26\"], [1.0, \"#f0f921\"]], \"type\": \"histogram2dcontour\"}], \"mesh3d\": [{\"colorbar\": {\"outlinewidth\": 0, \"ticks\": \"\"}, \"type\": \"mesh3d\"}], \"parcoords\": [{\"line\": {\"colorbar\": {\"outlinewidth\": 0, \"ticks\": \"\"}}, \"type\": \"parcoords\"}], \"scatter\": [{\"marker\": {\"colorbar\": {\"outlinewidth\": 0, \"ticks\": \"\"}}, \"type\": \"scatter\"}], \"scatter3d\": [{\"line\": {\"colorbar\": {\"outlinewidth\": 0, \"ticks\": \"\"}}, \"marker\": {\"colorbar\": {\"outlinewidth\": 0, \"ticks\": \"\"}}, \"type\": \"scatter3d\"}], \"scattercarpet\": [{\"marker\": {\"colorbar\": {\"outlinewidth\": 0, \"ticks\": \"\"}}, \"type\": \"scattercarpet\"}], \"scattergeo\": [{\"marker\": {\"colorbar\": {\"outlinewidth\": 0, \"ticks\": \"\"}}, \"type\": \"scattergeo\"}], \"scattergl\": [{\"marker\": {\"colorbar\": {\"outlinewidth\": 0, \"ticks\": \"\"}}, \"type\": \"scattergl\"}], \"scattermapbox\": [{\"marker\": {\"colorbar\": {\"outlinewidth\": 0, \"ticks\": \"\"}}, \"type\": \"scattermapbox\"}], \"scatterpolar\": [{\"marker\": {\"colorbar\": {\"outlinewidth\": 0, \"ticks\": \"\"}}, \"type\": \"scatterpolar\"}], \"scatterpolargl\": [{\"marker\": {\"colorbar\": {\"outlinewidth\": 0, \"ticks\": \"\"}}, \"type\": \"scatterpolargl\"}], \"scatterternary\": [{\"marker\": {\"colorbar\": {\"outlinewidth\": 0, \"ticks\": \"\"}}, \"type\": \"scatterternary\"}], \"surface\": [{\"colorbar\": {\"outlinewidth\": 0, \"ticks\": \"\"}, \"colorscale\": [[0.0, \"#0d0887\"], [0.1111111111111111, \"#46039f\"], [0.2222222222222222, \"#7201a8\"], [0.3333333333333333, \"#9c179e\"], [0.4444444444444444, \"#bd3786\"], [0.5555555555555556, \"#d8576b\"], [0.6666666666666666, \"#ed7953\"], [0.7777777777777778, \"#fb9f3a\"], [0.8888888888888888, \"#fdca26\"], [1.0, \"#f0f921\"]], \"type\": \"surface\"}], \"table\": [{\"cells\": {\"fill\": {\"color\": \"#EBF0F8\"}, \"line\": {\"color\": \"white\"}}, \"header\": {\"fill\": {\"color\": \"#C8D4E3\"}, \"line\": {\"color\": \"white\"}}, \"type\": \"table\"}]}, \"layout\": {\"annotationdefaults\": {\"arrowcolor\": \"#2a3f5f\", \"arrowhead\": 0, \"arrowwidth\": 1}, \"colorscale\": {\"diverging\": [[0, \"#8e0152\"], [0.1, \"#c51b7d\"], [0.2, \"#de77ae\"], [0.3, \"#f1b6da\"], [0.4, \"#fde0ef\"], [0.5, \"#f7f7f7\"], [0.6, \"#e6f5d0\"], [0.7, \"#b8e186\"], [0.8, \"#7fbc41\"], [0.9, \"#4d9221\"], [1, \"#276419\"]], \"sequential\": [[0.0, \"#0d0887\"], [0.1111111111111111, \"#46039f\"], [0.2222222222222222, \"#7201a8\"], [0.3333333333333333, \"#9c179e\"], [0.4444444444444444, \"#bd3786\"], [0.5555555555555556, \"#d8576b\"], [0.6666666666666666, \"#ed7953\"], [0.7777777777777778, \"#fb9f3a\"], [0.8888888888888888, \"#fdca26\"], [1.0, \"#f0f921\"]], \"sequentialminus\": [[0.0, \"#0d0887\"], [0.1111111111111111, \"#46039f\"], [0.2222222222222222, \"#7201a8\"], [0.3333333333333333, \"#9c179e\"], [0.4444444444444444, \"#bd3786\"], [0.5555555555555556, \"#d8576b\"], [0.6666666666666666, \"#ed7953\"], [0.7777777777777778, \"#fb9f3a\"], [0.8888888888888888, \"#fdca26\"], [1.0, \"#f0f921\"]]}, \"colorway\": [\"#636efa\", \"#EF553B\", \"#00cc96\", \"#ab63fa\", \"#FFA15A\", \"#19d3f3\", \"#FF6692\", \"#B6E880\", \"#FF97FF\", \"#FECB52\"], \"font\": {\"color\": \"#2a3f5f\"}, \"geo\": {\"bgcolor\": \"white\", \"lakecolor\": \"white\", \"landcolor\": \"#E5ECF6\", \"showlakes\": true, \"showland\": true, \"subunitcolor\": \"white\"}, \"hoverlabel\": {\"align\": \"left\"}, \"hovermode\": \"closest\", \"mapbox\": {\"style\": \"light\"}, \"paper_bgcolor\": \"white\", \"plot_bgcolor\": \"#E5ECF6\", \"polar\": {\"angularaxis\": {\"gridcolor\": \"white\", \"linecolor\": \"white\", \"ticks\": \"\"}, \"bgcolor\": \"#E5ECF6\", \"radialaxis\": {\"gridcolor\": \"white\", \"linecolor\": \"white\", \"ticks\": \"\"}}, \"scene\": {\"xaxis\": {\"backgroundcolor\": \"#E5ECF6\", \"gridcolor\": \"white\", \"gridwidth\": 2, \"linecolor\": \"white\", \"showbackground\": true, \"ticks\": \"\", \"zerolinecolor\": \"white\"}, \"yaxis\": {\"backgroundcolor\": \"#E5ECF6\", \"gridcolor\": \"white\", \"gridwidth\": 2, \"linecolor\": \"white\", \"showbackground\": true, \"ticks\": \"\", \"zerolinecolor\": \"white\"}, \"zaxis\": {\"backgroundcolor\": \"#E5ECF6\", \"gridcolor\": \"white\", \"gridwidth\": 2, \"linecolor\": \"white\", \"showbackground\": true, \"ticks\": \"\", \"zerolinecolor\": \"white\"}}, \"shapedefaults\": {\"line\": {\"color\": \"#2a3f5f\"}}, \"ternary\": {\"aaxis\": {\"gridcolor\": \"white\", \"linecolor\": \"white\", \"ticks\": \"\"}, \"baxis\": {\"gridcolor\": \"white\", \"linecolor\": \"white\", \"ticks\": \"\"}, \"bgcolor\": \"#E5ECF6\", \"caxis\": {\"gridcolor\": \"white\", \"linecolor\": \"white\", \"ticks\": \"\"}}, \"title\": {\"x\": 0.05}, \"xaxis\": {\"automargin\": true, \"gridcolor\": \"white\", \"linecolor\": \"white\", \"ticks\": \"\", \"zerolinecolor\": \"white\", \"zerolinewidth\": 2}, \"yaxis\": {\"automargin\": true, \"gridcolor\": \"white\", \"linecolor\": \"white\", \"ticks\": \"\", \"zerolinecolor\": \"white\", \"zerolinewidth\": 2}}}, \"title\": {\"text\": \"Synthesis target: Na5Li(Mo3O10)3\"}, \"xaxis\": {\"anchor\": \"y\", \"domain\": [0.0, 0.98], \"title\": {\"text\": \"N competing phases\"}}, \"yaxis\": {\"anchor\": \"x\", \"domain\": [0.0, 1.0], \"title\": {\"text\": \"Barrier (a.u.)\"}}},\n",
       "                        {\"responsive\": true}\n",
       "                    ).then(function(){\n",
       "                            \n",
       "var gd = document.getElementById('bc39c574-370f-4813-a7f4-a4c534df9ad1');\n",
       "var x = new MutationObserver(function (mutations, observer) {{\n",
       "        var display = window.getComputedStyle(gd).display;\n",
       "        if (!display || display === 'none') {{\n",
       "            console.log([gd, 'removed!']);\n",
       "            Plotly.purge(gd);\n",
       "            observer.disconnect();\n",
       "        }}\n",
       "}});\n",
       "\n",
       "// Listen for the removal of the full notebook cells\n",
       "var notebookContainer = gd.closest('#notebook-container');\n",
       "if (notebookContainer) {{\n",
       "    x.observe(notebookContainer, {childList: true});\n",
       "}}\n",
       "\n",
       "// Listen for the clearing of the current output cell\n",
       "var outputEl = gd.closest('.output');\n",
       "if (outputEl) {{\n",
       "    x.observe(outputEl, {childList: true});\n",
       "}}\n",
       "\n",
       "                        })\n",
       "                };\n",
       "                });\n",
       "            </script>\n",
       "        </div>"
      ]
     },
     "metadata": {},
     "output_type": "display_data"
    }
   ],
   "source": [
    "router.recommend_routes(temperature=1000, pressure=None, allow_gas_release=True, \n",
    "                        show_known_precursors_only=True, max_component_precursors=2)"
   ]
  },
  {
   "cell_type": "code",
   "execution_count": null,
   "metadata": {},
   "outputs": [],
   "source": [
    "float(router.plot_data['exp_precursors']['mp-18856_mp-19117_mp-2352'])"
   ]
  },
  {
   "cell_type": "code",
   "execution_count": null,
   "metadata": {},
   "outputs": [],
   "source": [
    "router.plot_data['exp_precursors'].astype(float) == 2.0"
   ]
  },
  {
   "cell_type": "code",
   "execution_count": null,
   "metadata": {},
   "outputs": [],
   "source": [
    "router.plot_data[ router.plot_data['exp_precursors'].astype(float) == 1.0]"
   ]
  },
  {
   "cell_type": "code",
   "execution_count": null,
   "metadata": {},
   "outputs": [],
   "source": [
    "# ['Na2CO3','Li2MoO4','MoO3'] is the reaction KP used - looks decent."
   ]
  },
  {
   "cell_type": "code",
   "execution_count": null,
   "metadata": {
    "scrolled": true
   },
   "outputs": [],
   "source": [
    "router.get_rxn_containing(['Na2CO3','Li2MoO4','MoO3'])"
   ]
  },
  {
   "cell_type": "code",
   "execution_count": null,
   "metadata": {},
   "outputs": [],
   "source": [
    "from rxn.data import DEFAULT_GAS_PRESSURES"
   ]
  },
  {
   "cell_type": "code",
   "execution_count": null,
   "metadata": {},
   "outputs": [],
   "source": [
    "pressure = DEFAULT_GAS_PRESSURES."
   ]
  },
  {
   "cell_type": "code",
   "execution_count": null,
   "metadata": {},
   "outputs": [],
   "source": []
  }
 ],
 "metadata": {
  "kernelspec": {
   "display_name": "Python 3",
   "language": "python",
   "name": "python3"
  },
  "language_info": {
   "codemirror_mode": {
    "name": "ipython",
    "version": 3
   },
   "file_extension": ".py",
   "mimetype": "text/x-python",
   "name": "python",
   "nbconvert_exporter": "python",
   "pygments_lexer": "ipython3",
   "version": "3.7.4"
  }
 },
 "nbformat": 4,
 "nbformat_minor": 2
}

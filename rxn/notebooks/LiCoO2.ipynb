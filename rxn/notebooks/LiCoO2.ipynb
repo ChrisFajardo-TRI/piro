{
 "cells": [
  {
   "cell_type": "code",
   "execution_count": 1,
   "metadata": {},
   "outputs": [],
   "source": [
    "from rxn.route import SynthesisRoutes\n",
    "mp_id = 'mp-22526'"
   ]
  },
  {
   "cell_type": "code",
   "execution_count": 6,
   "metadata": {},
   "outputs": [
    {
     "data": {
      "application/vnd.jupyter.widget-view+json": {
       "model_id": "c6b4aa2187c848f1823128c45660dd4b",
       "version_major": 2,
       "version_minor": 0
      },
      "text/plain": [
       "HBox(children=(IntProgress(value=0, max=545), HTML(value='')))"
      ]
     },
     "metadata": {},
     "output_type": "display_data"
    },
    {
     "name": "stdout",
     "output_type": "stream",
     "text": [
      "Epitaxies ready\n",
      "Similarity matrix ready\n",
      "Precursor library ready.\n"
     ]
    }
   ],
   "source": [
    "router = SynthesisRoutes(mp_id, add_element='C', pressure=None)"
   ]
  },
  {
   "cell_type": "code",
   "execution_count": 18,
   "metadata": {},
   "outputs": [
    {
     "data": {
      "application/vnd.plotly.v1+json": {
       "config": {
        "plotlyServerURL": "https://plot.ly"
       },
       "data": [
        {
         "customdata": [
          [
           "1.0 CoO(mp-22408) + 0.5 Li2O2(mp-841)"
          ],
          [
           "1.0 Li(mp-135) + 1.0 CoO(mp-22408) + 0.5 O2(mp-1091399)"
          ],
          [
           "1.0 CoO(mp-22408) + 0.5 Li2O(mp-1960) + 0.25 O2(mp-1091399)"
          ],
          [
           "1.0 CoCO3(mp-21434) + 0.5 Li2O2(mp-841) + -1.0 CO2(mp-20066)"
          ],
          [
           "1.0 LiC12(mp-1021323) + 1.0 Co(mp-54) + 13.0 O2(mp-1091399) + -12.0 CO2(mp-20066)"
          ],
          [
           "1.0 LiC12(mp-1021323) + 12.3333 O2(mp-1091399) + 0.3333 Co3O4(mp-18748) + -12.0 CO2(mp-20066)"
          ],
          [
           "1.0 Li(mp-135) + 1.0 CoCO3(mp-21434) + 0.5 O2(mp-1091399) + -1.0 CO2(mp-20066)"
          ],
          [
           "1.0 CoO(mp-22408) + 0.5 Li2CO3(mp-3054) + 0.25 O2(mp-1091399) + -0.5 CO2(mp-20066)"
          ],
          [
           "0.5 Li2O(mp-1960) + 1.0 CoCO3(mp-21434) + 0.25 O2(mp-1091399) + -1.0 CO2(mp-20066)"
          ],
          [
           "1.0 CoCO3(mp-21434) + 0.5 Li2CO3(mp-3054) + 0.25 O2(mp-1091399) + -1.5 CO2(mp-20066)"
          ]
         ],
         "hoverlabel": {
          "namelength": 0
         },
         "hovertemplate": "exp_precursors=0.5<br>n_competing=%{x}<br>barrier=%{y}<br>summary=%{customdata[0]}",
         "legendgroup": "exp_precursors=0.5",
         "marker": {
          "color": "#636efa",
          "size": 12,
          "symbol": "circle"
         },
         "mode": "markers",
         "name": "exp_precursors=0.5",
         "showlegend": true,
         "type": "scatter",
         "x": [
          182,
          283,
          212,
          190,
          318,
          318,
          307,
          276,
          288,
          293
         ],
         "xaxis": "x",
         "y": [
          1.6031427699947711,
          1.7950705991627076,
          3.8816688137307716,
          1.242777375984171,
          9.903006369969674,
          0.6000351304578305,
          1.3152557439250332,
          1.072232081877891,
          1.3459222920472431,
          0.9223256369805879
         ],
         "yaxis": "y"
        },
        {
         "customdata": [
          [
           "0.3333 Li(mp-135) + 0.3333 Li2O2(mp-841) + 0.3333 Co3O4(mp-18748)"
          ],
          [
           "1.0 Li(mp-135) + 1.0 Co(mp-54) + 1.0 O2(mp-1091399)"
          ],
          [
           "1.0 Li(mp-135) + 0.3333 O2(mp-1091399) + 0.3333 Co3O4(mp-18748)"
          ],
          [
           "0.3333 Li2O(mp-1960) + 0.1667 Li2O2(mp-841) + 0.3333 Co3O4(mp-18748)"
          ],
          [
           "0.5 Li2O(mp-1960) + 1.0 Co(mp-54) + 0.75 O2(mp-1091399)"
          ],
          [
           "0.5 Li2O(mp-1960) + 0.0833 O2(mp-1091399) + 0.3333 Co3O4(mp-18748)"
          ],
          [
           "0.5 Li2O2(mp-841) + 1.0 Co(mp-54) + 0.5 O2(mp-1091399)"
          ],
          [
           "0.5 Li2O2(mp-841) + 0.25 Co(mp-54) + 0.25 Co3O4(mp-18748)"
          ],
          [
           "0.5 Li2O2(mp-841) + -0.1667 O2(mp-1091399) + 0.3333 Co3O4(mp-18748)"
          ],
          [
           "0.1667 C(mp-568286) + 0.5 Li2O2(mp-841) + 0.3333 Co3O4(mp-18748) + -0.1667 CO2(mp-20066)"
          ],
          [
           "0.3333 Li2CO3(mp-3054) + 0.1667 Li2O2(mp-841) + 0.3333 Co3O4(mp-18748) + -0.3333 CO2(mp-20066)"
          ],
          [
           "0.5 Li2CO3(mp-3054) + 1.0 Co(mp-54) + 0.75 O2(mp-1091399) + -0.5 CO2(mp-20066)"
          ],
          [
           "0.5 Li2CO3(mp-3054) + 0.0833 O2(mp-1091399) + 0.3333 Co3O4(mp-18748) + -0.5 CO2(mp-20066)"
          ]
         ],
         "hoverlabel": {
          "namelength": 0
         },
         "hovertemplate": "exp_precursors=1.0<br>n_competing=%{x}<br>barrier=%{y}<br>summary=%{customdata[0]}",
         "legendgroup": "exp_precursors=1.0",
         "marker": {
          "color": "#EF553B",
          "size": 12,
          "symbol": "circle"
         },
         "mode": "markers",
         "name": "exp_precursors=1.0",
         "showlegend": true,
         "type": "scatter",
         "x": [
          240,
          285,
          282,
          204,
          285,
          150,
          285,
          223,
          251,
          251,
          213,
          286,
          259
         ],
         "xaxis": "x",
         "y": [
          0.6633847992227454,
          10.736679531612836,
          0.6198940070039177,
          1.0725762384139312,
          2.3222536313698208,
          1.4562169171384554,
          1.2853975925696284,
          0.6947018879144232,
          0.808654012173,
          0.6505711695644111,
          0.750311081922537,
          0.9436699059737546,
          0.729918522928405
         ],
         "yaxis": "y"
        },
        {
         "customdata": [
          [
           "1.0 LiC12(mp-1021323) + 1.0 CoO(mp-22408) + 12.5 O2(mp-1091399) + -12.0 CO2(mp-20066)"
          ],
          [
           "1.0 LiC12(mp-1021323) + 1.0 CoCO3(mp-21434) + 12.5 O2(mp-1091399) + -13.0 CO2(mp-20066)"
          ]
         ],
         "hoverlabel": {
          "namelength": 0
         },
         "hovertemplate": "exp_precursors=0.0<br>n_competing=%{x}<br>barrier=%{y}<br>summary=%{customdata[0]}",
         "legendgroup": "exp_precursors=0.0",
         "marker": {
          "color": "#00cc96",
          "size": 12,
          "symbol": "circle"
         },
         "mode": "markers",
         "name": "exp_precursors=0.0",
         "showlegend": true,
         "type": "scatter",
         "x": [
          318,
          318
         ],
         "xaxis": "x",
         "y": [
          1.7001671621944037,
          1.300126258157472
         ],
         "yaxis": "y"
        },
        {
         "customdata": [
          [
           "0.0133 LiC12(mp-1021323) + 0.4933 Li2O2(mp-841) + 0.3333 Co3O4(mp-18748) + -0.16 CO2(mp-20066)"
          ]
         ],
         "hoverlabel": {
          "namelength": 0
         },
         "hovertemplate": "exp_precursors=0.6667<br>n_competing=%{x}<br>barrier=%{y}<br>summary=%{customdata[0]}",
         "legendgroup": "exp_precursors=0.6667",
         "marker": {
          "color": "#ab63fa",
          "size": 12,
          "symbol": "circle"
         },
         "mode": "markers",
         "name": "exp_precursors=0.6667",
         "showlegend": true,
         "type": "scatter",
         "x": [
          251
         ],
         "xaxis": "x",
         "y": [
          0.6514288702855475
         ],
         "yaxis": "y"
        }
       ],
       "layout": {
        "height": 600,
        "legend": {
         "tracegroupgap": 0
        },
        "margin": {
         "t": 60
        },
        "template": {
         "data": {
          "bar": [
           {
            "error_x": {
             "color": "#2a3f5f"
            },
            "error_y": {
             "color": "#2a3f5f"
            },
            "marker": {
             "line": {
              "color": "#E5ECF6",
              "width": 0.5
             }
            },
            "type": "bar"
           }
          ],
          "barpolar": [
           {
            "marker": {
             "line": {
              "color": "#E5ECF6",
              "width": 0.5
             }
            },
            "type": "barpolar"
           }
          ],
          "carpet": [
           {
            "aaxis": {
             "endlinecolor": "#2a3f5f",
             "gridcolor": "white",
             "linecolor": "white",
             "minorgridcolor": "white",
             "startlinecolor": "#2a3f5f"
            },
            "baxis": {
             "endlinecolor": "#2a3f5f",
             "gridcolor": "white",
             "linecolor": "white",
             "minorgridcolor": "white",
             "startlinecolor": "#2a3f5f"
            },
            "type": "carpet"
           }
          ],
          "choropleth": [
           {
            "colorbar": {
             "outlinewidth": 0,
             "ticks": ""
            },
            "type": "choropleth"
           }
          ],
          "contour": [
           {
            "colorbar": {
             "outlinewidth": 0,
             "ticks": ""
            },
            "colorscale": [
             [
              0,
              "#0d0887"
             ],
             [
              0.1111111111111111,
              "#46039f"
             ],
             [
              0.2222222222222222,
              "#7201a8"
             ],
             [
              0.3333333333333333,
              "#9c179e"
             ],
             [
              0.4444444444444444,
              "#bd3786"
             ],
             [
              0.5555555555555556,
              "#d8576b"
             ],
             [
              0.6666666666666666,
              "#ed7953"
             ],
             [
              0.7777777777777778,
              "#fb9f3a"
             ],
             [
              0.8888888888888888,
              "#fdca26"
             ],
             [
              1,
              "#f0f921"
             ]
            ],
            "type": "contour"
           }
          ],
          "contourcarpet": [
           {
            "colorbar": {
             "outlinewidth": 0,
             "ticks": ""
            },
            "type": "contourcarpet"
           }
          ],
          "heatmap": [
           {
            "colorbar": {
             "outlinewidth": 0,
             "ticks": ""
            },
            "colorscale": [
             [
              0,
              "#0d0887"
             ],
             [
              0.1111111111111111,
              "#46039f"
             ],
             [
              0.2222222222222222,
              "#7201a8"
             ],
             [
              0.3333333333333333,
              "#9c179e"
             ],
             [
              0.4444444444444444,
              "#bd3786"
             ],
             [
              0.5555555555555556,
              "#d8576b"
             ],
             [
              0.6666666666666666,
              "#ed7953"
             ],
             [
              0.7777777777777778,
              "#fb9f3a"
             ],
             [
              0.8888888888888888,
              "#fdca26"
             ],
             [
              1,
              "#f0f921"
             ]
            ],
            "type": "heatmap"
           }
          ],
          "heatmapgl": [
           {
            "colorbar": {
             "outlinewidth": 0,
             "ticks": ""
            },
            "colorscale": [
             [
              0,
              "#0d0887"
             ],
             [
              0.1111111111111111,
              "#46039f"
             ],
             [
              0.2222222222222222,
              "#7201a8"
             ],
             [
              0.3333333333333333,
              "#9c179e"
             ],
             [
              0.4444444444444444,
              "#bd3786"
             ],
             [
              0.5555555555555556,
              "#d8576b"
             ],
             [
              0.6666666666666666,
              "#ed7953"
             ],
             [
              0.7777777777777778,
              "#fb9f3a"
             ],
             [
              0.8888888888888888,
              "#fdca26"
             ],
             [
              1,
              "#f0f921"
             ]
            ],
            "type": "heatmapgl"
           }
          ],
          "histogram": [
           {
            "marker": {
             "colorbar": {
              "outlinewidth": 0,
              "ticks": ""
             }
            },
            "type": "histogram"
           }
          ],
          "histogram2d": [
           {
            "colorbar": {
             "outlinewidth": 0,
             "ticks": ""
            },
            "colorscale": [
             [
              0,
              "#0d0887"
             ],
             [
              0.1111111111111111,
              "#46039f"
             ],
             [
              0.2222222222222222,
              "#7201a8"
             ],
             [
              0.3333333333333333,
              "#9c179e"
             ],
             [
              0.4444444444444444,
              "#bd3786"
             ],
             [
              0.5555555555555556,
              "#d8576b"
             ],
             [
              0.6666666666666666,
              "#ed7953"
             ],
             [
              0.7777777777777778,
              "#fb9f3a"
             ],
             [
              0.8888888888888888,
              "#fdca26"
             ],
             [
              1,
              "#f0f921"
             ]
            ],
            "type": "histogram2d"
           }
          ],
          "histogram2dcontour": [
           {
            "colorbar": {
             "outlinewidth": 0,
             "ticks": ""
            },
            "colorscale": [
             [
              0,
              "#0d0887"
             ],
             [
              0.1111111111111111,
              "#46039f"
             ],
             [
              0.2222222222222222,
              "#7201a8"
             ],
             [
              0.3333333333333333,
              "#9c179e"
             ],
             [
              0.4444444444444444,
              "#bd3786"
             ],
             [
              0.5555555555555556,
              "#d8576b"
             ],
             [
              0.6666666666666666,
              "#ed7953"
             ],
             [
              0.7777777777777778,
              "#fb9f3a"
             ],
             [
              0.8888888888888888,
              "#fdca26"
             ],
             [
              1,
              "#f0f921"
             ]
            ],
            "type": "histogram2dcontour"
           }
          ],
          "mesh3d": [
           {
            "colorbar": {
             "outlinewidth": 0,
             "ticks": ""
            },
            "type": "mesh3d"
           }
          ],
          "parcoords": [
           {
            "line": {
             "colorbar": {
              "outlinewidth": 0,
              "ticks": ""
             }
            },
            "type": "parcoords"
           }
          ],
          "scatter": [
           {
            "marker": {
             "colorbar": {
              "outlinewidth": 0,
              "ticks": ""
             }
            },
            "type": "scatter"
           }
          ],
          "scatter3d": [
           {
            "line": {
             "colorbar": {
              "outlinewidth": 0,
              "ticks": ""
             }
            },
            "marker": {
             "colorbar": {
              "outlinewidth": 0,
              "ticks": ""
             }
            },
            "type": "scatter3d"
           }
          ],
          "scattercarpet": [
           {
            "marker": {
             "colorbar": {
              "outlinewidth": 0,
              "ticks": ""
             }
            },
            "type": "scattercarpet"
           }
          ],
          "scattergeo": [
           {
            "marker": {
             "colorbar": {
              "outlinewidth": 0,
              "ticks": ""
             }
            },
            "type": "scattergeo"
           }
          ],
          "scattergl": [
           {
            "marker": {
             "colorbar": {
              "outlinewidth": 0,
              "ticks": ""
             }
            },
            "type": "scattergl"
           }
          ],
          "scattermapbox": [
           {
            "marker": {
             "colorbar": {
              "outlinewidth": 0,
              "ticks": ""
             }
            },
            "type": "scattermapbox"
           }
          ],
          "scatterpolar": [
           {
            "marker": {
             "colorbar": {
              "outlinewidth": 0,
              "ticks": ""
             }
            },
            "type": "scatterpolar"
           }
          ],
          "scatterpolargl": [
           {
            "marker": {
             "colorbar": {
              "outlinewidth": 0,
              "ticks": ""
             }
            },
            "type": "scatterpolargl"
           }
          ],
          "scatterternary": [
           {
            "marker": {
             "colorbar": {
              "outlinewidth": 0,
              "ticks": ""
             }
            },
            "type": "scatterternary"
           }
          ],
          "surface": [
           {
            "colorbar": {
             "outlinewidth": 0,
             "ticks": ""
            },
            "colorscale": [
             [
              0,
              "#0d0887"
             ],
             [
              0.1111111111111111,
              "#46039f"
             ],
             [
              0.2222222222222222,
              "#7201a8"
             ],
             [
              0.3333333333333333,
              "#9c179e"
             ],
             [
              0.4444444444444444,
              "#bd3786"
             ],
             [
              0.5555555555555556,
              "#d8576b"
             ],
             [
              0.6666666666666666,
              "#ed7953"
             ],
             [
              0.7777777777777778,
              "#fb9f3a"
             ],
             [
              0.8888888888888888,
              "#fdca26"
             ],
             [
              1,
              "#f0f921"
             ]
            ],
            "type": "surface"
           }
          ],
          "table": [
           {
            "cells": {
             "fill": {
              "color": "#EBF0F8"
             },
             "line": {
              "color": "white"
             }
            },
            "header": {
             "fill": {
              "color": "#C8D4E3"
             },
             "line": {
              "color": "white"
             }
            },
            "type": "table"
           }
          ]
         },
         "layout": {
          "annotationdefaults": {
           "arrowcolor": "#2a3f5f",
           "arrowhead": 0,
           "arrowwidth": 1
          },
          "colorscale": {
           "diverging": [
            [
             0,
             "#8e0152"
            ],
            [
             0.1,
             "#c51b7d"
            ],
            [
             0.2,
             "#de77ae"
            ],
            [
             0.3,
             "#f1b6da"
            ],
            [
             0.4,
             "#fde0ef"
            ],
            [
             0.5,
             "#f7f7f7"
            ],
            [
             0.6,
             "#e6f5d0"
            ],
            [
             0.7,
             "#b8e186"
            ],
            [
             0.8,
             "#7fbc41"
            ],
            [
             0.9,
             "#4d9221"
            ],
            [
             1,
             "#276419"
            ]
           ],
           "sequential": [
            [
             0,
             "#0d0887"
            ],
            [
             0.1111111111111111,
             "#46039f"
            ],
            [
             0.2222222222222222,
             "#7201a8"
            ],
            [
             0.3333333333333333,
             "#9c179e"
            ],
            [
             0.4444444444444444,
             "#bd3786"
            ],
            [
             0.5555555555555556,
             "#d8576b"
            ],
            [
             0.6666666666666666,
             "#ed7953"
            ],
            [
             0.7777777777777778,
             "#fb9f3a"
            ],
            [
             0.8888888888888888,
             "#fdca26"
            ],
            [
             1,
             "#f0f921"
            ]
           ],
           "sequentialminus": [
            [
             0,
             "#0d0887"
            ],
            [
             0.1111111111111111,
             "#46039f"
            ],
            [
             0.2222222222222222,
             "#7201a8"
            ],
            [
             0.3333333333333333,
             "#9c179e"
            ],
            [
             0.4444444444444444,
             "#bd3786"
            ],
            [
             0.5555555555555556,
             "#d8576b"
            ],
            [
             0.6666666666666666,
             "#ed7953"
            ],
            [
             0.7777777777777778,
             "#fb9f3a"
            ],
            [
             0.8888888888888888,
             "#fdca26"
            ],
            [
             1,
             "#f0f921"
            ]
           ]
          },
          "colorway": [
           "#636efa",
           "#EF553B",
           "#00cc96",
           "#ab63fa",
           "#FFA15A",
           "#19d3f3",
           "#FF6692",
           "#B6E880",
           "#FF97FF",
           "#FECB52"
          ],
          "font": {
           "color": "#2a3f5f"
          },
          "geo": {
           "bgcolor": "white",
           "lakecolor": "white",
           "landcolor": "#E5ECF6",
           "showlakes": true,
           "showland": true,
           "subunitcolor": "white"
          },
          "hoverlabel": {
           "align": "left"
          },
          "hovermode": "closest",
          "mapbox": {
           "style": "light"
          },
          "paper_bgcolor": "white",
          "plot_bgcolor": "#E5ECF6",
          "polar": {
           "angularaxis": {
            "gridcolor": "white",
            "linecolor": "white",
            "ticks": ""
           },
           "bgcolor": "#E5ECF6",
           "radialaxis": {
            "gridcolor": "white",
            "linecolor": "white",
            "ticks": ""
           }
          },
          "scene": {
           "xaxis": {
            "backgroundcolor": "#E5ECF6",
            "gridcolor": "white",
            "gridwidth": 2,
            "linecolor": "white",
            "showbackground": true,
            "ticks": "",
            "zerolinecolor": "white"
           },
           "yaxis": {
            "backgroundcolor": "#E5ECF6",
            "gridcolor": "white",
            "gridwidth": 2,
            "linecolor": "white",
            "showbackground": true,
            "ticks": "",
            "zerolinecolor": "white"
           },
           "zaxis": {
            "backgroundcolor": "#E5ECF6",
            "gridcolor": "white",
            "gridwidth": 2,
            "linecolor": "white",
            "showbackground": true,
            "ticks": "",
            "zerolinecolor": "white"
           }
          },
          "shapedefaults": {
           "line": {
            "color": "#2a3f5f"
           }
          },
          "ternary": {
           "aaxis": {
            "gridcolor": "white",
            "linecolor": "white",
            "ticks": ""
           },
           "baxis": {
            "gridcolor": "white",
            "linecolor": "white",
            "ticks": ""
           },
           "bgcolor": "#E5ECF6",
           "caxis": {
            "gridcolor": "white",
            "linecolor": "white",
            "ticks": ""
           }
          },
          "title": {
           "x": 0.05
          },
          "xaxis": {
           "automargin": true,
           "gridcolor": "white",
           "linecolor": "white",
           "ticks": "",
           "zerolinecolor": "white",
           "zerolinewidth": 2
          },
          "yaxis": {
           "automargin": true,
           "gridcolor": "white",
           "linecolor": "white",
           "ticks": "",
           "zerolinecolor": "white",
           "zerolinewidth": 2
          }
         }
        },
        "title": {
         "text": "Synthesis target: LiCoO2"
        },
        "xaxis": {
         "anchor": "y",
         "domain": [
          0,
          0.98
         ],
         "title": {
          "text": "Competing products metric (a.u.)"
         }
        },
        "yaxis": {
         "anchor": "x",
         "domain": [
          0,
          1
         ],
         "title": {
          "text": "Barrier (a.u.)"
         }
        }
       }
      },
      "text/html": [
       "<div>\n",
       "        \n",
       "        \n",
       "            <div id=\"1d371835-51e5-4065-80c1-1aad06d2d7cb\" class=\"plotly-graph-div\" style=\"height:600px; width:100%;\"></div>\n",
       "            <script type=\"text/javascript\">\n",
       "                require([\"plotly\"], function(Plotly) {\n",
       "                    window.PLOTLYENV=window.PLOTLYENV || {};\n",
       "                    \n",
       "                if (document.getElementById(\"1d371835-51e5-4065-80c1-1aad06d2d7cb\")) {\n",
       "                    Plotly.newPlot(\n",
       "                        '1d371835-51e5-4065-80c1-1aad06d2d7cb',\n",
       "                        [{\"customdata\": [[\"1.0 CoO(mp-22408) + 0.5 Li2O2(mp-841)\"], [\"1.0 Li(mp-135) + 1.0 CoO(mp-22408) + 0.5 O2(mp-1091399)\"], [\"1.0 CoO(mp-22408) + 0.5 Li2O(mp-1960) + 0.25 O2(mp-1091399)\"], [\"1.0 CoCO3(mp-21434) + 0.5 Li2O2(mp-841) + -1.0 CO2(mp-20066)\"], [\"1.0 LiC12(mp-1021323) + 1.0 Co(mp-54) + 13.0 O2(mp-1091399) + -12.0 CO2(mp-20066)\"], [\"1.0 LiC12(mp-1021323) + 12.3333 O2(mp-1091399) + 0.3333 Co3O4(mp-18748) + -12.0 CO2(mp-20066)\"], [\"1.0 Li(mp-135) + 1.0 CoCO3(mp-21434) + 0.5 O2(mp-1091399) + -1.0 CO2(mp-20066)\"], [\"1.0 CoO(mp-22408) + 0.5 Li2CO3(mp-3054) + 0.25 O2(mp-1091399) + -0.5 CO2(mp-20066)\"], [\"0.5 Li2O(mp-1960) + 1.0 CoCO3(mp-21434) + 0.25 O2(mp-1091399) + -1.0 CO2(mp-20066)\"], [\"1.0 CoCO3(mp-21434) + 0.5 Li2CO3(mp-3054) + 0.25 O2(mp-1091399) + -1.5 CO2(mp-20066)\"]], \"hoverlabel\": {\"namelength\": 0}, \"hovertemplate\": \"exp_precursors=0.5<br>n_competing=%{x}<br>barrier=%{y}<br>summary=%{customdata[0]}\", \"legendgroup\": \"exp_precursors=0.5\", \"marker\": {\"color\": \"#636efa\", \"size\": 12, \"symbol\": \"circle\"}, \"mode\": \"markers\", \"name\": \"exp_precursors=0.5\", \"showlegend\": true, \"type\": \"scatter\", \"x\": [182, 283, 212, 190, 318, 318, 307, 276, 288, 293], \"xaxis\": \"x\", \"y\": [1.6031427699947711, 1.7950705991627076, 3.8816688137307716, 1.242777375984171, 9.903006369969674, 0.6000351304578305, 1.3152557439250332, 1.072232081877891, 1.3459222920472431, 0.9223256369805879], \"yaxis\": \"y\"}, {\"customdata\": [[\"0.3333 Li(mp-135) + 0.3333 Li2O2(mp-841) + 0.3333 Co3O4(mp-18748)\"], [\"1.0 Li(mp-135) + 1.0 Co(mp-54) + 1.0 O2(mp-1091399)\"], [\"1.0 Li(mp-135) + 0.3333 O2(mp-1091399) + 0.3333 Co3O4(mp-18748)\"], [\"0.3333 Li2O(mp-1960) + 0.1667 Li2O2(mp-841) + 0.3333 Co3O4(mp-18748)\"], [\"0.5 Li2O(mp-1960) + 1.0 Co(mp-54) + 0.75 O2(mp-1091399)\"], [\"0.5 Li2O(mp-1960) + 0.0833 O2(mp-1091399) + 0.3333 Co3O4(mp-18748)\"], [\"0.5 Li2O2(mp-841) + 1.0 Co(mp-54) + 0.5 O2(mp-1091399)\"], [\"0.5 Li2O2(mp-841) + 0.25 Co(mp-54) + 0.25 Co3O4(mp-18748)\"], [\"0.5 Li2O2(mp-841) + -0.1667 O2(mp-1091399) + 0.3333 Co3O4(mp-18748)\"], [\"0.1667 C(mp-568286) + 0.5 Li2O2(mp-841) + 0.3333 Co3O4(mp-18748) + -0.1667 CO2(mp-20066)\"], [\"0.3333 Li2CO3(mp-3054) + 0.1667 Li2O2(mp-841) + 0.3333 Co3O4(mp-18748) + -0.3333 CO2(mp-20066)\"], [\"0.5 Li2CO3(mp-3054) + 1.0 Co(mp-54) + 0.75 O2(mp-1091399) + -0.5 CO2(mp-20066)\"], [\"0.5 Li2CO3(mp-3054) + 0.0833 O2(mp-1091399) + 0.3333 Co3O4(mp-18748) + -0.5 CO2(mp-20066)\"]], \"hoverlabel\": {\"namelength\": 0}, \"hovertemplate\": \"exp_precursors=1.0<br>n_competing=%{x}<br>barrier=%{y}<br>summary=%{customdata[0]}\", \"legendgroup\": \"exp_precursors=1.0\", \"marker\": {\"color\": \"#EF553B\", \"size\": 12, \"symbol\": \"circle\"}, \"mode\": \"markers\", \"name\": \"exp_precursors=1.0\", \"showlegend\": true, \"type\": \"scatter\", \"x\": [240, 285, 282, 204, 285, 150, 285, 223, 251, 251, 213, 286, 259], \"xaxis\": \"x\", \"y\": [0.6633847992227454, 10.736679531612836, 0.6198940070039177, 1.0725762384139312, 2.3222536313698208, 1.4562169171384554, 1.2853975925696284, 0.6947018879144232, 0.808654012173, 0.6505711695644111, 0.750311081922537, 0.9436699059737546, 0.729918522928405], \"yaxis\": \"y\"}, {\"customdata\": [[\"1.0 LiC12(mp-1021323) + 1.0 CoO(mp-22408) + 12.5 O2(mp-1091399) + -12.0 CO2(mp-20066)\"], [\"1.0 LiC12(mp-1021323) + 1.0 CoCO3(mp-21434) + 12.5 O2(mp-1091399) + -13.0 CO2(mp-20066)\"]], \"hoverlabel\": {\"namelength\": 0}, \"hovertemplate\": \"exp_precursors=0.0<br>n_competing=%{x}<br>barrier=%{y}<br>summary=%{customdata[0]}\", \"legendgroup\": \"exp_precursors=0.0\", \"marker\": {\"color\": \"#00cc96\", \"size\": 12, \"symbol\": \"circle\"}, \"mode\": \"markers\", \"name\": \"exp_precursors=0.0\", \"showlegend\": true, \"type\": \"scatter\", \"x\": [318, 318], \"xaxis\": \"x\", \"y\": [1.7001671621944037, 1.300126258157472], \"yaxis\": \"y\"}, {\"customdata\": [[\"0.0133 LiC12(mp-1021323) + 0.4933 Li2O2(mp-841) + 0.3333 Co3O4(mp-18748) + -0.16 CO2(mp-20066)\"]], \"hoverlabel\": {\"namelength\": 0}, \"hovertemplate\": \"exp_precursors=0.6667<br>n_competing=%{x}<br>barrier=%{y}<br>summary=%{customdata[0]}\", \"legendgroup\": \"exp_precursors=0.6667\", \"marker\": {\"color\": \"#ab63fa\", \"size\": 12, \"symbol\": \"circle\"}, \"mode\": \"markers\", \"name\": \"exp_precursors=0.6667\", \"showlegend\": true, \"type\": \"scatter\", \"x\": [251], \"xaxis\": \"x\", \"y\": [0.6514288702855475], \"yaxis\": \"y\"}],\n",
       "                        {\"height\": 600, \"legend\": {\"tracegroupgap\": 0}, \"margin\": {\"t\": 60}, \"template\": {\"data\": {\"bar\": [{\"error_x\": {\"color\": \"#2a3f5f\"}, \"error_y\": {\"color\": \"#2a3f5f\"}, \"marker\": {\"line\": {\"color\": \"#E5ECF6\", \"width\": 0.5}}, \"type\": \"bar\"}], \"barpolar\": [{\"marker\": {\"line\": {\"color\": \"#E5ECF6\", \"width\": 0.5}}, \"type\": \"barpolar\"}], \"carpet\": [{\"aaxis\": {\"endlinecolor\": \"#2a3f5f\", \"gridcolor\": \"white\", \"linecolor\": \"white\", \"minorgridcolor\": \"white\", \"startlinecolor\": \"#2a3f5f\"}, \"baxis\": {\"endlinecolor\": \"#2a3f5f\", \"gridcolor\": \"white\", \"linecolor\": \"white\", \"minorgridcolor\": \"white\", \"startlinecolor\": \"#2a3f5f\"}, \"type\": \"carpet\"}], \"choropleth\": [{\"colorbar\": {\"outlinewidth\": 0, \"ticks\": \"\"}, \"type\": \"choropleth\"}], \"contour\": [{\"colorbar\": {\"outlinewidth\": 0, \"ticks\": \"\"}, \"colorscale\": [[0.0, \"#0d0887\"], [0.1111111111111111, \"#46039f\"], [0.2222222222222222, \"#7201a8\"], [0.3333333333333333, \"#9c179e\"], [0.4444444444444444, \"#bd3786\"], [0.5555555555555556, \"#d8576b\"], [0.6666666666666666, \"#ed7953\"], [0.7777777777777778, \"#fb9f3a\"], [0.8888888888888888, \"#fdca26\"], [1.0, \"#f0f921\"]], \"type\": \"contour\"}], \"contourcarpet\": [{\"colorbar\": {\"outlinewidth\": 0, \"ticks\": \"\"}, \"type\": \"contourcarpet\"}], \"heatmap\": [{\"colorbar\": {\"outlinewidth\": 0, \"ticks\": \"\"}, \"colorscale\": [[0.0, \"#0d0887\"], [0.1111111111111111, \"#46039f\"], [0.2222222222222222, \"#7201a8\"], [0.3333333333333333, \"#9c179e\"], [0.4444444444444444, \"#bd3786\"], [0.5555555555555556, \"#d8576b\"], [0.6666666666666666, \"#ed7953\"], [0.7777777777777778, \"#fb9f3a\"], [0.8888888888888888, \"#fdca26\"], [1.0, \"#f0f921\"]], \"type\": \"heatmap\"}], \"heatmapgl\": [{\"colorbar\": {\"outlinewidth\": 0, \"ticks\": \"\"}, \"colorscale\": [[0.0, \"#0d0887\"], [0.1111111111111111, \"#46039f\"], [0.2222222222222222, \"#7201a8\"], [0.3333333333333333, \"#9c179e\"], [0.4444444444444444, \"#bd3786\"], [0.5555555555555556, \"#d8576b\"], [0.6666666666666666, \"#ed7953\"], [0.7777777777777778, \"#fb9f3a\"], [0.8888888888888888, \"#fdca26\"], [1.0, \"#f0f921\"]], \"type\": \"heatmapgl\"}], \"histogram\": [{\"marker\": {\"colorbar\": {\"outlinewidth\": 0, \"ticks\": \"\"}}, \"type\": \"histogram\"}], \"histogram2d\": [{\"colorbar\": {\"outlinewidth\": 0, \"ticks\": \"\"}, \"colorscale\": [[0.0, \"#0d0887\"], [0.1111111111111111, \"#46039f\"], [0.2222222222222222, \"#7201a8\"], [0.3333333333333333, \"#9c179e\"], [0.4444444444444444, \"#bd3786\"], [0.5555555555555556, \"#d8576b\"], [0.6666666666666666, \"#ed7953\"], [0.7777777777777778, \"#fb9f3a\"], [0.8888888888888888, \"#fdca26\"], [1.0, \"#f0f921\"]], \"type\": \"histogram2d\"}], \"histogram2dcontour\": [{\"colorbar\": {\"outlinewidth\": 0, \"ticks\": \"\"}, \"colorscale\": [[0.0, \"#0d0887\"], [0.1111111111111111, \"#46039f\"], [0.2222222222222222, \"#7201a8\"], [0.3333333333333333, \"#9c179e\"], [0.4444444444444444, \"#bd3786\"], [0.5555555555555556, \"#d8576b\"], [0.6666666666666666, \"#ed7953\"], [0.7777777777777778, \"#fb9f3a\"], [0.8888888888888888, \"#fdca26\"], [1.0, \"#f0f921\"]], \"type\": \"histogram2dcontour\"}], \"mesh3d\": [{\"colorbar\": {\"outlinewidth\": 0, \"ticks\": \"\"}, \"type\": \"mesh3d\"}], \"parcoords\": [{\"line\": {\"colorbar\": {\"outlinewidth\": 0, \"ticks\": \"\"}}, \"type\": \"parcoords\"}], \"scatter\": [{\"marker\": {\"colorbar\": {\"outlinewidth\": 0, \"ticks\": \"\"}}, \"type\": \"scatter\"}], \"scatter3d\": [{\"line\": {\"colorbar\": {\"outlinewidth\": 0, \"ticks\": \"\"}}, \"marker\": {\"colorbar\": {\"outlinewidth\": 0, \"ticks\": \"\"}}, \"type\": \"scatter3d\"}], \"scattercarpet\": [{\"marker\": {\"colorbar\": {\"outlinewidth\": 0, \"ticks\": \"\"}}, \"type\": \"scattercarpet\"}], \"scattergeo\": [{\"marker\": {\"colorbar\": {\"outlinewidth\": 0, \"ticks\": \"\"}}, \"type\": \"scattergeo\"}], \"scattergl\": [{\"marker\": {\"colorbar\": {\"outlinewidth\": 0, \"ticks\": \"\"}}, \"type\": \"scattergl\"}], \"scattermapbox\": [{\"marker\": {\"colorbar\": {\"outlinewidth\": 0, \"ticks\": \"\"}}, \"type\": \"scattermapbox\"}], \"scatterpolar\": [{\"marker\": {\"colorbar\": {\"outlinewidth\": 0, \"ticks\": \"\"}}, \"type\": \"scatterpolar\"}], \"scatterpolargl\": [{\"marker\": {\"colorbar\": {\"outlinewidth\": 0, \"ticks\": \"\"}}, \"type\": \"scatterpolargl\"}], \"scatterternary\": [{\"marker\": {\"colorbar\": {\"outlinewidth\": 0, \"ticks\": \"\"}}, \"type\": \"scatterternary\"}], \"surface\": [{\"colorbar\": {\"outlinewidth\": 0, \"ticks\": \"\"}, \"colorscale\": [[0.0, \"#0d0887\"], [0.1111111111111111, \"#46039f\"], [0.2222222222222222, \"#7201a8\"], [0.3333333333333333, \"#9c179e\"], [0.4444444444444444, \"#bd3786\"], [0.5555555555555556, \"#d8576b\"], [0.6666666666666666, \"#ed7953\"], [0.7777777777777778, \"#fb9f3a\"], [0.8888888888888888, \"#fdca26\"], [1.0, \"#f0f921\"]], \"type\": \"surface\"}], \"table\": [{\"cells\": {\"fill\": {\"color\": \"#EBF0F8\"}, \"line\": {\"color\": \"white\"}}, \"header\": {\"fill\": {\"color\": \"#C8D4E3\"}, \"line\": {\"color\": \"white\"}}, \"type\": \"table\"}]}, \"layout\": {\"annotationdefaults\": {\"arrowcolor\": \"#2a3f5f\", \"arrowhead\": 0, \"arrowwidth\": 1}, \"colorscale\": {\"diverging\": [[0, \"#8e0152\"], [0.1, \"#c51b7d\"], [0.2, \"#de77ae\"], [0.3, \"#f1b6da\"], [0.4, \"#fde0ef\"], [0.5, \"#f7f7f7\"], [0.6, \"#e6f5d0\"], [0.7, \"#b8e186\"], [0.8, \"#7fbc41\"], [0.9, \"#4d9221\"], [1, \"#276419\"]], \"sequential\": [[0.0, \"#0d0887\"], [0.1111111111111111, \"#46039f\"], [0.2222222222222222, \"#7201a8\"], [0.3333333333333333, \"#9c179e\"], [0.4444444444444444, \"#bd3786\"], [0.5555555555555556, \"#d8576b\"], [0.6666666666666666, \"#ed7953\"], [0.7777777777777778, \"#fb9f3a\"], [0.8888888888888888, \"#fdca26\"], [1.0, \"#f0f921\"]], \"sequentialminus\": [[0.0, \"#0d0887\"], [0.1111111111111111, \"#46039f\"], [0.2222222222222222, \"#7201a8\"], [0.3333333333333333, \"#9c179e\"], [0.4444444444444444, \"#bd3786\"], [0.5555555555555556, \"#d8576b\"], [0.6666666666666666, \"#ed7953\"], [0.7777777777777778, \"#fb9f3a\"], [0.8888888888888888, \"#fdca26\"], [1.0, \"#f0f921\"]]}, \"colorway\": [\"#636efa\", \"#EF553B\", \"#00cc96\", \"#ab63fa\", \"#FFA15A\", \"#19d3f3\", \"#FF6692\", \"#B6E880\", \"#FF97FF\", \"#FECB52\"], \"font\": {\"color\": \"#2a3f5f\"}, \"geo\": {\"bgcolor\": \"white\", \"lakecolor\": \"white\", \"landcolor\": \"#E5ECF6\", \"showlakes\": true, \"showland\": true, \"subunitcolor\": \"white\"}, \"hoverlabel\": {\"align\": \"left\"}, \"hovermode\": \"closest\", \"mapbox\": {\"style\": \"light\"}, \"paper_bgcolor\": \"white\", \"plot_bgcolor\": \"#E5ECF6\", \"polar\": {\"angularaxis\": {\"gridcolor\": \"white\", \"linecolor\": \"white\", \"ticks\": \"\"}, \"bgcolor\": \"#E5ECF6\", \"radialaxis\": {\"gridcolor\": \"white\", \"linecolor\": \"white\", \"ticks\": \"\"}}, \"scene\": {\"xaxis\": {\"backgroundcolor\": \"#E5ECF6\", \"gridcolor\": \"white\", \"gridwidth\": 2, \"linecolor\": \"white\", \"showbackground\": true, \"ticks\": \"\", \"zerolinecolor\": \"white\"}, \"yaxis\": {\"backgroundcolor\": \"#E5ECF6\", \"gridcolor\": \"white\", \"gridwidth\": 2, \"linecolor\": \"white\", \"showbackground\": true, \"ticks\": \"\", \"zerolinecolor\": \"white\"}, \"zaxis\": {\"backgroundcolor\": \"#E5ECF6\", \"gridcolor\": \"white\", \"gridwidth\": 2, \"linecolor\": \"white\", \"showbackground\": true, \"ticks\": \"\", \"zerolinecolor\": \"white\"}}, \"shapedefaults\": {\"line\": {\"color\": \"#2a3f5f\"}}, \"ternary\": {\"aaxis\": {\"gridcolor\": \"white\", \"linecolor\": \"white\", \"ticks\": \"\"}, \"baxis\": {\"gridcolor\": \"white\", \"linecolor\": \"white\", \"ticks\": \"\"}, \"bgcolor\": \"#E5ECF6\", \"caxis\": {\"gridcolor\": \"white\", \"linecolor\": \"white\", \"ticks\": \"\"}}, \"title\": {\"x\": 0.05}, \"xaxis\": {\"automargin\": true, \"gridcolor\": \"white\", \"linecolor\": \"white\", \"ticks\": \"\", \"zerolinecolor\": \"white\", \"zerolinewidth\": 2}, \"yaxis\": {\"automargin\": true, \"gridcolor\": \"white\", \"linecolor\": \"white\", \"ticks\": \"\", \"zerolinecolor\": \"white\", \"zerolinewidth\": 2}}}, \"title\": {\"text\": \"Synthesis target: LiCoO2\"}, \"xaxis\": {\"anchor\": \"y\", \"domain\": [0.0, 0.98], \"title\": {\"text\": \"Competing products metric (a.u.)\"}}, \"yaxis\": {\"anchor\": \"x\", \"domain\": [0.0, 1.0], \"title\": {\"text\": \"Barrier (a.u.)\"}}},\n",
       "                        {\"responsive\": true}\n",
       "                    ).then(function(){\n",
       "                            \n",
       "var gd = document.getElementById('1d371835-51e5-4065-80c1-1aad06d2d7cb');\n",
       "var x = new MutationObserver(function (mutations, observer) {{\n",
       "        var display = window.getComputedStyle(gd).display;\n",
       "        if (!display || display === 'none') {{\n",
       "            console.log([gd, 'removed!']);\n",
       "            Plotly.purge(gd);\n",
       "            observer.disconnect();\n",
       "        }}\n",
       "}});\n",
       "\n",
       "// Listen for the removal of the full notebook cells\n",
       "var notebookContainer = gd.closest('#notebook-container');\n",
       "if (notebookContainer) {{\n",
       "    x.observe(notebookContainer, {childList: true});\n",
       "}}\n",
       "\n",
       "// Listen for the clearing of the current output cell\n",
       "var outputEl = gd.closest('.output');\n",
       "if (outputEl) {{\n",
       "    x.observe(outputEl, {childList: true});\n",
       "}}\n",
       "\n",
       "                        })\n",
       "                };\n",
       "                });\n",
       "            </script>\n",
       "        </div>"
      ]
     },
     "metadata": {},
     "output_type": "display_data"
    }
   ],
   "source": [
    "router.recommend_routes(temperature=1000, pressure=None, allow_gas_release=True, \n",
    "                        max_component_precursors=2, show_known_precursors_only=False, \n",
    "                        confine_competing_to_icsd=False, display_peroxides=True)"
   ]
  },
  {
   "cell_type": "code",
   "execution_count": 11,
   "metadata": {},
   "outputs": [
    {
     "data": {
      "text/plain": [
       "[(1.072232081877891,\n",
       "  '1.0 CoO(mp-22408) + 0.5 Li2CO3(mp-3054) + 0.25 O2(mp-1091399) + -0.5 CO2(mp-20066)',\n",
       "  276,\n",
       "  'mp-1091399_mp-20066_mp-22408_mp-3054')]"
      ]
     },
     "execution_count": 11,
     "metadata": {},
     "output_type": "execute_result"
    }
   ],
   "source": [
    "router.get_rxn_containing(['Li2CO3', 'CoO('])"
   ]
  },
  {
   "cell_type": "code",
   "execution_count": 12,
   "metadata": {},
   "outputs": [
    {
     "data": {
      "text/plain": [
       "[(1.072232081877891,\n",
       "  '1.0 CoO(mp-22408) + 0.5 Li2CO3(mp-3054) + 0.25 O2(mp-1091399) + -0.5 CO2(mp-20066)',\n",
       "  276,\n",
       "  'mp-1091399_mp-20066_mp-22408_mp-3054')]"
      ]
     },
     "execution_count": 12,
     "metadata": {},
     "output_type": "execute_result"
    }
   ],
   "source": [
    "router.get_rxn_containing(['Li2CO3', 'CoO'])"
   ]
  },
  {
   "cell_type": "code",
   "execution_count": 13,
   "metadata": {},
   "outputs": [
    {
     "data": {
      "text/plain": [
       "[(0.33455539170961623,\n",
       "  '0.2 Li2O2(mp-841) + 0.1 Li6CoO4(mp-18925) + 0.3 Co3O4(mp-18748)',\n",
       "  212,\n",
       "  'mp-18748_mp-18925_mp-841'),\n",
       " (0.4107669167306188,\n",
       "  '0.1 Li8CoO6(mp-27920) + 0.1 Li2O2(mp-841) + 0.3 Co3O4(mp-18748)',\n",
       "  177,\n",
       "  'mp-18748_mp-27920_mp-841'),\n",
       " (0.6505711695644111,\n",
       "  '0.1667 C(mp-568286) + 0.5 Li2O2(mp-841) + 0.3333 Co3O4(mp-18748) + -0.1667 CO2(mp-20066)',\n",
       "  251,\n",
       "  'mp-18748_mp-20066_mp-568286_mp-841'),\n",
       " (0.6514288702855475,\n",
       "  '0.0133 LiC12(mp-1021323) + 0.4933 Li2O2(mp-841) + 0.3333 Co3O4(mp-18748) + -0.16 CO2(mp-20066)',\n",
       "  251,\n",
       "  'mp-1021323_mp-18748_mp-20066_mp-841'),\n",
       " (0.6633847992227454,\n",
       "  '0.3333 Li(mp-135) + 0.3333 Li2O2(mp-841) + 0.3333 Co3O4(mp-18748)',\n",
       "  240,\n",
       "  'mp-135_mp-18748_mp-841'),\n",
       " (0.6947018879144232,\n",
       "  '0.5 Li2O2(mp-841) + 0.25 Co(mp-54) + 0.25 Co3O4(mp-18748)',\n",
       "  223,\n",
       "  'mp-18748_mp-54_mp-841'),\n",
       " (0.750311081922537,\n",
       "  '0.3333 Li2CO3(mp-3054) + 0.1667 Li2O2(mp-841) + 0.3333 Co3O4(mp-18748) + -0.3333 CO2(mp-20066)',\n",
       "  213,\n",
       "  'mp-18748_mp-20066_mp-3054_mp-841'),\n",
       " (0.808654012173,\n",
       "  '0.5 Li2O2(mp-841) + -0.1667 O2(mp-1091399) + 0.3333 Co3O4(mp-18748)',\n",
       "  251,\n",
       "  'mp-1091399_mp-18748_mp-841'),\n",
       " (1.0725762384139312,\n",
       "  '0.3333 Li2O(mp-1960) + 0.1667 Li2O2(mp-841) + 0.3333 Co3O4(mp-18748)',\n",
       "  204,\n",
       "  'mp-18748_mp-1960_mp-841')]"
      ]
     },
     "execution_count": 13,
     "metadata": {},
     "output_type": "execute_result"
    }
   ],
   "source": [
    "router.get_rxn_containing(['Li2O2', 'Co3O4'])"
   ]
  },
  {
   "cell_type": "code",
   "execution_count": null,
   "metadata": {},
   "outputs": [],
   "source": [
    "router.reactions['mp-1091399_mp-18748_mp-20066_mp-3054']['precursor_formulas']"
   ]
  },
  {
   "cell_type": "code",
   "execution_count": null,
   "metadata": {},
   "outputs": [],
   "source": [
    "router.plot_data.iloc[0]"
   ]
  },
  {
   "cell_type": "code",
   "execution_count": null,
   "metadata": {},
   "outputs": [],
   "source": [
    "router.get_rxn_containing(['Li2CO3', 'CoCO3'])"
   ]
  },
  {
   "cell_type": "code",
   "execution_count": null,
   "metadata": {},
   "outputs": [],
   "source": [
    "router.get_rxn_containing(['Li2CO3', 'Co3O4'])"
   ]
  },
  {
   "cell_type": "code",
   "execution_count": null,
   "metadata": {},
   "outputs": [],
   "source": [
    "router.get_rxn_containing(['Li2O2', 'CoO'])"
   ]
  },
  {
   "cell_type": "code",
   "execution_count": null,
   "metadata": {},
   "outputs": [],
   "source": [
    "router.get_pareto_front()"
   ]
  },
  {
   "cell_type": "code",
   "execution_count": null,
   "metadata": {
    "scrolled": true
   },
   "outputs": [],
   "source": [
    "print('HIGHSET')\n",
    "print(router.reactions['mp-1091399_mp-18748_mp-20066_mp-3054']['_params'])\n",
    "print(router.reactions['mp-1091399_mp-18748_mp-20066_mp-3054']['barrier'])\n",
    "print(router.reactions['mp-1091399_mp-18748_mp-20066_mp-3054']['energy'])\n",
    "print(router.reactions['mp-1091399_mp-18748_mp-20066_mp-3054']['temperature'])\n",
    "print(router.reactions['mp-1091399_mp-18748_mp-20066_mp-3054']['competing'])\n",
    "print(router.reactions['mp-1091399_mp-18748_mp-20066_mp-3054']['summary'])\n",
    "print(router.pressure)"
   ]
  },
  {
   "cell_type": "markdown",
   "metadata": {},
   "source": [
    "HIGHSET\n",
    "\n",
    "{'f_t': 0.005723818751673854, 'G_star': 1.0559962145137372, 'E_d': 0.6, 'q_sim': 0.06, 'q_epi': 0.028680471897704715}\n",
    "\n",
    "1.655996214513737\n",
    "\n",
    "-0.10951943026196398\n",
    "\n",
    "1000\n",
    "\n",
    "['mp-1174196', 'mp-771155', 'mp-1175381', 'mp-1175469', 'mp-1175506', 'mp-850808', 'mp-1175409', 'mp-777836', 'mp-705640']\n",
    "\n",
    "0.0833 O2(mp-1091399) + 0.3333 Co3O4(mp-18748) + -0.5 CO2(mp-20066) + 0.5 Li2CO3(mp-3054)"
   ]
  },
  {
   "cell_type": "markdown",
   "metadata": {},
   "source": [
    "LOWSET\n",
    "\n",
    "{'f_t': 0.005723818751673854, 'G_star': 0.15087446400227816, 'E_d': 0.6, 'q_sim': 0.06, 'q_epi': 0.028680471897704715}\n",
    "\n",
    "0.7508744640022782\n",
    "\n",
    "-0.2897440233770967\n",
    "\n",
    "1000\n",
    "\n",
    "['mp-1174196', 'mp-771155', 'mp-1175381', 'mp-1175469', 'mp-1175506', 'mp-850808', 'mp-1175409', 'mp-777836', 'mp-705640']\n",
    "\n",
    "0.3333 Co3O4(mp-18748) + 0.5 Li2CO3(mp-3054) + -0.5 CO2(mp-20066) + 0.0833 O2(mp-1091399)"
   ]
  },
  {
   "cell_type": "code",
   "execution_count": null,
   "metadata": {},
   "outputs": [],
   "source": [
    "router.target_entry.data['formation_energy_per_atom']"
   ]
  },
  {
   "cell_type": "code",
   "execution_count": null,
   "metadata": {},
   "outputs": [],
   "source": [
    "router.pressure"
   ]
  },
  {
   "cell_type": "code",
   "execution_count": null,
   "metadata": {},
   "outputs": [],
   "source": [
    "router.get_rxn_containing(['Li2CO3', 'CoCO3'])"
   ]
  },
  {
   "cell_type": "code",
   "execution_count": null,
   "metadata": {},
   "outputs": [],
   "source": [
    "router.get_rxn_containing(['Li2CO3', 'Co3O4'])"
   ]
  },
  {
   "cell_type": "code",
   "execution_count": null,
   "metadata": {},
   "outputs": [],
   "source": [
    "router.get_rxn_containing(['Li2O', 'CoCO3'])"
   ]
  },
  {
   "cell_type": "code",
   "execution_count": null,
   "metadata": {},
   "outputs": [],
   "source": [
    "router.get_rxn_containing(['Li2O', 'Co3O4'])"
   ]
  },
  {
   "cell_type": "code",
   "execution_count": null,
   "metadata": {},
   "outputs": [],
   "source": [
    "router.recommend_routes(temperature=1500, pressure=None, allow_gas_release=True, \n",
    "                        max_component_precursors=2, show_known_precursors_only=False)"
   ]
  },
  {
   "cell_type": "code",
   "execution_count": null,
   "metadata": {},
   "outputs": [],
   "source": [
    "router.get_rxn_containing(['Li2CO3', 'CoCO3'])"
   ]
  },
  {
   "cell_type": "code",
   "execution_count": null,
   "metadata": {},
   "outputs": [],
   "source": [
    "router.get_rxn_containing(['Li2CO3', 'Co3O4'])"
   ]
  },
  {
   "cell_type": "code",
   "execution_count": null,
   "metadata": {},
   "outputs": [],
   "source": [
    "router.get_rxn_containing(['Li2O2', 'CoO'])"
   ]
  },
  {
   "cell_type": "code",
   "execution_count": null,
   "metadata": {},
   "outputs": [],
   "source": []
  }
 ],
 "metadata": {
  "kernelspec": {
   "display_name": "Python 3",
   "language": "python",
   "name": "python3"
  },
  "language_info": {
   "codemirror_mode": {
    "name": "ipython",
    "version": 3
   },
   "file_extension": ".py",
   "mimetype": "text/x-python",
   "name": "python",
   "nbconvert_exporter": "python",
   "pygments_lexer": "ipython3",
   "version": "3.7.4"
  }
 },
 "nbformat": 4,
 "nbformat_minor": 2
}

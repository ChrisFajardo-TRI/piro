{
 "cells": [
  {
   "cell_type": "code",
   "execution_count": 1,
   "metadata": {
    "pycharm": {
     "is_executing": false
    }
   },
   "outputs": [],
   "source": [
    "from rxn.route import SynthesisRoutes"
   ]
  },
  {
   "cell_type": "code",
   "execution_count": null,
   "metadata": {
    "pycharm": {
     "is_executing": false,
     "metadata": false,
     "name": "#%%\n"
    }
   },
   "outputs": [],
   "source": [
    "router = SynthesisRoutes('mp-3536', add_element='C')"
   ]
  },
  {
   "cell_type": "code",
   "execution_count": null,
   "metadata": {
    "pycharm": {
     "is_executing": false,
     "metadata": false,
     "name": "#%%\n"
    }
   },
   "outputs": [],
   "source": [
    "router.recommend_routes(t=1500, p=1, allow_gas_release=True)"
   ]
  },
  {
   "cell_type": "code",
   "execution_count": null,
   "metadata": {},
   "outputs": [],
   "source": [
    "router.plot_data"
   ]
  },
  {
   "cell_type": "code",
   "execution_count": null,
   "metadata": {},
   "outputs": [],
   "source": [
    "router2 = SynthesisRoutes('mp-18778', add_element='C')"
   ]
  },
  {
   "cell_type": "code",
   "execution_count": null,
   "metadata": {},
   "outputs": [],
   "source": [
    "router2.recommend_routes(allow_gas_release=True)"
   ]
  },
  {
   "cell_type": "code",
   "execution_count": null,
   "metadata": {},
   "outputs": [],
   "source": [
    "router2.recommend_routes(t=1500, allow_gas_release=True)"
   ]
  },
  {
   "cell_type": "code",
   "execution_count": 5,
   "metadata": {},
   "outputs": [
    {
     "name": "stderr",
     "output_type": "stream",
     "text": [
      "[Parallel(n_jobs=-1)]: Using backend LokyBackend with 8 concurrent workers.\n",
      "[Parallel(n_jobs=-1)]: Done  48 out of  48 | elapsed:  3.5min finished\n"
     ]
    },
    {
     "name": "stdout",
     "output_type": "stream",
     "text": [
      "Epitaxies ready\n",
      "Similarity matrix ready\n",
      "Precursor library ready.\n"
     ]
    }
   ],
   "source": [
    "router3 = SynthesisRoutes('mp-19845', add_element='C', confine_to_stables=False, hull_distance=0.015)"
   ]
  },
  {
   "cell_type": "code",
   "execution_count": 6,
   "metadata": {},
   "outputs": [
    {
     "data": {
      "text/plain": [
       "[('mp-48', 'C'),\n",
       " ('mp-568286', 'C'),\n",
       " ('mp-568363', 'C'),\n",
       " ('mp-169', 'C'),\n",
       " ('mp-606949', 'C'),\n",
       " ('mp-11725', 'CO2'),\n",
       " ('mp-644607', 'CO2'),\n",
       " ('mp-20066', 'CO2'),\n",
       " ('mp-1190699', 'CO2'),\n",
       " ('mp-1105697', 'PbCO3'),\n",
       " ('mp-505702', 'Pb2CO4'),\n",
       " ('mp-19893', 'PbCO3'),\n",
       " ('mp-20661', 'Ti2PbC'),\n",
       " ('mp-631', 'TiC'),\n",
       " ('mp-10721', 'Ti2C'),\n",
       " ('mp-27919', 'Ti8C5'),\n",
       " ('mp-12957', 'O2'),\n",
       " ('mp-1009490', 'O2'),\n",
       " ('mp-611836', 'O2'),\n",
       " ('mp-1091399', 'O2'),\n",
       " ('mp-20078', 'Pb2O3'),\n",
       " ('mp-21452', 'Pb3O4'),\n",
       " ('mp-22633', 'Pb3O4'),\n",
       " ('mp-20725', 'PbO2'),\n",
       " ('mp-20633', 'PbO2'),\n",
       " ('mp-19921', 'PbO'),\n",
       " ('mp-504427', 'Ti3PbO7'),\n",
       " ('mp-20459', 'TiPbO3'),\n",
       " ('mp-1071163', 'TiO'),\n",
       " ('mp-559964', 'Ti6O11'),\n",
       " ('mp-1147', 'Ti3O5'),\n",
       " ('mp-458', 'Ti2O3'),\n",
       " ('mp-557812', 'Ti3O'),\n",
       " ('mp-554278', 'TiO2'),\n",
       " ('mp-12205', 'Ti4O7'),\n",
       " ('mp-1215', 'Ti2O'),\n",
       " ('mp-2591', 'Ti3O'),\n",
       " ('mp-554098', 'Ti6O'),\n",
       " ('mp-8057', 'Ti3O5'),\n",
       " ('mp-882', 'Ti6O'),\n",
       " ('mp-556724', 'Ti7O13'),\n",
       " ('mp-748', 'Ti5O9'),\n",
       " ('mp-30524', 'Ti6O11'),\n",
       " ('mp-390', 'TiO2'),\n",
       " ('mp-556480', 'Ti3O5'),\n",
       " ('mp-20483', 'Pb'),\n",
       " ('mp-72', 'Ti'),\n",
       " ('mp-46', 'Ti')]"
      ]
     },
     "execution_count": 6,
     "metadata": {},
     "output_type": "execute_result"
    }
   ],
   "source": [
    "router3.get_precursor_formulas()"
   ]
  },
  {
   "cell_type": "code",
   "execution_count": 3,
   "metadata": {},
   "outputs": [
    {
     "ename": "KeyboardInterrupt",
     "evalue": "",
     "output_type": "error",
     "traceback": [
      "\u001b[0;31m---------------------------------------------------------------------------\u001b[0m",
      "\u001b[0;31mKeyboardInterrupt\u001b[0m                         Traceback (most recent call last)",
      "\u001b[0;32m<ipython-input-3-4db996df9296>\u001b[0m in \u001b[0;36m<module>\u001b[0;34m\u001b[0m\n\u001b[0;32m----> 1\u001b[0;31m \u001b[0mrouter3\u001b[0m\u001b[0;34m.\u001b[0m\u001b[0mrecommend_routes\u001b[0m\u001b[0;34m(\u001b[0m\u001b[0mt\u001b[0m\u001b[0;34m=\u001b[0m\u001b[0;36m1500\u001b[0m\u001b[0;34m,\u001b[0m \u001b[0mp\u001b[0m\u001b[0;34m=\u001b[0m\u001b[0;36m1\u001b[0m\u001b[0;34m,\u001b[0m \u001b[0mallow_gas_release\u001b[0m\u001b[0;34m=\u001b[0m\u001b[0;32mFalse\u001b[0m\u001b[0;34m)\u001b[0m\u001b[0;34m\u001b[0m\u001b[0;34m\u001b[0m\u001b[0m\n\u001b[0m",
      "\u001b[0;32m~/Google_Drive/develop/rxn/rxn/route.py\u001b[0m in \u001b[0;36mrecommend_routes\u001b[0;34m(self, t, p, allow_gas_release)\u001b[0m\n\u001b[1;32m    285\u001b[0m \u001b[0;34m\u001b[0m\u001b[0m\n\u001b[1;32m    286\u001b[0m         \u001b[0mself\u001b[0m\u001b[0;34m.\u001b[0m\u001b[0mget_reactions\u001b[0m\u001b[0;34m(\u001b[0m\u001b[0;34m)\u001b[0m\u001b[0;34m\u001b[0m\u001b[0;34m\u001b[0m\u001b[0m\n\u001b[0;32m--> 287\u001b[0;31m \u001b[0;34m\u001b[0m\u001b[0m\n\u001b[0m\u001b[1;32m    288\u001b[0m         \u001b[0;32mfor\u001b[0m \u001b[0mrxn_label\u001b[0m \u001b[0;32min\u001b[0m \u001b[0mself\u001b[0m\u001b[0;34m.\u001b[0m\u001b[0mreactions\u001b[0m\u001b[0;34m:\u001b[0m\u001b[0;34m\u001b[0m\u001b[0;34m\u001b[0m\u001b[0m\n\u001b[1;32m    289\u001b[0m             \u001b[0mself\u001b[0m\u001b[0;34m.\u001b[0m\u001b[0mget_reaction_energy\u001b[0m\u001b[0;34m(\u001b[0m\u001b[0mrxn_label\u001b[0m\u001b[0;34m)\u001b[0m\u001b[0;34m\u001b[0m\u001b[0;34m\u001b[0m\u001b[0m\n",
      "\u001b[0;32m~/Google_Drive/develop/rxn/rxn/route.py\u001b[0m in \u001b[0;36mget_reactions\u001b[0;34m(self)\u001b[0m\n\u001b[1;32m    118\u001b[0m \u001b[0;34m\u001b[0m\u001b[0m\n\u001b[1;32m    119\u001b[0m             \u001b[0mprecursor_formulas\u001b[0m \u001b[0;34m=\u001b[0m \u001b[0mnp\u001b[0m\u001b[0;34m.\u001b[0m\u001b[0marray\u001b[0m\u001b[0;34m(\u001b[0m\u001b[0;34m[\u001b[0m\u001b[0mp\u001b[0m\u001b[0;34m.\u001b[0m\u001b[0mstructure\u001b[0m\u001b[0;34m.\u001b[0m\u001b[0mcomposition\u001b[0m\u001b[0;34m.\u001b[0m\u001b[0mreduced_formula\u001b[0m \u001b[0;32mfor\u001b[0m \u001b[0mp\u001b[0m \u001b[0;32min\u001b[0m \u001b[0mprecursors\u001b[0m\u001b[0;34m]\u001b[0m\u001b[0;34m)\u001b[0m\u001b[0;34m\u001b[0m\u001b[0;34m\u001b[0m\u001b[0m\n\u001b[0;32m--> 120\u001b[0;31m \u001b[0;34m\u001b[0m\u001b[0m\n\u001b[0m\u001b[1;32m    121\u001b[0m             \u001b[0;32mif\u001b[0m \u001b[0mnp\u001b[0m\u001b[0;34m.\u001b[0m\u001b[0many\u001b[0m\u001b[0;34m(\u001b[0m\u001b[0mcoeffs\u001b[0m \u001b[0;34m<\u001b[0m \u001b[0;36m0.0\u001b[0m\u001b[0;34m)\u001b[0m\u001b[0;34m:\u001b[0m\u001b[0;34m\u001b[0m\u001b[0;34m\u001b[0m\u001b[0m\n\u001b[1;32m    122\u001b[0m                 \u001b[0;32mif\u001b[0m \u001b[0;32mnot\u001b[0m \u001b[0mself\u001b[0m\u001b[0;34m.\u001b[0m\u001b[0mallow_gas_release\u001b[0m\u001b[0;34m:\u001b[0m\u001b[0;34m\u001b[0m\u001b[0;34m\u001b[0m\u001b[0m\n",
      "\u001b[0;32m~/Google_Drive/develop/rxn/rxn/route.py\u001b[0m in \u001b[0;36m<listcomp>\u001b[0;34m(.0)\u001b[0m\n\u001b[1;32m    118\u001b[0m \u001b[0;34m\u001b[0m\u001b[0m\n\u001b[1;32m    119\u001b[0m             \u001b[0mprecursor_formulas\u001b[0m \u001b[0;34m=\u001b[0m \u001b[0mnp\u001b[0m\u001b[0;34m.\u001b[0m\u001b[0marray\u001b[0m\u001b[0;34m(\u001b[0m\u001b[0;34m[\u001b[0m\u001b[0mp\u001b[0m\u001b[0;34m.\u001b[0m\u001b[0mstructure\u001b[0m\u001b[0;34m.\u001b[0m\u001b[0mcomposition\u001b[0m\u001b[0;34m.\u001b[0m\u001b[0mreduced_formula\u001b[0m \u001b[0;32mfor\u001b[0m \u001b[0mp\u001b[0m \u001b[0;32min\u001b[0m \u001b[0mprecursors\u001b[0m\u001b[0;34m]\u001b[0m\u001b[0;34m)\u001b[0m\u001b[0;34m\u001b[0m\u001b[0;34m\u001b[0m\u001b[0m\n\u001b[0;32m--> 120\u001b[0;31m \u001b[0;34m\u001b[0m\u001b[0m\n\u001b[0m\u001b[1;32m    121\u001b[0m             \u001b[0;32mif\u001b[0m \u001b[0mnp\u001b[0m\u001b[0;34m.\u001b[0m\u001b[0many\u001b[0m\u001b[0;34m(\u001b[0m\u001b[0mcoeffs\u001b[0m \u001b[0;34m<\u001b[0m \u001b[0;36m0.0\u001b[0m\u001b[0;34m)\u001b[0m\u001b[0;34m:\u001b[0m\u001b[0;34m\u001b[0m\u001b[0;34m\u001b[0m\u001b[0m\n\u001b[1;32m    122\u001b[0m                 \u001b[0;32mif\u001b[0m \u001b[0;32mnot\u001b[0m \u001b[0mself\u001b[0m\u001b[0;34m.\u001b[0m\u001b[0mallow_gas_release\u001b[0m\u001b[0;34m:\u001b[0m\u001b[0;34m\u001b[0m\u001b[0;34m\u001b[0m\u001b[0m\n",
      "\u001b[0;32m~/local_dev/venv_camd/lib/python3.7/site-packages/pymatgen-2019.10.4-py3.7-macosx-10.14-x86_64.egg/pymatgen/core/structure.py\u001b[0m in \u001b[0;36mcomposition\u001b[0;34m(self)\u001b[0m\n\u001b[1;32m    318\u001b[0m         \u001b[0melmap\u001b[0m \u001b[0;34m=\u001b[0m \u001b[0mcollections\u001b[0m\u001b[0;34m.\u001b[0m\u001b[0mdefaultdict\u001b[0m\u001b[0;34m(\u001b[0m\u001b[0mfloat\u001b[0m\u001b[0;34m)\u001b[0m  \u001b[0;31m# type: Dict[Specie, float]\u001b[0m\u001b[0;34m\u001b[0m\u001b[0;34m\u001b[0m\u001b[0m\n\u001b[1;32m    319\u001b[0m         \u001b[0;32mfor\u001b[0m \u001b[0msite\u001b[0m \u001b[0;32min\u001b[0m \u001b[0mself\u001b[0m\u001b[0;34m:\u001b[0m\u001b[0;34m\u001b[0m\u001b[0;34m\u001b[0m\u001b[0m\n\u001b[0;32m--> 320\u001b[0;31m             \u001b[0;32mfor\u001b[0m \u001b[0mspecies\u001b[0m\u001b[0;34m,\u001b[0m \u001b[0moccu\u001b[0m \u001b[0;32min\u001b[0m \u001b[0msite\u001b[0m\u001b[0;34m.\u001b[0m\u001b[0mspecies\u001b[0m\u001b[0;34m.\u001b[0m\u001b[0mitems\u001b[0m\u001b[0;34m(\u001b[0m\u001b[0;34m)\u001b[0m\u001b[0;34m:\u001b[0m\u001b[0;34m\u001b[0m\u001b[0;34m\u001b[0m\u001b[0m\n\u001b[0m\u001b[1;32m    321\u001b[0m                 \u001b[0melmap\u001b[0m\u001b[0;34m[\u001b[0m\u001b[0mspecies\u001b[0m\u001b[0;34m]\u001b[0m \u001b[0;34m+=\u001b[0m \u001b[0moccu\u001b[0m\u001b[0;34m\u001b[0m\u001b[0;34m\u001b[0m\u001b[0m\n\u001b[1;32m    322\u001b[0m         \u001b[0;32mreturn\u001b[0m \u001b[0mComposition\u001b[0m\u001b[0;34m(\u001b[0m\u001b[0melmap\u001b[0m\u001b[0;34m)\u001b[0m\u001b[0;34m\u001b[0m\u001b[0;34m\u001b[0m\u001b[0m\n",
      "\u001b[0;32m/usr/local/Cellar/python/3.7.4_1/Frameworks/Python.framework/Versions/3.7/lib/python3.7/_collections_abc.py\u001b[0m in \u001b[0;36m__iter__\u001b[0;34m(self)\u001b[0m\n\u001b[1;32m    742\u001b[0m     \u001b[0;32mdef\u001b[0m \u001b[0m__iter__\u001b[0m\u001b[0;34m(\u001b[0m\u001b[0mself\u001b[0m\u001b[0;34m)\u001b[0m\u001b[0;34m:\u001b[0m\u001b[0;34m\u001b[0m\u001b[0;34m\u001b[0m\u001b[0m\n\u001b[1;32m    743\u001b[0m         \u001b[0;32mfor\u001b[0m \u001b[0mkey\u001b[0m \u001b[0;32min\u001b[0m \u001b[0mself\u001b[0m\u001b[0;34m.\u001b[0m\u001b[0m_mapping\u001b[0m\u001b[0;34m:\u001b[0m\u001b[0;34m\u001b[0m\u001b[0;34m\u001b[0m\u001b[0m\n\u001b[0;32m--> 744\u001b[0;31m             \u001b[0;32myield\u001b[0m \u001b[0;34m(\u001b[0m\u001b[0mkey\u001b[0m\u001b[0;34m,\u001b[0m \u001b[0mself\u001b[0m\u001b[0;34m.\u001b[0m\u001b[0m_mapping\u001b[0m\u001b[0;34m[\u001b[0m\u001b[0mkey\u001b[0m\u001b[0;34m]\u001b[0m\u001b[0;34m)\u001b[0m\u001b[0;34m\u001b[0m\u001b[0;34m\u001b[0m\u001b[0m\n\u001b[0m\u001b[1;32m    745\u001b[0m \u001b[0;34m\u001b[0m\u001b[0m\n\u001b[1;32m    746\u001b[0m \u001b[0mItemsView\u001b[0m\u001b[0;34m.\u001b[0m\u001b[0mregister\u001b[0m\u001b[0;34m(\u001b[0m\u001b[0mdict_items\u001b[0m\u001b[0;34m)\u001b[0m\u001b[0;34m\u001b[0m\u001b[0;34m\u001b[0m\u001b[0m\n",
      "\u001b[0;32m~/local_dev/venv_camd/lib/python3.7/site-packages/pymatgen-2019.10.4-py3.7-macosx-10.14-x86_64.egg/pymatgen/core/composition.py\u001b[0m in \u001b[0;36m__getitem__\u001b[0;34m(self, item)\u001b[0m\n\u001b[1;32m    140\u001b[0m         \u001b[0;32mtry\u001b[0m\u001b[0;34m:\u001b[0m\u001b[0;34m\u001b[0m\u001b[0;34m\u001b[0m\u001b[0m\n\u001b[1;32m    141\u001b[0m             \u001b[0msp\u001b[0m \u001b[0;34m=\u001b[0m \u001b[0mget_el_sp\u001b[0m\u001b[0;34m(\u001b[0m\u001b[0mitem\u001b[0m\u001b[0;34m)\u001b[0m\u001b[0;34m\u001b[0m\u001b[0;34m\u001b[0m\u001b[0m\n\u001b[0;32m--> 142\u001b[0;31m             \u001b[0;32mreturn\u001b[0m \u001b[0mself\u001b[0m\u001b[0;34m.\u001b[0m\u001b[0m_data\u001b[0m\u001b[0;34m.\u001b[0m\u001b[0mget\u001b[0m\u001b[0;34m(\u001b[0m\u001b[0msp\u001b[0m\u001b[0;34m,\u001b[0m \u001b[0;36m0\u001b[0m\u001b[0;34m)\u001b[0m\u001b[0;34m\u001b[0m\u001b[0;34m\u001b[0m\u001b[0m\n\u001b[0m\u001b[1;32m    143\u001b[0m         \u001b[0;32mexcept\u001b[0m \u001b[0mValueError\u001b[0m \u001b[0;32mas\u001b[0m \u001b[0mex\u001b[0m\u001b[0;34m:\u001b[0m\u001b[0;34m\u001b[0m\u001b[0;34m\u001b[0m\u001b[0m\n\u001b[1;32m    144\u001b[0m             raise TypeError(\"Invalid key {}, {} for Composition\\n\"\n",
      "\u001b[0;32m~/local_dev/venv_camd/lib/python3.7/site-packages/pymatgen-2019.10.4-py3.7-macosx-10.14-x86_64.egg/pymatgen/core/periodic_table.py\u001b[0m in \u001b[0;36m__hash__\u001b[0;34m(self)\u001b[0m\n\u001b[1;32m    733\u001b[0m \u001b[0;34m\u001b[0m\u001b[0m\n\u001b[1;32m    734\u001b[0m     \u001b[0;32mdef\u001b[0m \u001b[0m__hash__\u001b[0m\u001b[0;34m(\u001b[0m\u001b[0mself\u001b[0m\u001b[0;34m)\u001b[0m\u001b[0;34m:\u001b[0m\u001b[0;34m\u001b[0m\u001b[0;34m\u001b[0m\u001b[0m\n\u001b[0;32m--> 735\u001b[0;31m         \u001b[0;32mreturn\u001b[0m \u001b[0mself\u001b[0m\u001b[0;34m.\u001b[0m\u001b[0mZ\u001b[0m\u001b[0;34m\u001b[0m\u001b[0;34m\u001b[0m\u001b[0m\n\u001b[0m\u001b[1;32m    736\u001b[0m \u001b[0;34m\u001b[0m\u001b[0m\n\u001b[1;32m    737\u001b[0m     \u001b[0;32mdef\u001b[0m \u001b[0m__repr__\u001b[0m\u001b[0;34m(\u001b[0m\u001b[0mself\u001b[0m\u001b[0;34m)\u001b[0m\u001b[0;34m:\u001b[0m\u001b[0;34m\u001b[0m\u001b[0;34m\u001b[0m\u001b[0m\n",
      "\u001b[0;31mKeyboardInterrupt\u001b[0m: "
     ]
    }
   ],
   "source": [
    "router3.recommend_routes(t=1500, p=1, allow_gas_release=False)"
   ]
  },
  {
   "cell_type": "code",
   "execution_count": 2,
   "metadata": {},
   "outputs": [],
   "source": [
    "q= {'mp-841': 61.284168471679116,\n",
    " 'mp-18925': 92.9351741571573,\n",
    " 'mp-27920': 53.47436932891748,\n",
    " 'mp-1091399': 84.74363864641295,\n",
    " 'mp-1960': 28.133281031068783,\n",
    " 'mp-18748': 28.680471897704717,\n",
    " 'mp-3054': 42.46436689429881,\n",
    " 'mp-568286': 42.187202865018726,\n",
    " 'mp-21434': 53.80272281816795,\n",
    " 'mp-135': 20.339604339713855,\n",
    " 'mp-20066': 67.34262487017929,\n",
    " 'mp-1021323': 47.99186142557461,\n",
    " 'mp-22408': 27.64364822827352,\n",
    " 'mp-54': 21.664201802574723}"
   ]
  },
  {
   "cell_type": "code",
   "execution_count": 18,
   "metadata": {},
   "outputs": [],
   "source": [
    "r={'mp-18759': 34.51812769153773,\n",
    " 'mp-3054': 63.69655034144821,\n",
    " 'mp-1091399': 84.74363864641295,\n",
    " 'mp-841': 48.98512649426327,\n",
    " 'mp-1960': 53.87113178173898,\n",
    " 'mp-18814': 68.23520438009974,\n",
    " 'mp-568286': 52.41401915974126,\n",
    " 'mp-1021323': 66.74686904358475,\n",
    " 'mp-19395': 20.40843560185711,\n",
    " 'mp-20066': 33.671312435089646,\n",
    " 'mp-135': 43.93856723511763,\n",
    " 'mp-35': 148.55699951125783,\n",
    " 'mp-18988': 27.98263500524705,\n",
    " 'mp-565203': 277.66812258758245,\n",
    " 'mp-542830': 141.02550622888774,\n",
    " 'mp-19006': 69.68410944470716,\n",
    " 'mp-19326': 30.683731974030287,\n",
    " 'mp-510408': 29.263562407022924}"
   ]
  },
  {
   "cell_type": "code",
   "execution_count": 19,
   "metadata": {},
   "outputs": [],
   "source": [
    "s={'mp-13137': 148.41638145222214,\n",
    " 'mp-985829': 142.46390406700803,\n",
    " 'mp-1500': 104.23926149822152,\n",
    " 'mp-1105549': 49.67454021421752,\n",
    " 'mp-122': 25.30391722164453,\n",
    " 'mp-96': 1000000.0,\n",
    " 'mp-568286': 79.2351842867929,\n",
    " 'mp-21075': 94.30351793540899,\n",
    " 'mp-103': 81.043188185981,\n",
    " 'mp-2232': 143.66235988482512,\n",
    " 'mp-10000': 148.994383909101}"
   ]
  },
  {
   "cell_type": "code",
   "execution_count": 20,
   "metadata": {},
   "outputs": [],
   "source": [
    "t={'mp-20066': 47.618426708605625,\n",
    " 'mp-1215': 100.29593637205379,\n",
    " 'mp-554278': 137.37616006654324,\n",
    " 'mp-554098': 90.69564055627559,\n",
    " 'mp-2591': 184.30512206633273,\n",
    " 'mp-1342': 47.29036989839407,\n",
    " 'mp-1147': 113.88853060006534,\n",
    " 'mp-27919': 149.75409790143982,\n",
    " 'mp-568286': 84.37440573003745,\n",
    " 'mp-558159': 260.6090214950874,\n",
    " 'mp-3397': 235.26562397946694,\n",
    " 'mp-29298': 86.23105900171589,\n",
    " 'mp-5504': 145.41777946370274,\n",
    " 'mp-1071163': 28.926829405089467,\n",
    " 'mp-458': 90.5698980864518,\n",
    " 'mp-10721': 149.26789609761423,\n",
    " 'mp-631': 112.78711358675989,\n",
    " 'mp-1105': 92.52261277235482,\n",
    " 'mp-1091399': 108.26850832948942,\n",
    " 'mp-72': 44.847899265933684,\n",
    " 'mp-7733': 36.62802626255376,\n",
    " 'mp-122': 71.5702857597654}"
   ]
  },
  {
   "cell_type": "code",
   "execution_count": 21,
   "metadata": {},
   "outputs": [],
   "source": [
    "u={'mp-23152': 66.34641859841508,\n",
    " 'mp-573763': 1000000.0,\n",
    " 'mp-635413': 136.40268231565508,\n",
    " 'mp-1178386': 1000000.0,\n",
    " 'mp-1205121': 1000000.0,\n",
    " 'mp-19': 268.93293589395785,\n",
    " 'mp-580062': 1000000.0,\n",
    " 'mp-34202': 318.75707536243084,\n",
    " 'mp-23163': 193.74516137852288,\n",
    " 'mp-505634': 1000000.0,\n",
    " 'mp-8361': 1000000.0}"
   ]
  },
  {
   "cell_type": "code",
   "execution_count": 22,
   "metadata": {},
   "outputs": [
    {
     "data": {
      "text/plain": [
       "{'mp-13137': 148.41638145222214,\n",
       " 'mp-985829': 142.46390406700803,\n",
       " 'mp-1500': 104.23926149822152,\n",
       " 'mp-1105549': 49.67454021421752,\n",
       " 'mp-122': 25.30391722164453,\n",
       " 'mp-96': 1000000.0,\n",
       " 'mp-568286': 79.2351842867929,\n",
       " 'mp-21075': 94.30351793540899,\n",
       " 'mp-103': 81.043188185981,\n",
       " 'mp-2232': 143.66235988482512,\n",
       " 'mp-10000': 148.994383909101}"
      ]
     },
     "execution_count": 22,
     "metadata": {},
     "output_type": "execute_result"
    }
   ],
   "source": [
    "s"
   ]
  },
  {
   "cell_type": "code",
   "execution_count": 23,
   "metadata": {},
   "outputs": [],
   "source": [
    "tot = []\n",
    "for x in [q,r,s,t,u]:\n",
    "    tot+=list(x.values())"
   ]
  },
  {
   "cell_type": "code",
   "execution_count": 25,
   "metadata": {},
   "outputs": [],
   "source": [
    "tot = [i for i in tot if i<1000000.0]"
   ]
  },
  {
   "cell_type": "code",
   "execution_count": 28,
   "metadata": {},
   "outputs": [],
   "source": [
    "import matplotlib.pyplot as plt"
   ]
  },
  {
   "cell_type": "code",
   "execution_count": 33,
   "metadata": {},
   "outputs": [
    {
     "data": {
      "text/plain": [
       "(array([13., 10.,  6.,  7., 10.,  3.,  2.,  2.,  9.,  0.,  1.,  1.,  0.,\n",
       "         0.,  1.,  0.,  2.,  1.,  0.,  1.]),\n",
       " array([ 20.33960434,  35.26047789,  50.18135144,  65.10222499,\n",
       "         80.02309854,  94.9439721 , 109.86484565, 124.7857192 ,\n",
       "        139.70659275, 154.6274663 , 169.54833985, 184.4692134 ,\n",
       "        199.39008695, 214.3109605 , 229.23183406, 244.15270761,\n",
       "        259.07358116, 273.99445471, 288.91532826, 303.83620181,\n",
       "        318.75707536]),\n",
       " <a list of 20 Patch objects>)"
      ]
     },
     "execution_count": 33,
     "metadata": {},
     "output_type": "execute_result"
    },
    {
     "data": {
      "image/png": "[encoded data removed]",
      "text/plain": [
       "<Figure size 432x288 with 1 Axes>"
      ]
     },
     "metadata": {
      "needs_background": "light"
     },
     "output_type": "display_data"
    }
   ],
   "source": [
    "plt.hist(tot,bins=20)"
   ]
  },
  {
   "cell_type": "code",
   "execution_count": null,
   "metadata": {},
   "outputs": [],
   "source": []
  }
 ],
 "metadata": {
  "kernelspec": {
   "display_name": "Python 3",
   "language": "python",
   "name": "python3"
  },
  "language_info": {
   "codemirror_mode": {
    "name": "ipython",
    "version": 3
   },
   "file_extension": ".py",
   "mimetype": "text/x-python",
   "name": "python",
   "nbconvert_exporter": "python",
   "pygments_lexer": "ipython3",
   "version": "3.7.4"
  },
  "pycharm": {
   "stem_cell": {
    "cell_type": "raw",
    "metadata": {
     "collapsed": false
    },
    "source": []
   }
  }
 },
 "nbformat": 4,
 "nbformat_minor": 1
}
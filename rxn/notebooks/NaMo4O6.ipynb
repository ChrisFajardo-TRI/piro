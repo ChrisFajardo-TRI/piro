{
 "cells": [
  {
   "cell_type": "markdown",
   "metadata": {},
   "source": [
    "### This is a very good story. NaMo4O6 serendipitously discovered in Mo tube where Na2MoO4, ZnO and MoO2 were packed.\n",
    "Method below with Mo (tube) + Na2MO4 + O2 can give this pretty unstable structure!\n",
    "There is strong temperature sensitivity due to relatively low heat of reaction, via O2.\n",
    "O2 being reactant means lower tempearture will favor reaction in forward direction. Hence, it's easy to optimize\n",
    "in experiment to find a temperature high enough to sustain diffusion, while nucleation isn't completely blocked.\n",
    "With different starting materials, the same structure is possible to obtain energetically, but the number of competing phases are high.\n",
    "The choice of starting materials by Toradi and McCarley, simply by pure luck, happened to be those\n",
    "that have no competing phases!\n",
    "doi:10.1021/ja00508a043"
   ]
  },
  {
   "cell_type": "code",
   "execution_count": 1,
   "metadata": {},
   "outputs": [],
   "source": [
    "from rxn.route import SynthesisRoutes\n",
    "mp_id = 'mp-1191832'"
   ]
  },
  {
   "cell_type": "code",
   "execution_count": 24,
   "metadata": {
    "scrolled": true
   },
   "outputs": [
    {
     "name": "stderr",
     "output_type": "stream",
     "text": [
      "[Parallel(n_jobs=-1)]: Using backend LokyBackend with 8 concurrent workers.\n",
      "[Parallel(n_jobs=-1)]: Done   6 out of  10 | elapsed:    8.7s remaining:    5.8s\n",
      "[Parallel(n_jobs=-1)]: Done  10 out of  10 | elapsed:   25.6s finished\n"
     ]
    },
    {
     "name": "stdout",
     "output_type": "stream",
     "text": [
      "Epitaxies ready\n",
      "Similarity matrix ready\n",
      "Precursor library ready.\n"
     ]
    }
   ],
   "source": [
    "router = SynthesisRoutes(mp_id, pressure=None)"
   ]
  },
  {
   "cell_type": "code",
   "execution_count": 25,
   "metadata": {},
   "outputs": [
    {
     "data": {
      "application/vnd.plotly.v1+json": {
       "config": {
        "plotlyServerURL": "https://plot.ly"
       },
       "data": [
        {
         "customdata": [
          [
           "0.5 Na2Mo2O7(mp-19760) + 3.0 Mo(mp-129) + 1.25 O2(mp-1091399)"
          ],
          [
           "0.5 Na2Mo2O7(mp-19760) + -1.75 O2(mp-1091399) + 3.0 MoO2(mp-510536)"
          ],
          [
           "0.5 Na2O2(mp-2340) + -3.5 O2(mp-1091399) + 4.0 MoO3(mp-18856)"
          ],
          [
           "4.0 Mo(mp-129) + 2.0 O2(mp-1091399) + 1.0 NaO2(mp-1901)"
          ],
          [
           "3.75 Mo(mp-129) + 2.375 O2(mp-1091399) + 0.25 Na4MoO5(mp-29984)"
          ],
          [
           "-3.25 O2(mp-1091399) + 3.5 MoO3(mp-18856) + 0.5 Na2MoO4(mp-18852)"
          ],
          [
           "-3.25 O2(mp-1091399) + 4.0 MoO3(mp-18856) + 0.5 Na2O(mp-2352)"
          ],
          [
           "-2.0 O2(mp-1091399) + 4.0 MoO2(mp-510536) + 1.0 NaO2(mp-1901)"
          ],
          [
           "-1.375 O2(mp-1091399) + 3.75 MoO2(mp-510536) + 0.25 Na4MoO5(mp-29984)"
          ]
         ],
         "hoverlabel": {
          "namelength": 0
         },
         "hovertemplate": "exp_precursors=0.5<br>n_competing=%{x}<br>barrier=%{y}<br>summary=%{customdata[0]}",
         "legendgroup": "exp_precursors=0.5",
         "marker": {
          "color": "#636efa",
          "symbol": "circle"
         },
         "mode": "markers",
         "name": "exp_precursors=0.5",
         "showlegend": true,
         "type": "scatter",
         "x": [
          0,
          0,
          11,
          9,
          16,
          0,
          6,
          1,
          8
         ],
         "xaxis": "x",
         "y": [
          3.1441392382982607,
          null,
          null,
          0.5590778759800874,
          0.3737297714726793,
          null,
          null,
          null,
          null
         ],
         "yaxis": "y"
        },
        {
         "customdata": [
          [
           "0.5 Na2Mo2O7(mp-19760) + 2.1667 Mo(mp-129) + 0.8333 MoO3(mp-18856)"
          ],
          [
           "2.6667 Mo(mp-129) + 1.3333 MoO3(mp-18856) + 1.0 NaO2(mp-1901)"
          ],
          [
           "2.1667 Mo(mp-129) + 1.5833 MoO3(mp-18856) + 0.25 Na4MoO5(mp-29984)"
          ]
         ],
         "hoverlabel": {
          "namelength": 0
         },
         "hovertemplate": "exp_precursors=0.3333<br>n_competing=%{x}<br>barrier=%{y}<br>summary=%{customdata[0]}",
         "legendgroup": "exp_precursors=0.3333",
         "marker": {
          "color": "#EF553B",
          "symbol": "circle"
         },
         "mode": "markers",
         "name": "exp_precursors=0.3333",
         "showlegend": true,
         "type": "scatter",
         "x": [
          1,
          4,
          6
         ],
         "xaxis": "x",
         "y": [
          null,
          1.1391583973738733,
          null
         ],
         "yaxis": "y"
        },
        {
         "customdata": [
          [
           "0.5 Na2Mo2O7(mp-19760) + 1.75 Mo(mp-129) + 1.25 MoO2(mp-510536)"
          ],
          [
           "0.5 Na2O2(mp-2340) + 2.3333 Mo(mp-129) + 1.6667 MoO3(mp-18856)"
          ],
          [
           "2.1667 Mo(mp-129) + 1.3333 MoO3(mp-18856) + 0.5 Na2MoO4(mp-18852)"
          ],
          [
           "2.1667 Mo(mp-129) + 1.8333 MoO3(mp-18856) + 0.5 Na2O(mp-2352)"
          ],
          [
           "2.0 Mo(mp-129) + 2.0 MoO2(mp-510536) + 1.0 NaO2(mp-1901)"
          ],
          [
           "1.375 Mo(mp-129) + 2.375 MoO2(mp-510536) + 0.25 Na4MoO5(mp-29984)"
          ]
         ],
         "hoverlabel": {
          "namelength": 0
         },
         "hovertemplate": "exp_precursors=0.6667<br>n_competing=%{x}<br>barrier=%{y}<br>summary=%{customdata[0]}",
         "legendgroup": "exp_precursors=0.6667",
         "marker": {
          "color": "#00cc96",
          "symbol": "circle"
         },
         "mode": "markers",
         "name": "exp_precursors=0.6667",
         "showlegend": true,
         "type": "scatter",
         "x": [
          0,
          13,
          3,
          7,
          1,
          0
         ],
         "xaxis": "x",
         "y": [
          null,
          11.86442908791762,
          null,
          3709.1219336944446,
          2.885581968352377,
          null
         ],
         "yaxis": "y"
        },
        {
         "customdata": [
          [
           "0.5 Na2Mo2O7(mp-19760) + -3.25 O2(mp-1091399) + 3.0 MoO3(mp-18856)"
          ],
          [
           "-4.0 O2(mp-1091399) + 4.0 MoO3(mp-18856) + 1.0 NaO2(mp-1901)"
          ],
          [
           "-3.25 O2(mp-1091399) + 3.75 MoO3(mp-18856) + 0.25 Na4MoO5(mp-29984)"
          ]
         ],
         "hoverlabel": {
          "namelength": 0
         },
         "hovertemplate": "exp_precursors=0.0<br>n_competing=%{x}<br>barrier=%{y}<br>summary=%{customdata[0]}",
         "legendgroup": "exp_precursors=0.0",
         "marker": {
          "color": "#ab63fa",
          "symbol": "circle"
         },
         "mode": "markers",
         "name": "exp_precursors=0.0",
         "showlegend": true,
         "type": "scatter",
         "x": [
          0,
          4,
          5
         ],
         "xaxis": "x",
         "y": [
          null,
          null,
          null
         ],
         "yaxis": "y"
        },
        {
         "customdata": [
          [
           "0.5 Na2O2(mp-2340) + 4.0 Mo(mp-129) + 2.5 O2(mp-1091399)"
          ],
          [
           "0.5 Na2O2(mp-2340) + 1.5 Mo(mp-129) + 2.5 MoO2(mp-510536)"
          ],
          [
           "0.5 Na2O2(mp-2340) + -1.5 O2(mp-1091399) + 4.0 MoO2(mp-510536)"
          ],
          [
           "3.5 Mo(mp-129) + 2.0 O2(mp-1091399) + 0.5 Na2MoO4(mp-18852)"
          ],
          [
           "4.0 Mo(mp-129) + 2.75 O2(mp-1091399) + 0.5 Na2O(mp-2352)"
          ],
          [
           "1.5 Mo(mp-129) + 2.0 MoO2(mp-510536) + 0.5 Na2MoO4(mp-18852)"
          ],
          [
           "1.25 Mo(mp-129) + 2.75 MoO2(mp-510536) + 0.5 Na2O(mp-2352)"
          ],
          [
           "-1.5 O2(mp-1091399) + 3.5 MoO2(mp-510536) + 0.5 Na2MoO4(mp-18852)"
          ],
          [
           "-1.25 O2(mp-1091399) + 4.0 MoO2(mp-510536) + 0.5 Na2O(mp-2352)"
          ]
         ],
         "hoverlabel": {
          "namelength": 0
         },
         "hovertemplate": "exp_precursors=1.0<br>n_competing=%{x}<br>barrier=%{y}<br>summary=%{customdata[0]}",
         "legendgroup": "exp_precursors=1.0",
         "marker": {
          "color": "#FFA15A",
          "symbol": "circle"
         },
         "mode": "markers",
         "name": "exp_precursors=1.0",
         "showlegend": true,
         "type": "scatter",
         "x": [
          20,
          5,
          7,
          0,
          19,
          0,
          0,
          0,
          2
         ],
         "xaxis": "x",
         "y": [
          0.8835419794593271,
          null,
          null,
          0.5787727540369395,
          1.9111227438006448,
          null,
          null,
          null,
          null
         ],
         "yaxis": "y"
        }
       ],
       "layout": {
        "height": 600,
        "legend": {
         "tracegroupgap": 0
        },
        "margin": {
         "t": 60
        },
        "template": {
         "data": {
          "bar": [
           {
            "error_x": {
             "color": "#2a3f5f"
            },
            "error_y": {
             "color": "#2a3f5f"
            },
            "marker": {
             "line": {
              "color": "#E5ECF6",
              "width": 0.5
             }
            },
            "type": "bar"
           }
          ],
          "barpolar": [
           {
            "marker": {
             "line": {
              "color": "#E5ECF6",
              "width": 0.5
             }
            },
            "type": "barpolar"
           }
          ],
          "carpet": [
           {
            "aaxis": {
             "endlinecolor": "#2a3f5f",
             "gridcolor": "white",
             "linecolor": "white",
             "minorgridcolor": "white",
             "startlinecolor": "#2a3f5f"
            },
            "baxis": {
             "endlinecolor": "#2a3f5f",
             "gridcolor": "white",
             "linecolor": "white",
             "minorgridcolor": "white",
             "startlinecolor": "#2a3f5f"
            },
            "type": "carpet"
           }
          ],
          "choropleth": [
           {
            "colorbar": {
             "outlinewidth": 0,
             "ticks": ""
            },
            "type": "choropleth"
           }
          ],
          "contour": [
           {
            "colorbar": {
             "outlinewidth": 0,
             "ticks": ""
            },
            "colorscale": [
             [
              0,
              "#0d0887"
             ],
             [
              0.1111111111111111,
              "#46039f"
             ],
             [
              0.2222222222222222,
              "#7201a8"
             ],
             [
              0.3333333333333333,
              "#9c179e"
             ],
             [
              0.4444444444444444,
              "#bd3786"
             ],
             [
              0.5555555555555556,
              "#d8576b"
             ],
             [
              0.6666666666666666,
              "#ed7953"
             ],
             [
              0.7777777777777778,
              "#fb9f3a"
             ],
             [
              0.8888888888888888,
              "#fdca26"
             ],
             [
              1,
              "#f0f921"
             ]
            ],
            "type": "contour"
           }
          ],
          "contourcarpet": [
           {
            "colorbar": {
             "outlinewidth": 0,
             "ticks": ""
            },
            "type": "contourcarpet"
           }
          ],
          "heatmap": [
           {
            "colorbar": {
             "outlinewidth": 0,
             "ticks": ""
            },
            "colorscale": [
             [
              0,
              "#0d0887"
             ],
             [
              0.1111111111111111,
              "#46039f"
             ],
             [
              0.2222222222222222,
              "#7201a8"
             ],
             [
              0.3333333333333333,
              "#9c179e"
             ],
             [
              0.4444444444444444,
              "#bd3786"
             ],
             [
              0.5555555555555556,
              "#d8576b"
             ],
             [
              0.6666666666666666,
              "#ed7953"
             ],
             [
              0.7777777777777778,
              "#fb9f3a"
             ],
             [
              0.8888888888888888,
              "#fdca26"
             ],
             [
              1,
              "#f0f921"
             ]
            ],
            "type": "heatmap"
           }
          ],
          "heatmapgl": [
           {
            "colorbar": {
             "outlinewidth": 0,
             "ticks": ""
            },
            "colorscale": [
             [
              0,
              "#0d0887"
             ],
             [
              0.1111111111111111,
              "#46039f"
             ],
             [
              0.2222222222222222,
              "#7201a8"
             ],
             [
              0.3333333333333333,
              "#9c179e"
             ],
             [
              0.4444444444444444,
              "#bd3786"
             ],
             [
              0.5555555555555556,
              "#d8576b"
             ],
             [
              0.6666666666666666,
              "#ed7953"
             ],
             [
              0.7777777777777778,
              "#fb9f3a"
             ],
             [
              0.8888888888888888,
              "#fdca26"
             ],
             [
              1,
              "#f0f921"
             ]
            ],
            "type": "heatmapgl"
           }
          ],
          "histogram": [
           {
            "marker": {
             "colorbar": {
              "outlinewidth": 0,
              "ticks": ""
             }
            },
            "type": "histogram"
           }
          ],
          "histogram2d": [
           {
            "colorbar": {
             "outlinewidth": 0,
             "ticks": ""
            },
            "colorscale": [
             [
              0,
              "#0d0887"
             ],
             [
              0.1111111111111111,
              "#46039f"
             ],
             [
              0.2222222222222222,
              "#7201a8"
             ],
             [
              0.3333333333333333,
              "#9c179e"
             ],
             [
              0.4444444444444444,
              "#bd3786"
             ],
             [
              0.5555555555555556,
              "#d8576b"
             ],
             [
              0.6666666666666666,
              "#ed7953"
             ],
             [
              0.7777777777777778,
              "#fb9f3a"
             ],
             [
              0.8888888888888888,
              "#fdca26"
             ],
             [
              1,
              "#f0f921"
             ]
            ],
            "type": "histogram2d"
           }
          ],
          "histogram2dcontour": [
           {
            "colorbar": {
             "outlinewidth": 0,
             "ticks": ""
            },
            "colorscale": [
             [
              0,
              "#0d0887"
             ],
             [
              0.1111111111111111,
              "#46039f"
             ],
             [
              0.2222222222222222,
              "#7201a8"
             ],
             [
              0.3333333333333333,
              "#9c179e"
             ],
             [
              0.4444444444444444,
              "#bd3786"
             ],
             [
              0.5555555555555556,
              "#d8576b"
             ],
             [
              0.6666666666666666,
              "#ed7953"
             ],
             [
              0.7777777777777778,
              "#fb9f3a"
             ],
             [
              0.8888888888888888,
              "#fdca26"
             ],
             [
              1,
              "#f0f921"
             ]
            ],
            "type": "histogram2dcontour"
           }
          ],
          "mesh3d": [
           {
            "colorbar": {
             "outlinewidth": 0,
             "ticks": ""
            },
            "type": "mesh3d"
           }
          ],
          "parcoords": [
           {
            "line": {
             "colorbar": {
              "outlinewidth": 0,
              "ticks": ""
             }
            },
            "type": "parcoords"
           }
          ],
          "scatter": [
           {
            "marker": {
             "colorbar": {
              "outlinewidth": 0,
              "ticks": ""
             }
            },
            "type": "scatter"
           }
          ],
          "scatter3d": [
           {
            "line": {
             "colorbar": {
              "outlinewidth": 0,
              "ticks": ""
             }
            },
            "marker": {
             "colorbar": {
              "outlinewidth": 0,
              "ticks": ""
             }
            },
            "type": "scatter3d"
           }
          ],
          "scattercarpet": [
           {
            "marker": {
             "colorbar": {
              "outlinewidth": 0,
              "ticks": ""
             }
            },
            "type": "scattercarpet"
           }
          ],
          "scattergeo": [
           {
            "marker": {
             "colorbar": {
              "outlinewidth": 0,
              "ticks": ""
             }
            },
            "type": "scattergeo"
           }
          ],
          "scattergl": [
           {
            "marker": {
             "colorbar": {
              "outlinewidth": 0,
              "ticks": ""
             }
            },
            "type": "scattergl"
           }
          ],
          "scattermapbox": [
           {
            "marker": {
             "colorbar": {
              "outlinewidth": 0,
              "ticks": ""
             }
            },
            "type": "scattermapbox"
           }
          ],
          "scatterpolar": [
           {
            "marker": {
             "colorbar": {
              "outlinewidth": 0,
              "ticks": ""
             }
            },
            "type": "scatterpolar"
           }
          ],
          "scatterpolargl": [
           {
            "marker": {
             "colorbar": {
              "outlinewidth": 0,
              "ticks": ""
             }
            },
            "type": "scatterpolargl"
           }
          ],
          "scatterternary": [
           {
            "marker": {
             "colorbar": {
              "outlinewidth": 0,
              "ticks": ""
             }
            },
            "type": "scatterternary"
           }
          ],
          "surface": [
           {
            "colorbar": {
             "outlinewidth": 0,
             "ticks": ""
            },
            "colorscale": [
             [
              0,
              "#0d0887"
             ],
             [
              0.1111111111111111,
              "#46039f"
             ],
             [
              0.2222222222222222,
              "#7201a8"
             ],
             [
              0.3333333333333333,
              "#9c179e"
             ],
             [
              0.4444444444444444,
              "#bd3786"
             ],
             [
              0.5555555555555556,
              "#d8576b"
             ],
             [
              0.6666666666666666,
              "#ed7953"
             ],
             [
              0.7777777777777778,
              "#fb9f3a"
             ],
             [
              0.8888888888888888,
              "#fdca26"
             ],
             [
              1,
              "#f0f921"
             ]
            ],
            "type": "surface"
           }
          ],
          "table": [
           {
            "cells": {
             "fill": {
              "color": "#EBF0F8"
             },
             "line": {
              "color": "white"
             }
            },
            "header": {
             "fill": {
              "color": "#C8D4E3"
             },
             "line": {
              "color": "white"
             }
            },
            "type": "table"
           }
          ]
         },
         "layout": {
          "annotationdefaults": {
           "arrowcolor": "#2a3f5f",
           "arrowhead": 0,
           "arrowwidth": 1
          },
          "colorscale": {
           "diverging": [
            [
             0,
             "#8e0152"
            ],
            [
             0.1,
             "#c51b7d"
            ],
            [
             0.2,
             "#de77ae"
            ],
            [
             0.3,
             "#f1b6da"
            ],
            [
             0.4,
             "#fde0ef"
            ],
            [
             0.5,
             "#f7f7f7"
            ],
            [
             0.6,
             "#e6f5d0"
            ],
            [
             0.7,
             "#b8e186"
            ],
            [
             0.8,
             "#7fbc41"
            ],
            [
             0.9,
             "#4d9221"
            ],
            [
             1,
             "#276419"
            ]
           ],
           "sequential": [
            [
             0,
             "#0d0887"
            ],
            [
             0.1111111111111111,
             "#46039f"
            ],
            [
             0.2222222222222222,
             "#7201a8"
            ],
            [
             0.3333333333333333,
             "#9c179e"
            ],
            [
             0.4444444444444444,
             "#bd3786"
            ],
            [
             0.5555555555555556,
             "#d8576b"
            ],
            [
             0.6666666666666666,
             "#ed7953"
            ],
            [
             0.7777777777777778,
             "#fb9f3a"
            ],
            [
             0.8888888888888888,
             "#fdca26"
            ],
            [
             1,
             "#f0f921"
            ]
           ],
           "sequentialminus": [
            [
             0,
             "#0d0887"
            ],
            [
             0.1111111111111111,
             "#46039f"
            ],
            [
             0.2222222222222222,
             "#7201a8"
            ],
            [
             0.3333333333333333,
             "#9c179e"
            ],
            [
             0.4444444444444444,
             "#bd3786"
            ],
            [
             0.5555555555555556,
             "#d8576b"
            ],
            [
             0.6666666666666666,
             "#ed7953"
            ],
            [
             0.7777777777777778,
             "#fb9f3a"
            ],
            [
             0.8888888888888888,
             "#fdca26"
            ],
            [
             1,
             "#f0f921"
            ]
           ]
          },
          "colorway": [
           "#636efa",
           "#EF553B",
           "#00cc96",
           "#ab63fa",
           "#FFA15A",
           "#19d3f3",
           "#FF6692",
           "#B6E880",
           "#FF97FF",
           "#FECB52"
          ],
          "font": {
           "color": "#2a3f5f"
          },
          "geo": {
           "bgcolor": "white",
           "lakecolor": "white",
           "landcolor": "#E5ECF6",
           "showlakes": true,
           "showland": true,
           "subunitcolor": "white"
          },
          "hoverlabel": {
           "align": "left"
          },
          "hovermode": "closest",
          "mapbox": {
           "style": "light"
          },
          "paper_bgcolor": "white",
          "plot_bgcolor": "#E5ECF6",
          "polar": {
           "angularaxis": {
            "gridcolor": "white",
            "linecolor": "white",
            "ticks": ""
           },
           "bgcolor": "#E5ECF6",
           "radialaxis": {
            "gridcolor": "white",
            "linecolor": "white",
            "ticks": ""
           }
          },
          "scene": {
           "xaxis": {
            "backgroundcolor": "#E5ECF6",
            "gridcolor": "white",
            "gridwidth": 2,
            "linecolor": "white",
            "showbackground": true,
            "ticks": "",
            "zerolinecolor": "white"
           },
           "yaxis": {
            "backgroundcolor": "#E5ECF6",
            "gridcolor": "white",
            "gridwidth": 2,
            "linecolor": "white",
            "showbackground": true,
            "ticks": "",
            "zerolinecolor": "white"
           },
           "zaxis": {
            "backgroundcolor": "#E5ECF6",
            "gridcolor": "white",
            "gridwidth": 2,
            "linecolor": "white",
            "showbackground": true,
            "ticks": "",
            "zerolinecolor": "white"
           }
          },
          "shapedefaults": {
           "line": {
            "color": "#2a3f5f"
           }
          },
          "ternary": {
           "aaxis": {
            "gridcolor": "white",
            "linecolor": "white",
            "ticks": ""
           },
           "baxis": {
            "gridcolor": "white",
            "linecolor": "white",
            "ticks": ""
           },
           "bgcolor": "#E5ECF6",
           "caxis": {
            "gridcolor": "white",
            "linecolor": "white",
            "ticks": ""
           }
          },
          "title": {
           "x": 0.05
          },
          "xaxis": {
           "automargin": true,
           "gridcolor": "white",
           "linecolor": "white",
           "ticks": "",
           "zerolinecolor": "white",
           "zerolinewidth": 2
          },
          "yaxis": {
           "automargin": true,
           "gridcolor": "white",
           "linecolor": "white",
           "ticks": "",
           "zerolinecolor": "white",
           "zerolinewidth": 2
          }
         }
        },
        "title": {
         "text": "Synthesis target: Na(Mo2O3)2"
        },
        "xaxis": {
         "anchor": "y",
         "domain": [
          0,
          0.98
         ],
         "title": {
          "text": "N competing phases"
         }
        },
        "yaxis": {
         "anchor": "x",
         "domain": [
          0,
          1
         ],
         "title": {
          "text": "Barrier (a.u.)"
         }
        }
       }
      },
      "text/html": [
       "<div>\n",
       "        \n",
       "        \n",
       "            <div id=\"e2d0e652-7fac-49c4-a50b-c108a2877f07\" class=\"plotly-graph-div\" style=\"height:600px; width:100%;\"></div>\n",
       "            <script type=\"text/javascript\">\n",
       "                require([\"plotly\"], function(Plotly) {\n",
       "                    window.PLOTLYENV=window.PLOTLYENV || {};\n",
       "                    \n",
       "                if (document.getElementById(\"e2d0e652-7fac-49c4-a50b-c108a2877f07\")) {\n",
       "                    Plotly.newPlot(\n",
       "                        'e2d0e652-7fac-49c4-a50b-c108a2877f07',\n",
       "                        [{\"customdata\": [[\"0.5 Na2Mo2O7(mp-19760) + 3.0 Mo(mp-129) + 1.25 O2(mp-1091399)\"], [\"0.5 Na2Mo2O7(mp-19760) + -1.75 O2(mp-1091399) + 3.0 MoO2(mp-510536)\"], [\"0.5 Na2O2(mp-2340) + -3.5 O2(mp-1091399) + 4.0 MoO3(mp-18856)\"], [\"4.0 Mo(mp-129) + 2.0 O2(mp-1091399) + 1.0 NaO2(mp-1901)\"], [\"3.75 Mo(mp-129) + 2.375 O2(mp-1091399) + 0.25 Na4MoO5(mp-29984)\"], [\"-3.25 O2(mp-1091399) + 3.5 MoO3(mp-18856) + 0.5 Na2MoO4(mp-18852)\"], [\"-3.25 O2(mp-1091399) + 4.0 MoO3(mp-18856) + 0.5 Na2O(mp-2352)\"], [\"-2.0 O2(mp-1091399) + 4.0 MoO2(mp-510536) + 1.0 NaO2(mp-1901)\"], [\"-1.375 O2(mp-1091399) + 3.75 MoO2(mp-510536) + 0.25 Na4MoO5(mp-29984)\"]], \"hoverlabel\": {\"namelength\": 0}, \"hovertemplate\": \"exp_precursors=0.5<br>n_competing=%{x}<br>barrier=%{y}<br>summary=%{customdata[0]}\", \"legendgroup\": \"exp_precursors=0.5\", \"marker\": {\"color\": \"#636efa\", \"symbol\": \"circle\"}, \"mode\": \"markers\", \"name\": \"exp_precursors=0.5\", \"showlegend\": true, \"type\": \"scatter\", \"x\": [0, 0, 11, 9, 16, 0, 6, 1, 8], \"xaxis\": \"x\", \"y\": [3.1441392382982607, null, null, 0.5590778759800874, 0.3737297714726793, null, null, null, null], \"yaxis\": \"y\"}, {\"customdata\": [[\"0.5 Na2Mo2O7(mp-19760) + 2.1667 Mo(mp-129) + 0.8333 MoO3(mp-18856)\"], [\"2.6667 Mo(mp-129) + 1.3333 MoO3(mp-18856) + 1.0 NaO2(mp-1901)\"], [\"2.1667 Mo(mp-129) + 1.5833 MoO3(mp-18856) + 0.25 Na4MoO5(mp-29984)\"]], \"hoverlabel\": {\"namelength\": 0}, \"hovertemplate\": \"exp_precursors=0.3333<br>n_competing=%{x}<br>barrier=%{y}<br>summary=%{customdata[0]}\", \"legendgroup\": \"exp_precursors=0.3333\", \"marker\": {\"color\": \"#EF553B\", \"symbol\": \"circle\"}, \"mode\": \"markers\", \"name\": \"exp_precursors=0.3333\", \"showlegend\": true, \"type\": \"scatter\", \"x\": [1, 4, 6], \"xaxis\": \"x\", \"y\": [null, 1.1391583973738733, null], \"yaxis\": \"y\"}, {\"customdata\": [[\"0.5 Na2Mo2O7(mp-19760) + 1.75 Mo(mp-129) + 1.25 MoO2(mp-510536)\"], [\"0.5 Na2O2(mp-2340) + 2.3333 Mo(mp-129) + 1.6667 MoO3(mp-18856)\"], [\"2.1667 Mo(mp-129) + 1.3333 MoO3(mp-18856) + 0.5 Na2MoO4(mp-18852)\"], [\"2.1667 Mo(mp-129) + 1.8333 MoO3(mp-18856) + 0.5 Na2O(mp-2352)\"], [\"2.0 Mo(mp-129) + 2.0 MoO2(mp-510536) + 1.0 NaO2(mp-1901)\"], [\"1.375 Mo(mp-129) + 2.375 MoO2(mp-510536) + 0.25 Na4MoO5(mp-29984)\"]], \"hoverlabel\": {\"namelength\": 0}, \"hovertemplate\": \"exp_precursors=0.6667<br>n_competing=%{x}<br>barrier=%{y}<br>summary=%{customdata[0]}\", \"legendgroup\": \"exp_precursors=0.6667\", \"marker\": {\"color\": \"#00cc96\", \"symbol\": \"circle\"}, \"mode\": \"markers\", \"name\": \"exp_precursors=0.6667\", \"showlegend\": true, \"type\": \"scatter\", \"x\": [0, 13, 3, 7, 1, 0], \"xaxis\": \"x\", \"y\": [null, 11.86442908791762, null, 3709.1219336944446, 2.885581968352377, null], \"yaxis\": \"y\"}, {\"customdata\": [[\"0.5 Na2Mo2O7(mp-19760) + -3.25 O2(mp-1091399) + 3.0 MoO3(mp-18856)\"], [\"-4.0 O2(mp-1091399) + 4.0 MoO3(mp-18856) + 1.0 NaO2(mp-1901)\"], [\"-3.25 O2(mp-1091399) + 3.75 MoO3(mp-18856) + 0.25 Na4MoO5(mp-29984)\"]], \"hoverlabel\": {\"namelength\": 0}, \"hovertemplate\": \"exp_precursors=0.0<br>n_competing=%{x}<br>barrier=%{y}<br>summary=%{customdata[0]}\", \"legendgroup\": \"exp_precursors=0.0\", \"marker\": {\"color\": \"#ab63fa\", \"symbol\": \"circle\"}, \"mode\": \"markers\", \"name\": \"exp_precursors=0.0\", \"showlegend\": true, \"type\": \"scatter\", \"x\": [0, 4, 5], \"xaxis\": \"x\", \"y\": [null, null, null], \"yaxis\": \"y\"}, {\"customdata\": [[\"0.5 Na2O2(mp-2340) + 4.0 Mo(mp-129) + 2.5 O2(mp-1091399)\"], [\"0.5 Na2O2(mp-2340) + 1.5 Mo(mp-129) + 2.5 MoO2(mp-510536)\"], [\"0.5 Na2O2(mp-2340) + -1.5 O2(mp-1091399) + 4.0 MoO2(mp-510536)\"], [\"3.5 Mo(mp-129) + 2.0 O2(mp-1091399) + 0.5 Na2MoO4(mp-18852)\"], [\"4.0 Mo(mp-129) + 2.75 O2(mp-1091399) + 0.5 Na2O(mp-2352)\"], [\"1.5 Mo(mp-129) + 2.0 MoO2(mp-510536) + 0.5 Na2MoO4(mp-18852)\"], [\"1.25 Mo(mp-129) + 2.75 MoO2(mp-510536) + 0.5 Na2O(mp-2352)\"], [\"-1.5 O2(mp-1091399) + 3.5 MoO2(mp-510536) + 0.5 Na2MoO4(mp-18852)\"], [\"-1.25 O2(mp-1091399) + 4.0 MoO2(mp-510536) + 0.5 Na2O(mp-2352)\"]], \"hoverlabel\": {\"namelength\": 0}, \"hovertemplate\": \"exp_precursors=1.0<br>n_competing=%{x}<br>barrier=%{y}<br>summary=%{customdata[0]}\", \"legendgroup\": \"exp_precursors=1.0\", \"marker\": {\"color\": \"#FFA15A\", \"symbol\": \"circle\"}, \"mode\": \"markers\", \"name\": \"exp_precursors=1.0\", \"showlegend\": true, \"type\": \"scatter\", \"x\": [20, 5, 7, 0, 19, 0, 0, 0, 2], \"xaxis\": \"x\", \"y\": [0.8835419794593271, null, null, 0.5787727540369395, 1.9111227438006448, null, null, null, null], \"yaxis\": \"y\"}],\n",
       "                        {\"height\": 600, \"legend\": {\"tracegroupgap\": 0}, \"margin\": {\"t\": 60}, \"template\": {\"data\": {\"bar\": [{\"error_x\": {\"color\": \"#2a3f5f\"}, \"error_y\": {\"color\": \"#2a3f5f\"}, \"marker\": {\"line\": {\"color\": \"#E5ECF6\", \"width\": 0.5}}, \"type\": \"bar\"}], \"barpolar\": [{\"marker\": {\"line\": {\"color\": \"#E5ECF6\", \"width\": 0.5}}, \"type\": \"barpolar\"}], \"carpet\": [{\"aaxis\": {\"endlinecolor\": \"#2a3f5f\", \"gridcolor\": \"white\", \"linecolor\": \"white\", \"minorgridcolor\": \"white\", \"startlinecolor\": \"#2a3f5f\"}, \"baxis\": {\"endlinecolor\": \"#2a3f5f\", \"gridcolor\": \"white\", \"linecolor\": \"white\", \"minorgridcolor\": \"white\", \"startlinecolor\": \"#2a3f5f\"}, \"type\": \"carpet\"}], \"choropleth\": [{\"colorbar\": {\"outlinewidth\": 0, \"ticks\": \"\"}, \"type\": \"choropleth\"}], \"contour\": [{\"colorbar\": {\"outlinewidth\": 0, \"ticks\": \"\"}, \"colorscale\": [[0.0, \"#0d0887\"], [0.1111111111111111, \"#46039f\"], [0.2222222222222222, \"#7201a8\"], [0.3333333333333333, \"#9c179e\"], [0.4444444444444444, \"#bd3786\"], [0.5555555555555556, \"#d8576b\"], [0.6666666666666666, \"#ed7953\"], [0.7777777777777778, \"#fb9f3a\"], [0.8888888888888888, \"#fdca26\"], [1.0, \"#f0f921\"]], \"type\": \"contour\"}], \"contourcarpet\": [{\"colorbar\": {\"outlinewidth\": 0, \"ticks\": \"\"}, \"type\": \"contourcarpet\"}], \"heatmap\": [{\"colorbar\": {\"outlinewidth\": 0, \"ticks\": \"\"}, \"colorscale\": [[0.0, \"#0d0887\"], [0.1111111111111111, \"#46039f\"], [0.2222222222222222, \"#7201a8\"], [0.3333333333333333, \"#9c179e\"], [0.4444444444444444, \"#bd3786\"], [0.5555555555555556, \"#d8576b\"], [0.6666666666666666, \"#ed7953\"], [0.7777777777777778, \"#fb9f3a\"], [0.8888888888888888, \"#fdca26\"], [1.0, \"#f0f921\"]], \"type\": \"heatmap\"}], \"heatmapgl\": [{\"colorbar\": {\"outlinewidth\": 0, \"ticks\": \"\"}, \"colorscale\": [[0.0, \"#0d0887\"], [0.1111111111111111, \"#46039f\"], [0.2222222222222222, \"#7201a8\"], [0.3333333333333333, \"#9c179e\"], [0.4444444444444444, \"#bd3786\"], [0.5555555555555556, \"#d8576b\"], [0.6666666666666666, \"#ed7953\"], [0.7777777777777778, \"#fb9f3a\"], [0.8888888888888888, \"#fdca26\"], [1.0, \"#f0f921\"]], \"type\": \"heatmapgl\"}], \"histogram\": [{\"marker\": {\"colorbar\": {\"outlinewidth\": 0, \"ticks\": \"\"}}, \"type\": \"histogram\"}], \"histogram2d\": [{\"colorbar\": {\"outlinewidth\": 0, \"ticks\": \"\"}, \"colorscale\": [[0.0, \"#0d0887\"], [0.1111111111111111, \"#46039f\"], [0.2222222222222222, \"#7201a8\"], [0.3333333333333333, \"#9c179e\"], [0.4444444444444444, \"#bd3786\"], [0.5555555555555556, \"#d8576b\"], [0.6666666666666666, \"#ed7953\"], [0.7777777777777778, \"#fb9f3a\"], [0.8888888888888888, \"#fdca26\"], [1.0, \"#f0f921\"]], \"type\": \"histogram2d\"}], \"histogram2dcontour\": [{\"colorbar\": {\"outlinewidth\": 0, \"ticks\": \"\"}, \"colorscale\": [[0.0, \"#0d0887\"], [0.1111111111111111, \"#46039f\"], [0.2222222222222222, \"#7201a8\"], [0.3333333333333333, \"#9c179e\"], [0.4444444444444444, \"#bd3786\"], [0.5555555555555556, \"#d8576b\"], [0.6666666666666666, \"#ed7953\"], [0.7777777777777778, \"#fb9f3a\"], [0.8888888888888888, \"#fdca26\"], [1.0, \"#f0f921\"]], \"type\": \"histogram2dcontour\"}], \"mesh3d\": [{\"colorbar\": {\"outlinewidth\": 0, \"ticks\": \"\"}, \"type\": \"mesh3d\"}], \"parcoords\": [{\"line\": {\"colorbar\": {\"outlinewidth\": 0, \"ticks\": \"\"}}, \"type\": \"parcoords\"}], \"scatter\": [{\"marker\": {\"colorbar\": {\"outlinewidth\": 0, \"ticks\": \"\"}}, \"type\": \"scatter\"}], \"scatter3d\": [{\"line\": {\"colorbar\": {\"outlinewidth\": 0, \"ticks\": \"\"}}, \"marker\": {\"colorbar\": {\"outlinewidth\": 0, \"ticks\": \"\"}}, \"type\": \"scatter3d\"}], \"scattercarpet\": [{\"marker\": {\"colorbar\": {\"outlinewidth\": 0, \"ticks\": \"\"}}, \"type\": \"scattercarpet\"}], \"scattergeo\": [{\"marker\": {\"colorbar\": {\"outlinewidth\": 0, \"ticks\": \"\"}}, \"type\": \"scattergeo\"}], \"scattergl\": [{\"marker\": {\"colorbar\": {\"outlinewidth\": 0, \"ticks\": \"\"}}, \"type\": \"scattergl\"}], \"scattermapbox\": [{\"marker\": {\"colorbar\": {\"outlinewidth\": 0, \"ticks\": \"\"}}, \"type\": \"scattermapbox\"}], \"scatterpolar\": [{\"marker\": {\"colorbar\": {\"outlinewidth\": 0, \"ticks\": \"\"}}, \"type\": \"scatterpolar\"}], \"scatterpolargl\": [{\"marker\": {\"colorbar\": {\"outlinewidth\": 0, \"ticks\": \"\"}}, \"type\": \"scatterpolargl\"}], \"scatterternary\": [{\"marker\": {\"colorbar\": {\"outlinewidth\": 0, \"ticks\": \"\"}}, \"type\": \"scatterternary\"}], \"surface\": [{\"colorbar\": {\"outlinewidth\": 0, \"ticks\": \"\"}, \"colorscale\": [[0.0, \"#0d0887\"], [0.1111111111111111, \"#46039f\"], [0.2222222222222222, \"#7201a8\"], [0.3333333333333333, \"#9c179e\"], [0.4444444444444444, \"#bd3786\"], [0.5555555555555556, \"#d8576b\"], [0.6666666666666666, \"#ed7953\"], [0.7777777777777778, \"#fb9f3a\"], [0.8888888888888888, \"#fdca26\"], [1.0, \"#f0f921\"]], \"type\": \"surface\"}], \"table\": [{\"cells\": {\"fill\": {\"color\": \"#EBF0F8\"}, \"line\": {\"color\": \"white\"}}, \"header\": {\"fill\": {\"color\": \"#C8D4E3\"}, \"line\": {\"color\": \"white\"}}, \"type\": \"table\"}]}, \"layout\": {\"annotationdefaults\": {\"arrowcolor\": \"#2a3f5f\", \"arrowhead\": 0, \"arrowwidth\": 1}, \"colorscale\": {\"diverging\": [[0, \"#8e0152\"], [0.1, \"#c51b7d\"], [0.2, \"#de77ae\"], [0.3, \"#f1b6da\"], [0.4, \"#fde0ef\"], [0.5, \"#f7f7f7\"], [0.6, \"#e6f5d0\"], [0.7, \"#b8e186\"], [0.8, \"#7fbc41\"], [0.9, \"#4d9221\"], [1, \"#276419\"]], \"sequential\": [[0.0, \"#0d0887\"], [0.1111111111111111, \"#46039f\"], [0.2222222222222222, \"#7201a8\"], [0.3333333333333333, \"#9c179e\"], [0.4444444444444444, \"#bd3786\"], [0.5555555555555556, \"#d8576b\"], [0.6666666666666666, \"#ed7953\"], [0.7777777777777778, \"#fb9f3a\"], [0.8888888888888888, \"#fdca26\"], [1.0, \"#f0f921\"]], \"sequentialminus\": [[0.0, \"#0d0887\"], [0.1111111111111111, \"#46039f\"], [0.2222222222222222, \"#7201a8\"], [0.3333333333333333, \"#9c179e\"], [0.4444444444444444, \"#bd3786\"], [0.5555555555555556, \"#d8576b\"], [0.6666666666666666, \"#ed7953\"], [0.7777777777777778, \"#fb9f3a\"], [0.8888888888888888, \"#fdca26\"], [1.0, \"#f0f921\"]]}, \"colorway\": [\"#636efa\", \"#EF553B\", \"#00cc96\", \"#ab63fa\", \"#FFA15A\", \"#19d3f3\", \"#FF6692\", \"#B6E880\", \"#FF97FF\", \"#FECB52\"], \"font\": {\"color\": \"#2a3f5f\"}, \"geo\": {\"bgcolor\": \"white\", \"lakecolor\": \"white\", \"landcolor\": \"#E5ECF6\", \"showlakes\": true, \"showland\": true, \"subunitcolor\": \"white\"}, \"hoverlabel\": {\"align\": \"left\"}, \"hovermode\": \"closest\", \"mapbox\": {\"style\": \"light\"}, \"paper_bgcolor\": \"white\", \"plot_bgcolor\": \"#E5ECF6\", \"polar\": {\"angularaxis\": {\"gridcolor\": \"white\", \"linecolor\": \"white\", \"ticks\": \"\"}, \"bgcolor\": \"#E5ECF6\", \"radialaxis\": {\"gridcolor\": \"white\", \"linecolor\": \"white\", \"ticks\": \"\"}}, \"scene\": {\"xaxis\": {\"backgroundcolor\": \"#E5ECF6\", \"gridcolor\": \"white\", \"gridwidth\": 2, \"linecolor\": \"white\", \"showbackground\": true, \"ticks\": \"\", \"zerolinecolor\": \"white\"}, \"yaxis\": {\"backgroundcolor\": \"#E5ECF6\", \"gridcolor\": \"white\", \"gridwidth\": 2, \"linecolor\": \"white\", \"showbackground\": true, \"ticks\": \"\", \"zerolinecolor\": \"white\"}, \"zaxis\": {\"backgroundcolor\": \"#E5ECF6\", \"gridcolor\": \"white\", \"gridwidth\": 2, \"linecolor\": \"white\", \"showbackground\": true, \"ticks\": \"\", \"zerolinecolor\": \"white\"}}, \"shapedefaults\": {\"line\": {\"color\": \"#2a3f5f\"}}, \"ternary\": {\"aaxis\": {\"gridcolor\": \"white\", \"linecolor\": \"white\", \"ticks\": \"\"}, \"baxis\": {\"gridcolor\": \"white\", \"linecolor\": \"white\", \"ticks\": \"\"}, \"bgcolor\": \"#E5ECF6\", \"caxis\": {\"gridcolor\": \"white\", \"linecolor\": \"white\", \"ticks\": \"\"}}, \"title\": {\"x\": 0.05}, \"xaxis\": {\"automargin\": true, \"gridcolor\": \"white\", \"linecolor\": \"white\", \"ticks\": \"\", \"zerolinecolor\": \"white\", \"zerolinewidth\": 2}, \"yaxis\": {\"automargin\": true, \"gridcolor\": \"white\", \"linecolor\": \"white\", \"ticks\": \"\", \"zerolinecolor\": \"white\", \"zerolinewidth\": 2}}}, \"title\": {\"text\": \"Synthesis target: Na(Mo2O3)2\"}, \"xaxis\": {\"anchor\": \"y\", \"domain\": [0.0, 0.98], \"title\": {\"text\": \"N competing phases\"}}, \"yaxis\": {\"anchor\": \"x\", \"domain\": [0.0, 1.0], \"title\": {\"text\": \"Barrier (a.u.)\"}}},\n",
       "                        {\"responsive\": true}\n",
       "                    ).then(function(){\n",
       "                            \n",
       "var gd = document.getElementById('e2d0e652-7fac-49c4-a50b-c108a2877f07');\n",
       "var x = new MutationObserver(function (mutations, observer) {{\n",
       "        var display = window.getComputedStyle(gd).display;\n",
       "        if (!display || display === 'none') {{\n",
       "            console.log([gd, 'removed!']);\n",
       "            Plotly.purge(gd);\n",
       "            observer.disconnect();\n",
       "        }}\n",
       "}});\n",
       "\n",
       "// Listen for the removal of the full notebook cells\n",
       "var notebookContainer = gd.closest('#notebook-container');\n",
       "if (notebookContainer) {{\n",
       "    x.observe(notebookContainer, {childList: true});\n",
       "}}\n",
       "\n",
       "// Listen for the clearing of the current output cell\n",
       "var outputEl = gd.closest('.output');\n",
       "if (outputEl) {{\n",
       "    x.observe(outputEl, {childList: true});\n",
       "}}\n",
       "\n",
       "                        })\n",
       "                };\n",
       "                });\n",
       "            </script>\n",
       "        </div>"
      ]
     },
     "metadata": {},
     "output_type": "display_data"
    }
   ],
   "source": [
    "router.recommend_routes(temperature=1000, pressure=None, allow_gas_release=True, show_known_precursors_only=False)"
   ]
  },
  {
   "cell_type": "code",
   "execution_count": 23,
   "metadata": {},
   "outputs": [
    {
     "data": {
      "text/plain": [
       "{'O2': 0.2095,\n",
       " 'CO2': 0.000394737,\n",
       " 'N2': 0.7809,\n",
       " 'H2': 0.1,\n",
       " 'H2O': 0.1,\n",
       " 'F2': 0.1}"
      ]
     },
     "execution_count": 23,
     "metadata": {},
     "output_type": "execute_result"
    }
   ],
   "source": [
    "router.pressure"
   ]
  },
  {
   "cell_type": "code",
   "execution_count": 10,
   "metadata": {},
   "outputs": [
    {
     "data": {
      "text/plain": [
       "{'mp-510536': 91.23247395085946,\n",
       " 'mp-1091399': 127.11545796961941,\n",
       " 'mp-18856': 1000000.0,\n",
       " 'mp-29984': 231.22827881189372,\n",
       " 'mp-1901': 106.16275144625035,\n",
       " 'mp-2352': 181.6971726964894,\n",
       " 'mp-18852': 93.131250657328,\n",
       " 'mp-19760': 237.89722206494287,\n",
       " 'mp-129': 100.33804334428692,\n",
       " 'mp-2340': 1000000.0}"
      ]
     },
     "execution_count": 10,
     "metadata": {},
     "output_type": "execute_result"
    }
   ],
   "source": [
    "router.epitaxies"
   ]
  },
  {
   "cell_type": "code",
   "execution_count": 15,
   "metadata": {},
   "outputs": [
    {
     "data": {
      "text/plain": [
       "['mp-1091399_mp-129_mp-18852', 'mp-1091399_mp-129_mp-2340']"
      ]
     },
     "execution_count": 15,
     "metadata": {},
     "output_type": "execute_result"
    }
   ],
   "source": [
    "router.get_pareto_front()"
   ]
  },
  {
   "cell_type": "code",
   "execution_count": 13,
   "metadata": {},
   "outputs": [
    {
     "data": {
      "text/plain": [
       "[(26.504337930577893,\n",
       "  '2.0 O2(mp-1091399) + 0.5 Na2MoO4(mp-18852) + 3.5 Mo(mp-129)',\n",
       "  0),\n",
       " (inf, '-3.25 O2(mp-1091399) + 3.5 MoO3(mp-18856) + 0.5 Na2MoO4(mp-18852)', 0),\n",
       " (inf, '1.3333 MoO3(mp-18856) + 0.5 Na2MoO4(mp-18852) + 2.1667 Mo(mp-129)', 3),\n",
       " (inf, '2.0 MoO2(mp-510536) + 0.5 Na2MoO4(mp-18852) + 1.5 Mo(mp-129)', 0),\n",
       " (inf, '3.5 MoO2(mp-510536) + -1.5 O2(mp-1091399) + 0.5 Na2MoO4(mp-18852)', 0)]"
      ]
     },
     "execution_count": 13,
     "metadata": {},
     "output_type": "execute_result"
    }
   ],
   "source": [
    "router.get_rxn_containing(['Na2MoO4'])"
   ]
  },
  {
   "cell_type": "code",
   "execution_count": 17,
   "metadata": {},
   "outputs": [
    {
     "data": {
      "text/plain": [
       "{'f_t': 0.007702813736610192,\n",
       " 'G_star': 26.404337930577892,\n",
       " 'E_d': 0.1,\n",
       " 'q_sim': 0.01,\n",
       " 'q_epi': 0.093131250657328}"
      ]
     },
     "execution_count": 17,
     "metadata": {},
     "output_type": "execute_result"
    }
   ],
   "source": [
    "router.reactions['mp-1091399_mp-129_mp-18852']['_params']"
   ]
  },
  {
   "cell_type": "code",
   "execution_count": 22,
   "metadata": {},
   "outputs": [
    {
     "data": {
      "text/plain": [
       "[]"
      ]
     },
     "execution_count": 22,
     "metadata": {},
     "output_type": "execute_result"
    }
   ],
   "source": [
    "router.get_rxn_containing(['ZnO'])"
   ]
  },
  {
   "cell_type": "code",
   "execution_count": 42,
   "metadata": {},
   "outputs": [],
   "source": [
    "pressure = {'O2': 0.2095,\n",
    " 'CO2': 0.000394737,\n",
    " 'N2': 0.7809,\n",
    " 'H2': 0.1,\n",
    " 'H2O': 0.1,\n",
    " 'F2': 0.1}"
   ]
  },
  {
   "cell_type": "code",
   "execution_count": 44,
   "metadata": {},
   "outputs": [
    {
     "data": {
      "application/vnd.plotly.v1+json": {
       "config": {
        "plotlyServerURL": "https://plot.ly"
       },
       "data": [
        {
         "customdata": [
          [
           "0.5 Na2Mo2O7(mp-19760) + 3.0 Mo(mp-129) + 1.25 O2(mp-1091399)"
          ],
          [
           "0.5 Na2Mo2O7(mp-19760) + -1.75 O2(mp-1091399) + 3.0 MoO2(mp-510536)"
          ],
          [
           "0.5 Na2O2(mp-2340) + -3.5 O2(mp-1091399) + 4.0 MoO3(mp-18856)"
          ],
          [
           "4.0 Mo(mp-129) + 2.0 O2(mp-1091399) + 1.0 NaO2(mp-1901)"
          ],
          [
           "3.75 Mo(mp-129) + 2.375 O2(mp-1091399) + 0.25 Na4MoO5(mp-29984)"
          ],
          [
           "-3.25 O2(mp-1091399) + 3.5 MoO3(mp-18856) + 0.5 Na2MoO4(mp-18852)"
          ],
          [
           "-3.25 O2(mp-1091399) + 4.0 MoO3(mp-18856) + 0.5 Na2O(mp-2352)"
          ],
          [
           "-2.0 O2(mp-1091399) + 4.0 MoO2(mp-510536) + 1.0 NaO2(mp-1901)"
          ],
          [
           "-1.375 O2(mp-1091399) + 3.75 MoO2(mp-510536) + 0.25 Na4MoO5(mp-29984)"
          ]
         ],
         "hoverlabel": {
          "namelength": 0
         },
         "hovertemplate": "exp_precursors=0.5<br>n_competing=%{x}<br>barrier=%{y}<br>summary=%{customdata[0]}",
         "legendgroup": "exp_precursors=0.5",
         "marker": {
          "color": "#636efa",
          "symbol": "circle"
         },
         "mode": "markers",
         "name": "exp_precursors=0.5",
         "showlegend": true,
         "type": "scatter",
         "x": [
          0,
          0,
          11,
          9,
          16,
          0,
          6,
          1,
          8
         ],
         "xaxis": "x",
         "y": [
          3.1441392382982607,
          null,
          null,
          0.5590778759800874,
          0.3737297714726793,
          null,
          null,
          null,
          null
         ],
         "yaxis": "y"
        },
        {
         "customdata": [
          [
           "0.5 Na2Mo2O7(mp-19760) + 2.1667 Mo(mp-129) + 0.8333 MoO3(mp-18856)"
          ],
          [
           "2.6667 Mo(mp-129) + 1.3333 MoO3(mp-18856) + 1.0 NaO2(mp-1901)"
          ],
          [
           "2.1667 Mo(mp-129) + 1.5833 MoO3(mp-18856) + 0.25 Na4MoO5(mp-29984)"
          ]
         ],
         "hoverlabel": {
          "namelength": 0
         },
         "hovertemplate": "exp_precursors=0.3333<br>n_competing=%{x}<br>barrier=%{y}<br>summary=%{customdata[0]}",
         "legendgroup": "exp_precursors=0.3333",
         "marker": {
          "color": "#EF553B",
          "symbol": "circle"
         },
         "mode": "markers",
         "name": "exp_precursors=0.3333",
         "showlegend": true,
         "type": "scatter",
         "x": [
          1,
          4,
          6
         ],
         "xaxis": "x",
         "y": [
          null,
          1.1391583973738733,
          null
         ],
         "yaxis": "y"
        },
        {
         "customdata": [
          [
           "0.5 Na2Mo2O7(mp-19760) + 1.75 Mo(mp-129) + 1.25 MoO2(mp-510536)"
          ],
          [
           "0.5 Na2O2(mp-2340) + 2.3333 Mo(mp-129) + 1.6667 MoO3(mp-18856)"
          ],
          [
           "2.1667 Mo(mp-129) + 1.3333 MoO3(mp-18856) + 0.5 Na2MoO4(mp-18852)"
          ],
          [
           "2.1667 Mo(mp-129) + 1.8333 MoO3(mp-18856) + 0.5 Na2O(mp-2352)"
          ],
          [
           "2.0 Mo(mp-129) + 2.0 MoO2(mp-510536) + 1.0 NaO2(mp-1901)"
          ],
          [
           "1.375 Mo(mp-129) + 2.375 MoO2(mp-510536) + 0.25 Na4MoO5(mp-29984)"
          ]
         ],
         "hoverlabel": {
          "namelength": 0
         },
         "hovertemplate": "exp_precursors=0.6667<br>n_competing=%{x}<br>barrier=%{y}<br>summary=%{customdata[0]}",
         "legendgroup": "exp_precursors=0.6667",
         "marker": {
          "color": "#00cc96",
          "symbol": "circle"
         },
         "mode": "markers",
         "name": "exp_precursors=0.6667",
         "showlegend": true,
         "type": "scatter",
         "x": [
          0,
          13,
          3,
          7,
          1,
          0
         ],
         "xaxis": "x",
         "y": [
          null,
          11.86442908791762,
          null,
          3709.1219336944446,
          2.885581968352377,
          null
         ],
         "yaxis": "y"
        },
        {
         "customdata": [
          [
           "0.5 Na2Mo2O7(mp-19760) + -3.25 O2(mp-1091399) + 3.0 MoO3(mp-18856)"
          ],
          [
           "-4.0 O2(mp-1091399) + 4.0 MoO3(mp-18856) + 1.0 NaO2(mp-1901)"
          ],
          [
           "-3.25 O2(mp-1091399) + 3.75 MoO3(mp-18856) + 0.25 Na4MoO5(mp-29984)"
          ]
         ],
         "hoverlabel": {
          "namelength": 0
         },
         "hovertemplate": "exp_precursors=0.0<br>n_competing=%{x}<br>barrier=%{y}<br>summary=%{customdata[0]}",
         "legendgroup": "exp_precursors=0.0",
         "marker": {
          "color": "#ab63fa",
          "symbol": "circle"
         },
         "mode": "markers",
         "name": "exp_precursors=0.0",
         "showlegend": true,
         "type": "scatter",
         "x": [
          0,
          4,
          5
         ],
         "xaxis": "x",
         "y": [
          null,
          null,
          null
         ],
         "yaxis": "y"
        },
        {
         "customdata": [
          [
           "0.5 Na2O2(mp-2340) + 4.0 Mo(mp-129) + 2.5 O2(mp-1091399)"
          ],
          [
           "0.5 Na2O2(mp-2340) + 1.5 Mo(mp-129) + 2.5 MoO2(mp-510536)"
          ],
          [
           "0.5 Na2O2(mp-2340) + -1.5 O2(mp-1091399) + 4.0 MoO2(mp-510536)"
          ],
          [
           "3.5 Mo(mp-129) + 2.0 O2(mp-1091399) + 0.5 Na2MoO4(mp-18852)"
          ],
          [
           "4.0 Mo(mp-129) + 2.75 O2(mp-1091399) + 0.5 Na2O(mp-2352)"
          ],
          [
           "1.5 Mo(mp-129) + 2.0 MoO2(mp-510536) + 0.5 Na2MoO4(mp-18852)"
          ],
          [
           "1.25 Mo(mp-129) + 2.75 MoO2(mp-510536) + 0.5 Na2O(mp-2352)"
          ],
          [
           "-1.5 O2(mp-1091399) + 3.5 MoO2(mp-510536) + 0.5 Na2MoO4(mp-18852)"
          ],
          [
           "-1.25 O2(mp-1091399) + 4.0 MoO2(mp-510536) + 0.5 Na2O(mp-2352)"
          ]
         ],
         "hoverlabel": {
          "namelength": 0
         },
         "hovertemplate": "exp_precursors=1.0<br>n_competing=%{x}<br>barrier=%{y}<br>summary=%{customdata[0]}",
         "legendgroup": "exp_precursors=1.0",
         "marker": {
          "color": "#FFA15A",
          "symbol": "circle"
         },
         "mode": "markers",
         "name": "exp_precursors=1.0",
         "showlegend": true,
         "type": "scatter",
         "x": [
          20,
          5,
          7,
          0,
          19,
          0,
          0,
          0,
          2
         ],
         "xaxis": "x",
         "y": [
          0.8835419794593271,
          null,
          null,
          0.5787727540369395,
          1.9111227438006448,
          null,
          null,
          null,
          null
         ],
         "yaxis": "y"
        }
       ],
       "layout": {
        "height": 600,
        "legend": {
         "tracegroupgap": 0
        },
        "margin": {
         "t": 60
        },
        "template": {
         "data": {
          "bar": [
           {
            "error_x": {
             "color": "#2a3f5f"
            },
            "error_y": {
             "color": "#2a3f5f"
            },
            "marker": {
             "line": {
              "color": "#E5ECF6",
              "width": 0.5
             }
            },
            "type": "bar"
           }
          ],
          "barpolar": [
           {
            "marker": {
             "line": {
              "color": "#E5ECF6",
              "width": 0.5
             }
            },
            "type": "barpolar"
           }
          ],
          "carpet": [
           {
            "aaxis": {
             "endlinecolor": "#2a3f5f",
             "gridcolor": "white",
             "linecolor": "white",
             "minorgridcolor": "white",
             "startlinecolor": "#2a3f5f"
            },
            "baxis": {
             "endlinecolor": "#2a3f5f",
             "gridcolor": "white",
             "linecolor": "white",
             "minorgridcolor": "white",
             "startlinecolor": "#2a3f5f"
            },
            "type": "carpet"
           }
          ],
          "choropleth": [
           {
            "colorbar": {
             "outlinewidth": 0,
             "ticks": ""
            },
            "type": "choropleth"
           }
          ],
          "contour": [
           {
            "colorbar": {
             "outlinewidth": 0,
             "ticks": ""
            },
            "colorscale": [
             [
              0,
              "#0d0887"
             ],
             [
              0.1111111111111111,
              "#46039f"
             ],
             [
              0.2222222222222222,
              "#7201a8"
             ],
             [
              0.3333333333333333,
              "#9c179e"
             ],
             [
              0.4444444444444444,
              "#bd3786"
             ],
             [
              0.5555555555555556,
              "#d8576b"
             ],
             [
              0.6666666666666666,
              "#ed7953"
             ],
             [
              0.7777777777777778,
              "#fb9f3a"
             ],
             [
              0.8888888888888888,
              "#fdca26"
             ],
             [
              1,
              "#f0f921"
             ]
            ],
            "type": "contour"
           }
          ],
          "contourcarpet": [
           {
            "colorbar": {
             "outlinewidth": 0,
             "ticks": ""
            },
            "type": "contourcarpet"
           }
          ],
          "heatmap": [
           {
            "colorbar": {
             "outlinewidth": 0,
             "ticks": ""
            },
            "colorscale": [
             [
              0,
              "#0d0887"
             ],
             [
              0.1111111111111111,
              "#46039f"
             ],
             [
              0.2222222222222222,
              "#7201a8"
             ],
             [
              0.3333333333333333,
              "#9c179e"
             ],
             [
              0.4444444444444444,
              "#bd3786"
             ],
             [
              0.5555555555555556,
              "#d8576b"
             ],
             [
              0.6666666666666666,
              "#ed7953"
             ],
             [
              0.7777777777777778,
              "#fb9f3a"
             ],
             [
              0.8888888888888888,
              "#fdca26"
             ],
             [
              1,
              "#f0f921"
             ]
            ],
            "type": "heatmap"
           }
          ],
          "heatmapgl": [
           {
            "colorbar": {
             "outlinewidth": 0,
             "ticks": ""
            },
            "colorscale": [
             [
              0,
              "#0d0887"
             ],
             [
              0.1111111111111111,
              "#46039f"
             ],
             [
              0.2222222222222222,
              "#7201a8"
             ],
             [
              0.3333333333333333,
              "#9c179e"
             ],
             [
              0.4444444444444444,
              "#bd3786"
             ],
             [
              0.5555555555555556,
              "#d8576b"
             ],
             [
              0.6666666666666666,
              "#ed7953"
             ],
             [
              0.7777777777777778,
              "#fb9f3a"
             ],
             [
              0.8888888888888888,
              "#fdca26"
             ],
             [
              1,
              "#f0f921"
             ]
            ],
            "type": "heatmapgl"
           }
          ],
          "histogram": [
           {
            "marker": {
             "colorbar": {
              "outlinewidth": 0,
              "ticks": ""
             }
            },
            "type": "histogram"
           }
          ],
          "histogram2d": [
           {
            "colorbar": {
             "outlinewidth": 0,
             "ticks": ""
            },
            "colorscale": [
             [
              0,
              "#0d0887"
             ],
             [
              0.1111111111111111,
              "#46039f"
             ],
             [
              0.2222222222222222,
              "#7201a8"
             ],
             [
              0.3333333333333333,
              "#9c179e"
             ],
             [
              0.4444444444444444,
              "#bd3786"
             ],
             [
              0.5555555555555556,
              "#d8576b"
             ],
             [
              0.6666666666666666,
              "#ed7953"
             ],
             [
              0.7777777777777778,
              "#fb9f3a"
             ],
             [
              0.8888888888888888,
              "#fdca26"
             ],
             [
              1,
              "#f0f921"
             ]
            ],
            "type": "histogram2d"
           }
          ],
          "histogram2dcontour": [
           {
            "colorbar": {
             "outlinewidth": 0,
             "ticks": ""
            },
            "colorscale": [
             [
              0,
              "#0d0887"
             ],
             [
              0.1111111111111111,
              "#46039f"
             ],
             [
              0.2222222222222222,
              "#7201a8"
             ],
             [
              0.3333333333333333,
              "#9c179e"
             ],
             [
              0.4444444444444444,
              "#bd3786"
             ],
             [
              0.5555555555555556,
              "#d8576b"
             ],
             [
              0.6666666666666666,
              "#ed7953"
             ],
             [
              0.7777777777777778,
              "#fb9f3a"
             ],
             [
              0.8888888888888888,
              "#fdca26"
             ],
             [
              1,
              "#f0f921"
             ]
            ],
            "type": "histogram2dcontour"
           }
          ],
          "mesh3d": [
           {
            "colorbar": {
             "outlinewidth": 0,
             "ticks": ""
            },
            "type": "mesh3d"
           }
          ],
          "parcoords": [
           {
            "line": {
             "colorbar": {
              "outlinewidth": 0,
              "ticks": ""
             }
            },
            "type": "parcoords"
           }
          ],
          "scatter": [
           {
            "marker": {
             "colorbar": {
              "outlinewidth": 0,
              "ticks": ""
             }
            },
            "type": "scatter"
           }
          ],
          "scatter3d": [
           {
            "line": {
             "colorbar": {
              "outlinewidth": 0,
              "ticks": ""
             }
            },
            "marker": {
             "colorbar": {
              "outlinewidth": 0,
              "ticks": ""
             }
            },
            "type": "scatter3d"
           }
          ],
          "scattercarpet": [
           {
            "marker": {
             "colorbar": {
              "outlinewidth": 0,
              "ticks": ""
             }
            },
            "type": "scattercarpet"
           }
          ],
          "scattergeo": [
           {
            "marker": {
             "colorbar": {
              "outlinewidth": 0,
              "ticks": ""
             }
            },
            "type": "scattergeo"
           }
          ],
          "scattergl": [
           {
            "marker": {
             "colorbar": {
              "outlinewidth": 0,
              "ticks": ""
             }
            },
            "type": "scattergl"
           }
          ],
          "scattermapbox": [
           {
            "marker": {
             "colorbar": {
              "outlinewidth": 0,
              "ticks": ""
             }
            },
            "type": "scattermapbox"
           }
          ],
          "scatterpolar": [
           {
            "marker": {
             "colorbar": {
              "outlinewidth": 0,
              "ticks": ""
             }
            },
            "type": "scatterpolar"
           }
          ],
          "scatterpolargl": [
           {
            "marker": {
             "colorbar": {
              "outlinewidth": 0,
              "ticks": ""
             }
            },
            "type": "scatterpolargl"
           }
          ],
          "scatterternary": [
           {
            "marker": {
             "colorbar": {
              "outlinewidth": 0,
              "ticks": ""
             }
            },
            "type": "scatterternary"
           }
          ],
          "surface": [
           {
            "colorbar": {
             "outlinewidth": 0,
             "ticks": ""
            },
            "colorscale": [
             [
              0,
              "#0d0887"
             ],
             [
              0.1111111111111111,
              "#46039f"
             ],
             [
              0.2222222222222222,
              "#7201a8"
             ],
             [
              0.3333333333333333,
              "#9c179e"
             ],
             [
              0.4444444444444444,
              "#bd3786"
             ],
             [
              0.5555555555555556,
              "#d8576b"
             ],
             [
              0.6666666666666666,
              "#ed7953"
             ],
             [
              0.7777777777777778,
              "#fb9f3a"
             ],
             [
              0.8888888888888888,
              "#fdca26"
             ],
             [
              1,
              "#f0f921"
             ]
            ],
            "type": "surface"
           }
          ],
          "table": [
           {
            "cells": {
             "fill": {
              "color": "#EBF0F8"
             },
             "line": {
              "color": "white"
             }
            },
            "header": {
             "fill": {
              "color": "#C8D4E3"
             },
             "line": {
              "color": "white"
             }
            },
            "type": "table"
           }
          ]
         },
         "layout": {
          "annotationdefaults": {
           "arrowcolor": "#2a3f5f",
           "arrowhead": 0,
           "arrowwidth": 1
          },
          "colorscale": {
           "diverging": [
            [
             0,
             "#8e0152"
            ],
            [
             0.1,
             "#c51b7d"
            ],
            [
             0.2,
             "#de77ae"
            ],
            [
             0.3,
             "#f1b6da"
            ],
            [
             0.4,
             "#fde0ef"
            ],
            [
             0.5,
             "#f7f7f7"
            ],
            [
             0.6,
             "#e6f5d0"
            ],
            [
             0.7,
             "#b8e186"
            ],
            [
             0.8,
             "#7fbc41"
            ],
            [
             0.9,
             "#4d9221"
            ],
            [
             1,
             "#276419"
            ]
           ],
           "sequential": [
            [
             0,
             "#0d0887"
            ],
            [
             0.1111111111111111,
             "#46039f"
            ],
            [
             0.2222222222222222,
             "#7201a8"
            ],
            [
             0.3333333333333333,
             "#9c179e"
            ],
            [
             0.4444444444444444,
             "#bd3786"
            ],
            [
             0.5555555555555556,
             "#d8576b"
            ],
            [
             0.6666666666666666,
             "#ed7953"
            ],
            [
             0.7777777777777778,
             "#fb9f3a"
            ],
            [
             0.8888888888888888,
             "#fdca26"
            ],
            [
             1,
             "#f0f921"
            ]
           ],
           "sequentialminus": [
            [
             0,
             "#0d0887"
            ],
            [
             0.1111111111111111,
             "#46039f"
            ],
            [
             0.2222222222222222,
             "#7201a8"
            ],
            [
             0.3333333333333333,
             "#9c179e"
            ],
            [
             0.4444444444444444,
             "#bd3786"
            ],
            [
             0.5555555555555556,
             "#d8576b"
            ],
            [
             0.6666666666666666,
             "#ed7953"
            ],
            [
             0.7777777777777778,
             "#fb9f3a"
            ],
            [
             0.8888888888888888,
             "#fdca26"
            ],
            [
             1,
             "#f0f921"
            ]
           ]
          },
          "colorway": [
           "#636efa",
           "#EF553B",
           "#00cc96",
           "#ab63fa",
           "#FFA15A",
           "#19d3f3",
           "#FF6692",
           "#B6E880",
           "#FF97FF",
           "#FECB52"
          ],
          "font": {
           "color": "#2a3f5f"
          },
          "geo": {
           "bgcolor": "white",
           "lakecolor": "white",
           "landcolor": "#E5ECF6",
           "showlakes": true,
           "showland": true,
           "subunitcolor": "white"
          },
          "hoverlabel": {
           "align": "left"
          },
          "hovermode": "closest",
          "mapbox": {
           "style": "light"
          },
          "paper_bgcolor": "white",
          "plot_bgcolor": "#E5ECF6",
          "polar": {
           "angularaxis": {
            "gridcolor": "white",
            "linecolor": "white",
            "ticks": ""
           },
           "bgcolor": "#E5ECF6",
           "radialaxis": {
            "gridcolor": "white",
            "linecolor": "white",
            "ticks": ""
           }
          },
          "scene": {
           "xaxis": {
            "backgroundcolor": "#E5ECF6",
            "gridcolor": "white",
            "gridwidth": 2,
            "linecolor": "white",
            "showbackground": true,
            "ticks": "",
            "zerolinecolor": "white"
           },
           "yaxis": {
            "backgroundcolor": "#E5ECF6",
            "gridcolor": "white",
            "gridwidth": 2,
            "linecolor": "white",
            "showbackground": true,
            "ticks": "",
            "zerolinecolor": "white"
           },
           "zaxis": {
            "backgroundcolor": "#E5ECF6",
            "gridcolor": "white",
            "gridwidth": 2,
            "linecolor": "white",
            "showbackground": true,
            "ticks": "",
            "zerolinecolor": "white"
           }
          },
          "shapedefaults": {
           "line": {
            "color": "#2a3f5f"
           }
          },
          "ternary": {
           "aaxis": {
            "gridcolor": "white",
            "linecolor": "white",
            "ticks": ""
           },
           "baxis": {
            "gridcolor": "white",
            "linecolor": "white",
            "ticks": ""
           },
           "bgcolor": "#E5ECF6",
           "caxis": {
            "gridcolor": "white",
            "linecolor": "white",
            "ticks": ""
           }
          },
          "title": {
           "x": 0.05
          },
          "xaxis": {
           "automargin": true,
           "gridcolor": "white",
           "linecolor": "white",
           "ticks": "",
           "zerolinecolor": "white",
           "zerolinewidth": 2
          },
          "yaxis": {
           "automargin": true,
           "gridcolor": "white",
           "linecolor": "white",
           "ticks": "",
           "zerolinecolor": "white",
           "zerolinewidth": 2
          }
         }
        },
        "title": {
         "text": "Synthesis target: Na(Mo2O3)2"
        },
        "xaxis": {
         "anchor": "y",
         "domain": [
          0,
          0.98
         ],
         "title": {
          "text": "N competing phases"
         }
        },
        "yaxis": {
         "anchor": "x",
         "domain": [
          0,
          1
         ],
         "title": {
          "text": "Barrier (a.u.)"
         }
        }
       }
      },
      "text/html": [
       "<div>\n",
       "        \n",
       "        \n",
       "            <div id=\"0632d905-80c4-4003-bec7-9153bd6ef421\" class=\"plotly-graph-div\" style=\"height:600px; width:100%;\"></div>\n",
       "            <script type=\"text/javascript\">\n",
       "                require([\"plotly\"], function(Plotly) {\n",
       "                    window.PLOTLYENV=window.PLOTLYENV || {};\n",
       "                    \n",
       "                if (document.getElementById(\"0632d905-80c4-4003-bec7-9153bd6ef421\")) {\n",
       "                    Plotly.newPlot(\n",
       "                        '0632d905-80c4-4003-bec7-9153bd6ef421',\n",
       "                        [{\"customdata\": [[\"0.5 Na2Mo2O7(mp-19760) + 3.0 Mo(mp-129) + 1.25 O2(mp-1091399)\"], [\"0.5 Na2Mo2O7(mp-19760) + -1.75 O2(mp-1091399) + 3.0 MoO2(mp-510536)\"], [\"0.5 Na2O2(mp-2340) + -3.5 O2(mp-1091399) + 4.0 MoO3(mp-18856)\"], [\"4.0 Mo(mp-129) + 2.0 O2(mp-1091399) + 1.0 NaO2(mp-1901)\"], [\"3.75 Mo(mp-129) + 2.375 O2(mp-1091399) + 0.25 Na4MoO5(mp-29984)\"], [\"-3.25 O2(mp-1091399) + 3.5 MoO3(mp-18856) + 0.5 Na2MoO4(mp-18852)\"], [\"-3.25 O2(mp-1091399) + 4.0 MoO3(mp-18856) + 0.5 Na2O(mp-2352)\"], [\"-2.0 O2(mp-1091399) + 4.0 MoO2(mp-510536) + 1.0 NaO2(mp-1901)\"], [\"-1.375 O2(mp-1091399) + 3.75 MoO2(mp-510536) + 0.25 Na4MoO5(mp-29984)\"]], \"hoverlabel\": {\"namelength\": 0}, \"hovertemplate\": \"exp_precursors=0.5<br>n_competing=%{x}<br>barrier=%{y}<br>summary=%{customdata[0]}\", \"legendgroup\": \"exp_precursors=0.5\", \"marker\": {\"color\": \"#636efa\", \"symbol\": \"circle\"}, \"mode\": \"markers\", \"name\": \"exp_precursors=0.5\", \"showlegend\": true, \"type\": \"scatter\", \"x\": [0, 0, 11, 9, 16, 0, 6, 1, 8], \"xaxis\": \"x\", \"y\": [3.1441392382982607, null, null, 0.5590778759800874, 0.3737297714726793, null, null, null, null], \"yaxis\": \"y\"}, {\"customdata\": [[\"0.5 Na2Mo2O7(mp-19760) + 2.1667 Mo(mp-129) + 0.8333 MoO3(mp-18856)\"], [\"2.6667 Mo(mp-129) + 1.3333 MoO3(mp-18856) + 1.0 NaO2(mp-1901)\"], [\"2.1667 Mo(mp-129) + 1.5833 MoO3(mp-18856) + 0.25 Na4MoO5(mp-29984)\"]], \"hoverlabel\": {\"namelength\": 0}, \"hovertemplate\": \"exp_precursors=0.3333<br>n_competing=%{x}<br>barrier=%{y}<br>summary=%{customdata[0]}\", \"legendgroup\": \"exp_precursors=0.3333\", \"marker\": {\"color\": \"#EF553B\", \"symbol\": \"circle\"}, \"mode\": \"markers\", \"name\": \"exp_precursors=0.3333\", \"showlegend\": true, \"type\": \"scatter\", \"x\": [1, 4, 6], \"xaxis\": \"x\", \"y\": [null, 1.1391583973738733, null], \"yaxis\": \"y\"}, {\"customdata\": [[\"0.5 Na2Mo2O7(mp-19760) + 1.75 Mo(mp-129) + 1.25 MoO2(mp-510536)\"], [\"0.5 Na2O2(mp-2340) + 2.3333 Mo(mp-129) + 1.6667 MoO3(mp-18856)\"], [\"2.1667 Mo(mp-129) + 1.3333 MoO3(mp-18856) + 0.5 Na2MoO4(mp-18852)\"], [\"2.1667 Mo(mp-129) + 1.8333 MoO3(mp-18856) + 0.5 Na2O(mp-2352)\"], [\"2.0 Mo(mp-129) + 2.0 MoO2(mp-510536) + 1.0 NaO2(mp-1901)\"], [\"1.375 Mo(mp-129) + 2.375 MoO2(mp-510536) + 0.25 Na4MoO5(mp-29984)\"]], \"hoverlabel\": {\"namelength\": 0}, \"hovertemplate\": \"exp_precursors=0.6667<br>n_competing=%{x}<br>barrier=%{y}<br>summary=%{customdata[0]}\", \"legendgroup\": \"exp_precursors=0.6667\", \"marker\": {\"color\": \"#00cc96\", \"symbol\": \"circle\"}, \"mode\": \"markers\", \"name\": \"exp_precursors=0.6667\", \"showlegend\": true, \"type\": \"scatter\", \"x\": [0, 13, 3, 7, 1, 0], \"xaxis\": \"x\", \"y\": [null, 11.86442908791762, null, 3709.1219336944446, 2.885581968352377, null], \"yaxis\": \"y\"}, {\"customdata\": [[\"0.5 Na2Mo2O7(mp-19760) + -3.25 O2(mp-1091399) + 3.0 MoO3(mp-18856)\"], [\"-4.0 O2(mp-1091399) + 4.0 MoO3(mp-18856) + 1.0 NaO2(mp-1901)\"], [\"-3.25 O2(mp-1091399) + 3.75 MoO3(mp-18856) + 0.25 Na4MoO5(mp-29984)\"]], \"hoverlabel\": {\"namelength\": 0}, \"hovertemplate\": \"exp_precursors=0.0<br>n_competing=%{x}<br>barrier=%{y}<br>summary=%{customdata[0]}\", \"legendgroup\": \"exp_precursors=0.0\", \"marker\": {\"color\": \"#ab63fa\", \"symbol\": \"circle\"}, \"mode\": \"markers\", \"name\": \"exp_precursors=0.0\", \"showlegend\": true, \"type\": \"scatter\", \"x\": [0, 4, 5], \"xaxis\": \"x\", \"y\": [null, null, null], \"yaxis\": \"y\"}, {\"customdata\": [[\"0.5 Na2O2(mp-2340) + 4.0 Mo(mp-129) + 2.5 O2(mp-1091399)\"], [\"0.5 Na2O2(mp-2340) + 1.5 Mo(mp-129) + 2.5 MoO2(mp-510536)\"], [\"0.5 Na2O2(mp-2340) + -1.5 O2(mp-1091399) + 4.0 MoO2(mp-510536)\"], [\"3.5 Mo(mp-129) + 2.0 O2(mp-1091399) + 0.5 Na2MoO4(mp-18852)\"], [\"4.0 Mo(mp-129) + 2.75 O2(mp-1091399) + 0.5 Na2O(mp-2352)\"], [\"1.5 Mo(mp-129) + 2.0 MoO2(mp-510536) + 0.5 Na2MoO4(mp-18852)\"], [\"1.25 Mo(mp-129) + 2.75 MoO2(mp-510536) + 0.5 Na2O(mp-2352)\"], [\"-1.5 O2(mp-1091399) + 3.5 MoO2(mp-510536) + 0.5 Na2MoO4(mp-18852)\"], [\"-1.25 O2(mp-1091399) + 4.0 MoO2(mp-510536) + 0.5 Na2O(mp-2352)\"]], \"hoverlabel\": {\"namelength\": 0}, \"hovertemplate\": \"exp_precursors=1.0<br>n_competing=%{x}<br>barrier=%{y}<br>summary=%{customdata[0]}\", \"legendgroup\": \"exp_precursors=1.0\", \"marker\": {\"color\": \"#FFA15A\", \"symbol\": \"circle\"}, \"mode\": \"markers\", \"name\": \"exp_precursors=1.0\", \"showlegend\": true, \"type\": \"scatter\", \"x\": [20, 5, 7, 0, 19, 0, 0, 0, 2], \"xaxis\": \"x\", \"y\": [0.8835419794593271, null, null, 0.5787727540369395, 1.9111227438006448, null, null, null, null], \"yaxis\": \"y\"}],\n",
       "                        {\"height\": 600, \"legend\": {\"tracegroupgap\": 0}, \"margin\": {\"t\": 60}, \"template\": {\"data\": {\"bar\": [{\"error_x\": {\"color\": \"#2a3f5f\"}, \"error_y\": {\"color\": \"#2a3f5f\"}, \"marker\": {\"line\": {\"color\": \"#E5ECF6\", \"width\": 0.5}}, \"type\": \"bar\"}], \"barpolar\": [{\"marker\": {\"line\": {\"color\": \"#E5ECF6\", \"width\": 0.5}}, \"type\": \"barpolar\"}], \"carpet\": [{\"aaxis\": {\"endlinecolor\": \"#2a3f5f\", \"gridcolor\": \"white\", \"linecolor\": \"white\", \"minorgridcolor\": \"white\", \"startlinecolor\": \"#2a3f5f\"}, \"baxis\": {\"endlinecolor\": \"#2a3f5f\", \"gridcolor\": \"white\", \"linecolor\": \"white\", \"minorgridcolor\": \"white\", \"startlinecolor\": \"#2a3f5f\"}, \"type\": \"carpet\"}], \"choropleth\": [{\"colorbar\": {\"outlinewidth\": 0, \"ticks\": \"\"}, \"type\": \"choropleth\"}], \"contour\": [{\"colorbar\": {\"outlinewidth\": 0, \"ticks\": \"\"}, \"colorscale\": [[0.0, \"#0d0887\"], [0.1111111111111111, \"#46039f\"], [0.2222222222222222, \"#7201a8\"], [0.3333333333333333, \"#9c179e\"], [0.4444444444444444, \"#bd3786\"], [0.5555555555555556, \"#d8576b\"], [0.6666666666666666, \"#ed7953\"], [0.7777777777777778, \"#fb9f3a\"], [0.8888888888888888, \"#fdca26\"], [1.0, \"#f0f921\"]], \"type\": \"contour\"}], \"contourcarpet\": [{\"colorbar\": {\"outlinewidth\": 0, \"ticks\": \"\"}, \"type\": \"contourcarpet\"}], \"heatmap\": [{\"colorbar\": {\"outlinewidth\": 0, \"ticks\": \"\"}, \"colorscale\": [[0.0, \"#0d0887\"], [0.1111111111111111, \"#46039f\"], [0.2222222222222222, \"#7201a8\"], [0.3333333333333333, \"#9c179e\"], [0.4444444444444444, \"#bd3786\"], [0.5555555555555556, \"#d8576b\"], [0.6666666666666666, \"#ed7953\"], [0.7777777777777778, \"#fb9f3a\"], [0.8888888888888888, \"#fdca26\"], [1.0, \"#f0f921\"]], \"type\": \"heatmap\"}], \"heatmapgl\": [{\"colorbar\": {\"outlinewidth\": 0, \"ticks\": \"\"}, \"colorscale\": [[0.0, \"#0d0887\"], [0.1111111111111111, \"#46039f\"], [0.2222222222222222, \"#7201a8\"], [0.3333333333333333, \"#9c179e\"], [0.4444444444444444, \"#bd3786\"], [0.5555555555555556, \"#d8576b\"], [0.6666666666666666, \"#ed7953\"], [0.7777777777777778, \"#fb9f3a\"], [0.8888888888888888, \"#fdca26\"], [1.0, \"#f0f921\"]], \"type\": \"heatmapgl\"}], \"histogram\": [{\"marker\": {\"colorbar\": {\"outlinewidth\": 0, \"ticks\": \"\"}}, \"type\": \"histogram\"}], \"histogram2d\": [{\"colorbar\": {\"outlinewidth\": 0, \"ticks\": \"\"}, \"colorscale\": [[0.0, \"#0d0887\"], [0.1111111111111111, \"#46039f\"], [0.2222222222222222, \"#7201a8\"], [0.3333333333333333, \"#9c179e\"], [0.4444444444444444, \"#bd3786\"], [0.5555555555555556, \"#d8576b\"], [0.6666666666666666, \"#ed7953\"], [0.7777777777777778, \"#fb9f3a\"], [0.8888888888888888, \"#fdca26\"], [1.0, \"#f0f921\"]], \"type\": \"histogram2d\"}], \"histogram2dcontour\": [{\"colorbar\": {\"outlinewidth\": 0, \"ticks\": \"\"}, \"colorscale\": [[0.0, \"#0d0887\"], [0.1111111111111111, \"#46039f\"], [0.2222222222222222, \"#7201a8\"], [0.3333333333333333, \"#9c179e\"], [0.4444444444444444, \"#bd3786\"], [0.5555555555555556, \"#d8576b\"], [0.6666666666666666, \"#ed7953\"], [0.7777777777777778, \"#fb9f3a\"], [0.8888888888888888, \"#fdca26\"], [1.0, \"#f0f921\"]], \"type\": \"histogram2dcontour\"}], \"mesh3d\": [{\"colorbar\": {\"outlinewidth\": 0, \"ticks\": \"\"}, \"type\": \"mesh3d\"}], \"parcoords\": [{\"line\": {\"colorbar\": {\"outlinewidth\": 0, \"ticks\": \"\"}}, \"type\": \"parcoords\"}], \"scatter\": [{\"marker\": {\"colorbar\": {\"outlinewidth\": 0, \"ticks\": \"\"}}, \"type\": \"scatter\"}], \"scatter3d\": [{\"line\": {\"colorbar\": {\"outlinewidth\": 0, \"ticks\": \"\"}}, \"marker\": {\"colorbar\": {\"outlinewidth\": 0, \"ticks\": \"\"}}, \"type\": \"scatter3d\"}], \"scattercarpet\": [{\"marker\": {\"colorbar\": {\"outlinewidth\": 0, \"ticks\": \"\"}}, \"type\": \"scattercarpet\"}], \"scattergeo\": [{\"marker\": {\"colorbar\": {\"outlinewidth\": 0, \"ticks\": \"\"}}, \"type\": \"scattergeo\"}], \"scattergl\": [{\"marker\": {\"colorbar\": {\"outlinewidth\": 0, \"ticks\": \"\"}}, \"type\": \"scattergl\"}], \"scattermapbox\": [{\"marker\": {\"colorbar\": {\"outlinewidth\": 0, \"ticks\": \"\"}}, \"type\": \"scattermapbox\"}], \"scatterpolar\": [{\"marker\": {\"colorbar\": {\"outlinewidth\": 0, \"ticks\": \"\"}}, \"type\": \"scatterpolar\"}], \"scatterpolargl\": [{\"marker\": {\"colorbar\": {\"outlinewidth\": 0, \"ticks\": \"\"}}, \"type\": \"scatterpolargl\"}], \"scatterternary\": [{\"marker\": {\"colorbar\": {\"outlinewidth\": 0, \"ticks\": \"\"}}, \"type\": \"scatterternary\"}], \"surface\": [{\"colorbar\": {\"outlinewidth\": 0, \"ticks\": \"\"}, \"colorscale\": [[0.0, \"#0d0887\"], [0.1111111111111111, \"#46039f\"], [0.2222222222222222, \"#7201a8\"], [0.3333333333333333, \"#9c179e\"], [0.4444444444444444, \"#bd3786\"], [0.5555555555555556, \"#d8576b\"], [0.6666666666666666, \"#ed7953\"], [0.7777777777777778, \"#fb9f3a\"], [0.8888888888888888, \"#fdca26\"], [1.0, \"#f0f921\"]], \"type\": \"surface\"}], \"table\": [{\"cells\": {\"fill\": {\"color\": \"#EBF0F8\"}, \"line\": {\"color\": \"white\"}}, \"header\": {\"fill\": {\"color\": \"#C8D4E3\"}, \"line\": {\"color\": \"white\"}}, \"type\": \"table\"}]}, \"layout\": {\"annotationdefaults\": {\"arrowcolor\": \"#2a3f5f\", \"arrowhead\": 0, \"arrowwidth\": 1}, \"colorscale\": {\"diverging\": [[0, \"#8e0152\"], [0.1, \"#c51b7d\"], [0.2, \"#de77ae\"], [0.3, \"#f1b6da\"], [0.4, \"#fde0ef\"], [0.5, \"#f7f7f7\"], [0.6, \"#e6f5d0\"], [0.7, \"#b8e186\"], [0.8, \"#7fbc41\"], [0.9, \"#4d9221\"], [1, \"#276419\"]], \"sequential\": [[0.0, \"#0d0887\"], [0.1111111111111111, \"#46039f\"], [0.2222222222222222, \"#7201a8\"], [0.3333333333333333, \"#9c179e\"], [0.4444444444444444, \"#bd3786\"], [0.5555555555555556, \"#d8576b\"], [0.6666666666666666, \"#ed7953\"], [0.7777777777777778, \"#fb9f3a\"], [0.8888888888888888, \"#fdca26\"], [1.0, \"#f0f921\"]], \"sequentialminus\": [[0.0, \"#0d0887\"], [0.1111111111111111, \"#46039f\"], [0.2222222222222222, \"#7201a8\"], [0.3333333333333333, \"#9c179e\"], [0.4444444444444444, \"#bd3786\"], [0.5555555555555556, \"#d8576b\"], [0.6666666666666666, \"#ed7953\"], [0.7777777777777778, \"#fb9f3a\"], [0.8888888888888888, \"#fdca26\"], [1.0, \"#f0f921\"]]}, \"colorway\": [\"#636efa\", \"#EF553B\", \"#00cc96\", \"#ab63fa\", \"#FFA15A\", \"#19d3f3\", \"#FF6692\", \"#B6E880\", \"#FF97FF\", \"#FECB52\"], \"font\": {\"color\": \"#2a3f5f\"}, \"geo\": {\"bgcolor\": \"white\", \"lakecolor\": \"white\", \"landcolor\": \"#E5ECF6\", \"showlakes\": true, \"showland\": true, \"subunitcolor\": \"white\"}, \"hoverlabel\": {\"align\": \"left\"}, \"hovermode\": \"closest\", \"mapbox\": {\"style\": \"light\"}, \"paper_bgcolor\": \"white\", \"plot_bgcolor\": \"#E5ECF6\", \"polar\": {\"angularaxis\": {\"gridcolor\": \"white\", \"linecolor\": \"white\", \"ticks\": \"\"}, \"bgcolor\": \"#E5ECF6\", \"radialaxis\": {\"gridcolor\": \"white\", \"linecolor\": \"white\", \"ticks\": \"\"}}, \"scene\": {\"xaxis\": {\"backgroundcolor\": \"#E5ECF6\", \"gridcolor\": \"white\", \"gridwidth\": 2, \"linecolor\": \"white\", \"showbackground\": true, \"ticks\": \"\", \"zerolinecolor\": \"white\"}, \"yaxis\": {\"backgroundcolor\": \"#E5ECF6\", \"gridcolor\": \"white\", \"gridwidth\": 2, \"linecolor\": \"white\", \"showbackground\": true, \"ticks\": \"\", \"zerolinecolor\": \"white\"}, \"zaxis\": {\"backgroundcolor\": \"#E5ECF6\", \"gridcolor\": \"white\", \"gridwidth\": 2, \"linecolor\": \"white\", \"showbackground\": true, \"ticks\": \"\", \"zerolinecolor\": \"white\"}}, \"shapedefaults\": {\"line\": {\"color\": \"#2a3f5f\"}}, \"ternary\": {\"aaxis\": {\"gridcolor\": \"white\", \"linecolor\": \"white\", \"ticks\": \"\"}, \"baxis\": {\"gridcolor\": \"white\", \"linecolor\": \"white\", \"ticks\": \"\"}, \"bgcolor\": \"#E5ECF6\", \"caxis\": {\"gridcolor\": \"white\", \"linecolor\": \"white\", \"ticks\": \"\"}}, \"title\": {\"x\": 0.05}, \"xaxis\": {\"automargin\": true, \"gridcolor\": \"white\", \"linecolor\": \"white\", \"ticks\": \"\", \"zerolinecolor\": \"white\", \"zerolinewidth\": 2}, \"yaxis\": {\"automargin\": true, \"gridcolor\": \"white\", \"linecolor\": \"white\", \"ticks\": \"\", \"zerolinecolor\": \"white\", \"zerolinewidth\": 2}}}, \"title\": {\"text\": \"Synthesis target: Na(Mo2O3)2\"}, \"xaxis\": {\"anchor\": \"y\", \"domain\": [0.0, 0.98], \"title\": {\"text\": \"N competing phases\"}}, \"yaxis\": {\"anchor\": \"x\", \"domain\": [0.0, 1.0], \"title\": {\"text\": \"Barrier (a.u.)\"}}},\n",
       "                        {\"responsive\": true}\n",
       "                    ).then(function(){\n",
       "                            \n",
       "var gd = document.getElementById('0632d905-80c4-4003-bec7-9153bd6ef421');\n",
       "var x = new MutationObserver(function (mutations, observer) {{\n",
       "        var display = window.getComputedStyle(gd).display;\n",
       "        if (!display || display === 'none') {{\n",
       "            console.log([gd, 'removed!']);\n",
       "            Plotly.purge(gd);\n",
       "            observer.disconnect();\n",
       "        }}\n",
       "}});\n",
       "\n",
       "// Listen for the removal of the full notebook cells\n",
       "var notebookContainer = gd.closest('#notebook-container');\n",
       "if (notebookContainer) {{\n",
       "    x.observe(notebookContainer, {childList: true});\n",
       "}}\n",
       "\n",
       "// Listen for the clearing of the current output cell\n",
       "var outputEl = gd.closest('.output');\n",
       "if (outputEl) {{\n",
       "    x.observe(outputEl, {childList: true});\n",
       "}}\n",
       "\n",
       "                        })\n",
       "                };\n",
       "                });\n",
       "            </script>\n",
       "        </div>"
      ]
     },
     "metadata": {},
     "output_type": "display_data"
    }
   ],
   "source": [
    "router.recommend_routes(temperature=1000, pressure=pressure, allow_gas_release=True, show_known_precursors_only=False)"
   ]
  },
  {
   "cell_type": "code",
   "execution_count": 45,
   "metadata": {},
   "outputs": [
    {
     "data": {
      "text/plain": [
       "['mp-1091399_mp-129_mp-18852',\n",
       " 'mp-1091399_mp-129_mp-1901',\n",
       " 'mp-1091399_mp-129_mp-29984']"
      ]
     },
     "execution_count": 45,
     "metadata": {},
     "output_type": "execute_result"
    }
   ],
   "source": [
    "router.get_pareto_front()"
   ]
  },
  {
   "cell_type": "code",
   "execution_count": 39,
   "metadata": {},
   "outputs": [
    {
     "data": {
      "text/plain": [
       "[(2.885581968352377,\n",
       "  '2.0 Mo(mp-129) + 2.0 MoO2(mp-510536) + 1.0 NaO2(mp-1901)',\n",
       "  1),\n",
       " (inf, '-1.25 O2(mp-1091399) + 4.0 MoO2(mp-510536) + 0.5 Na2O(mp-2352)', 2),\n",
       " (inf,\n",
       "  '-1.375 O2(mp-1091399) + 3.75 MoO2(mp-510536) + 0.25 Na4MoO5(mp-29984)',\n",
       "  8),\n",
       " (inf, '-1.5 O2(mp-1091399) + 3.5 MoO2(mp-510536) + 0.5 Na2MoO4(mp-18852)', 0),\n",
       " (inf, '-2.0 O2(mp-1091399) + 4.0 MoO2(mp-510536) + 1.0 NaO2(mp-1901)', 1),\n",
       " (inf,\n",
       "  '0.5 Na2Mo2O7(mp-19760) + -1.75 O2(mp-1091399) + 3.0 MoO2(mp-510536)',\n",
       "  0),\n",
       " (inf, '0.5 Na2Mo2O7(mp-19760) + 1.75 Mo(mp-129) + 1.25 MoO2(mp-510536)', 0),\n",
       " (inf, '0.5 Na2O2(mp-2340) + -1.5 O2(mp-1091399) + 4.0 MoO2(mp-510536)', 7),\n",
       " (inf, '0.5 Na2O2(mp-2340) + 1.5 Mo(mp-129) + 2.5 MoO2(mp-510536)', 5),\n",
       " (inf, '1.25 Mo(mp-129) + 2.75 MoO2(mp-510536) + 0.5 Na2O(mp-2352)', 0),\n",
       " (inf, '1.375 Mo(mp-129) + 2.375 MoO2(mp-510536) + 0.25 Na4MoO5(mp-29984)', 0),\n",
       " (inf, '1.5 Mo(mp-129) + 2.0 MoO2(mp-510536) + 0.5 Na2MoO4(mp-18852)', 0)]"
      ]
     },
     "execution_count": 39,
     "metadata": {},
     "output_type": "execute_result"
    }
   ],
   "source": [
    "router.get_rxn_containing(['MoO2'])"
   ]
  },
  {
   "cell_type": "code",
   "execution_count": null,
   "metadata": {},
   "outputs": [],
   "source": []
  }
 ],
 "metadata": {
  "kernelspec": {
   "display_name": "Python 3",
   "language": "python",
   "name": "python3"
  },
  "language_info": {
   "codemirror_mode": {
    "name": "ipython",
    "version": 3
   },
   "file_extension": ".py",
   "mimetype": "text/x-python",
   "name": "python",
   "nbconvert_exporter": "python",
   "pygments_lexer": "ipython3",
   "version": "3.7.4"
  }
 },
 "nbformat": 4,
 "nbformat_minor": 2
}

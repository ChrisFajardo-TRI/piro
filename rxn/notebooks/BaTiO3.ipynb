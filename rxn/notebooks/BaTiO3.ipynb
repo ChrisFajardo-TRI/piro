{
 "cells": [
  {
   "cell_type": "code",
   "execution_count": 8,
   "metadata": {},
   "outputs": [],
   "source": [
    "mp_id = 'mp-5020'"
   ]
  },
  {
   "cell_type": "code",
   "execution_count": 9,
   "metadata": {},
   "outputs": [],
   "source": [
    "from rxn.route import SynthesisRoutes"
   ]
  },
  {
   "cell_type": "code",
   "execution_count": 10,
   "metadata": {},
   "outputs": [
    {
     "name": "stderr",
     "output_type": "stream",
     "text": [
      "[Parallel(n_jobs=-1)]: Using backend LokyBackend with 8 concurrent workers.\n",
      "[Parallel(n_jobs=-1)]: Done  22 out of  22 | elapsed:  2.0min finished\n"
     ]
    },
    {
     "name": "stdout",
     "output_type": "stream",
     "text": [
      "Epitaxies ready\n",
      "Similarity matrix ready\n",
      "Precursor library ready.\n"
     ]
    }
   ],
   "source": [
    "router = SynthesisRoutes(mp_id, add_element='C')"
   ]
  },
  {
   "cell_type": "code",
   "execution_count": 11,
   "metadata": {},
   "outputs": [],
   "source": [
    "from rxn.data import DEFAULT_GAS_PRESSURES"
   ]
  },
  {
   "cell_type": "code",
   "execution_count": 12,
   "metadata": {},
   "outputs": [],
   "source": [
    "DEFAULT_GAS_PRESSURES.update({\"CO2\": 0.000001})"
   ]
  },
  {
   "cell_type": "code",
   "execution_count": 13,
   "metadata": {},
   "outputs": [
    {
     "data": {
      "text/plain": [
       "{'O2': 0.2095, 'CO2': 1e-06, 'N2': 0.7809, 'H2': 0.1, 'H2O': 0.1, 'F2': 0.1}"
      ]
     },
     "execution_count": 13,
     "metadata": {},
     "output_type": "execute_result"
    }
   ],
   "source": [
    "DEFAULT_GAS_PRESSURES"
   ]
  },
  {
   "cell_type": "code",
   "execution_count": 22,
   "metadata": {},
   "outputs": [
    {
     "data": {
      "application/vnd.plotly.v1+json": {
       "config": {
        "plotlyServerURL": "https://plot.ly"
       },
       "data": [
        {
         "customdata": [
          [
           "1.0 TiO2(mp-554278) + 1.0 BaO(mp-1342)"
          ],
          [
           "-1.0 CO2(mp-20066) + 1.0 TiO2(mp-554278) + 1.0 BaCO3(mp-5504)"
          ],
          [
           "1.0 TiO(mp-1071163) + 1.0 BaO2(mp-1105)"
          ],
          [
           "-0.5 CO2(mp-20066) + 1.0 TiO2(mp-554278) + 0.5 C(mp-568286) + 1.0 BaO2(mp-1105)"
          ],
          [
           "-0.25 CO2(mp-20066) + 0.75 TiO2(mp-554278) + 0.25 TiC(mp-631) + 1.0 BaO2(mp-1105)"
          ],
          [
           "1.0 TiO2(mp-554278) + 1.0 BaO2(mp-1105) + -0.5 O2(mp-1091399)"
          ],
          [
           "0.5 TiO2(mp-554278) + 1.0 BaO2(mp-1105) + 0.5 Ti(mp-72)"
          ],
          [
           "1.0 TiO2(mp-554278) + 0.5 BaO2(mp-1105) + 0.5 Ba(mp-122)"
          ],
          [
           "1.0 TiO2(mp-554278) + 0.5 O2(mp-1091399) + 1.0 Ba(mp-122)"
          ],
          [
           "1.0 BaO(mp-1342) + 1.0 TiO(mp-1071163) + 0.5 O2(mp-1091399)"
          ],
          [
           "0.5 BaO(mp-1342) + 0.5 Ti2O3(mp-458) + 0.5 BaO2(mp-1105)"
          ],
          [
           "1.0 BaO(mp-1342) + 0.5 Ti2O3(mp-458) + 0.25 O2(mp-1091399)"
          ],
          [
           "-1.0 CO2(mp-20066) + 1.0 BaO(mp-1342) + 1.0 TiC(mp-631) + 2.0 O2(mp-1091399)"
          ],
          [
           "1.0 BaO(mp-1342) + 1.0 O2(mp-1091399) + 1.0 Ti(mp-72)"
          ],
          [
           "-0.25 CO2(mp-20066) + 0.25 C(mp-568286) + 0.5 Ti2O3(mp-458) + 1.0 BaO2(mp-1105)"
          ],
          [
           "-1.0 CO2(mp-20066) + 1.0 BaCO3(mp-5504) + 1.0 TiO(mp-1071163) + 0.5 O2(mp-1091399)"
          ],
          [
           "-0.5 CO2(mp-20066) + 0.5 BaCO3(mp-5504) + 0.5 Ti2O3(mp-458) + 0.5 BaO2(mp-1105)"
          ],
          [
           "-1.0 CO2(mp-20066) + 1.0 BaCO3(mp-5504) + 0.5 Ti2O3(mp-458) + 0.25 O2(mp-1091399)"
          ],
          [
           "-2.0 CO2(mp-20066) + 1.0 BaCO3(mp-5504) + 1.0 TiC(mp-631) + 2.0 O2(mp-1091399)"
          ],
          [
           "-1.0 CO2(mp-20066) + 1.0 BaCO3(mp-5504) + 1.0 O2(mp-1091399) + 1.0 Ti(mp-72)"
          ],
          [
           "1.0 TiO(mp-1071163) + 1.0 O2(mp-1091399) + 1.0 Ba(mp-122)"
          ],
          [
           "-0.1429 CO2(mp-20066) + 0.4286 Ti2O3(mp-458) + 0.1429 TiC(mp-631) + 1.0 BaO2(mp-1105)"
          ],
          [
           "0.5 Ti2O3(mp-458) + 1.0 BaO2(mp-1105) + -0.25 O2(mp-1091399)"
          ],
          [
           "0.3333 Ti2O3(mp-458) + 1.0 BaO2(mp-1105) + 0.3333 Ti(mp-72)"
          ],
          [
           "0.5 Ti2O3(mp-458) + 0.75 BaO2(mp-1105) + 0.25 Ba(mp-122)"
          ],
          [
           "0.5 Ti2O3(mp-458) + 0.75 O2(mp-1091399) + 1.0 Ba(mp-122)"
          ],
          [
           "-1.0 CO2(mp-20066) + 1.0 TiC(mp-631) + 1.0 BaO2(mp-1105) + 1.5 O2(mp-1091399)"
          ],
          [
           "-1.0 CO2(mp-20066) + 1.0 TiC(mp-631) + 2.5 O2(mp-1091399) + 1.0 Ba(mp-122)"
          ],
          [
           "1.0 BaO2(mp-1105) + 0.5 O2(mp-1091399) + 1.0 Ti(mp-72)"
          ],
          [
           "1.5 O2(mp-1091399) + 1.0 Ti(mp-72) + 1.0 Ba(mp-122)"
          ]
         ],
         "hoverlabel": {
          "namelength": 0
         },
         "hovertemplate": "exp_precursors=1.0<br>n_competing=%{x}<br>barrier=%{y}<br>summary=%{customdata[0]}",
         "legendgroup": "exp_precursors=1.0",
         "marker": {
          "color": "#636efa",
          "symbol": "circle"
         },
         "mode": "markers",
         "name": "exp_precursors=1.0",
         "showlegend": true,
         "type": "scatter",
         "x": [
          26,
          23,
          8,
          43,
          44,
          29,
          4,
          11,
          11,
          46,
          3,
          6,
          49,
          49,
          6,
          46,
          6,
          5,
          49,
          47,
          49,
          6,
          6,
          3,
          19,
          47,
          49,
          50,
          4,
          49
         ],
         "xaxis": "x",
         "y": [
          0.49000072097586056,
          0.37136039589174186,
          0.10623264849037457,
          0.12993745249184105,
          0.14032021797282745,
          0.4281995354466499,
          0.11001458153662233,
          0.15231121157378014,
          0.22919808912454678,
          0.42424663260228457,
          0.1363923975706396,
          0.14375102460513242,
          4.054481804872016,
          4.11968580666387,
          0.1339522614044547,
          0.41359365224294364,
          0.15523227710909213,
          0.14464289333848232,
          0.4136323667077446,
          0.4085414600549645,
          0.4065528045624624,
          0.140926367916163,
          0.19335086411851962,
          0.11095825140411097,
          0.138217764761004,
          0.11419069271723374,
          0.10728658176798023,
          6.512320114992768,
          0.1035646305281068,
          10.127916047684437
         ],
         "yaxis": "y"
        },
        {
         "customdata": [
          [
           "0.3333 Ti2O(mp-1215) + 0.3333 TiO2(mp-554278) + 1.0 BaO2(mp-1105)"
          ],
          [
           "0.25 Ti2O(mp-1215) + 0.25 Ti2O3(mp-458) + 1.0 BaO2(mp-1105)"
          ],
          [
           "0.4545 TiO2(mp-554278) + 0.0909 Ti6O(mp-554098) + 1.0 BaO2(mp-1105)"
          ],
          [
           "0.4 TiO2(mp-554278) + 0.2 Ti3O(mp-2591) + 1.0 BaO2(mp-1105)"
          ],
          [
           "-0.1923 CO2(mp-20066) + 0.6923 TiO2(mp-554278) + 0.0385 Ti8C5(mp-27919) + 1.0 BaO2(mp-1105)"
          ],
          [
           "-0.1667 CO2(mp-20066) + 0.6667 TiO2(mp-554278) + 0.1667 Ti2C(mp-10721) + 1.0 BaO2(mp-1105)"
          ],
          [
           "0.0625 Ti6O(mp-554098) + 0.3125 Ti2O3(mp-458) + 1.0 BaO2(mp-1105)"
          ],
          [
           "0.1429 Ti3O(mp-2591) + 0.2857 Ti2O3(mp-458) + 1.0 BaO2(mp-1105)"
          ],
          [
           "0.6667 BaO(mp-1342) + 0.3333 Ti3O5(mp-1147) + 0.3333 BaO2(mp-1105)"
          ],
          [
           "-0.3333 CO2(mp-20066) + 0.3333 Ti3O5(mp-1147) + 0.3333 C(mp-568286) + 1.0 BaO2(mp-1105)"
          ],
          [
           "-0.6667 CO2(mp-20066) + 0.3333 Ti3O5(mp-1147) + 0.6667 BaCO3(mp-5504) + 0.3333 BaO2(mp-1105)"
          ],
          [
           "-0.1818 CO2(mp-20066) + 0.2727 Ti3O5(mp-1147) + 0.1818 TiC(mp-631) + 1.0 BaO2(mp-1105)"
          ],
          [
           "0.2 Ti3O5(mp-1147) + 1.0 BaO2(mp-1105) + 0.4 Ti(mp-72)"
          ],
          [
           "0.3333 Ti3O5(mp-1147) + 0.6667 BaO2(mp-1105) + 0.3333 Ba(mp-122)"
          ],
          [
           "-0.1136 CO2(mp-20066) + 0.0227 Ti8C5(mp-27919) + 0.4091 Ti2O3(mp-458) + 1.0 BaO2(mp-1105)"
          ],
          [
           "-0.1 CO2(mp-20066) + 0.4 Ti2O3(mp-458) + 0.1 Ti2C(mp-10721) + 1.0 BaO2(mp-1105)"
          ]
         ],
         "hoverlabel": {
          "namelength": 0
         },
         "hovertemplate": "exp_precursors=0.6667<br>n_competing=%{x}<br>barrier=%{y}<br>summary=%{customdata[0]}",
         "legendgroup": "exp_precursors=0.6667",
         "marker": {
          "color": "#EF553B",
          "symbol": "circle"
         },
         "mode": "markers",
         "name": "exp_precursors=0.6667",
         "showlegend": true,
         "type": "scatter",
         "x": [
          6,
          6,
          42,
          41,
          45,
          22,
          18,
          6,
          12,
          12,
          11,
          12,
          4,
          30,
          6,
          6
         ],
         "xaxis": "x",
         "y": [
          0.13809238867494383,
          0.13832919896772275,
          0.1344744977137271,
          0.13701734398946153,
          0.1395796758492478,
          0.13893701378103496,
          0.1370248537098792,
          0.13777189563603387,
          0.15671048527190495,
          0.1326813021434153,
          0.16262635759804456,
          0.14185581143759904,
          0.11059433472678713,
          0.14246672176849687,
          0.14037032942226757,
          0.1399120913673171
         ],
         "yaxis": "y"
        },
        {
         "customdata": [
          [
           "0.5 Ti2O(mp-1215) + 1.0 BaO(mp-1342) + 0.75 O2(mp-1091399)"
          ],
          [
           "-1.0 CO2(mp-20066) + 0.5 Ti2O(mp-1215) + 1.0 BaCO3(mp-5504) + 0.75 O2(mp-1091399)"
          ],
          [
           "0.5 Ti2O(mp-1215) + 1.0 BaO2(mp-1105) + 0.25 O2(mp-1091399)"
          ],
          [
           "0.5 Ti2O(mp-1215) + 1.25 O2(mp-1091399) + 1.0 Ba(mp-122)"
          ],
          [
           "0.1667 Ti6O(mp-554098) + 1.0 BaO(mp-1342) + 0.9167 O2(mp-1091399)"
          ],
          [
           "-1.0 CO2(mp-20066) + 0.1667 Ti6O(mp-554098) + 1.0 BaCO3(mp-5504) + 0.9167 O2(mp-1091399)"
          ],
          [
           "0.1667 Ti6O(mp-554098) + 1.0 BaO2(mp-1105) + 0.4167 O2(mp-1091399)"
          ],
          [
           "0.1667 Ti6O(mp-554098) + 1.4167 O2(mp-1091399) + 1.0 Ba(mp-122)"
          ],
          [
           "0.3333 Ti3O(mp-2591) + 1.0 BaO(mp-1342) + 0.8333 O2(mp-1091399)"
          ],
          [
           "-1.0 CO2(mp-20066) + 0.3333 Ti3O(mp-2591) + 1.0 BaCO3(mp-5504) + 0.8333 O2(mp-1091399)"
          ],
          [
           "0.3333 Ti3O(mp-2591) + 1.0 BaO2(mp-1105) + 0.3333 O2(mp-1091399)"
          ],
          [
           "0.3333 Ti3O(mp-2591) + 1.3333 O2(mp-1091399) + 1.0 Ba(mp-122)"
          ],
          [
           "1.0 BaO(mp-1342) + 0.3333 Ti3O5(mp-1147) + 0.1667 O2(mp-1091399)"
          ],
          [
           "-0.625 CO2(mp-20066) + 1.0 BaO(mp-1342) + 0.125 Ti8C5(mp-27919) + 1.625 O2(mp-1091399)"
          ],
          [
           "-0.5 CO2(mp-20066) + 1.0 BaO(mp-1342) + 0.5 Ti2C(mp-10721) + 1.5 O2(mp-1091399)"
          ],
          [
           "-1.0 CO2(mp-20066) + 0.3333 Ti3O5(mp-1147) + 1.0 BaCO3(mp-5504) + 0.1667 O2(mp-1091399)"
          ],
          [
           "0.3333 Ti3O5(mp-1147) + 1.0 BaO2(mp-1105) + -0.3333 O2(mp-1091399)"
          ],
          [
           "0.3333 Ti3O5(mp-1147) + 0.6667 O2(mp-1091399) + 1.0 Ba(mp-122)"
          ],
          [
           "-1.625 CO2(mp-20066) + 0.125 Ti8C5(mp-27919) + 1.0 BaCO3(mp-5504) + 1.625 O2(mp-1091399)"
          ],
          [
           "-0.625 CO2(mp-20066) + 0.125 Ti8C5(mp-27919) + 1.0 BaO2(mp-1105) + 1.125 O2(mp-1091399)"
          ],
          [
           "-0.625 CO2(mp-20066) + 0.125 Ti8C5(mp-27919) + 2.125 O2(mp-1091399) + 1.0 Ba(mp-122)"
          ],
          [
           "-1.5 CO2(mp-20066) + 1.0 BaCO3(mp-5504) + 0.5 Ti2C(mp-10721) + 1.5 O2(mp-1091399)"
          ],
          [
           "-0.5 CO2(mp-20066) + 0.5 Ti2C(mp-10721) + 1.0 BaO2(mp-1105) + 1.0 O2(mp-1091399)"
          ],
          [
           "-0.5 CO2(mp-20066) + 0.5 Ti2C(mp-10721) + 2.0 O2(mp-1091399) + 1.0 Ba(mp-122)"
          ]
         ],
         "hoverlabel": {
          "namelength": 0
         },
         "hovertemplate": "exp_precursors=0.5<br>n_competing=%{x}<br>barrier=%{y}<br>summary=%{customdata[0]}",
         "legendgroup": "exp_precursors=0.5",
         "marker": {
          "color": "#00cc96",
          "symbol": "circle"
         },
         "mode": "markers",
         "name": "exp_precursors=0.5",
         "showlegend": true,
         "type": "scatter",
         "x": [
          47,
          47,
          8,
          49,
          47,
          47,
          47,
          49,
          47,
          47,
          47,
          49,
          17,
          49,
          49,
          16,
          15,
          46,
          49,
          49,
          50,
          49,
          24,
          49
         ],
         "xaxis": "x",
         "y": [
          0.7328775221494965,
          0.4351072410081366,
          0.12154556520324226,
          0.7177170301980478,
          2.8485230033659823,
          0.42302903300774014,
          0.11419450079167379,
          2.7739177409171014,
          1.2534361357313715,
          0.45253493465475614,
          0.11778317988408815,
          1.2280185385912592,
          0.29077397862357496,
          3.4629715814990245,
          3.699440498286257,
          0.29087790127146046,
          0.2360599525330498,
          0.2208154550768995,
          0.4256964963190166,
          0.10964588204475514,
          3.4006113021877646,
          0.4279039313936808,
          0.11055614252469279,
          3.6189889498124357
         ],
         "yaxis": "y"
        },
        {
         "customdata": [
          [
           "0.2857 Ti2O(mp-1215) + 0.1429 Ti3O5(mp-1147) + 1.0 BaO2(mp-1105)"
          ],
          [
           "0.0741 Ti6O(mp-554098) + 0.1852 Ti3O5(mp-1147) + 1.0 BaO2(mp-1105)"
          ],
          [
           "0.1667 Ti3O(mp-2591) + 0.1667 Ti3O5(mp-1147) + 1.0 BaO2(mp-1105)"
          ],
          [
           "-0.1429 CO2(mp-20066) + 0.2571 Ti3O5(mp-1147) + 0.0286 Ti8C5(mp-27919) + 1.0 BaO2(mp-1105)"
          ],
          [
           "-0.125 CO2(mp-20066) + 0.25 Ti3O5(mp-1147) + 0.125 Ti2C(mp-10721) + 1.0 BaO2(mp-1105)"
          ]
         ],
         "hoverlabel": {
          "namelength": 0
         },
         "hovertemplate": "exp_precursors=0.3333<br>n_competing=%{x}<br>barrier=%{y}<br>summary=%{customdata[0]}",
         "legendgroup": "exp_precursors=0.3333",
         "marker": {
          "color": "#ab63fa",
          "symbol": "circle"
         },
         "mode": "markers",
         "name": "exp_precursors=0.3333",
         "showlegend": true,
         "type": "scatter",
         "x": [
          5,
          28,
          9,
          12,
          12
         ],
         "xaxis": "x",
         "y": [
          0.13913649541262596,
          0.1360968139848869,
          0.13837227299216256,
          0.14118379393182945,
          0.1406257170661841
         ],
         "yaxis": "y"
        }
       ],
       "layout": {
        "height": 600,
        "legend": {
         "tracegroupgap": 0
        },
        "margin": {
         "t": 60
        },
        "template": {
         "data": {
          "bar": [
           {
            "error_x": {
             "color": "#2a3f5f"
            },
            "error_y": {
             "color": "#2a3f5f"
            },
            "marker": {
             "line": {
              "color": "#E5ECF6",
              "width": 0.5
             }
            },
            "type": "bar"
           }
          ],
          "barpolar": [
           {
            "marker": {
             "line": {
              "color": "#E5ECF6",
              "width": 0.5
             }
            },
            "type": "barpolar"
           }
          ],
          "carpet": [
           {
            "aaxis": {
             "endlinecolor": "#2a3f5f",
             "gridcolor": "white",
             "linecolor": "white",
             "minorgridcolor": "white",
             "startlinecolor": "#2a3f5f"
            },
            "baxis": {
             "endlinecolor": "#2a3f5f",
             "gridcolor": "white",
             "linecolor": "white",
             "minorgridcolor": "white",
             "startlinecolor": "#2a3f5f"
            },
            "type": "carpet"
           }
          ],
          "choropleth": [
           {
            "colorbar": {
             "outlinewidth": 0,
             "ticks": ""
            },
            "type": "choropleth"
           }
          ],
          "contour": [
           {
            "colorbar": {
             "outlinewidth": 0,
             "ticks": ""
            },
            "colorscale": [
             [
              0,
              "#0d0887"
             ],
             [
              0.1111111111111111,
              "#46039f"
             ],
             [
              0.2222222222222222,
              "#7201a8"
             ],
             [
              0.3333333333333333,
              "#9c179e"
             ],
             [
              0.4444444444444444,
              "#bd3786"
             ],
             [
              0.5555555555555556,
              "#d8576b"
             ],
             [
              0.6666666666666666,
              "#ed7953"
             ],
             [
              0.7777777777777778,
              "#fb9f3a"
             ],
             [
              0.8888888888888888,
              "#fdca26"
             ],
             [
              1,
              "#f0f921"
             ]
            ],
            "type": "contour"
           }
          ],
          "contourcarpet": [
           {
            "colorbar": {
             "outlinewidth": 0,
             "ticks": ""
            },
            "type": "contourcarpet"
           }
          ],
          "heatmap": [
           {
            "colorbar": {
             "outlinewidth": 0,
             "ticks": ""
            },
            "colorscale": [
             [
              0,
              "#0d0887"
             ],
             [
              0.1111111111111111,
              "#46039f"
             ],
             [
              0.2222222222222222,
              "#7201a8"
             ],
             [
              0.3333333333333333,
              "#9c179e"
             ],
             [
              0.4444444444444444,
              "#bd3786"
             ],
             [
              0.5555555555555556,
              "#d8576b"
             ],
             [
              0.6666666666666666,
              "#ed7953"
             ],
             [
              0.7777777777777778,
              "#fb9f3a"
             ],
             [
              0.8888888888888888,
              "#fdca26"
             ],
             [
              1,
              "#f0f921"
             ]
            ],
            "type": "heatmap"
           }
          ],
          "heatmapgl": [
           {
            "colorbar": {
             "outlinewidth": 0,
             "ticks": ""
            },
            "colorscale": [
             [
              0,
              "#0d0887"
             ],
             [
              0.1111111111111111,
              "#46039f"
             ],
             [
              0.2222222222222222,
              "#7201a8"
             ],
             [
              0.3333333333333333,
              "#9c179e"
             ],
             [
              0.4444444444444444,
              "#bd3786"
             ],
             [
              0.5555555555555556,
              "#d8576b"
             ],
             [
              0.6666666666666666,
              "#ed7953"
             ],
             [
              0.7777777777777778,
              "#fb9f3a"
             ],
             [
              0.8888888888888888,
              "#fdca26"
             ],
             [
              1,
              "#f0f921"
             ]
            ],
            "type": "heatmapgl"
           }
          ],
          "histogram": [
           {
            "marker": {
             "colorbar": {
              "outlinewidth": 0,
              "ticks": ""
             }
            },
            "type": "histogram"
           }
          ],
          "histogram2d": [
           {
            "colorbar": {
             "outlinewidth": 0,
             "ticks": ""
            },
            "colorscale": [
             [
              0,
              "#0d0887"
             ],
             [
              0.1111111111111111,
              "#46039f"
             ],
             [
              0.2222222222222222,
              "#7201a8"
             ],
             [
              0.3333333333333333,
              "#9c179e"
             ],
             [
              0.4444444444444444,
              "#bd3786"
             ],
             [
              0.5555555555555556,
              "#d8576b"
             ],
             [
              0.6666666666666666,
              "#ed7953"
             ],
             [
              0.7777777777777778,
              "#fb9f3a"
             ],
             [
              0.8888888888888888,
              "#fdca26"
             ],
             [
              1,
              "#f0f921"
             ]
            ],
            "type": "histogram2d"
           }
          ],
          "histogram2dcontour": [
           {
            "colorbar": {
             "outlinewidth": 0,
             "ticks": ""
            },
            "colorscale": [
             [
              0,
              "#0d0887"
             ],
             [
              0.1111111111111111,
              "#46039f"
             ],
             [
              0.2222222222222222,
              "#7201a8"
             ],
             [
              0.3333333333333333,
              "#9c179e"
             ],
             [
              0.4444444444444444,
              "#bd3786"
             ],
             [
              0.5555555555555556,
              "#d8576b"
             ],
             [
              0.6666666666666666,
              "#ed7953"
             ],
             [
              0.7777777777777778,
              "#fb9f3a"
             ],
             [
              0.8888888888888888,
              "#fdca26"
             ],
             [
              1,
              "#f0f921"
             ]
            ],
            "type": "histogram2dcontour"
           }
          ],
          "mesh3d": [
           {
            "colorbar": {
             "outlinewidth": 0,
             "ticks": ""
            },
            "type": "mesh3d"
           }
          ],
          "parcoords": [
           {
            "line": {
             "colorbar": {
              "outlinewidth": 0,
              "ticks": ""
             }
            },
            "type": "parcoords"
           }
          ],
          "scatter": [
           {
            "marker": {
             "colorbar": {
              "outlinewidth": 0,
              "ticks": ""
             }
            },
            "type": "scatter"
           }
          ],
          "scatter3d": [
           {
            "line": {
             "colorbar": {
              "outlinewidth": 0,
              "ticks": ""
             }
            },
            "marker": {
             "colorbar": {
              "outlinewidth": 0,
              "ticks": ""
             }
            },
            "type": "scatter3d"
           }
          ],
          "scattercarpet": [
           {
            "marker": {
             "colorbar": {
              "outlinewidth": 0,
              "ticks": ""
             }
            },
            "type": "scattercarpet"
           }
          ],
          "scattergeo": [
           {
            "marker": {
             "colorbar": {
              "outlinewidth": 0,
              "ticks": ""
             }
            },
            "type": "scattergeo"
           }
          ],
          "scattergl": [
           {
            "marker": {
             "colorbar": {
              "outlinewidth": 0,
              "ticks": ""
             }
            },
            "type": "scattergl"
           }
          ],
          "scattermapbox": [
           {
            "marker": {
             "colorbar": {
              "outlinewidth": 0,
              "ticks": ""
             }
            },
            "type": "scattermapbox"
           }
          ],
          "scatterpolar": [
           {
            "marker": {
             "colorbar": {
              "outlinewidth": 0,
              "ticks": ""
             }
            },
            "type": "scatterpolar"
           }
          ],
          "scatterpolargl": [
           {
            "marker": {
             "colorbar": {
              "outlinewidth": 0,
              "ticks": ""
             }
            },
            "type": "scatterpolargl"
           }
          ],
          "scatterternary": [
           {
            "marker": {
             "colorbar": {
              "outlinewidth": 0,
              "ticks": ""
             }
            },
            "type": "scatterternary"
           }
          ],
          "surface": [
           {
            "colorbar": {
             "outlinewidth": 0,
             "ticks": ""
            },
            "colorscale": [
             [
              0,
              "#0d0887"
             ],
             [
              0.1111111111111111,
              "#46039f"
             ],
             [
              0.2222222222222222,
              "#7201a8"
             ],
             [
              0.3333333333333333,
              "#9c179e"
             ],
             [
              0.4444444444444444,
              "#bd3786"
             ],
             [
              0.5555555555555556,
              "#d8576b"
             ],
             [
              0.6666666666666666,
              "#ed7953"
             ],
             [
              0.7777777777777778,
              "#fb9f3a"
             ],
             [
              0.8888888888888888,
              "#fdca26"
             ],
             [
              1,
              "#f0f921"
             ]
            ],
            "type": "surface"
           }
          ],
          "table": [
           {
            "cells": {
             "fill": {
              "color": "#EBF0F8"
             },
             "line": {
              "color": "white"
             }
            },
            "header": {
             "fill": {
              "color": "#C8D4E3"
             },
             "line": {
              "color": "white"
             }
            },
            "type": "table"
           }
          ]
         },
         "layout": {
          "annotationdefaults": {
           "arrowcolor": "#2a3f5f",
           "arrowhead": 0,
           "arrowwidth": 1
          },
          "colorscale": {
           "diverging": [
            [
             0,
             "#8e0152"
            ],
            [
             0.1,
             "#c51b7d"
            ],
            [
             0.2,
             "#de77ae"
            ],
            [
             0.3,
             "#f1b6da"
            ],
            [
             0.4,
             "#fde0ef"
            ],
            [
             0.5,
             "#f7f7f7"
            ],
            [
             0.6,
             "#e6f5d0"
            ],
            [
             0.7,
             "#b8e186"
            ],
            [
             0.8,
             "#7fbc41"
            ],
            [
             0.9,
             "#4d9221"
            ],
            [
             1,
             "#276419"
            ]
           ],
           "sequential": [
            [
             0,
             "#0d0887"
            ],
            [
             0.1111111111111111,
             "#46039f"
            ],
            [
             0.2222222222222222,
             "#7201a8"
            ],
            [
             0.3333333333333333,
             "#9c179e"
            ],
            [
             0.4444444444444444,
             "#bd3786"
            ],
            [
             0.5555555555555556,
             "#d8576b"
            ],
            [
             0.6666666666666666,
             "#ed7953"
            ],
            [
             0.7777777777777778,
             "#fb9f3a"
            ],
            [
             0.8888888888888888,
             "#fdca26"
            ],
            [
             1,
             "#f0f921"
            ]
           ],
           "sequentialminus": [
            [
             0,
             "#0d0887"
            ],
            [
             0.1111111111111111,
             "#46039f"
            ],
            [
             0.2222222222222222,
             "#7201a8"
            ],
            [
             0.3333333333333333,
             "#9c179e"
            ],
            [
             0.4444444444444444,
             "#bd3786"
            ],
            [
             0.5555555555555556,
             "#d8576b"
            ],
            [
             0.6666666666666666,
             "#ed7953"
            ],
            [
             0.7777777777777778,
             "#fb9f3a"
            ],
            [
             0.8888888888888888,
             "#fdca26"
            ],
            [
             1,
             "#f0f921"
            ]
           ]
          },
          "colorway": [
           "#636efa",
           "#EF553B",
           "#00cc96",
           "#ab63fa",
           "#FFA15A",
           "#19d3f3",
           "#FF6692",
           "#B6E880",
           "#FF97FF",
           "#FECB52"
          ],
          "font": {
           "color": "#2a3f5f"
          },
          "geo": {
           "bgcolor": "white",
           "lakecolor": "white",
           "landcolor": "#E5ECF6",
           "showlakes": true,
           "showland": true,
           "subunitcolor": "white"
          },
          "hoverlabel": {
           "align": "left"
          },
          "hovermode": "closest",
          "mapbox": {
           "style": "light"
          },
          "paper_bgcolor": "white",
          "plot_bgcolor": "#E5ECF6",
          "polar": {
           "angularaxis": {
            "gridcolor": "white",
            "linecolor": "white",
            "ticks": ""
           },
           "bgcolor": "#E5ECF6",
           "radialaxis": {
            "gridcolor": "white",
            "linecolor": "white",
            "ticks": ""
           }
          },
          "scene": {
           "xaxis": {
            "backgroundcolor": "#E5ECF6",
            "gridcolor": "white",
            "gridwidth": 2,
            "linecolor": "white",
            "showbackground": true,
            "ticks": "",
            "zerolinecolor": "white"
           },
           "yaxis": {
            "backgroundcolor": "#E5ECF6",
            "gridcolor": "white",
            "gridwidth": 2,
            "linecolor": "white",
            "showbackground": true,
            "ticks": "",
            "zerolinecolor": "white"
           },
           "zaxis": {
            "backgroundcolor": "#E5ECF6",
            "gridcolor": "white",
            "gridwidth": 2,
            "linecolor": "white",
            "showbackground": true,
            "ticks": "",
            "zerolinecolor": "white"
           }
          },
          "shapedefaults": {
           "line": {
            "color": "#2a3f5f"
           }
          },
          "ternary": {
           "aaxis": {
            "gridcolor": "white",
            "linecolor": "white",
            "ticks": ""
           },
           "baxis": {
            "gridcolor": "white",
            "linecolor": "white",
            "ticks": ""
           },
           "bgcolor": "#E5ECF6",
           "caxis": {
            "gridcolor": "white",
            "linecolor": "white",
            "ticks": ""
           }
          },
          "title": {
           "x": 0.05
          },
          "xaxis": {
           "automargin": true,
           "gridcolor": "white",
           "linecolor": "white",
           "ticks": "",
           "zerolinecolor": "white",
           "zerolinewidth": 2
          },
          "yaxis": {
           "automargin": true,
           "gridcolor": "white",
           "linecolor": "white",
           "ticks": "",
           "zerolinecolor": "white",
           "zerolinewidth": 2
          }
         }
        },
        "title": {
         "text": "Synthesis target: BaTiO3"
        },
        "xaxis": {
         "anchor": "y",
         "domain": [
          0,
          0.98
         ],
         "title": {
          "text": "N competing phases"
         }
        },
        "yaxis": {
         "anchor": "x",
         "domain": [
          0,
          1
         ],
         "title": {
          "text": "Barrier (a.u.)"
         }
        }
       }
      },
      "text/html": [
       "<div>\n",
       "        \n",
       "        \n",
       "            <div id=\"76d7b3ab-7e34-49f8-a423-0782e0909c1c\" class=\"plotly-graph-div\" style=\"height:600px; width:100%;\"></div>\n",
       "            <script type=\"text/javascript\">\n",
       "                require([\"plotly\"], function(Plotly) {\n",
       "                    window.PLOTLYENV=window.PLOTLYENV || {};\n",
       "                    \n",
       "                if (document.getElementById(\"76d7b3ab-7e34-49f8-a423-0782e0909c1c\")) {\n",
       "                    Plotly.newPlot(\n",
       "                        '76d7b3ab-7e34-49f8-a423-0782e0909c1c',\n",
       "                        [{\"customdata\": [[\"1.0 TiO2(mp-554278) + 1.0 BaO(mp-1342)\"], [\"-1.0 CO2(mp-20066) + 1.0 TiO2(mp-554278) + 1.0 BaCO3(mp-5504)\"], [\"1.0 TiO(mp-1071163) + 1.0 BaO2(mp-1105)\"], [\"-0.5 CO2(mp-20066) + 1.0 TiO2(mp-554278) + 0.5 C(mp-568286) + 1.0 BaO2(mp-1105)\"], [\"-0.25 CO2(mp-20066) + 0.75 TiO2(mp-554278) + 0.25 TiC(mp-631) + 1.0 BaO2(mp-1105)\"], [\"1.0 TiO2(mp-554278) + 1.0 BaO2(mp-1105) + -0.5 O2(mp-1091399)\"], [\"0.5 TiO2(mp-554278) + 1.0 BaO2(mp-1105) + 0.5 Ti(mp-72)\"], [\"1.0 TiO2(mp-554278) + 0.5 BaO2(mp-1105) + 0.5 Ba(mp-122)\"], [\"1.0 TiO2(mp-554278) + 0.5 O2(mp-1091399) + 1.0 Ba(mp-122)\"], [\"1.0 BaO(mp-1342) + 1.0 TiO(mp-1071163) + 0.5 O2(mp-1091399)\"], [\"0.5 BaO(mp-1342) + 0.5 Ti2O3(mp-458) + 0.5 BaO2(mp-1105)\"], [\"1.0 BaO(mp-1342) + 0.5 Ti2O3(mp-458) + 0.25 O2(mp-1091399)\"], [\"-1.0 CO2(mp-20066) + 1.0 BaO(mp-1342) + 1.0 TiC(mp-631) + 2.0 O2(mp-1091399)\"], [\"1.0 BaO(mp-1342) + 1.0 O2(mp-1091399) + 1.0 Ti(mp-72)\"], [\"-0.25 CO2(mp-20066) + 0.25 C(mp-568286) + 0.5 Ti2O3(mp-458) + 1.0 BaO2(mp-1105)\"], [\"-1.0 CO2(mp-20066) + 1.0 BaCO3(mp-5504) + 1.0 TiO(mp-1071163) + 0.5 O2(mp-1091399)\"], [\"-0.5 CO2(mp-20066) + 0.5 BaCO3(mp-5504) + 0.5 Ti2O3(mp-458) + 0.5 BaO2(mp-1105)\"], [\"-1.0 CO2(mp-20066) + 1.0 BaCO3(mp-5504) + 0.5 Ti2O3(mp-458) + 0.25 O2(mp-1091399)\"], [\"-2.0 CO2(mp-20066) + 1.0 BaCO3(mp-5504) + 1.0 TiC(mp-631) + 2.0 O2(mp-1091399)\"], [\"-1.0 CO2(mp-20066) + 1.0 BaCO3(mp-5504) + 1.0 O2(mp-1091399) + 1.0 Ti(mp-72)\"], [\"1.0 TiO(mp-1071163) + 1.0 O2(mp-1091399) + 1.0 Ba(mp-122)\"], [\"-0.1429 CO2(mp-20066) + 0.4286 Ti2O3(mp-458) + 0.1429 TiC(mp-631) + 1.0 BaO2(mp-1105)\"], [\"0.5 Ti2O3(mp-458) + 1.0 BaO2(mp-1105) + -0.25 O2(mp-1091399)\"], [\"0.3333 Ti2O3(mp-458) + 1.0 BaO2(mp-1105) + 0.3333 Ti(mp-72)\"], [\"0.5 Ti2O3(mp-458) + 0.75 BaO2(mp-1105) + 0.25 Ba(mp-122)\"], [\"0.5 Ti2O3(mp-458) + 0.75 O2(mp-1091399) + 1.0 Ba(mp-122)\"], [\"-1.0 CO2(mp-20066) + 1.0 TiC(mp-631) + 1.0 BaO2(mp-1105) + 1.5 O2(mp-1091399)\"], [\"-1.0 CO2(mp-20066) + 1.0 TiC(mp-631) + 2.5 O2(mp-1091399) + 1.0 Ba(mp-122)\"], [\"1.0 BaO2(mp-1105) + 0.5 O2(mp-1091399) + 1.0 Ti(mp-72)\"], [\"1.5 O2(mp-1091399) + 1.0 Ti(mp-72) + 1.0 Ba(mp-122)\"]], \"hoverlabel\": {\"namelength\": 0}, \"hovertemplate\": \"exp_precursors=1.0<br>n_competing=%{x}<br>barrier=%{y}<br>summary=%{customdata[0]}\", \"legendgroup\": \"exp_precursors=1.0\", \"marker\": {\"color\": \"#636efa\", \"symbol\": \"circle\"}, \"mode\": \"markers\", \"name\": \"exp_precursors=1.0\", \"showlegend\": true, \"type\": \"scatter\", \"x\": [26, 23, 8, 43, 44, 29, 4, 11, 11, 46, 3, 6, 49, 49, 6, 46, 6, 5, 49, 47, 49, 6, 6, 3, 19, 47, 49, 50, 4, 49], \"xaxis\": \"x\", \"y\": [0.49000072097586056, 0.37136039589174186, 0.10623264849037457, 0.12993745249184105, 0.14032021797282745, 0.4281995354466499, 0.11001458153662233, 0.15231121157378014, 0.22919808912454678, 0.42424663260228457, 0.1363923975706396, 0.14375102460513242, 4.054481804872016, 4.11968580666387, 0.1339522614044547, 0.41359365224294364, 0.15523227710909213, 0.14464289333848232, 0.4136323667077446, 0.4085414600549645, 0.4065528045624624, 0.140926367916163, 0.19335086411851962, 0.11095825140411097, 0.138217764761004, 0.11419069271723374, 0.10728658176798023, 6.512320114992768, 0.1035646305281068, 10.127916047684437], \"yaxis\": \"y\"}, {\"customdata\": [[\"0.3333 Ti2O(mp-1215) + 0.3333 TiO2(mp-554278) + 1.0 BaO2(mp-1105)\"], [\"0.25 Ti2O(mp-1215) + 0.25 Ti2O3(mp-458) + 1.0 BaO2(mp-1105)\"], [\"0.4545 TiO2(mp-554278) + 0.0909 Ti6O(mp-554098) + 1.0 BaO2(mp-1105)\"], [\"0.4 TiO2(mp-554278) + 0.2 Ti3O(mp-2591) + 1.0 BaO2(mp-1105)\"], [\"-0.1923 CO2(mp-20066) + 0.6923 TiO2(mp-554278) + 0.0385 Ti8C5(mp-27919) + 1.0 BaO2(mp-1105)\"], [\"-0.1667 CO2(mp-20066) + 0.6667 TiO2(mp-554278) + 0.1667 Ti2C(mp-10721) + 1.0 BaO2(mp-1105)\"], [\"0.0625 Ti6O(mp-554098) + 0.3125 Ti2O3(mp-458) + 1.0 BaO2(mp-1105)\"], [\"0.1429 Ti3O(mp-2591) + 0.2857 Ti2O3(mp-458) + 1.0 BaO2(mp-1105)\"], [\"0.6667 BaO(mp-1342) + 0.3333 Ti3O5(mp-1147) + 0.3333 BaO2(mp-1105)\"], [\"-0.3333 CO2(mp-20066) + 0.3333 Ti3O5(mp-1147) + 0.3333 C(mp-568286) + 1.0 BaO2(mp-1105)\"], [\"-0.6667 CO2(mp-20066) + 0.3333 Ti3O5(mp-1147) + 0.6667 BaCO3(mp-5504) + 0.3333 BaO2(mp-1105)\"], [\"-0.1818 CO2(mp-20066) + 0.2727 Ti3O5(mp-1147) + 0.1818 TiC(mp-631) + 1.0 BaO2(mp-1105)\"], [\"0.2 Ti3O5(mp-1147) + 1.0 BaO2(mp-1105) + 0.4 Ti(mp-72)\"], [\"0.3333 Ti3O5(mp-1147) + 0.6667 BaO2(mp-1105) + 0.3333 Ba(mp-122)\"], [\"-0.1136 CO2(mp-20066) + 0.0227 Ti8C5(mp-27919) + 0.4091 Ti2O3(mp-458) + 1.0 BaO2(mp-1105)\"], [\"-0.1 CO2(mp-20066) + 0.4 Ti2O3(mp-458) + 0.1 Ti2C(mp-10721) + 1.0 BaO2(mp-1105)\"]], \"hoverlabel\": {\"namelength\": 0}, \"hovertemplate\": \"exp_precursors=0.6667<br>n_competing=%{x}<br>barrier=%{y}<br>summary=%{customdata[0]}\", \"legendgroup\": \"exp_precursors=0.6667\", \"marker\": {\"color\": \"#EF553B\", \"symbol\": \"circle\"}, \"mode\": \"markers\", \"name\": \"exp_precursors=0.6667\", \"showlegend\": true, \"type\": \"scatter\", \"x\": [6, 6, 42, 41, 45, 22, 18, 6, 12, 12, 11, 12, 4, 30, 6, 6], \"xaxis\": \"x\", \"y\": [0.13809238867494383, 0.13832919896772275, 0.1344744977137271, 0.13701734398946153, 0.1395796758492478, 0.13893701378103496, 0.1370248537098792, 0.13777189563603387, 0.15671048527190495, 0.1326813021434153, 0.16262635759804456, 0.14185581143759904, 0.11059433472678713, 0.14246672176849687, 0.14037032942226757, 0.1399120913673171], \"yaxis\": \"y\"}, {\"customdata\": [[\"0.5 Ti2O(mp-1215) + 1.0 BaO(mp-1342) + 0.75 O2(mp-1091399)\"], [\"-1.0 CO2(mp-20066) + 0.5 Ti2O(mp-1215) + 1.0 BaCO3(mp-5504) + 0.75 O2(mp-1091399)\"], [\"0.5 Ti2O(mp-1215) + 1.0 BaO2(mp-1105) + 0.25 O2(mp-1091399)\"], [\"0.5 Ti2O(mp-1215) + 1.25 O2(mp-1091399) + 1.0 Ba(mp-122)\"], [\"0.1667 Ti6O(mp-554098) + 1.0 BaO(mp-1342) + 0.9167 O2(mp-1091399)\"], [\"-1.0 CO2(mp-20066) + 0.1667 Ti6O(mp-554098) + 1.0 BaCO3(mp-5504) + 0.9167 O2(mp-1091399)\"], [\"0.1667 Ti6O(mp-554098) + 1.0 BaO2(mp-1105) + 0.4167 O2(mp-1091399)\"], [\"0.1667 Ti6O(mp-554098) + 1.4167 O2(mp-1091399) + 1.0 Ba(mp-122)\"], [\"0.3333 Ti3O(mp-2591) + 1.0 BaO(mp-1342) + 0.8333 O2(mp-1091399)\"], [\"-1.0 CO2(mp-20066) + 0.3333 Ti3O(mp-2591) + 1.0 BaCO3(mp-5504) + 0.8333 O2(mp-1091399)\"], [\"0.3333 Ti3O(mp-2591) + 1.0 BaO2(mp-1105) + 0.3333 O2(mp-1091399)\"], [\"0.3333 Ti3O(mp-2591) + 1.3333 O2(mp-1091399) + 1.0 Ba(mp-122)\"], [\"1.0 BaO(mp-1342) + 0.3333 Ti3O5(mp-1147) + 0.1667 O2(mp-1091399)\"], [\"-0.625 CO2(mp-20066) + 1.0 BaO(mp-1342) + 0.125 Ti8C5(mp-27919) + 1.625 O2(mp-1091399)\"], [\"-0.5 CO2(mp-20066) + 1.0 BaO(mp-1342) + 0.5 Ti2C(mp-10721) + 1.5 O2(mp-1091399)\"], [\"-1.0 CO2(mp-20066) + 0.3333 Ti3O5(mp-1147) + 1.0 BaCO3(mp-5504) + 0.1667 O2(mp-1091399)\"], [\"0.3333 Ti3O5(mp-1147) + 1.0 BaO2(mp-1105) + -0.3333 O2(mp-1091399)\"], [\"0.3333 Ti3O5(mp-1147) + 0.6667 O2(mp-1091399) + 1.0 Ba(mp-122)\"], [\"-1.625 CO2(mp-20066) + 0.125 Ti8C5(mp-27919) + 1.0 BaCO3(mp-5504) + 1.625 O2(mp-1091399)\"], [\"-0.625 CO2(mp-20066) + 0.125 Ti8C5(mp-27919) + 1.0 BaO2(mp-1105) + 1.125 O2(mp-1091399)\"], [\"-0.625 CO2(mp-20066) + 0.125 Ti8C5(mp-27919) + 2.125 O2(mp-1091399) + 1.0 Ba(mp-122)\"], [\"-1.5 CO2(mp-20066) + 1.0 BaCO3(mp-5504) + 0.5 Ti2C(mp-10721) + 1.5 O2(mp-1091399)\"], [\"-0.5 CO2(mp-20066) + 0.5 Ti2C(mp-10721) + 1.0 BaO2(mp-1105) + 1.0 O2(mp-1091399)\"], [\"-0.5 CO2(mp-20066) + 0.5 Ti2C(mp-10721) + 2.0 O2(mp-1091399) + 1.0 Ba(mp-122)\"]], \"hoverlabel\": {\"namelength\": 0}, \"hovertemplate\": \"exp_precursors=0.5<br>n_competing=%{x}<br>barrier=%{y}<br>summary=%{customdata[0]}\", \"legendgroup\": \"exp_precursors=0.5\", \"marker\": {\"color\": \"#00cc96\", \"symbol\": \"circle\"}, \"mode\": \"markers\", \"name\": \"exp_precursors=0.5\", \"showlegend\": true, \"type\": \"scatter\", \"x\": [47, 47, 8, 49, 47, 47, 47, 49, 47, 47, 47, 49, 17, 49, 49, 16, 15, 46, 49, 49, 50, 49, 24, 49], \"xaxis\": \"x\", \"y\": [0.7328775221494965, 0.4351072410081366, 0.12154556520324226, 0.7177170301980478, 2.8485230033659823, 0.42302903300774014, 0.11419450079167379, 2.7739177409171014, 1.2534361357313715, 0.45253493465475614, 0.11778317988408815, 1.2280185385912592, 0.29077397862357496, 3.4629715814990245, 3.699440498286257, 0.29087790127146046, 0.2360599525330498, 0.2208154550768995, 0.4256964963190166, 0.10964588204475514, 3.4006113021877646, 0.4279039313936808, 0.11055614252469279, 3.6189889498124357], \"yaxis\": \"y\"}, {\"customdata\": [[\"0.2857 Ti2O(mp-1215) + 0.1429 Ti3O5(mp-1147) + 1.0 BaO2(mp-1105)\"], [\"0.0741 Ti6O(mp-554098) + 0.1852 Ti3O5(mp-1147) + 1.0 BaO2(mp-1105)\"], [\"0.1667 Ti3O(mp-2591) + 0.1667 Ti3O5(mp-1147) + 1.0 BaO2(mp-1105)\"], [\"-0.1429 CO2(mp-20066) + 0.2571 Ti3O5(mp-1147) + 0.0286 Ti8C5(mp-27919) + 1.0 BaO2(mp-1105)\"], [\"-0.125 CO2(mp-20066) + 0.25 Ti3O5(mp-1147) + 0.125 Ti2C(mp-10721) + 1.0 BaO2(mp-1105)\"]], \"hoverlabel\": {\"namelength\": 0}, \"hovertemplate\": \"exp_precursors=0.3333<br>n_competing=%{x}<br>barrier=%{y}<br>summary=%{customdata[0]}\", \"legendgroup\": \"exp_precursors=0.3333\", \"marker\": {\"color\": \"#ab63fa\", \"symbol\": \"circle\"}, \"mode\": \"markers\", \"name\": \"exp_precursors=0.3333\", \"showlegend\": true, \"type\": \"scatter\", \"x\": [5, 28, 9, 12, 12], \"xaxis\": \"x\", \"y\": [0.13913649541262596, 0.1360968139848869, 0.13837227299216256, 0.14118379393182945, 0.1406257170661841], \"yaxis\": \"y\"}],\n",
       "                        {\"height\": 600, \"legend\": {\"tracegroupgap\": 0}, \"margin\": {\"t\": 60}, \"template\": {\"data\": {\"bar\": [{\"error_x\": {\"color\": \"#2a3f5f\"}, \"error_y\": {\"color\": \"#2a3f5f\"}, \"marker\": {\"line\": {\"color\": \"#E5ECF6\", \"width\": 0.5}}, \"type\": \"bar\"}], \"barpolar\": [{\"marker\": {\"line\": {\"color\": \"#E5ECF6\", \"width\": 0.5}}, \"type\": \"barpolar\"}], \"carpet\": [{\"aaxis\": {\"endlinecolor\": \"#2a3f5f\", \"gridcolor\": \"white\", \"linecolor\": \"white\", \"minorgridcolor\": \"white\", \"startlinecolor\": \"#2a3f5f\"}, \"baxis\": {\"endlinecolor\": \"#2a3f5f\", \"gridcolor\": \"white\", \"linecolor\": \"white\", \"minorgridcolor\": \"white\", \"startlinecolor\": \"#2a3f5f\"}, \"type\": \"carpet\"}], \"choropleth\": [{\"colorbar\": {\"outlinewidth\": 0, \"ticks\": \"\"}, \"type\": \"choropleth\"}], \"contour\": [{\"colorbar\": {\"outlinewidth\": 0, \"ticks\": \"\"}, \"colorscale\": [[0.0, \"#0d0887\"], [0.1111111111111111, \"#46039f\"], [0.2222222222222222, \"#7201a8\"], [0.3333333333333333, \"#9c179e\"], [0.4444444444444444, \"#bd3786\"], [0.5555555555555556, \"#d8576b\"], [0.6666666666666666, \"#ed7953\"], [0.7777777777777778, \"#fb9f3a\"], [0.8888888888888888, \"#fdca26\"], [1.0, \"#f0f921\"]], \"type\": \"contour\"}], \"contourcarpet\": [{\"colorbar\": {\"outlinewidth\": 0, \"ticks\": \"\"}, \"type\": \"contourcarpet\"}], \"heatmap\": [{\"colorbar\": {\"outlinewidth\": 0, \"ticks\": \"\"}, \"colorscale\": [[0.0, \"#0d0887\"], [0.1111111111111111, \"#46039f\"], [0.2222222222222222, \"#7201a8\"], [0.3333333333333333, \"#9c179e\"], [0.4444444444444444, \"#bd3786\"], [0.5555555555555556, \"#d8576b\"], [0.6666666666666666, \"#ed7953\"], [0.7777777777777778, \"#fb9f3a\"], [0.8888888888888888, \"#fdca26\"], [1.0, \"#f0f921\"]], \"type\": \"heatmap\"}], \"heatmapgl\": [{\"colorbar\": {\"outlinewidth\": 0, \"ticks\": \"\"}, \"colorscale\": [[0.0, \"#0d0887\"], [0.1111111111111111, \"#46039f\"], [0.2222222222222222, \"#7201a8\"], [0.3333333333333333, \"#9c179e\"], [0.4444444444444444, \"#bd3786\"], [0.5555555555555556, \"#d8576b\"], [0.6666666666666666, \"#ed7953\"], [0.7777777777777778, \"#fb9f3a\"], [0.8888888888888888, \"#fdca26\"], [1.0, \"#f0f921\"]], \"type\": \"heatmapgl\"}], \"histogram\": [{\"marker\": {\"colorbar\": {\"outlinewidth\": 0, \"ticks\": \"\"}}, \"type\": \"histogram\"}], \"histogram2d\": [{\"colorbar\": {\"outlinewidth\": 0, \"ticks\": \"\"}, \"colorscale\": [[0.0, \"#0d0887\"], [0.1111111111111111, \"#46039f\"], [0.2222222222222222, \"#7201a8\"], [0.3333333333333333, \"#9c179e\"], [0.4444444444444444, \"#bd3786\"], [0.5555555555555556, \"#d8576b\"], [0.6666666666666666, \"#ed7953\"], [0.7777777777777778, \"#fb9f3a\"], [0.8888888888888888, \"#fdca26\"], [1.0, \"#f0f921\"]], \"type\": \"histogram2d\"}], \"histogram2dcontour\": [{\"colorbar\": {\"outlinewidth\": 0, \"ticks\": \"\"}, \"colorscale\": [[0.0, \"#0d0887\"], [0.1111111111111111, \"#46039f\"], [0.2222222222222222, \"#7201a8\"], [0.3333333333333333, \"#9c179e\"], [0.4444444444444444, \"#bd3786\"], [0.5555555555555556, \"#d8576b\"], [0.6666666666666666, \"#ed7953\"], [0.7777777777777778, \"#fb9f3a\"], [0.8888888888888888, \"#fdca26\"], [1.0, \"#f0f921\"]], \"type\": \"histogram2dcontour\"}], \"mesh3d\": [{\"colorbar\": {\"outlinewidth\": 0, \"ticks\": \"\"}, \"type\": \"mesh3d\"}], \"parcoords\": [{\"line\": {\"colorbar\": {\"outlinewidth\": 0, \"ticks\": \"\"}}, \"type\": \"parcoords\"}], \"scatter\": [{\"marker\": {\"colorbar\": {\"outlinewidth\": 0, \"ticks\": \"\"}}, \"type\": \"scatter\"}], \"scatter3d\": [{\"line\": {\"colorbar\": {\"outlinewidth\": 0, \"ticks\": \"\"}}, \"marker\": {\"colorbar\": {\"outlinewidth\": 0, \"ticks\": \"\"}}, \"type\": \"scatter3d\"}], \"scattercarpet\": [{\"marker\": {\"colorbar\": {\"outlinewidth\": 0, \"ticks\": \"\"}}, \"type\": \"scattercarpet\"}], \"scattergeo\": [{\"marker\": {\"colorbar\": {\"outlinewidth\": 0, \"ticks\": \"\"}}, \"type\": \"scattergeo\"}], \"scattergl\": [{\"marker\": {\"colorbar\": {\"outlinewidth\": 0, \"ticks\": \"\"}}, \"type\": \"scattergl\"}], \"scattermapbox\": [{\"marker\": {\"colorbar\": {\"outlinewidth\": 0, \"ticks\": \"\"}}, \"type\": \"scattermapbox\"}], \"scatterpolar\": [{\"marker\": {\"colorbar\": {\"outlinewidth\": 0, \"ticks\": \"\"}}, \"type\": \"scatterpolar\"}], \"scatterpolargl\": [{\"marker\": {\"colorbar\": {\"outlinewidth\": 0, \"ticks\": \"\"}}, \"type\": \"scatterpolargl\"}], \"scatterternary\": [{\"marker\": {\"colorbar\": {\"outlinewidth\": 0, \"ticks\": \"\"}}, \"type\": \"scatterternary\"}], \"surface\": [{\"colorbar\": {\"outlinewidth\": 0, \"ticks\": \"\"}, \"colorscale\": [[0.0, \"#0d0887\"], [0.1111111111111111, \"#46039f\"], [0.2222222222222222, \"#7201a8\"], [0.3333333333333333, \"#9c179e\"], [0.4444444444444444, \"#bd3786\"], [0.5555555555555556, \"#d8576b\"], [0.6666666666666666, \"#ed7953\"], [0.7777777777777778, \"#fb9f3a\"], [0.8888888888888888, \"#fdca26\"], [1.0, \"#f0f921\"]], \"type\": \"surface\"}], \"table\": [{\"cells\": {\"fill\": {\"color\": \"#EBF0F8\"}, \"line\": {\"color\": \"white\"}}, \"header\": {\"fill\": {\"color\": \"#C8D4E3\"}, \"line\": {\"color\": \"white\"}}, \"type\": \"table\"}]}, \"layout\": {\"annotationdefaults\": {\"arrowcolor\": \"#2a3f5f\", \"arrowhead\": 0, \"arrowwidth\": 1}, \"colorscale\": {\"diverging\": [[0, \"#8e0152\"], [0.1, \"#c51b7d\"], [0.2, \"#de77ae\"], [0.3, \"#f1b6da\"], [0.4, \"#fde0ef\"], [0.5, \"#f7f7f7\"], [0.6, \"#e6f5d0\"], [0.7, \"#b8e186\"], [0.8, \"#7fbc41\"], [0.9, \"#4d9221\"], [1, \"#276419\"]], \"sequential\": [[0.0, \"#0d0887\"], [0.1111111111111111, \"#46039f\"], [0.2222222222222222, \"#7201a8\"], [0.3333333333333333, \"#9c179e\"], [0.4444444444444444, \"#bd3786\"], [0.5555555555555556, \"#d8576b\"], [0.6666666666666666, \"#ed7953\"], [0.7777777777777778, \"#fb9f3a\"], [0.8888888888888888, \"#fdca26\"], [1.0, \"#f0f921\"]], \"sequentialminus\": [[0.0, \"#0d0887\"], [0.1111111111111111, \"#46039f\"], [0.2222222222222222, \"#7201a8\"], [0.3333333333333333, \"#9c179e\"], [0.4444444444444444, \"#bd3786\"], [0.5555555555555556, \"#d8576b\"], [0.6666666666666666, \"#ed7953\"], [0.7777777777777778, \"#fb9f3a\"], [0.8888888888888888, \"#fdca26\"], [1.0, \"#f0f921\"]]}, \"colorway\": [\"#636efa\", \"#EF553B\", \"#00cc96\", \"#ab63fa\", \"#FFA15A\", \"#19d3f3\", \"#FF6692\", \"#B6E880\", \"#FF97FF\", \"#FECB52\"], \"font\": {\"color\": \"#2a3f5f\"}, \"geo\": {\"bgcolor\": \"white\", \"lakecolor\": \"white\", \"landcolor\": \"#E5ECF6\", \"showlakes\": true, \"showland\": true, \"subunitcolor\": \"white\"}, \"hoverlabel\": {\"align\": \"left\"}, \"hovermode\": \"closest\", \"mapbox\": {\"style\": \"light\"}, \"paper_bgcolor\": \"white\", \"plot_bgcolor\": \"#E5ECF6\", \"polar\": {\"angularaxis\": {\"gridcolor\": \"white\", \"linecolor\": \"white\", \"ticks\": \"\"}, \"bgcolor\": \"#E5ECF6\", \"radialaxis\": {\"gridcolor\": \"white\", \"linecolor\": \"white\", \"ticks\": \"\"}}, \"scene\": {\"xaxis\": {\"backgroundcolor\": \"#E5ECF6\", \"gridcolor\": \"white\", \"gridwidth\": 2, \"linecolor\": \"white\", \"showbackground\": true, \"ticks\": \"\", \"zerolinecolor\": \"white\"}, \"yaxis\": {\"backgroundcolor\": \"#E5ECF6\", \"gridcolor\": \"white\", \"gridwidth\": 2, \"linecolor\": \"white\", \"showbackground\": true, \"ticks\": \"\", \"zerolinecolor\": \"white\"}, \"zaxis\": {\"backgroundcolor\": \"#E5ECF6\", \"gridcolor\": \"white\", \"gridwidth\": 2, \"linecolor\": \"white\", \"showbackground\": true, \"ticks\": \"\", \"zerolinecolor\": \"white\"}}, \"shapedefaults\": {\"line\": {\"color\": \"#2a3f5f\"}}, \"ternary\": {\"aaxis\": {\"gridcolor\": \"white\", \"linecolor\": \"white\", \"ticks\": \"\"}, \"baxis\": {\"gridcolor\": \"white\", \"linecolor\": \"white\", \"ticks\": \"\"}, \"bgcolor\": \"#E5ECF6\", \"caxis\": {\"gridcolor\": \"white\", \"linecolor\": \"white\", \"ticks\": \"\"}}, \"title\": {\"x\": 0.05}, \"xaxis\": {\"automargin\": true, \"gridcolor\": \"white\", \"linecolor\": \"white\", \"ticks\": \"\", \"zerolinecolor\": \"white\", \"zerolinewidth\": 2}, \"yaxis\": {\"automargin\": true, \"gridcolor\": \"white\", \"linecolor\": \"white\", \"ticks\": \"\", \"zerolinecolor\": \"white\", \"zerolinewidth\": 2}}}, \"title\": {\"text\": \"Synthesis target: BaTiO3\"}, \"xaxis\": {\"anchor\": \"y\", \"domain\": [0.0, 0.98], \"title\": {\"text\": \"N competing phases\"}}, \"yaxis\": {\"anchor\": \"x\", \"domain\": [0.0, 1.0], \"title\": {\"text\": \"Barrier (a.u.)\"}}},\n",
       "                        {\"responsive\": true}\n",
       "                    ).then(function(){\n",
       "                            \n",
       "var gd = document.getElementById('76d7b3ab-7e34-49f8-a423-0782e0909c1c');\n",
       "var x = new MutationObserver(function (mutations, observer) {{\n",
       "        var display = window.getComputedStyle(gd).display;\n",
       "        if (!display || display === 'none') {{\n",
       "            console.log([gd, 'removed!']);\n",
       "            Plotly.purge(gd);\n",
       "            observer.disconnect();\n",
       "        }}\n",
       "}});\n",
       "\n",
       "// Listen for the removal of the full notebook cells\n",
       "var notebookContainer = gd.closest('#notebook-container');\n",
       "if (notebookContainer) {{\n",
       "    x.observe(notebookContainer, {childList: true});\n",
       "}}\n",
       "\n",
       "// Listen for the clearing of the current output cell\n",
       "var outputEl = gd.closest('.output');\n",
       "if (outputEl) {{\n",
       "    x.observe(outputEl, {childList: true});\n",
       "}}\n",
       "\n",
       "                        })\n",
       "                };\n",
       "                });\n",
       "            </script>\n",
       "        </div>"
      ]
     },
     "metadata": {},
     "output_type": "display_data"
    }
   ],
   "source": [
    "router.recommend_routes(temperature=1000, pressure=DEFAULT_GAS_PRESSURES,\n",
    "                        allow_gas_release=True, show_known_precursors_only=False, max_component_precursors=2)"
   ]
  },
  {
   "cell_type": "code",
   "execution_count": 21,
   "metadata": {},
   "outputs": [
    {
     "data": {
      "text/plain": [
       "{'mp-20066': 47.618426708605625,\n",
       " 'mp-1215': 100.29593637205379,\n",
       " 'mp-554278': 137.37616006654324,\n",
       " 'mp-554098': 90.69564055627559,\n",
       " 'mp-2591': 184.30512206633273,\n",
       " 'mp-1342': 47.29036989839407,\n",
       " 'mp-1147': 113.88853060006534,\n",
       " 'mp-27919': 149.75409790143982,\n",
       " 'mp-568286': 84.37440573003745,\n",
       " 'mp-558159': 260.6090214950874,\n",
       " 'mp-3397': 235.26562397946694,\n",
       " 'mp-29298': 86.23105900171589,\n",
       " 'mp-5504': 145.41777946370274,\n",
       " 'mp-1071163': 28.926829405089467,\n",
       " 'mp-458': 90.5698980864518,\n",
       " 'mp-10721': 149.26789609761423,\n",
       " 'mp-631': 112.78711358675989,\n",
       " 'mp-1105': 92.52261277235482,\n",
       " 'mp-1091399': 108.26850832948942,\n",
       " 'mp-72': 44.847899265933684,\n",
       " 'mp-7733': 36.62802626255376,\n",
       " 'mp-122': 71.5702857597654}"
      ]
     },
     "execution_count": 21,
     "metadata": {},
     "output_type": "execute_result"
    }
   ],
   "source": [
    "router.epitaxies"
   ]
  },
  {
   "cell_type": "code",
   "execution_count": 23,
   "metadata": {},
   "outputs": [
    {
     "data": {
      "application/vnd.plotly.v1+json": {
       "config": {
        "plotlyServerURL": "https://plot.ly"
       },
       "data": [
        {
         "customdata": [
          [
           "1.0 TiO2(mp-554278) + 1.0 BaO(mp-1342)"
          ],
          [
           "-1.0 CO2(mp-20066) + 1.0 TiO2(mp-554278) + 1.0 BaCO3(mp-5504)"
          ],
          [
           "1.0 TiO(mp-1071163) + 1.0 BaO2(mp-1105)"
          ],
          [
           "-0.5 CO2(mp-20066) + 1.0 TiO2(mp-554278) + 0.5 C(mp-568286) + 1.0 BaO2(mp-1105)"
          ],
          [
           "-0.25 CO2(mp-20066) + 0.75 TiO2(mp-554278) + 0.25 TiC(mp-631) + 1.0 BaO2(mp-1105)"
          ],
          [
           "1.0 TiO2(mp-554278) + 1.0 BaO2(mp-1105) + -0.5 O2(mp-1091399)"
          ],
          [
           "0.5 TiO2(mp-554278) + 1.0 BaO2(mp-1105) + 0.5 Ti(mp-72)"
          ],
          [
           "1.0 TiO2(mp-554278) + 0.5 BaO2(mp-1105) + 0.5 Ba(mp-122)"
          ],
          [
           "1.0 TiO2(mp-554278) + 0.5 O2(mp-1091399) + 1.0 Ba(mp-122)"
          ],
          [
           "1.0 BaO(mp-1342) + 1.0 TiO(mp-1071163) + 0.5 O2(mp-1091399)"
          ],
          [
           "0.5 BaO(mp-1342) + 0.5 Ti2O3(mp-458) + 0.5 BaO2(mp-1105)"
          ],
          [
           "1.0 BaO(mp-1342) + 0.5 Ti2O3(mp-458) + 0.25 O2(mp-1091399)"
          ],
          [
           "-1.0 CO2(mp-20066) + 1.0 BaO(mp-1342) + 1.0 TiC(mp-631) + 2.0 O2(mp-1091399)"
          ],
          [
           "1.0 BaO(mp-1342) + 1.0 O2(mp-1091399) + 1.0 Ti(mp-72)"
          ],
          [
           "-0.25 CO2(mp-20066) + 0.25 C(mp-568286) + 0.5 Ti2O3(mp-458) + 1.0 BaO2(mp-1105)"
          ],
          [
           "-1.0 CO2(mp-20066) + 1.0 BaCO3(mp-5504) + 1.0 TiO(mp-1071163) + 0.5 O2(mp-1091399)"
          ],
          [
           "-0.5 CO2(mp-20066) + 0.5 BaCO3(mp-5504) + 0.5 Ti2O3(mp-458) + 0.5 BaO2(mp-1105)"
          ],
          [
           "-1.0 CO2(mp-20066) + 1.0 BaCO3(mp-5504) + 0.5 Ti2O3(mp-458) + 0.25 O2(mp-1091399)"
          ],
          [
           "-2.0 CO2(mp-20066) + 1.0 BaCO3(mp-5504) + 1.0 TiC(mp-631) + 2.0 O2(mp-1091399)"
          ],
          [
           "-1.0 CO2(mp-20066) + 1.0 BaCO3(mp-5504) + 1.0 O2(mp-1091399) + 1.0 Ti(mp-72)"
          ],
          [
           "1.0 TiO(mp-1071163) + 1.0 O2(mp-1091399) + 1.0 Ba(mp-122)"
          ],
          [
           "-0.1429 CO2(mp-20066) + 0.4286 Ti2O3(mp-458) + 0.1429 TiC(mp-631) + 1.0 BaO2(mp-1105)"
          ],
          [
           "0.5 Ti2O3(mp-458) + 1.0 BaO2(mp-1105) + -0.25 O2(mp-1091399)"
          ],
          [
           "0.3333 Ti2O3(mp-458) + 1.0 BaO2(mp-1105) + 0.3333 Ti(mp-72)"
          ],
          [
           "0.5 Ti2O3(mp-458) + 0.75 BaO2(mp-1105) + 0.25 Ba(mp-122)"
          ],
          [
           "0.5 Ti2O3(mp-458) + 0.75 O2(mp-1091399) + 1.0 Ba(mp-122)"
          ],
          [
           "-1.0 CO2(mp-20066) + 1.0 TiC(mp-631) + 1.0 BaO2(mp-1105) + 1.5 O2(mp-1091399)"
          ],
          [
           "-1.0 CO2(mp-20066) + 1.0 TiC(mp-631) + 2.5 O2(mp-1091399) + 1.0 Ba(mp-122)"
          ],
          [
           "1.0 BaO2(mp-1105) + 0.5 O2(mp-1091399) + 1.0 Ti(mp-72)"
          ],
          [
           "1.5 O2(mp-1091399) + 1.0 Ti(mp-72) + 1.0 Ba(mp-122)"
          ]
         ],
         "hoverlabel": {
          "namelength": 0
         },
         "hovertemplate": "exp_precursors=1.0<br>n_competing=%{x}<br>barrier=%{y}<br>summary=%{customdata[0]}",
         "legendgroup": "exp_precursors=1.0",
         "marker": {
          "color": "#636efa",
          "symbol": "circle"
         },
         "mode": "markers",
         "name": "exp_precursors=1.0",
         "showlegend": true,
         "type": "scatter",
         "x": [
          26,
          23,
          8,
          43,
          44,
          29,
          4,
          11,
          11,
          46,
          3,
          6,
          49,
          49,
          6,
          46,
          6,
          5,
          49,
          47,
          49,
          6,
          6,
          3,
          19,
          47,
          49,
          50,
          4,
          49
         ],
         "xaxis": "x",
         "y": [
          0.49000072097586056,
          0.37136039589174186,
          0.10623264849037457,
          0.12993745249184105,
          0.14032021797282745,
          0.4281995354466499,
          0.11001458153662233,
          0.15231121157378014,
          0.22919808912454678,
          0.42424663260228457,
          0.1363923975706396,
          0.14375102460513242,
          4.054481804872016,
          4.11968580666387,
          0.1339522614044547,
          0.41359365224294364,
          0.15523227710909213,
          0.14464289333848232,
          0.4136323667077446,
          0.4085414600549645,
          0.4065528045624624,
          0.140926367916163,
          0.19335086411851962,
          0.11095825140411097,
          0.138217764761004,
          0.11419069271723374,
          0.10728658176798023,
          6.512320114992768,
          0.1035646305281068,
          10.127916047684437
         ],
         "yaxis": "y"
        }
       ],
       "layout": {
        "height": 600,
        "legend": {
         "tracegroupgap": 0
        },
        "margin": {
         "t": 60
        },
        "template": {
         "data": {
          "bar": [
           {
            "error_x": {
             "color": "#2a3f5f"
            },
            "error_y": {
             "color": "#2a3f5f"
            },
            "marker": {
             "line": {
              "color": "#E5ECF6",
              "width": 0.5
             }
            },
            "type": "bar"
           }
          ],
          "barpolar": [
           {
            "marker": {
             "line": {
              "color": "#E5ECF6",
              "width": 0.5
             }
            },
            "type": "barpolar"
           }
          ],
          "carpet": [
           {
            "aaxis": {
             "endlinecolor": "#2a3f5f",
             "gridcolor": "white",
             "linecolor": "white",
             "minorgridcolor": "white",
             "startlinecolor": "#2a3f5f"
            },
            "baxis": {
             "endlinecolor": "#2a3f5f",
             "gridcolor": "white",
             "linecolor": "white",
             "minorgridcolor": "white",
             "startlinecolor": "#2a3f5f"
            },
            "type": "carpet"
           }
          ],
          "choropleth": [
           {
            "colorbar": {
             "outlinewidth": 0,
             "ticks": ""
            },
            "type": "choropleth"
           }
          ],
          "contour": [
           {
            "colorbar": {
             "outlinewidth": 0,
             "ticks": ""
            },
            "colorscale": [
             [
              0,
              "#0d0887"
             ],
             [
              0.1111111111111111,
              "#46039f"
             ],
             [
              0.2222222222222222,
              "#7201a8"
             ],
             [
              0.3333333333333333,
              "#9c179e"
             ],
             [
              0.4444444444444444,
              "#bd3786"
             ],
             [
              0.5555555555555556,
              "#d8576b"
             ],
             [
              0.6666666666666666,
              "#ed7953"
             ],
             [
              0.7777777777777778,
              "#fb9f3a"
             ],
             [
              0.8888888888888888,
              "#fdca26"
             ],
             [
              1,
              "#f0f921"
             ]
            ],
            "type": "contour"
           }
          ],
          "contourcarpet": [
           {
            "colorbar": {
             "outlinewidth": 0,
             "ticks": ""
            },
            "type": "contourcarpet"
           }
          ],
          "heatmap": [
           {
            "colorbar": {
             "outlinewidth": 0,
             "ticks": ""
            },
            "colorscale": [
             [
              0,
              "#0d0887"
             ],
             [
              0.1111111111111111,
              "#46039f"
             ],
             [
              0.2222222222222222,
              "#7201a8"
             ],
             [
              0.3333333333333333,
              "#9c179e"
             ],
             [
              0.4444444444444444,
              "#bd3786"
             ],
             [
              0.5555555555555556,
              "#d8576b"
             ],
             [
              0.6666666666666666,
              "#ed7953"
             ],
             [
              0.7777777777777778,
              "#fb9f3a"
             ],
             [
              0.8888888888888888,
              "#fdca26"
             ],
             [
              1,
              "#f0f921"
             ]
            ],
            "type": "heatmap"
           }
          ],
          "heatmapgl": [
           {
            "colorbar": {
             "outlinewidth": 0,
             "ticks": ""
            },
            "colorscale": [
             [
              0,
              "#0d0887"
             ],
             [
              0.1111111111111111,
              "#46039f"
             ],
             [
              0.2222222222222222,
              "#7201a8"
             ],
             [
              0.3333333333333333,
              "#9c179e"
             ],
             [
              0.4444444444444444,
              "#bd3786"
             ],
             [
              0.5555555555555556,
              "#d8576b"
             ],
             [
              0.6666666666666666,
              "#ed7953"
             ],
             [
              0.7777777777777778,
              "#fb9f3a"
             ],
             [
              0.8888888888888888,
              "#fdca26"
             ],
             [
              1,
              "#f0f921"
             ]
            ],
            "type": "heatmapgl"
           }
          ],
          "histogram": [
           {
            "marker": {
             "colorbar": {
              "outlinewidth": 0,
              "ticks": ""
             }
            },
            "type": "histogram"
           }
          ],
          "histogram2d": [
           {
            "colorbar": {
             "outlinewidth": 0,
             "ticks": ""
            },
            "colorscale": [
             [
              0,
              "#0d0887"
             ],
             [
              0.1111111111111111,
              "#46039f"
             ],
             [
              0.2222222222222222,
              "#7201a8"
             ],
             [
              0.3333333333333333,
              "#9c179e"
             ],
             [
              0.4444444444444444,
              "#bd3786"
             ],
             [
              0.5555555555555556,
              "#d8576b"
             ],
             [
              0.6666666666666666,
              "#ed7953"
             ],
             [
              0.7777777777777778,
              "#fb9f3a"
             ],
             [
              0.8888888888888888,
              "#fdca26"
             ],
             [
              1,
              "#f0f921"
             ]
            ],
            "type": "histogram2d"
           }
          ],
          "histogram2dcontour": [
           {
            "colorbar": {
             "outlinewidth": 0,
             "ticks": ""
            },
            "colorscale": [
             [
              0,
              "#0d0887"
             ],
             [
              0.1111111111111111,
              "#46039f"
             ],
             [
              0.2222222222222222,
              "#7201a8"
             ],
             [
              0.3333333333333333,
              "#9c179e"
             ],
             [
              0.4444444444444444,
              "#bd3786"
             ],
             [
              0.5555555555555556,
              "#d8576b"
             ],
             [
              0.6666666666666666,
              "#ed7953"
             ],
             [
              0.7777777777777778,
              "#fb9f3a"
             ],
             [
              0.8888888888888888,
              "#fdca26"
             ],
             [
              1,
              "#f0f921"
             ]
            ],
            "type": "histogram2dcontour"
           }
          ],
          "mesh3d": [
           {
            "colorbar": {
             "outlinewidth": 0,
             "ticks": ""
            },
            "type": "mesh3d"
           }
          ],
          "parcoords": [
           {
            "line": {
             "colorbar": {
              "outlinewidth": 0,
              "ticks": ""
             }
            },
            "type": "parcoords"
           }
          ],
          "scatter": [
           {
            "marker": {
             "colorbar": {
              "outlinewidth": 0,
              "ticks": ""
             }
            },
            "type": "scatter"
           }
          ],
          "scatter3d": [
           {
            "line": {
             "colorbar": {
              "outlinewidth": 0,
              "ticks": ""
             }
            },
            "marker": {
             "colorbar": {
              "outlinewidth": 0,
              "ticks": ""
             }
            },
            "type": "scatter3d"
           }
          ],
          "scattercarpet": [
           {
            "marker": {
             "colorbar": {
              "outlinewidth": 0,
              "ticks": ""
             }
            },
            "type": "scattercarpet"
           }
          ],
          "scattergeo": [
           {
            "marker": {
             "colorbar": {
              "outlinewidth": 0,
              "ticks": ""
             }
            },
            "type": "scattergeo"
           }
          ],
          "scattergl": [
           {
            "marker": {
             "colorbar": {
              "outlinewidth": 0,
              "ticks": ""
             }
            },
            "type": "scattergl"
           }
          ],
          "scattermapbox": [
           {
            "marker": {
             "colorbar": {
              "outlinewidth": 0,
              "ticks": ""
             }
            },
            "type": "scattermapbox"
           }
          ],
          "scatterpolar": [
           {
            "marker": {
             "colorbar": {
              "outlinewidth": 0,
              "ticks": ""
             }
            },
            "type": "scatterpolar"
           }
          ],
          "scatterpolargl": [
           {
            "marker": {
             "colorbar": {
              "outlinewidth": 0,
              "ticks": ""
             }
            },
            "type": "scatterpolargl"
           }
          ],
          "scatterternary": [
           {
            "marker": {
             "colorbar": {
              "outlinewidth": 0,
              "ticks": ""
             }
            },
            "type": "scatterternary"
           }
          ],
          "surface": [
           {
            "colorbar": {
             "outlinewidth": 0,
             "ticks": ""
            },
            "colorscale": [
             [
              0,
              "#0d0887"
             ],
             [
              0.1111111111111111,
              "#46039f"
             ],
             [
              0.2222222222222222,
              "#7201a8"
             ],
             [
              0.3333333333333333,
              "#9c179e"
             ],
             [
              0.4444444444444444,
              "#bd3786"
             ],
             [
              0.5555555555555556,
              "#d8576b"
             ],
             [
              0.6666666666666666,
              "#ed7953"
             ],
             [
              0.7777777777777778,
              "#fb9f3a"
             ],
             [
              0.8888888888888888,
              "#fdca26"
             ],
             [
              1,
              "#f0f921"
             ]
            ],
            "type": "surface"
           }
          ],
          "table": [
           {
            "cells": {
             "fill": {
              "color": "#EBF0F8"
             },
             "line": {
              "color": "white"
             }
            },
            "header": {
             "fill": {
              "color": "#C8D4E3"
             },
             "line": {
              "color": "white"
             }
            },
            "type": "table"
           }
          ]
         },
         "layout": {
          "annotationdefaults": {
           "arrowcolor": "#2a3f5f",
           "arrowhead": 0,
           "arrowwidth": 1
          },
          "colorscale": {
           "diverging": [
            [
             0,
             "#8e0152"
            ],
            [
             0.1,
             "#c51b7d"
            ],
            [
             0.2,
             "#de77ae"
            ],
            [
             0.3,
             "#f1b6da"
            ],
            [
             0.4,
             "#fde0ef"
            ],
            [
             0.5,
             "#f7f7f7"
            ],
            [
             0.6,
             "#e6f5d0"
            ],
            [
             0.7,
             "#b8e186"
            ],
            [
             0.8,
             "#7fbc41"
            ],
            [
             0.9,
             "#4d9221"
            ],
            [
             1,
             "#276419"
            ]
           ],
           "sequential": [
            [
             0,
             "#0d0887"
            ],
            [
             0.1111111111111111,
             "#46039f"
            ],
            [
             0.2222222222222222,
             "#7201a8"
            ],
            [
             0.3333333333333333,
             "#9c179e"
            ],
            [
             0.4444444444444444,
             "#bd3786"
            ],
            [
             0.5555555555555556,
             "#d8576b"
            ],
            [
             0.6666666666666666,
             "#ed7953"
            ],
            [
             0.7777777777777778,
             "#fb9f3a"
            ],
            [
             0.8888888888888888,
             "#fdca26"
            ],
            [
             1,
             "#f0f921"
            ]
           ],
           "sequentialminus": [
            [
             0,
             "#0d0887"
            ],
            [
             0.1111111111111111,
             "#46039f"
            ],
            [
             0.2222222222222222,
             "#7201a8"
            ],
            [
             0.3333333333333333,
             "#9c179e"
            ],
            [
             0.4444444444444444,
             "#bd3786"
            ],
            [
             0.5555555555555556,
             "#d8576b"
            ],
            [
             0.6666666666666666,
             "#ed7953"
            ],
            [
             0.7777777777777778,
             "#fb9f3a"
            ],
            [
             0.8888888888888888,
             "#fdca26"
            ],
            [
             1,
             "#f0f921"
            ]
           ]
          },
          "colorway": [
           "#636efa",
           "#EF553B",
           "#00cc96",
           "#ab63fa",
           "#FFA15A",
           "#19d3f3",
           "#FF6692",
           "#B6E880",
           "#FF97FF",
           "#FECB52"
          ],
          "font": {
           "color": "#2a3f5f"
          },
          "geo": {
           "bgcolor": "white",
           "lakecolor": "white",
           "landcolor": "#E5ECF6",
           "showlakes": true,
           "showland": true,
           "subunitcolor": "white"
          },
          "hoverlabel": {
           "align": "left"
          },
          "hovermode": "closest",
          "mapbox": {
           "style": "light"
          },
          "paper_bgcolor": "white",
          "plot_bgcolor": "#E5ECF6",
          "polar": {
           "angularaxis": {
            "gridcolor": "white",
            "linecolor": "white",
            "ticks": ""
           },
           "bgcolor": "#E5ECF6",
           "radialaxis": {
            "gridcolor": "white",
            "linecolor": "white",
            "ticks": ""
           }
          },
          "scene": {
           "xaxis": {
            "backgroundcolor": "#E5ECF6",
            "gridcolor": "white",
            "gridwidth": 2,
            "linecolor": "white",
            "showbackground": true,
            "ticks": "",
            "zerolinecolor": "white"
           },
           "yaxis": {
            "backgroundcolor": "#E5ECF6",
            "gridcolor": "white",
            "gridwidth": 2,
            "linecolor": "white",
            "showbackground": true,
            "ticks": "",
            "zerolinecolor": "white"
           },
           "zaxis": {
            "backgroundcolor": "#E5ECF6",
            "gridcolor": "white",
            "gridwidth": 2,
            "linecolor": "white",
            "showbackground": true,
            "ticks": "",
            "zerolinecolor": "white"
           }
          },
          "shapedefaults": {
           "line": {
            "color": "#2a3f5f"
           }
          },
          "ternary": {
           "aaxis": {
            "gridcolor": "white",
            "linecolor": "white",
            "ticks": ""
           },
           "baxis": {
            "gridcolor": "white",
            "linecolor": "white",
            "ticks": ""
           },
           "bgcolor": "#E5ECF6",
           "caxis": {
            "gridcolor": "white",
            "linecolor": "white",
            "ticks": ""
           }
          },
          "title": {
           "x": 0.05
          },
          "xaxis": {
           "automargin": true,
           "gridcolor": "white",
           "linecolor": "white",
           "ticks": "",
           "zerolinecolor": "white",
           "zerolinewidth": 2
          },
          "yaxis": {
           "automargin": true,
           "gridcolor": "white",
           "linecolor": "white",
           "ticks": "",
           "zerolinecolor": "white",
           "zerolinewidth": 2
          }
         }
        },
        "title": {
         "text": "Synthesis target: BaTiO3"
        },
        "xaxis": {
         "anchor": "y",
         "domain": [
          0,
          0.98
         ],
         "title": {
          "text": "N competing phases"
         }
        },
        "yaxis": {
         "anchor": "x",
         "domain": [
          0,
          1
         ],
         "title": {
          "text": "Barrier (a.u.)"
         }
        }
       }
      },
      "text/html": [
       "<div>\n",
       "        \n",
       "        \n",
       "            <div id=\"001e9028-639d-4d7a-8f3c-57707051f226\" class=\"plotly-graph-div\" style=\"height:600px; width:100%;\"></div>\n",
       "            <script type=\"text/javascript\">\n",
       "                require([\"plotly\"], function(Plotly) {\n",
       "                    window.PLOTLYENV=window.PLOTLYENV || {};\n",
       "                    \n",
       "                if (document.getElementById(\"001e9028-639d-4d7a-8f3c-57707051f226\")) {\n",
       "                    Plotly.newPlot(\n",
       "                        '001e9028-639d-4d7a-8f3c-57707051f226',\n",
       "                        [{\"customdata\": [[\"1.0 TiO2(mp-554278) + 1.0 BaO(mp-1342)\"], [\"-1.0 CO2(mp-20066) + 1.0 TiO2(mp-554278) + 1.0 BaCO3(mp-5504)\"], [\"1.0 TiO(mp-1071163) + 1.0 BaO2(mp-1105)\"], [\"-0.5 CO2(mp-20066) + 1.0 TiO2(mp-554278) + 0.5 C(mp-568286) + 1.0 BaO2(mp-1105)\"], [\"-0.25 CO2(mp-20066) + 0.75 TiO2(mp-554278) + 0.25 TiC(mp-631) + 1.0 BaO2(mp-1105)\"], [\"1.0 TiO2(mp-554278) + 1.0 BaO2(mp-1105) + -0.5 O2(mp-1091399)\"], [\"0.5 TiO2(mp-554278) + 1.0 BaO2(mp-1105) + 0.5 Ti(mp-72)\"], [\"1.0 TiO2(mp-554278) + 0.5 BaO2(mp-1105) + 0.5 Ba(mp-122)\"], [\"1.0 TiO2(mp-554278) + 0.5 O2(mp-1091399) + 1.0 Ba(mp-122)\"], [\"1.0 BaO(mp-1342) + 1.0 TiO(mp-1071163) + 0.5 O2(mp-1091399)\"], [\"0.5 BaO(mp-1342) + 0.5 Ti2O3(mp-458) + 0.5 BaO2(mp-1105)\"], [\"1.0 BaO(mp-1342) + 0.5 Ti2O3(mp-458) + 0.25 O2(mp-1091399)\"], [\"-1.0 CO2(mp-20066) + 1.0 BaO(mp-1342) + 1.0 TiC(mp-631) + 2.0 O2(mp-1091399)\"], [\"1.0 BaO(mp-1342) + 1.0 O2(mp-1091399) + 1.0 Ti(mp-72)\"], [\"-0.25 CO2(mp-20066) + 0.25 C(mp-568286) + 0.5 Ti2O3(mp-458) + 1.0 BaO2(mp-1105)\"], [\"-1.0 CO2(mp-20066) + 1.0 BaCO3(mp-5504) + 1.0 TiO(mp-1071163) + 0.5 O2(mp-1091399)\"], [\"-0.5 CO2(mp-20066) + 0.5 BaCO3(mp-5504) + 0.5 Ti2O3(mp-458) + 0.5 BaO2(mp-1105)\"], [\"-1.0 CO2(mp-20066) + 1.0 BaCO3(mp-5504) + 0.5 Ti2O3(mp-458) + 0.25 O2(mp-1091399)\"], [\"-2.0 CO2(mp-20066) + 1.0 BaCO3(mp-5504) + 1.0 TiC(mp-631) + 2.0 O2(mp-1091399)\"], [\"-1.0 CO2(mp-20066) + 1.0 BaCO3(mp-5504) + 1.0 O2(mp-1091399) + 1.0 Ti(mp-72)\"], [\"1.0 TiO(mp-1071163) + 1.0 O2(mp-1091399) + 1.0 Ba(mp-122)\"], [\"-0.1429 CO2(mp-20066) + 0.4286 Ti2O3(mp-458) + 0.1429 TiC(mp-631) + 1.0 BaO2(mp-1105)\"], [\"0.5 Ti2O3(mp-458) + 1.0 BaO2(mp-1105) + -0.25 O2(mp-1091399)\"], [\"0.3333 Ti2O3(mp-458) + 1.0 BaO2(mp-1105) + 0.3333 Ti(mp-72)\"], [\"0.5 Ti2O3(mp-458) + 0.75 BaO2(mp-1105) + 0.25 Ba(mp-122)\"], [\"0.5 Ti2O3(mp-458) + 0.75 O2(mp-1091399) + 1.0 Ba(mp-122)\"], [\"-1.0 CO2(mp-20066) + 1.0 TiC(mp-631) + 1.0 BaO2(mp-1105) + 1.5 O2(mp-1091399)\"], [\"-1.0 CO2(mp-20066) + 1.0 TiC(mp-631) + 2.5 O2(mp-1091399) + 1.0 Ba(mp-122)\"], [\"1.0 BaO2(mp-1105) + 0.5 O2(mp-1091399) + 1.0 Ti(mp-72)\"], [\"1.5 O2(mp-1091399) + 1.0 Ti(mp-72) + 1.0 Ba(mp-122)\"]], \"hoverlabel\": {\"namelength\": 0}, \"hovertemplate\": \"exp_precursors=1.0<br>n_competing=%{x}<br>barrier=%{y}<br>summary=%{customdata[0]}\", \"legendgroup\": \"exp_precursors=1.0\", \"marker\": {\"color\": \"#636efa\", \"symbol\": \"circle\"}, \"mode\": \"markers\", \"name\": \"exp_precursors=1.0\", \"showlegend\": true, \"type\": \"scatter\", \"x\": [26, 23, 8, 43, 44, 29, 4, 11, 11, 46, 3, 6, 49, 49, 6, 46, 6, 5, 49, 47, 49, 6, 6, 3, 19, 47, 49, 50, 4, 49], \"xaxis\": \"x\", \"y\": [0.49000072097586056, 0.37136039589174186, 0.10623264849037457, 0.12993745249184105, 0.14032021797282745, 0.4281995354466499, 0.11001458153662233, 0.15231121157378014, 0.22919808912454678, 0.42424663260228457, 0.1363923975706396, 0.14375102460513242, 4.054481804872016, 4.11968580666387, 0.1339522614044547, 0.41359365224294364, 0.15523227710909213, 0.14464289333848232, 0.4136323667077446, 0.4085414600549645, 0.4065528045624624, 0.140926367916163, 0.19335086411851962, 0.11095825140411097, 0.138217764761004, 0.11419069271723374, 0.10728658176798023, 6.512320114992768, 0.1035646305281068, 10.127916047684437], \"yaxis\": \"y\"}],\n",
       "                        {\"height\": 600, \"legend\": {\"tracegroupgap\": 0}, \"margin\": {\"t\": 60}, \"template\": {\"data\": {\"bar\": [{\"error_x\": {\"color\": \"#2a3f5f\"}, \"error_y\": {\"color\": \"#2a3f5f\"}, \"marker\": {\"line\": {\"color\": \"#E5ECF6\", \"width\": 0.5}}, \"type\": \"bar\"}], \"barpolar\": [{\"marker\": {\"line\": {\"color\": \"#E5ECF6\", \"width\": 0.5}}, \"type\": \"barpolar\"}], \"carpet\": [{\"aaxis\": {\"endlinecolor\": \"#2a3f5f\", \"gridcolor\": \"white\", \"linecolor\": \"white\", \"minorgridcolor\": \"white\", \"startlinecolor\": \"#2a3f5f\"}, \"baxis\": {\"endlinecolor\": \"#2a3f5f\", \"gridcolor\": \"white\", \"linecolor\": \"white\", \"minorgridcolor\": \"white\", \"startlinecolor\": \"#2a3f5f\"}, \"type\": \"carpet\"}], \"choropleth\": [{\"colorbar\": {\"outlinewidth\": 0, \"ticks\": \"\"}, \"type\": \"choropleth\"}], \"contour\": [{\"colorbar\": {\"outlinewidth\": 0, \"ticks\": \"\"}, \"colorscale\": [[0.0, \"#0d0887\"], [0.1111111111111111, \"#46039f\"], [0.2222222222222222, \"#7201a8\"], [0.3333333333333333, \"#9c179e\"], [0.4444444444444444, \"#bd3786\"], [0.5555555555555556, \"#d8576b\"], [0.6666666666666666, \"#ed7953\"], [0.7777777777777778, \"#fb9f3a\"], [0.8888888888888888, \"#fdca26\"], [1.0, \"#f0f921\"]], \"type\": \"contour\"}], \"contourcarpet\": [{\"colorbar\": {\"outlinewidth\": 0, \"ticks\": \"\"}, \"type\": \"contourcarpet\"}], \"heatmap\": [{\"colorbar\": {\"outlinewidth\": 0, \"ticks\": \"\"}, \"colorscale\": [[0.0, \"#0d0887\"], [0.1111111111111111, \"#46039f\"], [0.2222222222222222, \"#7201a8\"], [0.3333333333333333, \"#9c179e\"], [0.4444444444444444, \"#bd3786\"], [0.5555555555555556, \"#d8576b\"], [0.6666666666666666, \"#ed7953\"], [0.7777777777777778, \"#fb9f3a\"], [0.8888888888888888, \"#fdca26\"], [1.0, \"#f0f921\"]], \"type\": \"heatmap\"}], \"heatmapgl\": [{\"colorbar\": {\"outlinewidth\": 0, \"ticks\": \"\"}, \"colorscale\": [[0.0, \"#0d0887\"], [0.1111111111111111, \"#46039f\"], [0.2222222222222222, \"#7201a8\"], [0.3333333333333333, \"#9c179e\"], [0.4444444444444444, \"#bd3786\"], [0.5555555555555556, \"#d8576b\"], [0.6666666666666666, \"#ed7953\"], [0.7777777777777778, \"#fb9f3a\"], [0.8888888888888888, \"#fdca26\"], [1.0, \"#f0f921\"]], \"type\": \"heatmapgl\"}], \"histogram\": [{\"marker\": {\"colorbar\": {\"outlinewidth\": 0, \"ticks\": \"\"}}, \"type\": \"histogram\"}], \"histogram2d\": [{\"colorbar\": {\"outlinewidth\": 0, \"ticks\": \"\"}, \"colorscale\": [[0.0, \"#0d0887\"], [0.1111111111111111, \"#46039f\"], [0.2222222222222222, \"#7201a8\"], [0.3333333333333333, \"#9c179e\"], [0.4444444444444444, \"#bd3786\"], [0.5555555555555556, \"#d8576b\"], [0.6666666666666666, \"#ed7953\"], [0.7777777777777778, \"#fb9f3a\"], [0.8888888888888888, \"#fdca26\"], [1.0, \"#f0f921\"]], \"type\": \"histogram2d\"}], \"histogram2dcontour\": [{\"colorbar\": {\"outlinewidth\": 0, \"ticks\": \"\"}, \"colorscale\": [[0.0, \"#0d0887\"], [0.1111111111111111, \"#46039f\"], [0.2222222222222222, \"#7201a8\"], [0.3333333333333333, \"#9c179e\"], [0.4444444444444444, \"#bd3786\"], [0.5555555555555556, \"#d8576b\"], [0.6666666666666666, \"#ed7953\"], [0.7777777777777778, \"#fb9f3a\"], [0.8888888888888888, \"#fdca26\"], [1.0, \"#f0f921\"]], \"type\": \"histogram2dcontour\"}], \"mesh3d\": [{\"colorbar\": {\"outlinewidth\": 0, \"ticks\": \"\"}, \"type\": \"mesh3d\"}], \"parcoords\": [{\"line\": {\"colorbar\": {\"outlinewidth\": 0, \"ticks\": \"\"}}, \"type\": \"parcoords\"}], \"scatter\": [{\"marker\": {\"colorbar\": {\"outlinewidth\": 0, \"ticks\": \"\"}}, \"type\": \"scatter\"}], \"scatter3d\": [{\"line\": {\"colorbar\": {\"outlinewidth\": 0, \"ticks\": \"\"}}, \"marker\": {\"colorbar\": {\"outlinewidth\": 0, \"ticks\": \"\"}}, \"type\": \"scatter3d\"}], \"scattercarpet\": [{\"marker\": {\"colorbar\": {\"outlinewidth\": 0, \"ticks\": \"\"}}, \"type\": \"scattercarpet\"}], \"scattergeo\": [{\"marker\": {\"colorbar\": {\"outlinewidth\": 0, \"ticks\": \"\"}}, \"type\": \"scattergeo\"}], \"scattergl\": [{\"marker\": {\"colorbar\": {\"outlinewidth\": 0, \"ticks\": \"\"}}, \"type\": \"scattergl\"}], \"scattermapbox\": [{\"marker\": {\"colorbar\": {\"outlinewidth\": 0, \"ticks\": \"\"}}, \"type\": \"scattermapbox\"}], \"scatterpolar\": [{\"marker\": {\"colorbar\": {\"outlinewidth\": 0, \"ticks\": \"\"}}, \"type\": \"scatterpolar\"}], \"scatterpolargl\": [{\"marker\": {\"colorbar\": {\"outlinewidth\": 0, \"ticks\": \"\"}}, \"type\": \"scatterpolargl\"}], \"scatterternary\": [{\"marker\": {\"colorbar\": {\"outlinewidth\": 0, \"ticks\": \"\"}}, \"type\": \"scatterternary\"}], \"surface\": [{\"colorbar\": {\"outlinewidth\": 0, \"ticks\": \"\"}, \"colorscale\": [[0.0, \"#0d0887\"], [0.1111111111111111, \"#46039f\"], [0.2222222222222222, \"#7201a8\"], [0.3333333333333333, \"#9c179e\"], [0.4444444444444444, \"#bd3786\"], [0.5555555555555556, \"#d8576b\"], [0.6666666666666666, \"#ed7953\"], [0.7777777777777778, \"#fb9f3a\"], [0.8888888888888888, \"#fdca26\"], [1.0, \"#f0f921\"]], \"type\": \"surface\"}], \"table\": [{\"cells\": {\"fill\": {\"color\": \"#EBF0F8\"}, \"line\": {\"color\": \"white\"}}, \"header\": {\"fill\": {\"color\": \"#C8D4E3\"}, \"line\": {\"color\": \"white\"}}, \"type\": \"table\"}]}, \"layout\": {\"annotationdefaults\": {\"arrowcolor\": \"#2a3f5f\", \"arrowhead\": 0, \"arrowwidth\": 1}, \"colorscale\": {\"diverging\": [[0, \"#8e0152\"], [0.1, \"#c51b7d\"], [0.2, \"#de77ae\"], [0.3, \"#f1b6da\"], [0.4, \"#fde0ef\"], [0.5, \"#f7f7f7\"], [0.6, \"#e6f5d0\"], [0.7, \"#b8e186\"], [0.8, \"#7fbc41\"], [0.9, \"#4d9221\"], [1, \"#276419\"]], \"sequential\": [[0.0, \"#0d0887\"], [0.1111111111111111, \"#46039f\"], [0.2222222222222222, \"#7201a8\"], [0.3333333333333333, \"#9c179e\"], [0.4444444444444444, \"#bd3786\"], [0.5555555555555556, \"#d8576b\"], [0.6666666666666666, \"#ed7953\"], [0.7777777777777778, \"#fb9f3a\"], [0.8888888888888888, \"#fdca26\"], [1.0, \"#f0f921\"]], \"sequentialminus\": [[0.0, \"#0d0887\"], [0.1111111111111111, \"#46039f\"], [0.2222222222222222, \"#7201a8\"], [0.3333333333333333, \"#9c179e\"], [0.4444444444444444, \"#bd3786\"], [0.5555555555555556, \"#d8576b\"], [0.6666666666666666, \"#ed7953\"], [0.7777777777777778, \"#fb9f3a\"], [0.8888888888888888, \"#fdca26\"], [1.0, \"#f0f921\"]]}, \"colorway\": [\"#636efa\", \"#EF553B\", \"#00cc96\", \"#ab63fa\", \"#FFA15A\", \"#19d3f3\", \"#FF6692\", \"#B6E880\", \"#FF97FF\", \"#FECB52\"], \"font\": {\"color\": \"#2a3f5f\"}, \"geo\": {\"bgcolor\": \"white\", \"lakecolor\": \"white\", \"landcolor\": \"#E5ECF6\", \"showlakes\": true, \"showland\": true, \"subunitcolor\": \"white\"}, \"hoverlabel\": {\"align\": \"left\"}, \"hovermode\": \"closest\", \"mapbox\": {\"style\": \"light\"}, \"paper_bgcolor\": \"white\", \"plot_bgcolor\": \"#E5ECF6\", \"polar\": {\"angularaxis\": {\"gridcolor\": \"white\", \"linecolor\": \"white\", \"ticks\": \"\"}, \"bgcolor\": \"#E5ECF6\", \"radialaxis\": {\"gridcolor\": \"white\", \"linecolor\": \"white\", \"ticks\": \"\"}}, \"scene\": {\"xaxis\": {\"backgroundcolor\": \"#E5ECF6\", \"gridcolor\": \"white\", \"gridwidth\": 2, \"linecolor\": \"white\", \"showbackground\": true, \"ticks\": \"\", \"zerolinecolor\": \"white\"}, \"yaxis\": {\"backgroundcolor\": \"#E5ECF6\", \"gridcolor\": \"white\", \"gridwidth\": 2, \"linecolor\": \"white\", \"showbackground\": true, \"ticks\": \"\", \"zerolinecolor\": \"white\"}, \"zaxis\": {\"backgroundcolor\": \"#E5ECF6\", \"gridcolor\": \"white\", \"gridwidth\": 2, \"linecolor\": \"white\", \"showbackground\": true, \"ticks\": \"\", \"zerolinecolor\": \"white\"}}, \"shapedefaults\": {\"line\": {\"color\": \"#2a3f5f\"}}, \"ternary\": {\"aaxis\": {\"gridcolor\": \"white\", \"linecolor\": \"white\", \"ticks\": \"\"}, \"baxis\": {\"gridcolor\": \"white\", \"linecolor\": \"white\", \"ticks\": \"\"}, \"bgcolor\": \"#E5ECF6\", \"caxis\": {\"gridcolor\": \"white\", \"linecolor\": \"white\", \"ticks\": \"\"}}, \"title\": {\"x\": 0.05}, \"xaxis\": {\"automargin\": true, \"gridcolor\": \"white\", \"linecolor\": \"white\", \"ticks\": \"\", \"zerolinecolor\": \"white\", \"zerolinewidth\": 2}, \"yaxis\": {\"automargin\": true, \"gridcolor\": \"white\", \"linecolor\": \"white\", \"ticks\": \"\", \"zerolinecolor\": \"white\", \"zerolinewidth\": 2}}}, \"title\": {\"text\": \"Synthesis target: BaTiO3\"}, \"xaxis\": {\"anchor\": \"y\", \"domain\": [0.0, 0.98], \"title\": {\"text\": \"N competing phases\"}}, \"yaxis\": {\"anchor\": \"x\", \"domain\": [0.0, 1.0], \"title\": {\"text\": \"Barrier (a.u.)\"}}},\n",
       "                        {\"responsive\": true}\n",
       "                    ).then(function(){\n",
       "                            \n",
       "var gd = document.getElementById('001e9028-639d-4d7a-8f3c-57707051f226');\n",
       "var x = new MutationObserver(function (mutations, observer) {{\n",
       "        var display = window.getComputedStyle(gd).display;\n",
       "        if (!display || display === 'none') {{\n",
       "            console.log([gd, 'removed!']);\n",
       "            Plotly.purge(gd);\n",
       "            observer.disconnect();\n",
       "        }}\n",
       "}});\n",
       "\n",
       "// Listen for the removal of the full notebook cells\n",
       "var notebookContainer = gd.closest('#notebook-container');\n",
       "if (notebookContainer) {{\n",
       "    x.observe(notebookContainer, {childList: true});\n",
       "}}\n",
       "\n",
       "// Listen for the clearing of the current output cell\n",
       "var outputEl = gd.closest('.output');\n",
       "if (outputEl) {{\n",
       "    x.observe(outputEl, {childList: true});\n",
       "}}\n",
       "\n",
       "                        })\n",
       "                };\n",
       "                });\n",
       "            </script>\n",
       "        </div>"
      ]
     },
     "metadata": {},
     "output_type": "display_data"
    }
   ],
   "source": [
    "router.recommend_routes(temperature=1000, pressure=DEFAULT_GAS_PRESSURES,\n",
    "                        allow_gas_release=True, show_known_precursors_only=True)"
   ]
  },
  {
   "cell_type": "code",
   "execution_count": null,
   "metadata": {},
   "outputs": [],
   "source": []
  }
 ],
 "metadata": {
  "kernelspec": {
   "display_name": "Python 3",
   "language": "python",
   "name": "python3"
  },
  "language_info": {
   "codemirror_mode": {
    "name": "ipython",
    "version": 3
   },
   "file_extension": ".py",
   "mimetype": "text/x-python",
   "name": "python",
   "nbconvert_exporter": "python",
   "pygments_lexer": "ipython3",
   "version": "3.7.4"
  }
 },
 "nbformat": 4,
 "nbformat_minor": 2
}
